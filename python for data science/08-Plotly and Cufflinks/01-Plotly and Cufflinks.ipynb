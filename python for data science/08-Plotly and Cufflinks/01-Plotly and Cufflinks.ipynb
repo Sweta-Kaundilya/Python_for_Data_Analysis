{
 "cells": [
  {
   "cell_type": "markdown",
   "metadata": {},
   "source": [
    "# Plotly and Cufflinks"
   ]
  },
  {
   "cell_type": "markdown",
   "metadata": {},
   "source": [
    "Plotly is a library that allows you to create interactive plots that you can use in dashboards or websites (you can save them as html files or static images).\n",
    "\n",
    "## Installation\n",
    "\n",
    "In order for this all to work, you'll need to install plotly and cufflinks to call plots directly off of a pandas dataframe. These libraries are not currently available through **conda** but are available through **pip**. Install the libraries at your command line/terminal using:\n",
    "\n",
    "    pip install plotly\n",
    "    pip install cufflinks\n",
    "\n",
    "** NOTE: Make sure you only have one installation of Python on your computer when you do this, otherwise the installation may not work. **\n",
    "\n",
    "## Imports and Set-up"
   ]
  },
  {
   "cell_type": "code",
   "execution_count": 14,
   "metadata": {},
   "outputs": [],
   "source": [
    "import pandas as pd\n",
    "import numpy as np\n",
    "import chart_studio.plotly as py\n",
    "%matplotlib inline"
   ]
  },
  {
   "cell_type": "code",
   "execution_count": 2,
   "metadata": {},
   "outputs": [],
   "source": [
    "from plotly import __version__"
   ]
  },
  {
   "cell_type": "code",
   "execution_count": 3,
   "metadata": {},
   "outputs": [
    {
     "name": "stdout",
     "output_type": "stream",
     "text": [
      "5.24.1\n"
     ]
    }
   ],
   "source": [
    "print(__version__)"
   ]
  },
  {
   "cell_type": "code",
   "execution_count": 4,
   "metadata": {},
   "outputs": [],
   "source": [
    "import cufflinks as cf"
   ]
  },
  {
   "cell_type": "code",
   "execution_count": 5,
   "metadata": {},
   "outputs": [],
   "source": [
    "from plotly.offline import download_plotlyjs,init_notebook_mode,plot,iplot"
   ]
  },
  {
   "cell_type": "code",
   "execution_count": 6,
   "metadata": {},
   "outputs": [
    {
     "data": {
      "text/html": [
       "        <script type=\"text/javascript\">\n",
       "        window.PlotlyConfig = {MathJaxConfig: 'local'};\n",
       "        if (window.MathJax && window.MathJax.Hub && window.MathJax.Hub.Config) {window.MathJax.Hub.Config({SVG: {font: \"STIX-Web\"}});}\n",
       "        if (typeof require !== 'undefined') {\n",
       "        require.undef(\"plotly\");\n",
       "        requirejs.config({\n",
       "            paths: {\n",
       "                'plotly': ['https://cdn.plot.ly/plotly-2.35.2.min']\n",
       "            }\n",
       "        });\n",
       "        require(['plotly'], function(Plotly) {\n",
       "            window._Plotly = Plotly;\n",
       "        });\n",
       "        }\n",
       "        </script>\n",
       "        "
      ]
     },
     "metadata": {},
     "output_type": "display_data"
    }
   ],
   "source": [
    "init_notebook_mode(connected=True)"
   ]
  },
  {
   "cell_type": "code",
   "execution_count": 7,
   "metadata": {},
   "outputs": [
    {
     "data": {
      "text/html": [
       "        <script type=\"text/javascript\">\n",
       "        window.PlotlyConfig = {MathJaxConfig: 'local'};\n",
       "        if (window.MathJax && window.MathJax.Hub && window.MathJax.Hub.Config) {window.MathJax.Hub.Config({SVG: {font: \"STIX-Web\"}});}\n",
       "        if (typeof require !== 'undefined') {\n",
       "        require.undef(\"plotly\");\n",
       "        requirejs.config({\n",
       "            paths: {\n",
       "                'plotly': ['https://cdn.plot.ly/plotly-2.35.2.min']\n",
       "            }\n",
       "        });\n",
       "        require(['plotly'], function(Plotly) {\n",
       "            window._Plotly = Plotly;\n",
       "        });\n",
       "        }\n",
       "        </script>\n",
       "        "
      ]
     },
     "metadata": {},
     "output_type": "display_data"
    }
   ],
   "source": [
    "cf.go_offline()"
   ]
  },
  {
   "cell_type": "markdown",
   "metadata": {},
   "source": [
    "### Fake Data"
   ]
  },
  {
   "cell_type": "code",
   "execution_count": 8,
   "metadata": {},
   "outputs": [],
   "source": [
    "df = pd.DataFrame(np.random.randn(100,4),columns='A B C D'.split())"
   ]
  },
  {
   "cell_type": "code",
   "execution_count": 9,
   "metadata": {},
   "outputs": [
    {
     "data": {
      "text/html": [
       "<div>\n",
       "<style scoped>\n",
       "    .dataframe tbody tr th:only-of-type {\n",
       "        vertical-align: middle;\n",
       "    }\n",
       "\n",
       "    .dataframe tbody tr th {\n",
       "        vertical-align: top;\n",
       "    }\n",
       "\n",
       "    .dataframe thead th {\n",
       "        text-align: right;\n",
       "    }\n",
       "</style>\n",
       "<table border=\"1\" class=\"dataframe\">\n",
       "  <thead>\n",
       "    <tr style=\"text-align: right;\">\n",
       "      <th></th>\n",
       "      <th>A</th>\n",
       "      <th>B</th>\n",
       "      <th>C</th>\n",
       "      <th>D</th>\n",
       "    </tr>\n",
       "  </thead>\n",
       "  <tbody>\n",
       "    <tr>\n",
       "      <th>0</th>\n",
       "      <td>0.527035</td>\n",
       "      <td>-0.357337</td>\n",
       "      <td>0.458451</td>\n",
       "      <td>0.023871</td>\n",
       "    </tr>\n",
       "    <tr>\n",
       "      <th>1</th>\n",
       "      <td>0.807242</td>\n",
       "      <td>-0.795480</td>\n",
       "      <td>-1.355760</td>\n",
       "      <td>-0.116063</td>\n",
       "    </tr>\n",
       "    <tr>\n",
       "      <th>2</th>\n",
       "      <td>1.139231</td>\n",
       "      <td>-0.233837</td>\n",
       "      <td>-0.950924</td>\n",
       "      <td>-1.141513</td>\n",
       "    </tr>\n",
       "    <tr>\n",
       "      <th>3</th>\n",
       "      <td>-0.260964</td>\n",
       "      <td>-1.468962</td>\n",
       "      <td>-0.013174</td>\n",
       "      <td>0.840351</td>\n",
       "    </tr>\n",
       "    <tr>\n",
       "      <th>4</th>\n",
       "      <td>0.692696</td>\n",
       "      <td>0.537737</td>\n",
       "      <td>-1.266878</td>\n",
       "      <td>0.527660</td>\n",
       "    </tr>\n",
       "  </tbody>\n",
       "</table>\n",
       "</div>"
      ],
      "text/plain": [
       "          A         B         C         D\n",
       "0  0.527035 -0.357337  0.458451  0.023871\n",
       "1  0.807242 -0.795480 -1.355760 -0.116063\n",
       "2  1.139231 -0.233837 -0.950924 -1.141513\n",
       "3 -0.260964 -1.468962 -0.013174  0.840351\n",
       "4  0.692696  0.537737 -1.266878  0.527660"
      ]
     },
     "execution_count": 9,
     "metadata": {},
     "output_type": "execute_result"
    }
   ],
   "source": [
    "df.head()"
   ]
  },
  {
   "cell_type": "code",
   "execution_count": 10,
   "metadata": {},
   "outputs": [],
   "source": [
    "df2 = pd.DataFrame({'Category': ['A','B','C'],'values':[32, 43, 50]})"
   ]
  },
  {
   "cell_type": "code",
   "execution_count": 11,
   "metadata": {},
   "outputs": [
    {
     "data": {
      "text/html": [
       "<div>\n",
       "<style scoped>\n",
       "    .dataframe tbody tr th:only-of-type {\n",
       "        vertical-align: middle;\n",
       "    }\n",
       "\n",
       "    .dataframe tbody tr th {\n",
       "        vertical-align: top;\n",
       "    }\n",
       "\n",
       "    .dataframe thead th {\n",
       "        text-align: right;\n",
       "    }\n",
       "</style>\n",
       "<table border=\"1\" class=\"dataframe\">\n",
       "  <thead>\n",
       "    <tr style=\"text-align: right;\">\n",
       "      <th></th>\n",
       "      <th>Category</th>\n",
       "      <th>values</th>\n",
       "    </tr>\n",
       "  </thead>\n",
       "  <tbody>\n",
       "    <tr>\n",
       "      <th>0</th>\n",
       "      <td>A</td>\n",
       "      <td>32</td>\n",
       "    </tr>\n",
       "    <tr>\n",
       "      <th>1</th>\n",
       "      <td>B</td>\n",
       "      <td>43</td>\n",
       "    </tr>\n",
       "    <tr>\n",
       "      <th>2</th>\n",
       "      <td>C</td>\n",
       "      <td>50</td>\n",
       "    </tr>\n",
       "  </tbody>\n",
       "</table>\n",
       "</div>"
      ],
      "text/plain": [
       "  Category  values\n",
       "0        A      32\n",
       "1        B      43\n",
       "2        C      50"
      ]
     },
     "execution_count": 11,
     "metadata": {},
     "output_type": "execute_result"
    }
   ],
   "source": [
    "df2.head()"
   ]
  },
  {
   "cell_type": "code",
   "execution_count": 12,
   "metadata": {},
   "outputs": [
    {
     "data": {
      "text/plain": [
       "<Axes: >"
      ]
     },
     "execution_count": 12,
     "metadata": {},
     "output_type": "execute_result"
    },
    {
     "data": {
      "image/png": "[encoded data removed]",
      "text/plain": [
       "<Figure size 640x480 with 1 Axes>"
      ]
     },
     "metadata": {},
     "output_type": "display_data"
    }
   ],
   "source": [
    "df.plot()"
   ]
  },
  {
   "cell_type": "code",
   "execution_count": 27,
   "metadata": {},
   "outputs": [
    {
     "data": {
      "application/vnd.plotly.v1+json": {
       "config": {
        "linkText": "Export to plot.ly",
        "plotlyServerURL": "https://plot.ly",
        "showLink": true
       },
       "data": [
        {
         "line": {
          "color": "rgba(255, 153, 51, 1.0)",
          "dash": "solid",
          "shape": "linear",
          "width": 1.3
         },
         "mode": "lines",
         "name": "A",
         "text": "",
         "type": "scatter",
         "x": [
          0,
          1,
          2,
          3,
          4,
          5,
          6,
          7,
          8,
          9,
          10,
          11,
          12,
          13,
          14,
          15,
          16,
          17,
          18,
          19,
          20,
          21,
          22,
          23,
          24,
          25,
          26,
          27,
          28,
          29,
          30,
          31,
          32,
          33,
          34,
          35,
          36,
          37,
          38,
          39,
          40,
          41,
          42,
          43,
          44,
          45,
          46,
          47,
          48,
          49,
          50,
          51,
          52,
          53,
          54,
          55,
          56,
          57,
          58,
          59,
          60,
          61,
          62,
          63,
          64,
          65,
          66,
          67,
          68,
          69,
          70,
          71,
          72,
          73,
          74,
          75,
          76,
          77,
          78,
          79,
          80,
          81,
          82,
          83,
          84,
          85,
          86,
          87,
          88,
          89,
          90,
          91,
          92,
          93,
          94,
          95,
          96,
          97,
          98,
          99
         ],
         "y": [
          -0.4115038731053773,
          -0.49582647792730933,
          0.6715039515278375,
          -0.7228439533683615,
          -1.0163644309323503,
          -1.6771187460497037,
          0.1426942594043106,
          0.010733057367568256,
          -0.2757248886421378,
          0.43634248238396767,
          -0.31625760352765825,
          1.0788695418388297,
          -1.3650683550356226,
          3.3295296907918908,
          1.2448035616874729,
          3.567907542703827,
          -1.2585894835205205,
          -0.7578902845652957,
          0.961097206466587,
          -0.22999127206120065,
          0.6355315190013411,
          -0.36640556130886015,
          -0.2359925976152816,
          0.6673896386703786,
          1.1118429093534206,
          1.0437621305016933,
          2.139732992997837,
          -0.5236645252310186,
          1.139886268203172,
          -1.8176105247030476,
          1.9016562907969128,
          0.5611763439299505,
          1.1863070628387569,
          -0.7993614395088802,
          -0.9268837477538382,
          1.3729270460114111,
          -2.235935935570002,
          -0.2799295467449602,
          -0.43376234483213355,
          -0.5243245831093638,
          -0.38600115945410135,
          -1.3599235166505075,
          -0.32119363857062766,
          0.27802374924973083,
          -0.28865745131943243,
          -2.2447838364351265,
          0.41572772303099154,
          -0.6729677858079124,
          0.3365952342631071,
          -0.42526332525683985,
          0.0839719329428044,
          -0.42767437800103897,
          -1.0035137994991385,
          -2.166642613122833,
          0.46360762343438955,
          -0.23745818472369123,
          0.9098292268808831,
          0.2141601647321144,
          -0.15744101383067263,
          -1.467649085021929,
          0.6621485851703116,
          -0.8598313197446324,
          0.10187808206059304,
          0.2438722144197782,
          1.8871003222668867,
          -0.5959777327995854,
          -0.05383220104909009,
          1.9217840425297361,
          1.4672698064203502,
          0.3982542762139769,
          0.004494820302078757,
          -1.363266704463435,
          -0.3383320859684264,
          -1.9948896538406473,
          -0.41325343868616204,
          0.17825113054126104,
          0.6340245373609271,
          0.43859956361879593,
          -0.6578477062991168,
          0.38778746921351653,
          -0.594250066209521,
          -0.8491583522129205,
          0.2716301090805724,
          1.665090431012535,
          0.5914792364899399,
          -1.3333439007396537,
          -0.3480441111400766,
          1.5047931302741744,
          1.5972618958250668,
          1.7008755333460621,
          0.5150358045518847,
          -0.1976070256189633,
          -1.2680496771545622,
          -0.6871816841822501,
          0.36439994493622735,
          0.3427615210908248,
          -0.9201279626113359,
          0.4755993371367693,
          0.37629736026692095,
          -1.6674568683437216
         ]
        },
        {
         "line": {
          "color": "rgba(55, 128, 191, 1.0)",
          "dash": "solid",
          "shape": "linear",
          "width": 1.3
         },
         "mode": "lines",
         "name": "B",
         "text": "",
         "type": "scatter",
         "x": [
          0,
          1,
          2,
          3,
          4,
          5,
          6,
          7,
          8,
          9,
          10,
          11,
          12,
          13,
          14,
          15,
          16,
          17,
          18,
          19,
          20,
          21,
          22,
          23,
          24,
          25,
          26,
          27,
          28,
          29,
          30,
          31,
          32,
          33,
          34,
          35,
          36,
          37,
          38,
          39,
          40,
          41,
          42,
          43,
          44,
          45,
          46,
          47,
          48,
          49,
          50,
          51,
          52,
          53,
          54,
          55,
          56,
          57,
          58,
          59,
          60,
          61,
          62,
          63,
          64,
          65,
          66,
          67,
          68,
          69,
          70,
          71,
          72,
          73,
          74,
          75,
          76,
          77,
          78,
          79,
          80,
          81,
          82,
          83,
          84,
          85,
          86,
          87,
          88,
          89,
          90,
          91,
          92,
          93,
          94,
          95,
          96,
          97,
          98,
          99
         ],
         "y": [
          -1.4305731294486232,
          0.9807190014899824,
          -1.0140748716230523,
          -1.5160479694028781,
          0.08365899582671213,
          -0.9794348438041677,
          0.08039100336480866,
          -0.38620152988385487,
          0.7203864725872914,
          -0.3627743143627477,
          0.6906005220034608,
          -0.27652058601410145,
          0.28831869941097654,
          1.4438561407269055,
          1.0020674345178482,
          1.3657923506545961,
          0.8917550027505843,
          -0.5873052322447015,
          1.4394241421913423,
          -1.1823295994022869,
          0.48004408303977236,
          -0.9954568496222879,
          -0.4491627396631762,
          0.23781870826368207,
          0.39794648816463896,
          -1.0462274230665645,
          -1.0219333474135248,
          0.6382625121026199,
          0.7391063858417758,
          -0.006065534822558962,
          0.18884574548061528,
          0.582880659111706,
          -0.5323462342888212,
          0.9402583707995257,
          1.7994968197538437,
          -1.5804326583155233,
          -0.5498576008022996,
          -0.41586487996867555,
          -2.594438473380876,
          -0.20792628568089838,
          -0.05371153893023452,
          1.111311390110987,
          1.043087154127094,
          0.35648676024702847,
          0.7406413495945469,
          -1.7174901393497024,
          -0.5055206163892351,
          0.12444380491205628,
          0.2635168161584073,
          1.797430855129327,
          0.14163338680020648,
          2.195246757411419,
          1.3348708114974404,
          2.299036977743916,
          -1.5774051814618686,
          1.7117732762461901,
          0.37674565026187756,
          -0.6997844473879765,
          -1.0219500087855766,
          -2.631738198091557,
          -0.38120837544237773,
          0.4153454326347774,
          -1.1057341522928317,
          -1.749561587292299,
          1.1692578741087636,
          -0.4665158273933133,
          -1.3155212639292173,
          0.7521474301263578,
          -0.42079778332228823,
          0.31097180594294915,
          0.7091466990379948,
          0.825962573058696,
          0.3846841820235162,
          1.3271700873958,
          0.8989715838374636,
          2.138446326737935,
          0.8207061142504928,
          0.4817470479831832,
          2.046769364082126,
          1.013220469300983,
          1.4307884583515513,
          0.24665790517738484,
          -0.09142765416388775,
          -0.8978835841127965,
          2.1272319654519163,
          -0.24151888455402062,
          -0.5932587701094062,
          -1.6478458884228309,
          -0.25457893943964405,
          1.5913614923566013,
          -1.1452402381900029,
          0.43397472460552017,
          0.29789344556192504,
          1.665719652232908,
          0.7618902735558941,
          0.6687839547142187,
          -1.2400301056762388,
          1.9432788477844014,
          -0.3634019171329619,
          -0.28964201627915565
         ]
        },
        {
         "line": {
          "color": "rgba(50, 171, 96, 1.0)",
          "dash": "solid",
          "shape": "linear",
          "width": 1.3
         },
         "mode": "lines",
         "name": "C",
         "text": "",
         "type": "scatter",
         "x": [
          0,
          1,
          2,
          3,
          4,
          5,
          6,
          7,
          8,
          9,
          10,
          11,
          12,
          13,
          14,
          15,
          16,
          17,
          18,
          19,
          20,
          21,
          22,
          23,
          24,
          25,
          26,
          27,
          28,
          29,
          30,
          31,
          32,
          33,
          34,
          35,
          36,
          37,
          38,
          39,
          40,
          41,
          42,
          43,
          44,
          45,
          46,
          47,
          48,
          49,
          50,
          51,
          52,
          53,
          54,
          55,
          56,
          57,
          58,
          59,
          60,
          61,
          62,
          63,
          64,
          65,
          66,
          67,
          68,
          69,
          70,
          71,
          72,
          73,
          74,
          75,
          76,
          77,
          78,
          79,
          80,
          81,
          82,
          83,
          84,
          85,
          86,
          87,
          88,
          89,
          90,
          91,
          92,
          93,
          94,
          95,
          96,
          97,
          98,
          99
         ],
         "y": [
          -0.4035301924,
          -1.6115860040301881,
          2.63945593136704,
          -1.5374839951136252,
          -1.2546012462110507,
          -1.1478278861644489,
          -0.22344713607849873,
          0.5012049872176282,
          -1.2865158584850092,
          1.9966649713354254,
          1.0614357923896944,
          0.029051133995821998,
          0.5741341579600965,
          1.0121114494433188,
          -1.276322302266929,
          0.3369758870931138,
          0.3912593775087565,
          -1.3517841319669084,
          1.5172818388815197,
          -0.6440166550733297,
          -0.3296765211299378,
          -1.1772530587445735,
          -0.6075223902280605,
          -0.9843634880970925,
          0.8440972379163757,
          0.3373307357476102,
          1.4974507063604852,
          -0.2924614819388411,
          -1.1540542805212934,
          0.7080419216884527,
          0.9896711825862118,
          1.3915773511841565,
          0.48800016708057137,
          -0.6816629799471235,
          3.6906470186359766,
          -0.9729424696404596,
          0.3694023839341636,
          -1.9814389066380493,
          1.1832447199312832,
          0.2528153750253914,
          -0.1943675304647376,
          -2.041265638824802,
          -0.976403640219806,
          -0.9805421520471272,
          0.6226144108094213,
          -1.4037058892112146,
          -1.462855221354042,
          -1.1339692853238932,
          -1.3281294843803555,
          -0.5072142772940965,
          -0.3829634858842726,
          0.396831281688865,
          -0.7402213896535239,
          1.7916923395407218,
          -0.12332017792413869,
          -0.5751212006787343,
          0.1557171376469303,
          -1.4085456017217224,
          -0.9398489612284758,
          -0.5664768192331817,
          -0.7021956724900761,
          -0.34226261467506475,
          0.6382338806480061,
          0.40638787214901806,
          0.770317953302265,
          -1.1402947326629862,
          -0.10404369355686148,
          -0.24087188871662418,
          0.24013156988503864,
          -1.124958800682844,
          0.49397502804491733,
          -1.7416465240211423,
          -0.24835776441600488,
          -0.7767255508915297,
          1.4311788662680227,
          -0.8779758030452509,
          -1.1782098939586012,
          -0.29495897761025025,
          -0.02906120291342997,
          -0.9269912028980818,
          2.1133715450615043,
          1.5134655662634757,
          1.9173411041804995,
          -2.953633013125038,
          -0.6274523412193578,
          -0.13284118020160382,
          -1.3416402082908638,
          0.5105507549206211,
          -0.6000431906610564,
          -0.982412433565821,
          0.29710728428260513,
          0.35971185983495624,
          2.683313221272684,
          0.1819196613306115,
          -1.2062436686268865,
          -0.6917132729114516,
          0.45350056303868724,
          1.2385571276215268,
          1.510493943135955,
          -0.10002727631138691
         ]
        },
        {
         "line": {
          "color": "rgba(128, 0, 128, 1.0)",
          "dash": "solid",
          "shape": "linear",
          "width": 1.3
         },
         "mode": "lines",
         "name": "D",
         "text": "",
         "type": "scatter",
         "x": [
          0,
          1,
          2,
          3,
          4,
          5,
          6,
          7,
          8,
          9,
          10,
          11,
          12,
          13,
          14,
          15,
          16,
          17,
          18,
          19,
          20,
          21,
          22,
          23,
          24,
          25,
          26,
          27,
          28,
          29,
          30,
          31,
          32,
          33,
          34,
          35,
          36,
          37,
          38,
          39,
          40,
          41,
          42,
          43,
          44,
          45,
          46,
          47,
          48,
          49,
          50,
          51,
          52,
          53,
          54,
          55,
          56,
          57,
          58,
          59,
          60,
          61,
          62,
          63,
          64,
          65,
          66,
          67,
          68,
          69,
          70,
          71,
          72,
          73,
          74,
          75,
          76,
          77,
          78,
          79,
          80,
          81,
          82,
          83,
          84,
          85,
          86,
          87,
          88,
          89,
          90,
          91,
          92,
          93,
          94,
          95,
          96,
          97,
          98,
          99
         ],
         "y": [
          -0.17944125256573867,
          0.2954550026102315,
          0.8295327554843667,
          -0.09650700161090092,
          -0.09342781232579536,
          -0.30032766969785857,
          -0.2748027549319671,
          0.11616669471986152,
          -0.19126602055433553,
          1.0023550720871446,
          0.9822367624881188,
          1.7170154044961143,
          -2.2243956239383316,
          1.1474683748014989,
          -0.2474131491143195,
          -0.09108246576146586,
          -0.31301992780391524,
          1.0751754919333834,
          -0.5341796867143148,
          0.9267183635118273,
          0.9240873386491374,
          -0.12852958241859497,
          0.5557212190612986,
          1.4693971099645429,
          1.4824921671579085,
          -0.7149387327321645,
          -1.07110559511885,
          -0.4870817370270348,
          -0.5190349323577252,
          1.1975564098754115,
          0.4327325868655046,
          -0.4024875799842912,
          -0.19617068589293388,
          1.1954916894899468,
          -0.20343284928335367,
          -1.937931449693175,
          0.857790457328531,
          -0.08399090124024515,
          -0.04677209432273538,
          1.6958009985383622,
          0.39870368934923106,
          2.04013968157642,
          -1.1937869356030246,
          0.8053739045174904,
          -1.1091139351283579,
          -0.3058909964352519,
          2.4202442471856016,
          -1.393206144544414,
          1.8161343865870752,
          -1.6946494545813768,
          -0.15519971129471366,
          -0.4789915926665577,
          -1.1528321690188423,
          0.7716397578502623,
          1.553040607057728,
          0.14090580264915656,
          -0.9030555859668093,
          -1.2584687865204276,
          -0.01643851885561289,
          0.23708453208375252,
          -2.1695680905439665,
          0.3789354689395262,
          0.9279923481390357,
          -0.17015388869641665,
          1.0447416789832396,
          -0.6523888906952022,
          1.4531540564058119,
          0.48317324830428854,
          0.7846129443340959,
          0.29570263617838416,
          -1.4186653925597024,
          -0.7923388495577489,
          -0.531088689765993,
          -0.02754672744255599,
          -0.8199278760531039,
          -1.3680696820312197,
          0.8942837002485874,
          -0.6090454677613588,
          -1.683713409831505,
          -0.4038546901781923,
          -1.7983798616269113,
          1.5511005341501645,
          0.5628033921903397,
          0.05099382830891123,
          1.1541177566072083,
          -0.3195013703053062,
          0.7527127178945748,
          0.43391918921727285,
          0.9588473110445781,
          0.9450450726397501,
          -0.5290483332066993,
          -1.4239066577673982,
          0.6558761617436887,
          -0.0877481573205621,
          1.0005951564688398,
          -0.6584730132628027,
          1.8860735715741814,
          0.5703339010296119,
          0.506497865412588,
          -0.3528068968712007
         ]
        }
       ],
       "layout": {
        "legend": {
         "bgcolor": "#F5F6F9",
         "font": {
          "color": "#4D5663"
         }
        },
        "paper_bgcolor": "#F5F6F9",
        "plot_bgcolor": "#F5F6F9",
        "template": {
         "data": {
          "bar": [
           {
            "error_x": {
             "color": "#2a3f5f"
            },
            "error_y": {
             "color": "#2a3f5f"
            },
            "marker": {
             "line": {
              "color": "#E5ECF6",
              "width": 0.5
             },
             "pattern": {
              "fillmode": "overlay",
              "size": 10,
              "solidity": 0.2
             }
            },
            "type": "bar"
           }
          ],
          "barpolar": [
           {
            "marker": {
             "line": {
              "color": "#E5ECF6",
              "width": 0.5
             },
             "pattern": {
              "fillmode": "overlay",
              "size": 10,
              "solidity": 0.2
             }
            },
            "type": "barpolar"
           }
          ],
          "carpet": [
           {
            "aaxis": {
             "endlinecolor": "#2a3f5f",
             "gridcolor": "white",
             "linecolor": "white",
             "minorgridcolor": "white",
             "startlinecolor": "#2a3f5f"
            },
            "baxis": {
             "endlinecolor": "#2a3f5f",
             "gridcolor": "white",
             "linecolor": "white",
             "minorgridcolor": "white",
             "startlinecolor": "#2a3f5f"
            },
            "type": "carpet"
           }
          ],
          "choropleth": [
           {
            "colorbar": {
             "outlinewidth": 0,
             "ticks": ""
            },
            "type": "choropleth"
           }
          ],
          "contour": [
           {
            "colorbar": {
             "outlinewidth": 0,
             "ticks": ""
            },
            "colorscale": [
             [
              0,
              "#0d0887"
             ],
             [
              0.1111111111111111,
              "#46039f"
             ],
             [
              0.2222222222222222,
              "#7201a8"
             ],
             [
              0.3333333333333333,
              "#9c179e"
             ],
             [
              0.4444444444444444,
              "#bd3786"
             ],
             [
              0.5555555555555556,
              "#d8576b"
             ],
             [
              0.6666666666666666,
              "#ed7953"
             ],
             [
              0.7777777777777778,
              "#fb9f3a"
             ],
             [
              0.8888888888888888,
              "#fdca26"
             ],
             [
              1,
              "#f0f921"
             ]
            ],
            "type": "contour"
           }
          ],
          "contourcarpet": [
           {
            "colorbar": {
             "outlinewidth": 0,
             "ticks": ""
            },
            "type": "contourcarpet"
           }
          ],
          "heatmap": [
           {
            "colorbar": {
             "outlinewidth": 0,
             "ticks": ""
            },
            "colorscale": [
             [
              0,
              "#0d0887"
             ],
             [
              0.1111111111111111,
              "#46039f"
             ],
             [
              0.2222222222222222,
              "#7201a8"
             ],
             [
              0.3333333333333333,
              "#9c179e"
             ],
             [
              0.4444444444444444,
              "#bd3786"
             ],
             [
              0.5555555555555556,
              "#d8576b"
             ],
             [
              0.6666666666666666,
              "#ed7953"
             ],
             [
              0.7777777777777778,
              "#fb9f3a"
             ],
             [
              0.8888888888888888,
              "#fdca26"
             ],
             [
              1,
              "#f0f921"
             ]
            ],
            "type": "heatmap"
           }
          ],
          "heatmapgl": [
           {
            "colorbar": {
             "outlinewidth": 0,
             "ticks": ""
            },
            "colorscale": [
             [
              0,
              "#0d0887"
             ],
             [
              0.1111111111111111,
              "#46039f"
             ],
             [
              0.2222222222222222,
              "#7201a8"
             ],
             [
              0.3333333333333333,
              "#9c179e"
             ],
             [
              0.4444444444444444,
              "#bd3786"
             ],
             [
              0.5555555555555556,
              "#d8576b"
             ],
             [
              0.6666666666666666,
              "#ed7953"
             ],
             [
              0.7777777777777778,
              "#fb9f3a"
             ],
             [
              0.8888888888888888,
              "#fdca26"
             ],
             [
              1,
              "#f0f921"
             ]
            ],
            "type": "heatmapgl"
           }
          ],
          "histogram": [
           {
            "marker": {
             "pattern": {
              "fillmode": "overlay",
              "size": 10,
              "solidity": 0.2
             }
            },
            "type": "histogram"
           }
          ],
          "histogram2d": [
           {
            "colorbar": {
             "outlinewidth": 0,
             "ticks": ""
            },
            "colorscale": [
             [
              0,
              "#0d0887"
             ],
             [
              0.1111111111111111,
              "#46039f"
             ],
             [
              0.2222222222222222,
              "#7201a8"
             ],
             [
              0.3333333333333333,
              "#9c179e"
             ],
             [
              0.4444444444444444,
              "#bd3786"
             ],
             [
              0.5555555555555556,
              "#d8576b"
             ],
             [
              0.6666666666666666,
              "#ed7953"
             ],
             [
              0.7777777777777778,
              "#fb9f3a"
             ],
             [
              0.8888888888888888,
              "#fdca26"
             ],
             [
              1,
              "#f0f921"
             ]
            ],
            "type": "histogram2d"
           }
          ],
          "histogram2dcontour": [
           {
            "colorbar": {
             "outlinewidth": 0,
             "ticks": ""
            },
            "colorscale": [
             [
              0,
              "#0d0887"
             ],
             [
              0.1111111111111111,
              "#46039f"
             ],
             [
              0.2222222222222222,
              "#7201a8"
             ],
             [
              0.3333333333333333,
              "#9c179e"
             ],
             [
              0.4444444444444444,
              "#bd3786"
             ],
             [
              0.5555555555555556,
              "#d8576b"
             ],
             [
              0.6666666666666666,
              "#ed7953"
             ],
             [
              0.7777777777777778,
              "#fb9f3a"
             ],
             [
              0.8888888888888888,
              "#fdca26"
             ],
             [
              1,
              "#f0f921"
             ]
            ],
            "type": "histogram2dcontour"
           }
          ],
          "mesh3d": [
           {
            "colorbar": {
             "outlinewidth": 0,
             "ticks": ""
            },
            "type": "mesh3d"
           }
          ],
          "parcoords": [
           {
            "line": {
             "colorbar": {
              "outlinewidth": 0,
              "ticks": ""
             }
            },
            "type": "parcoords"
           }
          ],
          "pie": [
           {
            "automargin": true,
            "type": "pie"
           }
          ],
          "scatter": [
           {
            "fillpattern": {
             "fillmode": "overlay",
             "size": 10,
             "solidity": 0.2
            },
            "type": "scatter"
           }
          ],
          "scatter3d": [
           {
            "line": {
             "colorbar": {
              "outlinewidth": 0,
              "ticks": ""
             }
            },
            "marker": {
             "colorbar": {
              "outlinewidth": 0,
              "ticks": ""
             }
            },
            "type": "scatter3d"
           }
          ],
          "scattercarpet": [
           {
            "marker": {
             "colorbar": {
              "outlinewidth": 0,
              "ticks": ""
             }
            },
            "type": "scattercarpet"
           }
          ],
          "scattergeo": [
           {
            "marker": {
             "colorbar": {
              "outlinewidth": 0,
              "ticks": ""
             }
            },
            "type": "scattergeo"
           }
          ],
          "scattergl": [
           {
            "marker": {
             "colorbar": {
              "outlinewidth": 0,
              "ticks": ""
             }
            },
            "type": "scattergl"
           }
          ],
          "scattermapbox": [
           {
            "marker": {
             "colorbar": {
              "outlinewidth": 0,
              "ticks": ""
             }
            },
            "type": "scattermapbox"
           }
          ],
          "scatterpolar": [
           {
            "marker": {
             "colorbar": {
              "outlinewidth": 0,
              "ticks": ""
             }
            },
            "type": "scatterpolar"
           }
          ],
          "scatterpolargl": [
           {
            "marker": {
             "colorbar": {
              "outlinewidth": 0,
              "ticks": ""
             }
            },
            "type": "scatterpolargl"
           }
          ],
          "scatterternary": [
           {
            "marker": {
             "colorbar": {
              "outlinewidth": 0,
              "ticks": ""
             }
            },
            "type": "scatterternary"
           }
          ],
          "surface": [
           {
            "colorbar": {
             "outlinewidth": 0,
             "ticks": ""
            },
            "colorscale": [
             [
              0,
              "#0d0887"
             ],
             [
              0.1111111111111111,
              "#46039f"
             ],
             [
              0.2222222222222222,
              "#7201a8"
             ],
             [
              0.3333333333333333,
              "#9c179e"
             ],
             [
              0.4444444444444444,
              "#bd3786"
             ],
             [
              0.5555555555555556,
              "#d8576b"
             ],
             [
              0.6666666666666666,
              "#ed7953"
             ],
             [
              0.7777777777777778,
              "#fb9f3a"
             ],
             [
              0.8888888888888888,
              "#fdca26"
             ],
             [
              1,
              "#f0f921"
             ]
            ],
            "type": "surface"
           }
          ],
          "table": [
           {
            "cells": {
             "fill": {
              "color": "#EBF0F8"
             },
             "line": {
              "color": "white"
             }
            },
            "header": {
             "fill": {
              "color": "#C8D4E3"
             },
             "line": {
              "color": "white"
             }
            },
            "type": "table"
           }
          ]
         },
         "layout": {
          "annotationdefaults": {
           "arrowcolor": "#2a3f5f",
           "arrowhead": 0,
           "arrowwidth": 1
          },
          "autotypenumbers": "strict",
          "coloraxis": {
           "colorbar": {
            "outlinewidth": 0,
            "ticks": ""
           }
          },
          "colorscale": {
           "diverging": [
            [
             0,
             "#8e0152"
            ],
            [
             0.1,
             "#c51b7d"
            ],
            [
             0.2,
             "#de77ae"
            ],
            [
             0.3,
             "#f1b6da"
            ],
            [
             0.4,
             "#fde0ef"
            ],
            [
             0.5,
             "#f7f7f7"
            ],
            [
             0.6,
             "#e6f5d0"
            ],
            [
             0.7,
             "#b8e186"
            ],
            [
             0.8,
             "#7fbc41"
            ],
            [
             0.9,
             "#4d9221"
            ],
            [
             1,
             "#276419"
            ]
           ],
           "sequential": [
            [
             0,
             "#0d0887"
            ],
            [
             0.1111111111111111,
             "#46039f"
            ],
            [
             0.2222222222222222,
             "#7201a8"
            ],
            [
             0.3333333333333333,
             "#9c179e"
            ],
            [
             0.4444444444444444,
             "#bd3786"
            ],
            [
             0.5555555555555556,
             "#d8576b"
            ],
            [
             0.6666666666666666,
             "#ed7953"
            ],
            [
             0.7777777777777778,
             "#fb9f3a"
            ],
            [
             0.8888888888888888,
             "#fdca26"
            ],
            [
             1,
             "#f0f921"
            ]
           ],
           "sequentialminus": [
            [
             0,
             "#0d0887"
            ],
            [
             0.1111111111111111,
             "#46039f"
            ],
            [
             0.2222222222222222,
             "#7201a8"
            ],
            [
             0.3333333333333333,
             "#9c179e"
            ],
            [
             0.4444444444444444,
             "#bd3786"
            ],
            [
             0.5555555555555556,
             "#d8576b"
            ],
            [
             0.6666666666666666,
             "#ed7953"
            ],
            [
             0.7777777777777778,
             "#fb9f3a"
            ],
            [
             0.8888888888888888,
             "#fdca26"
            ],
            [
             1,
             "#f0f921"
            ]
           ]
          },
          "colorway": [
           "#636efa",
           "#EF553B",
           "#00cc96",
           "#ab63fa",
           "#FFA15A",
           "#19d3f3",
           "#FF6692",
           "#B6E880",
           "#FF97FF",
           "#FECB52"
          ],
          "font": {
           "color": "#2a3f5f"
          },
          "geo": {
           "bgcolor": "white",
           "lakecolor": "white",
           "landcolor": "#E5ECF6",
           "showlakes": true,
           "showland": true,
           "subunitcolor": "white"
          },
          "hoverlabel": {
           "align": "left"
          },
          "hovermode": "closest",
          "mapbox": {
           "style": "light"
          },
          "paper_bgcolor": "white",
          "plot_bgcolor": "#E5ECF6",
          "polar": {
           "angularaxis": {
            "gridcolor": "white",
            "linecolor": "white",
            "ticks": ""
           },
           "bgcolor": "#E5ECF6",
           "radialaxis": {
            "gridcolor": "white",
            "linecolor": "white",
            "ticks": ""
           }
          },
          "scene": {
           "xaxis": {
            "backgroundcolor": "#E5ECF6",
            "gridcolor": "white",
            "gridwidth": 2,
            "linecolor": "white",
            "showbackground": true,
            "ticks": "",
            "zerolinecolor": "white"
           },
           "yaxis": {
            "backgroundcolor": "#E5ECF6",
            "gridcolor": "white",
            "gridwidth": 2,
            "linecolor": "white",
            "showbackground": true,
            "ticks": "",
            "zerolinecolor": "white"
           },
           "zaxis": {
            "backgroundcolor": "#E5ECF6",
            "gridcolor": "white",
            "gridwidth": 2,
            "linecolor": "white",
            "showbackground": true,
            "ticks": "",
            "zerolinecolor": "white"
           }
          },
          "shapedefaults": {
           "line": {
            "color": "#2a3f5f"
           }
          },
          "ternary": {
           "aaxis": {
            "gridcolor": "white",
            "linecolor": "white",
            "ticks": ""
           },
           "baxis": {
            "gridcolor": "white",
            "linecolor": "white",
            "ticks": ""
           },
           "bgcolor": "#E5ECF6",
           "caxis": {
            "gridcolor": "white",
            "linecolor": "white",
            "ticks": ""
           }
          },
          "title": {
           "x": 0.05
          },
          "xaxis": {
           "automargin": true,
           "gridcolor": "white",
           "linecolor": "white",
           "ticks": "",
           "title": {
            "standoff": 15
           },
           "zerolinecolor": "white",
           "zerolinewidth": 2
          },
          "yaxis": {
           "automargin": true,
           "gridcolor": "white",
           "linecolor": "white",
           "ticks": "",
           "title": {
            "standoff": 15
           },
           "zerolinecolor": "white",
           "zerolinewidth": 2
          }
         }
        },
        "title": {
         "font": {
          "color": "#4D5663"
         }
        },
        "xaxis": {
         "gridcolor": "#E1E5ED",
         "showgrid": true,
         "tickfont": {
          "color": "#4D5663"
         },
         "title": {
          "font": {
           "color": "#4D5663"
          },
          "text": ""
         },
         "zerolinecolor": "#E1E5ED"
        },
        "yaxis": {
         "gridcolor": "#E1E5ED",
         "showgrid": true,
         "tickfont": {
          "color": "#4D5663"
         },
         "title": {
          "font": {
           "color": "#4D5663"
          },
          "text": ""
         },
         "zerolinecolor": "#E1E5ED"
        }
       }
      },
      "text/html": [
       "<div>                            <div id=\"c8c57e53-127f-44d4-9146-e929213b724c\" class=\"plotly-graph-div\" style=\"height:525px; width:100%;\"></div>            <script type=\"text/javascript\">                require([\"plotly\"], function(Plotly) {                    window.PLOTLYENV=window.PLOTLYENV || {};\n",
       "                    window.PLOTLYENV.BASE_URL='https://plot.ly';                                    if (document.getElementById(\"c8c57e53-127f-44d4-9146-e929213b724c\")) {                    Plotly.newPlot(                        \"c8c57e53-127f-44d4-9146-e929213b724c\",                        [{\"line\":{\"color\":\"rgba(255, 153, 51, 1.0)\",\"dash\":\"solid\",\"shape\":\"linear\",\"width\":1.3},\"mode\":\"lines\",\"name\":\"A\",\"text\":\"\",\"x\":[0,1,2,3,4,5,6,7,8,9,10,11,12,13,14,15,16,17,18,19,20,21,22,23,24,25,26,27,28,29,30,31,32,33,34,35,36,37,38,39,40,41,42,43,44,45,46,47,48,49,50,51,52,53,54,55,56,57,58,59,60,61,62,63,64,65,66,67,68,69,70,71,72,73,74,75,76,77,78,79,80,81,82,83,84,85,86,87,88,89,90,91,92,93,94,95,96,97,98,99],\"y\":[-0.4115038731053773,-0.49582647792730933,0.6715039515278375,-0.7228439533683615,-1.0163644309323503,-1.6771187460497037,0.1426942594043106,0.010733057367568256,-0.2757248886421378,0.43634248238396767,-0.31625760352765825,1.0788695418388297,-1.3650683550356226,3.3295296907918908,1.2448035616874729,3.567907542703827,-1.2585894835205205,-0.7578902845652957,0.961097206466587,-0.22999127206120065,0.6355315190013411,-0.36640556130886015,-0.2359925976152816,0.6673896386703786,1.1118429093534206,1.0437621305016933,2.139732992997837,-0.5236645252310186,1.139886268203172,-1.8176105247030476,1.9016562907969128,0.5611763439299505,1.1863070628387569,-0.7993614395088802,-0.9268837477538382,1.3729270460114111,-2.235935935570002,-0.2799295467449602,-0.43376234483213355,-0.5243245831093638,-0.38600115945410135,-1.3599235166505075,-0.32119363857062766,0.27802374924973083,-0.28865745131943243,-2.2447838364351265,0.41572772303099154,-0.6729677858079124,0.3365952342631071,-0.42526332525683985,0.0839719329428044,-0.42767437800103897,-1.0035137994991385,-2.166642613122833,0.46360762343438955,-0.23745818472369123,0.9098292268808831,0.2141601647321144,-0.15744101383067263,-1.467649085021929,0.6621485851703116,-0.8598313197446324,0.10187808206059304,0.2438722144197782,1.8871003222668867,-0.5959777327995854,-0.05383220104909009,1.9217840425297361,1.4672698064203502,0.3982542762139769,0.004494820302078757,-1.363266704463435,-0.3383320859684264,-1.9948896538406473,-0.41325343868616204,0.17825113054126104,0.6340245373609271,0.43859956361879593,-0.6578477062991168,0.38778746921351653,-0.594250066209521,-0.8491583522129205,0.2716301090805724,1.665090431012535,0.5914792364899399,-1.3333439007396537,-0.3480441111400766,1.5047931302741744,1.5972618958250668,1.7008755333460621,0.5150358045518847,-0.1976070256189633,-1.2680496771545622,-0.6871816841822501,0.36439994493622735,0.3427615210908248,-0.9201279626113359,0.4755993371367693,0.37629736026692095,-1.6674568683437216],\"type\":\"scatter\"},{\"line\":{\"color\":\"rgba(55, 128, 191, 1.0)\",\"dash\":\"solid\",\"shape\":\"linear\",\"width\":1.3},\"mode\":\"lines\",\"name\":\"B\",\"text\":\"\",\"x\":[0,1,2,3,4,5,6,7,8,9,10,11,12,13,14,15,16,17,18,19,20,21,22,23,24,25,26,27,28,29,30,31,32,33,34,35,36,37,38,39,40,41,42,43,44,45,46,47,48,49,50,51,52,53,54,55,56,57,58,59,60,61,62,63,64,65,66,67,68,69,70,71,72,73,74,75,76,77,78,79,80,81,82,83,84,85,86,87,88,89,90,91,92,93,94,95,96,97,98,99],\"y\":[-1.4305731294486232,0.9807190014899824,-1.0140748716230523,-1.5160479694028781,0.08365899582671213,-0.9794348438041677,0.08039100336480866,-0.38620152988385487,0.7203864725872914,-0.3627743143627477,0.6906005220034608,-0.27652058601410145,0.28831869941097654,1.4438561407269055,1.0020674345178482,1.3657923506545961,0.8917550027505843,-0.5873052322447015,1.4394241421913423,-1.1823295994022869,0.48004408303977236,-0.9954568496222879,-0.4491627396631762,0.23781870826368207,0.39794648816463896,-1.0462274230665645,-1.0219333474135248,0.6382625121026199,0.7391063858417758,-0.006065534822558962,0.18884574548061528,0.582880659111706,-0.5323462342888212,0.9402583707995257,1.7994968197538437,-1.5804326583155233,-0.5498576008022996,-0.41586487996867555,-2.594438473380876,-0.20792628568089838,-0.05371153893023452,1.111311390110987,1.043087154127094,0.35648676024702847,0.7406413495945469,-1.7174901393497024,-0.5055206163892351,0.12444380491205628,0.2635168161584073,1.797430855129327,0.14163338680020648,2.195246757411419,1.3348708114974404,2.299036977743916,-1.5774051814618686,1.7117732762461901,0.37674565026187756,-0.6997844473879765,-1.0219500087855766,-2.631738198091557,-0.38120837544237773,0.4153454326347774,-1.1057341522928317,-1.749561587292299,1.1692578741087636,-0.4665158273933133,-1.3155212639292173,0.7521474301263578,-0.42079778332228823,0.31097180594294915,0.7091466990379948,0.825962573058696,0.3846841820235162,1.3271700873958,0.8989715838374636,2.138446326737935,0.8207061142504928,0.4817470479831832,2.046769364082126,1.013220469300983,1.4307884583515513,0.24665790517738484,-0.09142765416388775,-0.8978835841127965,2.1272319654519163,-0.24151888455402062,-0.5932587701094062,-1.6478458884228309,-0.25457893943964405,1.5913614923566013,-1.1452402381900029,0.43397472460552017,0.29789344556192504,1.665719652232908,0.7618902735558941,0.6687839547142187,-1.2400301056762388,1.9432788477844014,-0.3634019171329619,-0.28964201627915565],\"type\":\"scatter\"},{\"line\":{\"color\":\"rgba(50, 171, 96, 1.0)\",\"dash\":\"solid\",\"shape\":\"linear\",\"width\":1.3},\"mode\":\"lines\",\"name\":\"C\",\"text\":\"\",\"x\":[0,1,2,3,4,5,6,7,8,9,10,11,12,13,14,15,16,17,18,19,20,21,22,23,24,25,26,27,28,29,30,31,32,33,34,35,36,37,38,39,40,41,42,43,44,45,46,47,48,49,50,51,52,53,54,55,56,57,58,59,60,61,62,63,64,65,66,67,68,69,70,71,72,73,74,75,76,77,78,79,80,81,82,83,84,85,86,87,88,89,90,91,92,93,94,95,96,97,98,99],\"y\":[-0.4035301924,-1.6115860040301881,2.63945593136704,-1.5374839951136252,-1.2546012462110507,-1.1478278861644489,-0.22344713607849873,0.5012049872176282,-1.2865158584850092,1.9966649713354254,1.0614357923896944,0.029051133995821998,0.5741341579600965,1.0121114494433188,-1.276322302266929,0.3369758870931138,0.3912593775087565,-1.3517841319669084,1.5172818388815197,-0.6440166550733297,-0.3296765211299378,-1.1772530587445735,-0.6075223902280605,-0.9843634880970925,0.8440972379163757,0.3373307357476102,1.4974507063604852,-0.2924614819388411,-1.1540542805212934,0.7080419216884527,0.9896711825862118,1.3915773511841565,0.48800016708057137,-0.6816629799471235,3.6906470186359766,-0.9729424696404596,0.3694023839341636,-1.9814389066380493,1.1832447199312832,0.2528153750253914,-0.1943675304647376,-2.041265638824802,-0.976403640219806,-0.9805421520471272,0.6226144108094213,-1.4037058892112146,-1.462855221354042,-1.1339692853238932,-1.3281294843803555,-0.5072142772940965,-0.3829634858842726,0.396831281688865,-0.7402213896535239,1.7916923395407218,-0.12332017792413869,-0.5751212006787343,0.1557171376469303,-1.4085456017217224,-0.9398489612284758,-0.5664768192331817,-0.7021956724900761,-0.34226261467506475,0.6382338806480061,0.40638787214901806,0.770317953302265,-1.1402947326629862,-0.10404369355686148,-0.24087188871662418,0.24013156988503864,-1.124958800682844,0.49397502804491733,-1.7416465240211423,-0.24835776441600488,-0.7767255508915297,1.4311788662680227,-0.8779758030452509,-1.1782098939586012,-0.29495897761025025,-0.02906120291342997,-0.9269912028980818,2.1133715450615043,1.5134655662634757,1.9173411041804995,-2.953633013125038,-0.6274523412193578,-0.13284118020160382,-1.3416402082908638,0.5105507549206211,-0.6000431906610564,-0.982412433565821,0.29710728428260513,0.35971185983495624,2.683313221272684,0.1819196613306115,-1.2062436686268865,-0.6917132729114516,0.45350056303868724,1.2385571276215268,1.510493943135955,-0.10002727631138691],\"type\":\"scatter\"},{\"line\":{\"color\":\"rgba(128, 0, 128, 1.0)\",\"dash\":\"solid\",\"shape\":\"linear\",\"width\":1.3},\"mode\":\"lines\",\"name\":\"D\",\"text\":\"\",\"x\":[0,1,2,3,4,5,6,7,8,9,10,11,12,13,14,15,16,17,18,19,20,21,22,23,24,25,26,27,28,29,30,31,32,33,34,35,36,37,38,39,40,41,42,43,44,45,46,47,48,49,50,51,52,53,54,55,56,57,58,59,60,61,62,63,64,65,66,67,68,69,70,71,72,73,74,75,76,77,78,79,80,81,82,83,84,85,86,87,88,89,90,91,92,93,94,95,96,97,98,99],\"y\":[-0.17944125256573867,0.2954550026102315,0.8295327554843667,-0.09650700161090092,-0.09342781232579536,-0.30032766969785857,-0.2748027549319671,0.11616669471986152,-0.19126602055433553,1.0023550720871446,0.9822367624881188,1.7170154044961143,-2.2243956239383316,1.1474683748014989,-0.2474131491143195,-0.09108246576146586,-0.31301992780391524,1.0751754919333834,-0.5341796867143148,0.9267183635118273,0.9240873386491374,-0.12852958241859497,0.5557212190612986,1.4693971099645429,1.4824921671579085,-0.7149387327321645,-1.07110559511885,-0.4870817370270348,-0.5190349323577252,1.1975564098754115,0.4327325868655046,-0.4024875799842912,-0.19617068589293388,1.1954916894899468,-0.20343284928335367,-1.937931449693175,0.857790457328531,-0.08399090124024515,-0.04677209432273538,1.6958009985383622,0.39870368934923106,2.04013968157642,-1.1937869356030246,0.8053739045174904,-1.1091139351283579,-0.3058909964352519,2.4202442471856016,-1.393206144544414,1.8161343865870752,-1.6946494545813768,-0.15519971129471366,-0.4789915926665577,-1.1528321690188423,0.7716397578502623,1.553040607057728,0.14090580264915656,-0.9030555859668093,-1.2584687865204276,-0.01643851885561289,0.23708453208375252,-2.1695680905439665,0.3789354689395262,0.9279923481390357,-0.17015388869641665,1.0447416789832396,-0.6523888906952022,1.4531540564058119,0.48317324830428854,0.7846129443340959,0.29570263617838416,-1.4186653925597024,-0.7923388495577489,-0.531088689765993,-0.02754672744255599,-0.8199278760531039,-1.3680696820312197,0.8942837002485874,-0.6090454677613588,-1.683713409831505,-0.4038546901781923,-1.7983798616269113,1.5511005341501645,0.5628033921903397,0.05099382830891123,1.1541177566072083,-0.3195013703053062,0.7527127178945748,0.43391918921727285,0.9588473110445781,0.9450450726397501,-0.5290483332066993,-1.4239066577673982,0.6558761617436887,-0.0877481573205621,1.0005951564688398,-0.6584730132628027,1.8860735715741814,0.5703339010296119,0.506497865412588,-0.3528068968712007],\"type\":\"scatter\"}],                        {\"legend\":{\"bgcolor\":\"#F5F6F9\",\"font\":{\"color\":\"#4D5663\"}},\"paper_bgcolor\":\"#F5F6F9\",\"plot_bgcolor\":\"#F5F6F9\",\"template\":{\"data\":{\"barpolar\":[{\"marker\":{\"line\":{\"color\":\"#E5ECF6\",\"width\":0.5},\"pattern\":{\"fillmode\":\"overlay\",\"size\":10,\"solidity\":0.2}},\"type\":\"barpolar\"}],\"bar\":[{\"error_x\":{\"color\":\"#2a3f5f\"},\"error_y\":{\"color\":\"#2a3f5f\"},\"marker\":{\"line\":{\"color\":\"#E5ECF6\",\"width\":0.5},\"pattern\":{\"fillmode\":\"overlay\",\"size\":10,\"solidity\":0.2}},\"type\":\"bar\"}],\"carpet\":[{\"aaxis\":{\"endlinecolor\":\"#2a3f5f\",\"gridcolor\":\"white\",\"linecolor\":\"white\",\"minorgridcolor\":\"white\",\"startlinecolor\":\"#2a3f5f\"},\"baxis\":{\"endlinecolor\":\"#2a3f5f\",\"gridcolor\":\"white\",\"linecolor\":\"white\",\"minorgridcolor\":\"white\",\"startlinecolor\":\"#2a3f5f\"},\"type\":\"carpet\"}],\"choropleth\":[{\"colorbar\":{\"outlinewidth\":0,\"ticks\":\"\"},\"type\":\"choropleth\"}],\"contourcarpet\":[{\"colorbar\":{\"outlinewidth\":0,\"ticks\":\"\"},\"type\":\"contourcarpet\"}],\"contour\":[{\"colorbar\":{\"outlinewidth\":0,\"ticks\":\"\"},\"colorscale\":[[0.0,\"#0d0887\"],[0.1111111111111111,\"#46039f\"],[0.2222222222222222,\"#7201a8\"],[0.3333333333333333,\"#9c179e\"],[0.4444444444444444,\"#bd3786\"],[0.5555555555555556,\"#d8576b\"],[0.6666666666666666,\"#ed7953\"],[0.7777777777777778,\"#fb9f3a\"],[0.8888888888888888,\"#fdca26\"],[1.0,\"#f0f921\"]],\"type\":\"contour\"}],\"heatmapgl\":[{\"colorbar\":{\"outlinewidth\":0,\"ticks\":\"\"},\"colorscale\":[[0.0,\"#0d0887\"],[0.1111111111111111,\"#46039f\"],[0.2222222222222222,\"#7201a8\"],[0.3333333333333333,\"#9c179e\"],[0.4444444444444444,\"#bd3786\"],[0.5555555555555556,\"#d8576b\"],[0.6666666666666666,\"#ed7953\"],[0.7777777777777778,\"#fb9f3a\"],[0.8888888888888888,\"#fdca26\"],[1.0,\"#f0f921\"]],\"type\":\"heatmapgl\"}],\"heatmap\":[{\"colorbar\":{\"outlinewidth\":0,\"ticks\":\"\"},\"colorscale\":[[0.0,\"#0d0887\"],[0.1111111111111111,\"#46039f\"],[0.2222222222222222,\"#7201a8\"],[0.3333333333333333,\"#9c179e\"],[0.4444444444444444,\"#bd3786\"],[0.5555555555555556,\"#d8576b\"],[0.6666666666666666,\"#ed7953\"],[0.7777777777777778,\"#fb9f3a\"],[0.8888888888888888,\"#fdca26\"],[1.0,\"#f0f921\"]],\"type\":\"heatmap\"}],\"histogram2dcontour\":[{\"colorbar\":{\"outlinewidth\":0,\"ticks\":\"\"},\"colorscale\":[[0.0,\"#0d0887\"],[0.1111111111111111,\"#46039f\"],[0.2222222222222222,\"#7201a8\"],[0.3333333333333333,\"#9c179e\"],[0.4444444444444444,\"#bd3786\"],[0.5555555555555556,\"#d8576b\"],[0.6666666666666666,\"#ed7953\"],[0.7777777777777778,\"#fb9f3a\"],[0.8888888888888888,\"#fdca26\"],[1.0,\"#f0f921\"]],\"type\":\"histogram2dcontour\"}],\"histogram2d\":[{\"colorbar\":{\"outlinewidth\":0,\"ticks\":\"\"},\"colorscale\":[[0.0,\"#0d0887\"],[0.1111111111111111,\"#46039f\"],[0.2222222222222222,\"#7201a8\"],[0.3333333333333333,\"#9c179e\"],[0.4444444444444444,\"#bd3786\"],[0.5555555555555556,\"#d8576b\"],[0.6666666666666666,\"#ed7953\"],[0.7777777777777778,\"#fb9f3a\"],[0.8888888888888888,\"#fdca26\"],[1.0,\"#f0f921\"]],\"type\":\"histogram2d\"}],\"histogram\":[{\"marker\":{\"pattern\":{\"fillmode\":\"overlay\",\"size\":10,\"solidity\":0.2}},\"type\":\"histogram\"}],\"mesh3d\":[{\"colorbar\":{\"outlinewidth\":0,\"ticks\":\"\"},\"type\":\"mesh3d\"}],\"parcoords\":[{\"line\":{\"colorbar\":{\"outlinewidth\":0,\"ticks\":\"\"}},\"type\":\"parcoords\"}],\"pie\":[{\"automargin\":true,\"type\":\"pie\"}],\"scatter3d\":[{\"line\":{\"colorbar\":{\"outlinewidth\":0,\"ticks\":\"\"}},\"marker\":{\"colorbar\":{\"outlinewidth\":0,\"ticks\":\"\"}},\"type\":\"scatter3d\"}],\"scattercarpet\":[{\"marker\":{\"colorbar\":{\"outlinewidth\":0,\"ticks\":\"\"}},\"type\":\"scattercarpet\"}],\"scattergeo\":[{\"marker\":{\"colorbar\":{\"outlinewidth\":0,\"ticks\":\"\"}},\"type\":\"scattergeo\"}],\"scattergl\":[{\"marker\":{\"colorbar\":{\"outlinewidth\":0,\"ticks\":\"\"}},\"type\":\"scattergl\"}],\"scattermapbox\":[{\"marker\":{\"colorbar\":{\"outlinewidth\":0,\"ticks\":\"\"}},\"type\":\"scattermapbox\"}],\"scatterpolargl\":[{\"marker\":{\"colorbar\":{\"outlinewidth\":0,\"ticks\":\"\"}},\"type\":\"scatterpolargl\"}],\"scatterpolar\":[{\"marker\":{\"colorbar\":{\"outlinewidth\":0,\"ticks\":\"\"}},\"type\":\"scatterpolar\"}],\"scatter\":[{\"fillpattern\":{\"fillmode\":\"overlay\",\"size\":10,\"solidity\":0.2},\"type\":\"scatter\"}],\"scatterternary\":[{\"marker\":{\"colorbar\":{\"outlinewidth\":0,\"ticks\":\"\"}},\"type\":\"scatterternary\"}],\"surface\":[{\"colorbar\":{\"outlinewidth\":0,\"ticks\":\"\"},\"colorscale\":[[0.0,\"#0d0887\"],[0.1111111111111111,\"#46039f\"],[0.2222222222222222,\"#7201a8\"],[0.3333333333333333,\"#9c179e\"],[0.4444444444444444,\"#bd3786\"],[0.5555555555555556,\"#d8576b\"],[0.6666666666666666,\"#ed7953\"],[0.7777777777777778,\"#fb9f3a\"],[0.8888888888888888,\"#fdca26\"],[1.0,\"#f0f921\"]],\"type\":\"surface\"}],\"table\":[{\"cells\":{\"fill\":{\"color\":\"#EBF0F8\"},\"line\":{\"color\":\"white\"}},\"header\":{\"fill\":{\"color\":\"#C8D4E3\"},\"line\":{\"color\":\"white\"}},\"type\":\"table\"}]},\"layout\":{\"annotationdefaults\":{\"arrowcolor\":\"#2a3f5f\",\"arrowhead\":0,\"arrowwidth\":1},\"autotypenumbers\":\"strict\",\"coloraxis\":{\"colorbar\":{\"outlinewidth\":0,\"ticks\":\"\"}},\"colorscale\":{\"diverging\":[[0,\"#8e0152\"],[0.1,\"#c51b7d\"],[0.2,\"#de77ae\"],[0.3,\"#f1b6da\"],[0.4,\"#fde0ef\"],[0.5,\"#f7f7f7\"],[0.6,\"#e6f5d0\"],[0.7,\"#b8e186\"],[0.8,\"#7fbc41\"],[0.9,\"#4d9221\"],[1,\"#276419\"]],\"sequential\":[[0.0,\"#0d0887\"],[0.1111111111111111,\"#46039f\"],[0.2222222222222222,\"#7201a8\"],[0.3333333333333333,\"#9c179e\"],[0.4444444444444444,\"#bd3786\"],[0.5555555555555556,\"#d8576b\"],[0.6666666666666666,\"#ed7953\"],[0.7777777777777778,\"#fb9f3a\"],[0.8888888888888888,\"#fdca26\"],[1.0,\"#f0f921\"]],\"sequentialminus\":[[0.0,\"#0d0887\"],[0.1111111111111111,\"#46039f\"],[0.2222222222222222,\"#7201a8\"],[0.3333333333333333,\"#9c179e\"],[0.4444444444444444,\"#bd3786\"],[0.5555555555555556,\"#d8576b\"],[0.6666666666666666,\"#ed7953\"],[0.7777777777777778,\"#fb9f3a\"],[0.8888888888888888,\"#fdca26\"],[1.0,\"#f0f921\"]]},\"colorway\":[\"#636efa\",\"#EF553B\",\"#00cc96\",\"#ab63fa\",\"#FFA15A\",\"#19d3f3\",\"#FF6692\",\"#B6E880\",\"#FF97FF\",\"#FECB52\"],\"font\":{\"color\":\"#2a3f5f\"},\"geo\":{\"bgcolor\":\"white\",\"lakecolor\":\"white\",\"landcolor\":\"#E5ECF6\",\"showlakes\":true,\"showland\":true,\"subunitcolor\":\"white\"},\"hoverlabel\":{\"align\":\"left\"},\"hovermode\":\"closest\",\"mapbox\":{\"style\":\"light\"},\"paper_bgcolor\":\"white\",\"plot_bgcolor\":\"#E5ECF6\",\"polar\":{\"angularaxis\":{\"gridcolor\":\"white\",\"linecolor\":\"white\",\"ticks\":\"\"},\"bgcolor\":\"#E5ECF6\",\"radialaxis\":{\"gridcolor\":\"white\",\"linecolor\":\"white\",\"ticks\":\"\"}},\"scene\":{\"xaxis\":{\"backgroundcolor\":\"#E5ECF6\",\"gridcolor\":\"white\",\"gridwidth\":2,\"linecolor\":\"white\",\"showbackground\":true,\"ticks\":\"\",\"zerolinecolor\":\"white\"},\"yaxis\":{\"backgroundcolor\":\"#E5ECF6\",\"gridcolor\":\"white\",\"gridwidth\":2,\"linecolor\":\"white\",\"showbackground\":true,\"ticks\":\"\",\"zerolinecolor\":\"white\"},\"zaxis\":{\"backgroundcolor\":\"#E5ECF6\",\"gridcolor\":\"white\",\"gridwidth\":2,\"linecolor\":\"white\",\"showbackground\":true,\"ticks\":\"\",\"zerolinecolor\":\"white\"}},\"shapedefaults\":{\"line\":{\"color\":\"#2a3f5f\"}},\"ternary\":{\"aaxis\":{\"gridcolor\":\"white\",\"linecolor\":\"white\",\"ticks\":\"\"},\"baxis\":{\"gridcolor\":\"white\",\"linecolor\":\"white\",\"ticks\":\"\"},\"bgcolor\":\"#E5ECF6\",\"caxis\":{\"gridcolor\":\"white\",\"linecolor\":\"white\",\"ticks\":\"\"}},\"title\":{\"x\":0.05},\"xaxis\":{\"automargin\":true,\"gridcolor\":\"white\",\"linecolor\":\"white\",\"ticks\":\"\",\"title\":{\"standoff\":15},\"zerolinecolor\":\"white\",\"zerolinewidth\":2},\"yaxis\":{\"automargin\":true,\"gridcolor\":\"white\",\"linecolor\":\"white\",\"ticks\":\"\",\"title\":{\"standoff\":15},\"zerolinecolor\":\"white\",\"zerolinewidth\":2}}},\"title\":{\"font\":{\"color\":\"#4D5663\"}},\"xaxis\":{\"gridcolor\":\"#E1E5ED\",\"showgrid\":true,\"tickfont\":{\"color\":\"#4D5663\"},\"title\":{\"font\":{\"color\":\"#4D5663\"},\"text\":\"\"},\"zerolinecolor\":\"#E1E5ED\"},\"yaxis\":{\"gridcolor\":\"#E1E5ED\",\"showgrid\":true,\"tickfont\":{\"color\":\"#4D5663\"},\"title\":{\"font\":{\"color\":\"#4D5663\"},\"text\":\"\"},\"zerolinecolor\":\"#E1E5ED\"}},                        {\"showLink\": true, \"linkText\": \"Export to plot.ly\", \"plotlyServerURL\": \"https://plot.ly\", \"responsive\": true}                    ).then(function(){\n",
       "                            \n",
       "var gd = document.getElementById('c8c57e53-127f-44d4-9146-e929213b724c');\n",
       "var x = new MutationObserver(function (mutations, observer) {{\n",
       "        var display = window.getComputedStyle(gd).display;\n",
       "        if (!display || display === 'none') {{\n",
       "            console.log([gd, 'removed!']);\n",
       "            Plotly.purge(gd);\n",
       "            observer.disconnect();\n",
       "        }}\n",
       "}});\n",
       "\n",
       "// Listen for the removal of the full notebook cells\n",
       "var notebookContainer = gd.closest('#notebook-container');\n",
       "if (notebookContainer) {{\n",
       "    x.observe(notebookContainer, {childList: true});\n",
       "}}\n",
       "\n",
       "// Listen for the clearing of the current output cell\n",
       "var outputEl = gd.closest('.output');\n",
       "if (outputEl) {{\n",
       "    x.observe(outputEl, {childList: true});\n",
       "}}\n",
       "\n",
       "                        })                };                });            </script>        </div>"
      ]
     },
     "metadata": {},
     "output_type": "display_data"
    }
   ],
   "source": [
    "df.iplot()"
   ]
  },
  {
   "cell_type": "markdown",
   "metadata": {},
   "source": [
    "## Using Cufflinks and iplot()\n",
    "\n",
    "* scatter\n",
    "* bar\n",
    "* box\n",
    "* spread\n",
    "* ratio\n",
    "* heatmap\n",
    "* surface\n",
    "* histogram\n",
    "* bubble"
   ]
  },
  {
   "cell_type": "markdown",
   "metadata": {},
   "source": [
    "## Scatter"
   ]
  },
  {
   "cell_type": "code",
   "execution_count": 34,
   "metadata": {},
   "outputs": [
    {
     "data": {
      "application/vnd.plotly.v1+json": {
       "config": {
        "linkText": "Export to plot.ly",
        "plotlyServerURL": "https://plot.ly",
        "showLink": true
       },
       "data": [
        {
         "line": {
          "color": "rgba(255, 153, 51, 1.0)",
          "dash": "solid",
          "shape": "linear",
          "width": 1.3
         },
         "marker": {
          "size": 12,
          "symbol": "circle"
         },
         "mode": "markers",
         "name": "B",
         "text": "",
         "type": "scatter",
         "x": [
          -0.4115038731053773,
          -0.49582647792730933,
          0.6715039515278375,
          -0.7228439533683615,
          -1.0163644309323503,
          -1.6771187460497037,
          0.1426942594043106,
          0.010733057367568256,
          -0.2757248886421378,
          0.43634248238396767,
          -0.31625760352765825,
          1.0788695418388297,
          -1.3650683550356226,
          3.3295296907918908,
          1.2448035616874729,
          3.567907542703827,
          -1.2585894835205205,
          -0.7578902845652957,
          0.961097206466587,
          -0.22999127206120065,
          0.6355315190013411,
          -0.36640556130886015,
          -0.2359925976152816,
          0.6673896386703786,
          1.1118429093534206,
          1.0437621305016933,
          2.139732992997837,
          -0.5236645252310186,
          1.139886268203172,
          -1.8176105247030476,
          1.9016562907969128,
          0.5611763439299505,
          1.1863070628387569,
          -0.7993614395088802,
          -0.9268837477538382,
          1.3729270460114111,
          -2.235935935570002,
          -0.2799295467449602,
          -0.43376234483213355,
          -0.5243245831093638,
          -0.38600115945410135,
          -1.3599235166505075,
          -0.32119363857062766,
          0.27802374924973083,
          -0.28865745131943243,
          -2.2447838364351265,
          0.41572772303099154,
          -0.6729677858079124,
          0.3365952342631071,
          -0.42526332525683985,
          0.0839719329428044,
          -0.42767437800103897,
          -1.0035137994991385,
          -2.166642613122833,
          0.46360762343438955,
          -0.23745818472369123,
          0.9098292268808831,
          0.2141601647321144,
          -0.15744101383067263,
          -1.467649085021929,
          0.6621485851703116,
          -0.8598313197446324,
          0.10187808206059304,
          0.2438722144197782,
          1.8871003222668867,
          -0.5959777327995854,
          -0.05383220104909009,
          1.9217840425297361,
          1.4672698064203502,
          0.3982542762139769,
          0.004494820302078757,
          -1.363266704463435,
          -0.3383320859684264,
          -1.9948896538406473,
          -0.41325343868616204,
          0.17825113054126104,
          0.6340245373609271,
          0.43859956361879593,
          -0.6578477062991168,
          0.38778746921351653,
          -0.594250066209521,
          -0.8491583522129205,
          0.2716301090805724,
          1.665090431012535,
          0.5914792364899399,
          -1.3333439007396537,
          -0.3480441111400766,
          1.5047931302741744,
          1.5972618958250668,
          1.7008755333460621,
          0.5150358045518847,
          -0.1976070256189633,
          -1.2680496771545622,
          -0.6871816841822501,
          0.36439994493622735,
          0.3427615210908248,
          -0.9201279626113359,
          0.4755993371367693,
          0.37629736026692095,
          -1.6674568683437216
         ],
         "y": [
          -1.4305731294486232,
          0.9807190014899824,
          -1.0140748716230523,
          -1.5160479694028781,
          0.08365899582671213,
          -0.9794348438041677,
          0.08039100336480866,
          -0.38620152988385487,
          0.7203864725872914,
          -0.3627743143627477,
          0.6906005220034608,
          -0.27652058601410145,
          0.28831869941097654,
          1.4438561407269055,
          1.0020674345178482,
          1.3657923506545961,
          0.8917550027505843,
          -0.5873052322447015,
          1.4394241421913423,
          -1.1823295994022869,
          0.48004408303977236,
          -0.9954568496222879,
          -0.4491627396631762,
          0.23781870826368207,
          0.39794648816463896,
          -1.0462274230665645,
          -1.0219333474135248,
          0.6382625121026199,
          0.7391063858417758,
          -0.006065534822558962,
          0.18884574548061528,
          0.582880659111706,
          -0.5323462342888212,
          0.9402583707995257,
          1.7994968197538437,
          -1.5804326583155233,
          -0.5498576008022996,
          -0.41586487996867555,
          -2.594438473380876,
          -0.20792628568089838,
          -0.05371153893023452,
          1.111311390110987,
          1.043087154127094,
          0.35648676024702847,
          0.7406413495945469,
          -1.7174901393497024,
          -0.5055206163892351,
          0.12444380491205628,
          0.2635168161584073,
          1.797430855129327,
          0.14163338680020648,
          2.195246757411419,
          1.3348708114974404,
          2.299036977743916,
          -1.5774051814618686,
          1.7117732762461901,
          0.37674565026187756,
          -0.6997844473879765,
          -1.0219500087855766,
          -2.631738198091557,
          -0.38120837544237773,
          0.4153454326347774,
          -1.1057341522928317,
          -1.749561587292299,
          1.1692578741087636,
          -0.4665158273933133,
          -1.3155212639292173,
          0.7521474301263578,
          -0.42079778332228823,
          0.31097180594294915,
          0.7091466990379948,
          0.825962573058696,
          0.3846841820235162,
          1.3271700873958,
          0.8989715838374636,
          2.138446326737935,
          0.8207061142504928,
          0.4817470479831832,
          2.046769364082126,
          1.013220469300983,
          1.4307884583515513,
          0.24665790517738484,
          -0.09142765416388775,
          -0.8978835841127965,
          2.1272319654519163,
          -0.24151888455402062,
          -0.5932587701094062,
          -1.6478458884228309,
          -0.25457893943964405,
          1.5913614923566013,
          -1.1452402381900029,
          0.43397472460552017,
          0.29789344556192504,
          1.665719652232908,
          0.7618902735558941,
          0.6687839547142187,
          -1.2400301056762388,
          1.9432788477844014,
          -0.3634019171329619,
          -0.28964201627915565
         ]
        }
       ],
       "layout": {
        "legend": {
         "bgcolor": "#F5F6F9",
         "font": {
          "color": "#4D5663"
         }
        },
        "paper_bgcolor": "#F5F6F9",
        "plot_bgcolor": "#F5F6F9",
        "template": {
         "data": {
          "bar": [
           {
            "error_x": {
             "color": "#2a3f5f"
            },
            "error_y": {
             "color": "#2a3f5f"
            },
            "marker": {
             "line": {
              "color": "#E5ECF6",
              "width": 0.5
             },
             "pattern": {
              "fillmode": "overlay",
              "size": 10,
              "solidity": 0.2
             }
            },
            "type": "bar"
           }
          ],
          "barpolar": [
           {
            "marker": {
             "line": {
              "color": "#E5ECF6",
              "width": 0.5
             },
             "pattern": {
              "fillmode": "overlay",
              "size": 10,
              "solidity": 0.2
             }
            },
            "type": "barpolar"
           }
          ],
          "carpet": [
           {
            "aaxis": {
             "endlinecolor": "#2a3f5f",
             "gridcolor": "white",
             "linecolor": "white",
             "minorgridcolor": "white",
             "startlinecolor": "#2a3f5f"
            },
            "baxis": {
             "endlinecolor": "#2a3f5f",
             "gridcolor": "white",
             "linecolor": "white",
             "minorgridcolor": "white",
             "startlinecolor": "#2a3f5f"
            },
            "type": "carpet"
           }
          ],
          "choropleth": [
           {
            "colorbar": {
             "outlinewidth": 0,
             "ticks": ""
            },
            "type": "choropleth"
           }
          ],
          "contour": [
           {
            "colorbar": {
             "outlinewidth": 0,
             "ticks": ""
            },
            "colorscale": [
             [
              0,
              "#0d0887"
             ],
             [
              0.1111111111111111,
              "#46039f"
             ],
             [
              0.2222222222222222,
              "#7201a8"
             ],
             [
              0.3333333333333333,
              "#9c179e"
             ],
             [
              0.4444444444444444,
              "#bd3786"
             ],
             [
              0.5555555555555556,
              "#d8576b"
             ],
             [
              0.6666666666666666,
              "#ed7953"
             ],
             [
              0.7777777777777778,
              "#fb9f3a"
             ],
             [
              0.8888888888888888,
              "#fdca26"
             ],
             [
              1,
              "#f0f921"
             ]
            ],
            "type": "contour"
           }
          ],
          "contourcarpet": [
           {
            "colorbar": {
             "outlinewidth": 0,
             "ticks": ""
            },
            "type": "contourcarpet"
           }
          ],
          "heatmap": [
           {
            "colorbar": {
             "outlinewidth": 0,
             "ticks": ""
            },
            "colorscale": [
             [
              0,
              "#0d0887"
             ],
             [
              0.1111111111111111,
              "#46039f"
             ],
             [
              0.2222222222222222,
              "#7201a8"
             ],
             [
              0.3333333333333333,
              "#9c179e"
             ],
             [
              0.4444444444444444,
              "#bd3786"
             ],
             [
              0.5555555555555556,
              "#d8576b"
             ],
             [
              0.6666666666666666,
              "#ed7953"
             ],
             [
              0.7777777777777778,
              "#fb9f3a"
             ],
             [
              0.8888888888888888,
              "#fdca26"
             ],
             [
              1,
              "#f0f921"
             ]
            ],
            "type": "heatmap"
           }
          ],
          "heatmapgl": [
           {
            "colorbar": {
             "outlinewidth": 0,
             "ticks": ""
            },
            "colorscale": [
             [
              0,
              "#0d0887"
             ],
             [
              0.1111111111111111,
              "#46039f"
             ],
             [
              0.2222222222222222,
              "#7201a8"
             ],
             [
              0.3333333333333333,
              "#9c179e"
             ],
             [
              0.4444444444444444,
              "#bd3786"
             ],
             [
              0.5555555555555556,
              "#d8576b"
             ],
             [
              0.6666666666666666,
              "#ed7953"
             ],
             [
              0.7777777777777778,
              "#fb9f3a"
             ],
             [
              0.8888888888888888,
              "#fdca26"
             ],
             [
              1,
              "#f0f921"
             ]
            ],
            "type": "heatmapgl"
           }
          ],
          "histogram": [
           {
            "marker": {
             "pattern": {
              "fillmode": "overlay",
              "size": 10,
              "solidity": 0.2
             }
            },
            "type": "histogram"
           }
          ],
          "histogram2d": [
           {
            "colorbar": {
             "outlinewidth": 0,
             "ticks": ""
            },
            "colorscale": [
             [
              0,
              "#0d0887"
             ],
             [
              0.1111111111111111,
              "#46039f"
             ],
             [
              0.2222222222222222,
              "#7201a8"
             ],
             [
              0.3333333333333333,
              "#9c179e"
             ],
             [
              0.4444444444444444,
              "#bd3786"
             ],
             [
              0.5555555555555556,
              "#d8576b"
             ],
             [
              0.6666666666666666,
              "#ed7953"
             ],
             [
              0.7777777777777778,
              "#fb9f3a"
             ],
             [
              0.8888888888888888,
              "#fdca26"
             ],
             [
              1,
              "#f0f921"
             ]
            ],
            "type": "histogram2d"
           }
          ],
          "histogram2dcontour": [
           {
            "colorbar": {
             "outlinewidth": 0,
             "ticks": ""
            },
            "colorscale": [
             [
              0,
              "#0d0887"
             ],
             [
              0.1111111111111111,
              "#46039f"
             ],
             [
              0.2222222222222222,
              "#7201a8"
             ],
             [
              0.3333333333333333,
              "#9c179e"
             ],
             [
              0.4444444444444444,
              "#bd3786"
             ],
             [
              0.5555555555555556,
              "#d8576b"
             ],
             [
              0.6666666666666666,
              "#ed7953"
             ],
             [
              0.7777777777777778,
              "#fb9f3a"
             ],
             [
              0.8888888888888888,
              "#fdca26"
             ],
             [
              1,
              "#f0f921"
             ]
            ],
            "type": "histogram2dcontour"
           }
          ],
          "mesh3d": [
           {
            "colorbar": {
             "outlinewidth": 0,
             "ticks": ""
            },
            "type": "mesh3d"
           }
          ],
          "parcoords": [
           {
            "line": {
             "colorbar": {
              "outlinewidth": 0,
              "ticks": ""
             }
            },
            "type": "parcoords"
           }
          ],
          "pie": [
           {
            "automargin": true,
            "type": "pie"
           }
          ],
          "scatter": [
           {
            "fillpattern": {
             "fillmode": "overlay",
             "size": 10,
             "solidity": 0.2
            },
            "type": "scatter"
           }
          ],
          "scatter3d": [
           {
            "line": {
             "colorbar": {
              "outlinewidth": 0,
              "ticks": ""
             }
            },
            "marker": {
             "colorbar": {
              "outlinewidth": 0,
              "ticks": ""
             }
            },
            "type": "scatter3d"
           }
          ],
          "scattercarpet": [
           {
            "marker": {
             "colorbar": {
              "outlinewidth": 0,
              "ticks": ""
             }
            },
            "type": "scattercarpet"
           }
          ],
          "scattergeo": [
           {
            "marker": {
             "colorbar": {
              "outlinewidth": 0,
              "ticks": ""
             }
            },
            "type": "scattergeo"
           }
          ],
          "scattergl": [
           {
            "marker": {
             "colorbar": {
              "outlinewidth": 0,
              "ticks": ""
             }
            },
            "type": "scattergl"
           }
          ],
          "scattermapbox": [
           {
            "marker": {
             "colorbar": {
              "outlinewidth": 0,
              "ticks": ""
             }
            },
            "type": "scattermapbox"
           }
          ],
          "scatterpolar": [
           {
            "marker": {
             "colorbar": {
              "outlinewidth": 0,
              "ticks": ""
             }
            },
            "type": "scatterpolar"
           }
          ],
          "scatterpolargl": [
           {
            "marker": {
             "colorbar": {
              "outlinewidth": 0,
              "ticks": ""
             }
            },
            "type": "scatterpolargl"
           }
          ],
          "scatterternary": [
           {
            "marker": {
             "colorbar": {
              "outlinewidth": 0,
              "ticks": ""
             }
            },
            "type": "scatterternary"
           }
          ],
          "surface": [
           {
            "colorbar": {
             "outlinewidth": 0,
             "ticks": ""
            },
            "colorscale": [
             [
              0,
              "#0d0887"
             ],
             [
              0.1111111111111111,
              "#46039f"
             ],
             [
              0.2222222222222222,
              "#7201a8"
             ],
             [
              0.3333333333333333,
              "#9c179e"
             ],
             [
              0.4444444444444444,
              "#bd3786"
             ],
             [
              0.5555555555555556,
              "#d8576b"
             ],
             [
              0.6666666666666666,
              "#ed7953"
             ],
             [
              0.7777777777777778,
              "#fb9f3a"
             ],
             [
              0.8888888888888888,
              "#fdca26"
             ],
             [
              1,
              "#f0f921"
             ]
            ],
            "type": "surface"
           }
          ],
          "table": [
           {
            "cells": {
             "fill": {
              "color": "#EBF0F8"
             },
             "line": {
              "color": "white"
             }
            },
            "header": {
             "fill": {
              "color": "#C8D4E3"
             },
             "line": {
              "color": "white"
             }
            },
            "type": "table"
           }
          ]
         },
         "layout": {
          "annotationdefaults": {
           "arrowcolor": "#2a3f5f",
           "arrowhead": 0,
           "arrowwidth": 1
          },
          "autotypenumbers": "strict",
          "coloraxis": {
           "colorbar": {
            "outlinewidth": 0,
            "ticks": ""
           }
          },
          "colorscale": {
           "diverging": [
            [
             0,
             "#8e0152"
            ],
            [
             0.1,
             "#c51b7d"
            ],
            [
             0.2,
             "#de77ae"
            ],
            [
             0.3,
             "#f1b6da"
            ],
            [
             0.4,
             "#fde0ef"
            ],
            [
             0.5,
             "#f7f7f7"
            ],
            [
             0.6,
             "#e6f5d0"
            ],
            [
             0.7,
             "#b8e186"
            ],
            [
             0.8,
             "#7fbc41"
            ],
            [
             0.9,
             "#4d9221"
            ],
            [
             1,
             "#276419"
            ]
           ],
           "sequential": [
            [
             0,
             "#0d0887"
            ],
            [
             0.1111111111111111,
             "#46039f"
            ],
            [
             0.2222222222222222,
             "#7201a8"
            ],
            [
             0.3333333333333333,
             "#9c179e"
            ],
            [
             0.4444444444444444,
             "#bd3786"
            ],
            [
             0.5555555555555556,
             "#d8576b"
            ],
            [
             0.6666666666666666,
             "#ed7953"
            ],
            [
             0.7777777777777778,
             "#fb9f3a"
            ],
            [
             0.8888888888888888,
             "#fdca26"
            ],
            [
             1,
             "#f0f921"
            ]
           ],
           "sequentialminus": [
            [
             0,
             "#0d0887"
            ],
            [
             0.1111111111111111,
             "#46039f"
            ],
            [
             0.2222222222222222,
             "#7201a8"
            ],
            [
             0.3333333333333333,
             "#9c179e"
            ],
            [
             0.4444444444444444,
             "#bd3786"
            ],
            [
             0.5555555555555556,
             "#d8576b"
            ],
            [
             0.6666666666666666,
             "#ed7953"
            ],
            [
             0.7777777777777778,
             "#fb9f3a"
            ],
            [
             0.8888888888888888,
             "#fdca26"
            ],
            [
             1,
             "#f0f921"
            ]
           ]
          },
          "colorway": [
           "#636efa",
           "#EF553B",
           "#00cc96",
           "#ab63fa",
           "#FFA15A",
           "#19d3f3",
           "#FF6692",
           "#B6E880",
           "#FF97FF",
           "#FECB52"
          ],
          "font": {
           "color": "#2a3f5f"
          },
          "geo": {
           "bgcolor": "white",
           "lakecolor": "white",
           "landcolor": "#E5ECF6",
           "showlakes": true,
           "showland": true,
           "subunitcolor": "white"
          },
          "hoverlabel": {
           "align": "left"
          },
          "hovermode": "closest",
          "mapbox": {
           "style": "light"
          },
          "paper_bgcolor": "white",
          "plot_bgcolor": "#E5ECF6",
          "polar": {
           "angularaxis": {
            "gridcolor": "white",
            "linecolor": "white",
            "ticks": ""
           },
           "bgcolor": "#E5ECF6",
           "radialaxis": {
            "gridcolor": "white",
            "linecolor": "white",
            "ticks": ""
           }
          },
          "scene": {
           "xaxis": {
            "backgroundcolor": "#E5ECF6",
            "gridcolor": "white",
            "gridwidth": 2,
            "linecolor": "white",
            "showbackground": true,
            "ticks": "",
            "zerolinecolor": "white"
           },
           "yaxis": {
            "backgroundcolor": "#E5ECF6",
            "gridcolor": "white",
            "gridwidth": 2,
            "linecolor": "white",
            "showbackground": true,
            "ticks": "",
            "zerolinecolor": "white"
           },
           "zaxis": {
            "backgroundcolor": "#E5ECF6",
            "gridcolor": "white",
            "gridwidth": 2,
            "linecolor": "white",
            "showbackground": true,
            "ticks": "",
            "zerolinecolor": "white"
           }
          },
          "shapedefaults": {
           "line": {
            "color": "#2a3f5f"
           }
          },
          "ternary": {
           "aaxis": {
            "gridcolor": "white",
            "linecolor": "white",
            "ticks": ""
           },
           "baxis": {
            "gridcolor": "white",
            "linecolor": "white",
            "ticks": ""
           },
           "bgcolor": "#E5ECF6",
           "caxis": {
            "gridcolor": "white",
            "linecolor": "white",
            "ticks": ""
           }
          },
          "title": {
           "x": 0.05
          },
          "xaxis": {
           "automargin": true,
           "gridcolor": "white",
           "linecolor": "white",
           "ticks": "",
           "title": {
            "standoff": 15
           },
           "zerolinecolor": "white",
           "zerolinewidth": 2
          },
          "yaxis": {
           "automargin": true,
           "gridcolor": "white",
           "linecolor": "white",
           "ticks": "",
           "title": {
            "standoff": 15
           },
           "zerolinecolor": "white",
           "zerolinewidth": 2
          }
         }
        },
        "title": {
         "font": {
          "color": "#4D5663"
         }
        },
        "xaxis": {
         "gridcolor": "#E1E5ED",
         "showgrid": true,
         "tickfont": {
          "color": "#4D5663"
         },
         "title": {
          "font": {
           "color": "#4D5663"
          },
          "text": ""
         },
         "zerolinecolor": "#E1E5ED"
        },
        "yaxis": {
         "gridcolor": "#E1E5ED",
         "showgrid": true,
         "tickfont": {
          "color": "#4D5663"
         },
         "title": {
          "font": {
           "color": "#4D5663"
          },
          "text": ""
         },
         "zerolinecolor": "#E1E5ED"
        }
       }
      },
      "text/html": [
       "<div>                            <div id=\"4767cb82-7aa9-4172-ab17-d97d281ee807\" class=\"plotly-graph-div\" style=\"height:525px; width:100%;\"></div>            <script type=\"text/javascript\">                require([\"plotly\"], function(Plotly) {                    window.PLOTLYENV=window.PLOTLYENV || {};\n",
       "                    window.PLOTLYENV.BASE_URL='https://plot.ly';                                    if (document.getElementById(\"4767cb82-7aa9-4172-ab17-d97d281ee807\")) {                    Plotly.newPlot(                        \"4767cb82-7aa9-4172-ab17-d97d281ee807\",                        [{\"line\":{\"color\":\"rgba(255, 153, 51, 1.0)\",\"dash\":\"solid\",\"shape\":\"linear\",\"width\":1.3},\"marker\":{\"size\":12,\"symbol\":\"circle\"},\"mode\":\"markers\",\"name\":\"B\",\"text\":\"\",\"x\":[-0.4115038731053773,-0.49582647792730933,0.6715039515278375,-0.7228439533683615,-1.0163644309323503,-1.6771187460497037,0.1426942594043106,0.010733057367568256,-0.2757248886421378,0.43634248238396767,-0.31625760352765825,1.0788695418388297,-1.3650683550356226,3.3295296907918908,1.2448035616874729,3.567907542703827,-1.2585894835205205,-0.7578902845652957,0.961097206466587,-0.22999127206120065,0.6355315190013411,-0.36640556130886015,-0.2359925976152816,0.6673896386703786,1.1118429093534206,1.0437621305016933,2.139732992997837,-0.5236645252310186,1.139886268203172,-1.8176105247030476,1.9016562907969128,0.5611763439299505,1.1863070628387569,-0.7993614395088802,-0.9268837477538382,1.3729270460114111,-2.235935935570002,-0.2799295467449602,-0.43376234483213355,-0.5243245831093638,-0.38600115945410135,-1.3599235166505075,-0.32119363857062766,0.27802374924973083,-0.28865745131943243,-2.2447838364351265,0.41572772303099154,-0.6729677858079124,0.3365952342631071,-0.42526332525683985,0.0839719329428044,-0.42767437800103897,-1.0035137994991385,-2.166642613122833,0.46360762343438955,-0.23745818472369123,0.9098292268808831,0.2141601647321144,-0.15744101383067263,-1.467649085021929,0.6621485851703116,-0.8598313197446324,0.10187808206059304,0.2438722144197782,1.8871003222668867,-0.5959777327995854,-0.05383220104909009,1.9217840425297361,1.4672698064203502,0.3982542762139769,0.004494820302078757,-1.363266704463435,-0.3383320859684264,-1.9948896538406473,-0.41325343868616204,0.17825113054126104,0.6340245373609271,0.43859956361879593,-0.6578477062991168,0.38778746921351653,-0.594250066209521,-0.8491583522129205,0.2716301090805724,1.665090431012535,0.5914792364899399,-1.3333439007396537,-0.3480441111400766,1.5047931302741744,1.5972618958250668,1.7008755333460621,0.5150358045518847,-0.1976070256189633,-1.2680496771545622,-0.6871816841822501,0.36439994493622735,0.3427615210908248,-0.9201279626113359,0.4755993371367693,0.37629736026692095,-1.6674568683437216],\"y\":[-1.4305731294486232,0.9807190014899824,-1.0140748716230523,-1.5160479694028781,0.08365899582671213,-0.9794348438041677,0.08039100336480866,-0.38620152988385487,0.7203864725872914,-0.3627743143627477,0.6906005220034608,-0.27652058601410145,0.28831869941097654,1.4438561407269055,1.0020674345178482,1.3657923506545961,0.8917550027505843,-0.5873052322447015,1.4394241421913423,-1.1823295994022869,0.48004408303977236,-0.9954568496222879,-0.4491627396631762,0.23781870826368207,0.39794648816463896,-1.0462274230665645,-1.0219333474135248,0.6382625121026199,0.7391063858417758,-0.006065534822558962,0.18884574548061528,0.582880659111706,-0.5323462342888212,0.9402583707995257,1.7994968197538437,-1.5804326583155233,-0.5498576008022996,-0.41586487996867555,-2.594438473380876,-0.20792628568089838,-0.05371153893023452,1.111311390110987,1.043087154127094,0.35648676024702847,0.7406413495945469,-1.7174901393497024,-0.5055206163892351,0.12444380491205628,0.2635168161584073,1.797430855129327,0.14163338680020648,2.195246757411419,1.3348708114974404,2.299036977743916,-1.5774051814618686,1.7117732762461901,0.37674565026187756,-0.6997844473879765,-1.0219500087855766,-2.631738198091557,-0.38120837544237773,0.4153454326347774,-1.1057341522928317,-1.749561587292299,1.1692578741087636,-0.4665158273933133,-1.3155212639292173,0.7521474301263578,-0.42079778332228823,0.31097180594294915,0.7091466990379948,0.825962573058696,0.3846841820235162,1.3271700873958,0.8989715838374636,2.138446326737935,0.8207061142504928,0.4817470479831832,2.046769364082126,1.013220469300983,1.4307884583515513,0.24665790517738484,-0.09142765416388775,-0.8978835841127965,2.1272319654519163,-0.24151888455402062,-0.5932587701094062,-1.6478458884228309,-0.25457893943964405,1.5913614923566013,-1.1452402381900029,0.43397472460552017,0.29789344556192504,1.665719652232908,0.7618902735558941,0.6687839547142187,-1.2400301056762388,1.9432788477844014,-0.3634019171329619,-0.28964201627915565],\"type\":\"scatter\"}],                        {\"legend\":{\"bgcolor\":\"#F5F6F9\",\"font\":{\"color\":\"#4D5663\"}},\"paper_bgcolor\":\"#F5F6F9\",\"plot_bgcolor\":\"#F5F6F9\",\"template\":{\"data\":{\"barpolar\":[{\"marker\":{\"line\":{\"color\":\"#E5ECF6\",\"width\":0.5},\"pattern\":{\"fillmode\":\"overlay\",\"size\":10,\"solidity\":0.2}},\"type\":\"barpolar\"}],\"bar\":[{\"error_x\":{\"color\":\"#2a3f5f\"},\"error_y\":{\"color\":\"#2a3f5f\"},\"marker\":{\"line\":{\"color\":\"#E5ECF6\",\"width\":0.5},\"pattern\":{\"fillmode\":\"overlay\",\"size\":10,\"solidity\":0.2}},\"type\":\"bar\"}],\"carpet\":[{\"aaxis\":{\"endlinecolor\":\"#2a3f5f\",\"gridcolor\":\"white\",\"linecolor\":\"white\",\"minorgridcolor\":\"white\",\"startlinecolor\":\"#2a3f5f\"},\"baxis\":{\"endlinecolor\":\"#2a3f5f\",\"gridcolor\":\"white\",\"linecolor\":\"white\",\"minorgridcolor\":\"white\",\"startlinecolor\":\"#2a3f5f\"},\"type\":\"carpet\"}],\"choropleth\":[{\"colorbar\":{\"outlinewidth\":0,\"ticks\":\"\"},\"type\":\"choropleth\"}],\"contourcarpet\":[{\"colorbar\":{\"outlinewidth\":0,\"ticks\":\"\"},\"type\":\"contourcarpet\"}],\"contour\":[{\"colorbar\":{\"outlinewidth\":0,\"ticks\":\"\"},\"colorscale\":[[0.0,\"#0d0887\"],[0.1111111111111111,\"#46039f\"],[0.2222222222222222,\"#7201a8\"],[0.3333333333333333,\"#9c179e\"],[0.4444444444444444,\"#bd3786\"],[0.5555555555555556,\"#d8576b\"],[0.6666666666666666,\"#ed7953\"],[0.7777777777777778,\"#fb9f3a\"],[0.8888888888888888,\"#fdca26\"],[1.0,\"#f0f921\"]],\"type\":\"contour\"}],\"heatmapgl\":[{\"colorbar\":{\"outlinewidth\":0,\"ticks\":\"\"},\"colorscale\":[[0.0,\"#0d0887\"],[0.1111111111111111,\"#46039f\"],[0.2222222222222222,\"#7201a8\"],[0.3333333333333333,\"#9c179e\"],[0.4444444444444444,\"#bd3786\"],[0.5555555555555556,\"#d8576b\"],[0.6666666666666666,\"#ed7953\"],[0.7777777777777778,\"#fb9f3a\"],[0.8888888888888888,\"#fdca26\"],[1.0,\"#f0f921\"]],\"type\":\"heatmapgl\"}],\"heatmap\":[{\"colorbar\":{\"outlinewidth\":0,\"ticks\":\"\"},\"colorscale\":[[0.0,\"#0d0887\"],[0.1111111111111111,\"#46039f\"],[0.2222222222222222,\"#7201a8\"],[0.3333333333333333,\"#9c179e\"],[0.4444444444444444,\"#bd3786\"],[0.5555555555555556,\"#d8576b\"],[0.6666666666666666,\"#ed7953\"],[0.7777777777777778,\"#fb9f3a\"],[0.8888888888888888,\"#fdca26\"],[1.0,\"#f0f921\"]],\"type\":\"heatmap\"}],\"histogram2dcontour\":[{\"colorbar\":{\"outlinewidth\":0,\"ticks\":\"\"},\"colorscale\":[[0.0,\"#0d0887\"],[0.1111111111111111,\"#46039f\"],[0.2222222222222222,\"#7201a8\"],[0.3333333333333333,\"#9c179e\"],[0.4444444444444444,\"#bd3786\"],[0.5555555555555556,\"#d8576b\"],[0.6666666666666666,\"#ed7953\"],[0.7777777777777778,\"#fb9f3a\"],[0.8888888888888888,\"#fdca26\"],[1.0,\"#f0f921\"]],\"type\":\"histogram2dcontour\"}],\"histogram2d\":[{\"colorbar\":{\"outlinewidth\":0,\"ticks\":\"\"},\"colorscale\":[[0.0,\"#0d0887\"],[0.1111111111111111,\"#46039f\"],[0.2222222222222222,\"#7201a8\"],[0.3333333333333333,\"#9c179e\"],[0.4444444444444444,\"#bd3786\"],[0.5555555555555556,\"#d8576b\"],[0.6666666666666666,\"#ed7953\"],[0.7777777777777778,\"#fb9f3a\"],[0.8888888888888888,\"#fdca26\"],[1.0,\"#f0f921\"]],\"type\":\"histogram2d\"}],\"histogram\":[{\"marker\":{\"pattern\":{\"fillmode\":\"overlay\",\"size\":10,\"solidity\":0.2}},\"type\":\"histogram\"}],\"mesh3d\":[{\"colorbar\":{\"outlinewidth\":0,\"ticks\":\"\"},\"type\":\"mesh3d\"}],\"parcoords\":[{\"line\":{\"colorbar\":{\"outlinewidth\":0,\"ticks\":\"\"}},\"type\":\"parcoords\"}],\"pie\":[{\"automargin\":true,\"type\":\"pie\"}],\"scatter3d\":[{\"line\":{\"colorbar\":{\"outlinewidth\":0,\"ticks\":\"\"}},\"marker\":{\"colorbar\":{\"outlinewidth\":0,\"ticks\":\"\"}},\"type\":\"scatter3d\"}],\"scattercarpet\":[{\"marker\":{\"colorbar\":{\"outlinewidth\":0,\"ticks\":\"\"}},\"type\":\"scattercarpet\"}],\"scattergeo\":[{\"marker\":{\"colorbar\":{\"outlinewidth\":0,\"ticks\":\"\"}},\"type\":\"scattergeo\"}],\"scattergl\":[{\"marker\":{\"colorbar\":{\"outlinewidth\":0,\"ticks\":\"\"}},\"type\":\"scattergl\"}],\"scattermapbox\":[{\"marker\":{\"colorbar\":{\"outlinewidth\":0,\"ticks\":\"\"}},\"type\":\"scattermapbox\"}],\"scatterpolargl\":[{\"marker\":{\"colorbar\":{\"outlinewidth\":0,\"ticks\":\"\"}},\"type\":\"scatterpolargl\"}],\"scatterpolar\":[{\"marker\":{\"colorbar\":{\"outlinewidth\":0,\"ticks\":\"\"}},\"type\":\"scatterpolar\"}],\"scatter\":[{\"fillpattern\":{\"fillmode\":\"overlay\",\"size\":10,\"solidity\":0.2},\"type\":\"scatter\"}],\"scatterternary\":[{\"marker\":{\"colorbar\":{\"outlinewidth\":0,\"ticks\":\"\"}},\"type\":\"scatterternary\"}],\"surface\":[{\"colorbar\":{\"outlinewidth\":0,\"ticks\":\"\"},\"colorscale\":[[0.0,\"#0d0887\"],[0.1111111111111111,\"#46039f\"],[0.2222222222222222,\"#7201a8\"],[0.3333333333333333,\"#9c179e\"],[0.4444444444444444,\"#bd3786\"],[0.5555555555555556,\"#d8576b\"],[0.6666666666666666,\"#ed7953\"],[0.7777777777777778,\"#fb9f3a\"],[0.8888888888888888,\"#fdca26\"],[1.0,\"#f0f921\"]],\"type\":\"surface\"}],\"table\":[{\"cells\":{\"fill\":{\"color\":\"#EBF0F8\"},\"line\":{\"color\":\"white\"}},\"header\":{\"fill\":{\"color\":\"#C8D4E3\"},\"line\":{\"color\":\"white\"}},\"type\":\"table\"}]},\"layout\":{\"annotationdefaults\":{\"arrowcolor\":\"#2a3f5f\",\"arrowhead\":0,\"arrowwidth\":1},\"autotypenumbers\":\"strict\",\"coloraxis\":{\"colorbar\":{\"outlinewidth\":0,\"ticks\":\"\"}},\"colorscale\":{\"diverging\":[[0,\"#8e0152\"],[0.1,\"#c51b7d\"],[0.2,\"#de77ae\"],[0.3,\"#f1b6da\"],[0.4,\"#fde0ef\"],[0.5,\"#f7f7f7\"],[0.6,\"#e6f5d0\"],[0.7,\"#b8e186\"],[0.8,\"#7fbc41\"],[0.9,\"#4d9221\"],[1,\"#276419\"]],\"sequential\":[[0.0,\"#0d0887\"],[0.1111111111111111,\"#46039f\"],[0.2222222222222222,\"#7201a8\"],[0.3333333333333333,\"#9c179e\"],[0.4444444444444444,\"#bd3786\"],[0.5555555555555556,\"#d8576b\"],[0.6666666666666666,\"#ed7953\"],[0.7777777777777778,\"#fb9f3a\"],[0.8888888888888888,\"#fdca26\"],[1.0,\"#f0f921\"]],\"sequentialminus\":[[0.0,\"#0d0887\"],[0.1111111111111111,\"#46039f\"],[0.2222222222222222,\"#7201a8\"],[0.3333333333333333,\"#9c179e\"],[0.4444444444444444,\"#bd3786\"],[0.5555555555555556,\"#d8576b\"],[0.6666666666666666,\"#ed7953\"],[0.7777777777777778,\"#fb9f3a\"],[0.8888888888888888,\"#fdca26\"],[1.0,\"#f0f921\"]]},\"colorway\":[\"#636efa\",\"#EF553B\",\"#00cc96\",\"#ab63fa\",\"#FFA15A\",\"#19d3f3\",\"#FF6692\",\"#B6E880\",\"#FF97FF\",\"#FECB52\"],\"font\":{\"color\":\"#2a3f5f\"},\"geo\":{\"bgcolor\":\"white\",\"lakecolor\":\"white\",\"landcolor\":\"#E5ECF6\",\"showlakes\":true,\"showland\":true,\"subunitcolor\":\"white\"},\"hoverlabel\":{\"align\":\"left\"},\"hovermode\":\"closest\",\"mapbox\":{\"style\":\"light\"},\"paper_bgcolor\":\"white\",\"plot_bgcolor\":\"#E5ECF6\",\"polar\":{\"angularaxis\":{\"gridcolor\":\"white\",\"linecolor\":\"white\",\"ticks\":\"\"},\"bgcolor\":\"#E5ECF6\",\"radialaxis\":{\"gridcolor\":\"white\",\"linecolor\":\"white\",\"ticks\":\"\"}},\"scene\":{\"xaxis\":{\"backgroundcolor\":\"#E5ECF6\",\"gridcolor\":\"white\",\"gridwidth\":2,\"linecolor\":\"white\",\"showbackground\":true,\"ticks\":\"\",\"zerolinecolor\":\"white\"},\"yaxis\":{\"backgroundcolor\":\"#E5ECF6\",\"gridcolor\":\"white\",\"gridwidth\":2,\"linecolor\":\"white\",\"showbackground\":true,\"ticks\":\"\",\"zerolinecolor\":\"white\"},\"zaxis\":{\"backgroundcolor\":\"#E5ECF6\",\"gridcolor\":\"white\",\"gridwidth\":2,\"linecolor\":\"white\",\"showbackground\":true,\"ticks\":\"\",\"zerolinecolor\":\"white\"}},\"shapedefaults\":{\"line\":{\"color\":\"#2a3f5f\"}},\"ternary\":{\"aaxis\":{\"gridcolor\":\"white\",\"linecolor\":\"white\",\"ticks\":\"\"},\"baxis\":{\"gridcolor\":\"white\",\"linecolor\":\"white\",\"ticks\":\"\"},\"bgcolor\":\"#E5ECF6\",\"caxis\":{\"gridcolor\":\"white\",\"linecolor\":\"white\",\"ticks\":\"\"}},\"title\":{\"x\":0.05},\"xaxis\":{\"automargin\":true,\"gridcolor\":\"white\",\"linecolor\":\"white\",\"ticks\":\"\",\"title\":{\"standoff\":15},\"zerolinecolor\":\"white\",\"zerolinewidth\":2},\"yaxis\":{\"automargin\":true,\"gridcolor\":\"white\",\"linecolor\":\"white\",\"ticks\":\"\",\"title\":{\"standoff\":15},\"zerolinecolor\":\"white\",\"zerolinewidth\":2}}},\"title\":{\"font\":{\"color\":\"#4D5663\"}},\"xaxis\":{\"gridcolor\":\"#E1E5ED\",\"showgrid\":true,\"tickfont\":{\"color\":\"#4D5663\"},\"title\":{\"font\":{\"color\":\"#4D5663\"},\"text\":\"\"},\"zerolinecolor\":\"#E1E5ED\"},\"yaxis\":{\"gridcolor\":\"#E1E5ED\",\"showgrid\":true,\"tickfont\":{\"color\":\"#4D5663\"},\"title\":{\"font\":{\"color\":\"#4D5663\"},\"text\":\"\"},\"zerolinecolor\":\"#E1E5ED\"}},                        {\"showLink\": true, \"linkText\": \"Export to plot.ly\", \"plotlyServerURL\": \"https://plot.ly\", \"responsive\": true}                    ).then(function(){\n",
       "                            \n",
       "var gd = document.getElementById('4767cb82-7aa9-4172-ab17-d97d281ee807');\n",
       "var x = new MutationObserver(function (mutations, observer) {{\n",
       "        var display = window.getComputedStyle(gd).display;\n",
       "        if (!display || display === 'none') {{\n",
       "            console.log([gd, 'removed!']);\n",
       "            Plotly.purge(gd);\n",
       "            observer.disconnect();\n",
       "        }}\n",
       "}});\n",
       "\n",
       "// Listen for the removal of the full notebook cells\n",
       "var notebookContainer = gd.closest('#notebook-container');\n",
       "if (notebookContainer) {{\n",
       "    x.observe(notebookContainer, {childList: true});\n",
       "}}\n",
       "\n",
       "// Listen for the clearing of the current output cell\n",
       "var outputEl = gd.closest('.output');\n",
       "if (outputEl) {{\n",
       "    x.observe(outputEl, {childList: true});\n",
       "}}\n",
       "\n",
       "                        })                };                });            </script>        </div>"
      ]
     },
     "metadata": {},
     "output_type": "display_data"
    }
   ],
   "source": [
    "df.iplot(kind='scatter',x='A',y='B',mode='markers')"
   ]
  },
  {
   "cell_type": "code",
   "execution_count": 35,
   "metadata": {},
   "outputs": [
    {
     "data": {
      "application/vnd.plotly.v1+json": {
       "config": {
        "linkText": "Export to plot.ly",
        "plotlyServerURL": "https://plot.ly",
        "showLink": true
       },
       "data": [
        {
         "line": {
          "color": "rgba(255, 153, 51, 1.0)",
          "dash": "solid",
          "shape": "linear",
          "width": 1.3
         },
         "marker": {
          "size": 20,
          "symbol": "circle"
         },
         "mode": "markers",
         "name": "B",
         "text": "",
         "type": "scatter",
         "x": [
          -0.4115038731053773,
          -0.49582647792730933,
          0.6715039515278375,
          -0.7228439533683615,
          -1.0163644309323503,
          -1.6771187460497037,
          0.1426942594043106,
          0.010733057367568256,
          -0.2757248886421378,
          0.43634248238396767,
          -0.31625760352765825,
          1.0788695418388297,
          -1.3650683550356226,
          3.3295296907918908,
          1.2448035616874729,
          3.567907542703827,
          -1.2585894835205205,
          -0.7578902845652957,
          0.961097206466587,
          -0.22999127206120065,
          0.6355315190013411,
          -0.36640556130886015,
          -0.2359925976152816,
          0.6673896386703786,
          1.1118429093534206,
          1.0437621305016933,
          2.139732992997837,
          -0.5236645252310186,
          1.139886268203172,
          -1.8176105247030476,
          1.9016562907969128,
          0.5611763439299505,
          1.1863070628387569,
          -0.7993614395088802,
          -0.9268837477538382,
          1.3729270460114111,
          -2.235935935570002,
          -0.2799295467449602,
          -0.43376234483213355,
          -0.5243245831093638,
          -0.38600115945410135,
          -1.3599235166505075,
          -0.32119363857062766,
          0.27802374924973083,
          -0.28865745131943243,
          -2.2447838364351265,
          0.41572772303099154,
          -0.6729677858079124,
          0.3365952342631071,
          -0.42526332525683985,
          0.0839719329428044,
          -0.42767437800103897,
          -1.0035137994991385,
          -2.166642613122833,
          0.46360762343438955,
          -0.23745818472369123,
          0.9098292268808831,
          0.2141601647321144,
          -0.15744101383067263,
          -1.467649085021929,
          0.6621485851703116,
          -0.8598313197446324,
          0.10187808206059304,
          0.2438722144197782,
          1.8871003222668867,
          -0.5959777327995854,
          -0.05383220104909009,
          1.9217840425297361,
          1.4672698064203502,
          0.3982542762139769,
          0.004494820302078757,
          -1.363266704463435,
          -0.3383320859684264,
          -1.9948896538406473,
          -0.41325343868616204,
          0.17825113054126104,
          0.6340245373609271,
          0.43859956361879593,
          -0.6578477062991168,
          0.38778746921351653,
          -0.594250066209521,
          -0.8491583522129205,
          0.2716301090805724,
          1.665090431012535,
          0.5914792364899399,
          -1.3333439007396537,
          -0.3480441111400766,
          1.5047931302741744,
          1.5972618958250668,
          1.7008755333460621,
          0.5150358045518847,
          -0.1976070256189633,
          -1.2680496771545622,
          -0.6871816841822501,
          0.36439994493622735,
          0.3427615210908248,
          -0.9201279626113359,
          0.4755993371367693,
          0.37629736026692095,
          -1.6674568683437216
         ],
         "y": [
          -1.4305731294486232,
          0.9807190014899824,
          -1.0140748716230523,
          -1.5160479694028781,
          0.08365899582671213,
          -0.9794348438041677,
          0.08039100336480866,
          -0.38620152988385487,
          0.7203864725872914,
          -0.3627743143627477,
          0.6906005220034608,
          -0.27652058601410145,
          0.28831869941097654,
          1.4438561407269055,
          1.0020674345178482,
          1.3657923506545961,
          0.8917550027505843,
          -0.5873052322447015,
          1.4394241421913423,
          -1.1823295994022869,
          0.48004408303977236,
          -0.9954568496222879,
          -0.4491627396631762,
          0.23781870826368207,
          0.39794648816463896,
          -1.0462274230665645,
          -1.0219333474135248,
          0.6382625121026199,
          0.7391063858417758,
          -0.006065534822558962,
          0.18884574548061528,
          0.582880659111706,
          -0.5323462342888212,
          0.9402583707995257,
          1.7994968197538437,
          -1.5804326583155233,
          -0.5498576008022996,
          -0.41586487996867555,
          -2.594438473380876,
          -0.20792628568089838,
          -0.05371153893023452,
          1.111311390110987,
          1.043087154127094,
          0.35648676024702847,
          0.7406413495945469,
          -1.7174901393497024,
          -0.5055206163892351,
          0.12444380491205628,
          0.2635168161584073,
          1.797430855129327,
          0.14163338680020648,
          2.195246757411419,
          1.3348708114974404,
          2.299036977743916,
          -1.5774051814618686,
          1.7117732762461901,
          0.37674565026187756,
          -0.6997844473879765,
          -1.0219500087855766,
          -2.631738198091557,
          -0.38120837544237773,
          0.4153454326347774,
          -1.1057341522928317,
          -1.749561587292299,
          1.1692578741087636,
          -0.4665158273933133,
          -1.3155212639292173,
          0.7521474301263578,
          -0.42079778332228823,
          0.31097180594294915,
          0.7091466990379948,
          0.825962573058696,
          0.3846841820235162,
          1.3271700873958,
          0.8989715838374636,
          2.138446326737935,
          0.8207061142504928,
          0.4817470479831832,
          2.046769364082126,
          1.013220469300983,
          1.4307884583515513,
          0.24665790517738484,
          -0.09142765416388775,
          -0.8978835841127965,
          2.1272319654519163,
          -0.24151888455402062,
          -0.5932587701094062,
          -1.6478458884228309,
          -0.25457893943964405,
          1.5913614923566013,
          -1.1452402381900029,
          0.43397472460552017,
          0.29789344556192504,
          1.665719652232908,
          0.7618902735558941,
          0.6687839547142187,
          -1.2400301056762388,
          1.9432788477844014,
          -0.3634019171329619,
          -0.28964201627915565
         ]
        }
       ],
       "layout": {
        "legend": {
         "bgcolor": "#F5F6F9",
         "font": {
          "color": "#4D5663"
         }
        },
        "paper_bgcolor": "#F5F6F9",
        "plot_bgcolor": "#F5F6F9",
        "template": {
         "data": {
          "bar": [
           {
            "error_x": {
             "color": "#2a3f5f"
            },
            "error_y": {
             "color": "#2a3f5f"
            },
            "marker": {
             "line": {
              "color": "#E5ECF6",
              "width": 0.5
             },
             "pattern": {
              "fillmode": "overlay",
              "size": 10,
              "solidity": 0.2
             }
            },
            "type": "bar"
           }
          ],
          "barpolar": [
           {
            "marker": {
             "line": {
              "color": "#E5ECF6",
              "width": 0.5
             },
             "pattern": {
              "fillmode": "overlay",
              "size": 10,
              "solidity": 0.2
             }
            },
            "type": "barpolar"
           }
          ],
          "carpet": [
           {
            "aaxis": {
             "endlinecolor": "#2a3f5f",
             "gridcolor": "white",
             "linecolor": "white",
             "minorgridcolor": "white",
             "startlinecolor": "#2a3f5f"
            },
            "baxis": {
             "endlinecolor": "#2a3f5f",
             "gridcolor": "white",
             "linecolor": "white",
             "minorgridcolor": "white",
             "startlinecolor": "#2a3f5f"
            },
            "type": "carpet"
           }
          ],
          "choropleth": [
           {
            "colorbar": {
             "outlinewidth": 0,
             "ticks": ""
            },
            "type": "choropleth"
           }
          ],
          "contour": [
           {
            "colorbar": {
             "outlinewidth": 0,
             "ticks": ""
            },
            "colorscale": [
             [
              0,
              "#0d0887"
             ],
             [
              0.1111111111111111,
              "#46039f"
             ],
             [
              0.2222222222222222,
              "#7201a8"
             ],
             [
              0.3333333333333333,
              "#9c179e"
             ],
             [
              0.4444444444444444,
              "#bd3786"
             ],
             [
              0.5555555555555556,
              "#d8576b"
             ],
             [
              0.6666666666666666,
              "#ed7953"
             ],
             [
              0.7777777777777778,
              "#fb9f3a"
             ],
             [
              0.8888888888888888,
              "#fdca26"
             ],
             [
              1,
              "#f0f921"
             ]
            ],
            "type": "contour"
           }
          ],
          "contourcarpet": [
           {
            "colorbar": {
             "outlinewidth": 0,
             "ticks": ""
            },
            "type": "contourcarpet"
           }
          ],
          "heatmap": [
           {
            "colorbar": {
             "outlinewidth": 0,
             "ticks": ""
            },
            "colorscale": [
             [
              0,
              "#0d0887"
             ],
             [
              0.1111111111111111,
              "#46039f"
             ],
             [
              0.2222222222222222,
              "#7201a8"
             ],
             [
              0.3333333333333333,
              "#9c179e"
             ],
             [
              0.4444444444444444,
              "#bd3786"
             ],
             [
              0.5555555555555556,
              "#d8576b"
             ],
             [
              0.6666666666666666,
              "#ed7953"
             ],
             [
              0.7777777777777778,
              "#fb9f3a"
             ],
             [
              0.8888888888888888,
              "#fdca26"
             ],
             [
              1,
              "#f0f921"
             ]
            ],
            "type": "heatmap"
           }
          ],
          "heatmapgl": [
           {
            "colorbar": {
             "outlinewidth": 0,
             "ticks": ""
            },
            "colorscale": [
             [
              0,
              "#0d0887"
             ],
             [
              0.1111111111111111,
              "#46039f"
             ],
             [
              0.2222222222222222,
              "#7201a8"
             ],
             [
              0.3333333333333333,
              "#9c179e"
             ],
             [
              0.4444444444444444,
              "#bd3786"
             ],
             [
              0.5555555555555556,
              "#d8576b"
             ],
             [
              0.6666666666666666,
              "#ed7953"
             ],
             [
              0.7777777777777778,
              "#fb9f3a"
             ],
             [
              0.8888888888888888,
              "#fdca26"
             ],
             [
              1,
              "#f0f921"
             ]
            ],
            "type": "heatmapgl"
           }
          ],
          "histogram": [
           {
            "marker": {
             "pattern": {
              "fillmode": "overlay",
              "size": 10,
              "solidity": 0.2
             }
            },
            "type": "histogram"
           }
          ],
          "histogram2d": [
           {
            "colorbar": {
             "outlinewidth": 0,
             "ticks": ""
            },
            "colorscale": [
             [
              0,
              "#0d0887"
             ],
             [
              0.1111111111111111,
              "#46039f"
             ],
             [
              0.2222222222222222,
              "#7201a8"
             ],
             [
              0.3333333333333333,
              "#9c179e"
             ],
             [
              0.4444444444444444,
              "#bd3786"
             ],
             [
              0.5555555555555556,
              "#d8576b"
             ],
             [
              0.6666666666666666,
              "#ed7953"
             ],
             [
              0.7777777777777778,
              "#fb9f3a"
             ],
             [
              0.8888888888888888,
              "#fdca26"
             ],
             [
              1,
              "#f0f921"
             ]
            ],
            "type": "histogram2d"
           }
          ],
          "histogram2dcontour": [
           {
            "colorbar": {
             "outlinewidth": 0,
             "ticks": ""
            },
            "colorscale": [
             [
              0,
              "#0d0887"
             ],
             [
              0.1111111111111111,
              "#46039f"
             ],
             [
              0.2222222222222222,
              "#7201a8"
             ],
             [
              0.3333333333333333,
              "#9c179e"
             ],
             [
              0.4444444444444444,
              "#bd3786"
             ],
             [
              0.5555555555555556,
              "#d8576b"
             ],
             [
              0.6666666666666666,
              "#ed7953"
             ],
             [
              0.7777777777777778,
              "#fb9f3a"
             ],
             [
              0.8888888888888888,
              "#fdca26"
             ],
             [
              1,
              "#f0f921"
             ]
            ],
            "type": "histogram2dcontour"
           }
          ],
          "mesh3d": [
           {
            "colorbar": {
             "outlinewidth": 0,
             "ticks": ""
            },
            "type": "mesh3d"
           }
          ],
          "parcoords": [
           {
            "line": {
             "colorbar": {
              "outlinewidth": 0,
              "ticks": ""
             }
            },
            "type": "parcoords"
           }
          ],
          "pie": [
           {
            "automargin": true,
            "type": "pie"
           }
          ],
          "scatter": [
           {
            "fillpattern": {
             "fillmode": "overlay",
             "size": 10,
             "solidity": 0.2
            },
            "type": "scatter"
           }
          ],
          "scatter3d": [
           {
            "line": {
             "colorbar": {
              "outlinewidth": 0,
              "ticks": ""
             }
            },
            "marker": {
             "colorbar": {
              "outlinewidth": 0,
              "ticks": ""
             }
            },
            "type": "scatter3d"
           }
          ],
          "scattercarpet": [
           {
            "marker": {
             "colorbar": {
              "outlinewidth": 0,
              "ticks": ""
             }
            },
            "type": "scattercarpet"
           }
          ],
          "scattergeo": [
           {
            "marker": {
             "colorbar": {
              "outlinewidth": 0,
              "ticks": ""
             }
            },
            "type": "scattergeo"
           }
          ],
          "scattergl": [
           {
            "marker": {
             "colorbar": {
              "outlinewidth": 0,
              "ticks": ""
             }
            },
            "type": "scattergl"
           }
          ],
          "scattermapbox": [
           {
            "marker": {
             "colorbar": {
              "outlinewidth": 0,
              "ticks": ""
             }
            },
            "type": "scattermapbox"
           }
          ],
          "scatterpolar": [
           {
            "marker": {
             "colorbar": {
              "outlinewidth": 0,
              "ticks": ""
             }
            },
            "type": "scatterpolar"
           }
          ],
          "scatterpolargl": [
           {
            "marker": {
             "colorbar": {
              "outlinewidth": 0,
              "ticks": ""
             }
            },
            "type": "scatterpolargl"
           }
          ],
          "scatterternary": [
           {
            "marker": {
             "colorbar": {
              "outlinewidth": 0,
              "ticks": ""
             }
            },
            "type": "scatterternary"
           }
          ],
          "surface": [
           {
            "colorbar": {
             "outlinewidth": 0,
             "ticks": ""
            },
            "colorscale": [
             [
              0,
              "#0d0887"
             ],
             [
              0.1111111111111111,
              "#46039f"
             ],
             [
              0.2222222222222222,
              "#7201a8"
             ],
             [
              0.3333333333333333,
              "#9c179e"
             ],
             [
              0.4444444444444444,
              "#bd3786"
             ],
             [
              0.5555555555555556,
              "#d8576b"
             ],
             [
              0.6666666666666666,
              "#ed7953"
             ],
             [
              0.7777777777777778,
              "#fb9f3a"
             ],
             [
              0.8888888888888888,
              "#fdca26"
             ],
             [
              1,
              "#f0f921"
             ]
            ],
            "type": "surface"
           }
          ],
          "table": [
           {
            "cells": {
             "fill": {
              "color": "#EBF0F8"
             },
             "line": {
              "color": "white"
             }
            },
            "header": {
             "fill": {
              "color": "#C8D4E3"
             },
             "line": {
              "color": "white"
             }
            },
            "type": "table"
           }
          ]
         },
         "layout": {
          "annotationdefaults": {
           "arrowcolor": "#2a3f5f",
           "arrowhead": 0,
           "arrowwidth": 1
          },
          "autotypenumbers": "strict",
          "coloraxis": {
           "colorbar": {
            "outlinewidth": 0,
            "ticks": ""
           }
          },
          "colorscale": {
           "diverging": [
            [
             0,
             "#8e0152"
            ],
            [
             0.1,
             "#c51b7d"
            ],
            [
             0.2,
             "#de77ae"
            ],
            [
             0.3,
             "#f1b6da"
            ],
            [
             0.4,
             "#fde0ef"
            ],
            [
             0.5,
             "#f7f7f7"
            ],
            [
             0.6,
             "#e6f5d0"
            ],
            [
             0.7,
             "#b8e186"
            ],
            [
             0.8,
             "#7fbc41"
            ],
            [
             0.9,
             "#4d9221"
            ],
            [
             1,
             "#276419"
            ]
           ],
           "sequential": [
            [
             0,
             "#0d0887"
            ],
            [
             0.1111111111111111,
             "#46039f"
            ],
            [
             0.2222222222222222,
             "#7201a8"
            ],
            [
             0.3333333333333333,
             "#9c179e"
            ],
            [
             0.4444444444444444,
             "#bd3786"
            ],
            [
             0.5555555555555556,
             "#d8576b"
            ],
            [
             0.6666666666666666,
             "#ed7953"
            ],
            [
             0.7777777777777778,
             "#fb9f3a"
            ],
            [
             0.8888888888888888,
             "#fdca26"
            ],
            [
             1,
             "#f0f921"
            ]
           ],
           "sequentialminus": [
            [
             0,
             "#0d0887"
            ],
            [
             0.1111111111111111,
             "#46039f"
            ],
            [
             0.2222222222222222,
             "#7201a8"
            ],
            [
             0.3333333333333333,
             "#9c179e"
            ],
            [
             0.4444444444444444,
             "#bd3786"
            ],
            [
             0.5555555555555556,
             "#d8576b"
            ],
            [
             0.6666666666666666,
             "#ed7953"
            ],
            [
             0.7777777777777778,
             "#fb9f3a"
            ],
            [
             0.8888888888888888,
             "#fdca26"
            ],
            [
             1,
             "#f0f921"
            ]
           ]
          },
          "colorway": [
           "#636efa",
           "#EF553B",
           "#00cc96",
           "#ab63fa",
           "#FFA15A",
           "#19d3f3",
           "#FF6692",
           "#B6E880",
           "#FF97FF",
           "#FECB52"
          ],
          "font": {
           "color": "#2a3f5f"
          },
          "geo": {
           "bgcolor": "white",
           "lakecolor": "white",
           "landcolor": "#E5ECF6",
           "showlakes": true,
           "showland": true,
           "subunitcolor": "white"
          },
          "hoverlabel": {
           "align": "left"
          },
          "hovermode": "closest",
          "mapbox": {
           "style": "light"
          },
          "paper_bgcolor": "white",
          "plot_bgcolor": "#E5ECF6",
          "polar": {
           "angularaxis": {
            "gridcolor": "white",
            "linecolor": "white",
            "ticks": ""
           },
           "bgcolor": "#E5ECF6",
           "radialaxis": {
            "gridcolor": "white",
            "linecolor": "white",
            "ticks": ""
           }
          },
          "scene": {
           "xaxis": {
            "backgroundcolor": "#E5ECF6",
            "gridcolor": "white",
            "gridwidth": 2,
            "linecolor": "white",
            "showbackground": true,
            "ticks": "",
            "zerolinecolor": "white"
           },
           "yaxis": {
            "backgroundcolor": "#E5ECF6",
            "gridcolor": "white",
            "gridwidth": 2,
            "linecolor": "white",
            "showbackground": true,
            "ticks": "",
            "zerolinecolor": "white"
           },
           "zaxis": {
            "backgroundcolor": "#E5ECF6",
            "gridcolor": "white",
            "gridwidth": 2,
            "linecolor": "white",
            "showbackground": true,
            "ticks": "",
            "zerolinecolor": "white"
           }
          },
          "shapedefaults": {
           "line": {
            "color": "#2a3f5f"
           }
          },
          "ternary": {
           "aaxis": {
            "gridcolor": "white",
            "linecolor": "white",
            "ticks": ""
           },
           "baxis": {
            "gridcolor": "white",
            "linecolor": "white",
            "ticks": ""
           },
           "bgcolor": "#E5ECF6",
           "caxis": {
            "gridcolor": "white",
            "linecolor": "white",
            "ticks": ""
           }
          },
          "title": {
           "x": 0.05
          },
          "xaxis": {
           "automargin": true,
           "gridcolor": "white",
           "linecolor": "white",
           "ticks": "",
           "title": {
            "standoff": 15
           },
           "zerolinecolor": "white",
           "zerolinewidth": 2
          },
          "yaxis": {
           "automargin": true,
           "gridcolor": "white",
           "linecolor": "white",
           "ticks": "",
           "title": {
            "standoff": 15
           },
           "zerolinecolor": "white",
           "zerolinewidth": 2
          }
         }
        },
        "title": {
         "font": {
          "color": "#4D5663"
         }
        },
        "xaxis": {
         "gridcolor": "#E1E5ED",
         "showgrid": true,
         "tickfont": {
          "color": "#4D5663"
         },
         "title": {
          "font": {
           "color": "#4D5663"
          },
          "text": ""
         },
         "zerolinecolor": "#E1E5ED"
        },
        "yaxis": {
         "gridcolor": "#E1E5ED",
         "showgrid": true,
         "tickfont": {
          "color": "#4D5663"
         },
         "title": {
          "font": {
           "color": "#4D5663"
          },
          "text": ""
         },
         "zerolinecolor": "#E1E5ED"
        }
       }
      },
      "text/html": [
       "<div>                            <div id=\"b8b3c039-7f4d-4ac0-ba75-cbec0a256cb9\" class=\"plotly-graph-div\" style=\"height:525px; width:100%;\"></div>            <script type=\"text/javascript\">                require([\"plotly\"], function(Plotly) {                    window.PLOTLYENV=window.PLOTLYENV || {};\n",
       "                    window.PLOTLYENV.BASE_URL='https://plot.ly';                                    if (document.getElementById(\"b8b3c039-7f4d-4ac0-ba75-cbec0a256cb9\")) {                    Plotly.newPlot(                        \"b8b3c039-7f4d-4ac0-ba75-cbec0a256cb9\",                        [{\"line\":{\"color\":\"rgba(255, 153, 51, 1.0)\",\"dash\":\"solid\",\"shape\":\"linear\",\"width\":1.3},\"marker\":{\"size\":20,\"symbol\":\"circle\"},\"mode\":\"markers\",\"name\":\"B\",\"text\":\"\",\"x\":[-0.4115038731053773,-0.49582647792730933,0.6715039515278375,-0.7228439533683615,-1.0163644309323503,-1.6771187460497037,0.1426942594043106,0.010733057367568256,-0.2757248886421378,0.43634248238396767,-0.31625760352765825,1.0788695418388297,-1.3650683550356226,3.3295296907918908,1.2448035616874729,3.567907542703827,-1.2585894835205205,-0.7578902845652957,0.961097206466587,-0.22999127206120065,0.6355315190013411,-0.36640556130886015,-0.2359925976152816,0.6673896386703786,1.1118429093534206,1.0437621305016933,2.139732992997837,-0.5236645252310186,1.139886268203172,-1.8176105247030476,1.9016562907969128,0.5611763439299505,1.1863070628387569,-0.7993614395088802,-0.9268837477538382,1.3729270460114111,-2.235935935570002,-0.2799295467449602,-0.43376234483213355,-0.5243245831093638,-0.38600115945410135,-1.3599235166505075,-0.32119363857062766,0.27802374924973083,-0.28865745131943243,-2.2447838364351265,0.41572772303099154,-0.6729677858079124,0.3365952342631071,-0.42526332525683985,0.0839719329428044,-0.42767437800103897,-1.0035137994991385,-2.166642613122833,0.46360762343438955,-0.23745818472369123,0.9098292268808831,0.2141601647321144,-0.15744101383067263,-1.467649085021929,0.6621485851703116,-0.8598313197446324,0.10187808206059304,0.2438722144197782,1.8871003222668867,-0.5959777327995854,-0.05383220104909009,1.9217840425297361,1.4672698064203502,0.3982542762139769,0.004494820302078757,-1.363266704463435,-0.3383320859684264,-1.9948896538406473,-0.41325343868616204,0.17825113054126104,0.6340245373609271,0.43859956361879593,-0.6578477062991168,0.38778746921351653,-0.594250066209521,-0.8491583522129205,0.2716301090805724,1.665090431012535,0.5914792364899399,-1.3333439007396537,-0.3480441111400766,1.5047931302741744,1.5972618958250668,1.7008755333460621,0.5150358045518847,-0.1976070256189633,-1.2680496771545622,-0.6871816841822501,0.36439994493622735,0.3427615210908248,-0.9201279626113359,0.4755993371367693,0.37629736026692095,-1.6674568683437216],\"y\":[-1.4305731294486232,0.9807190014899824,-1.0140748716230523,-1.5160479694028781,0.08365899582671213,-0.9794348438041677,0.08039100336480866,-0.38620152988385487,0.7203864725872914,-0.3627743143627477,0.6906005220034608,-0.27652058601410145,0.28831869941097654,1.4438561407269055,1.0020674345178482,1.3657923506545961,0.8917550027505843,-0.5873052322447015,1.4394241421913423,-1.1823295994022869,0.48004408303977236,-0.9954568496222879,-0.4491627396631762,0.23781870826368207,0.39794648816463896,-1.0462274230665645,-1.0219333474135248,0.6382625121026199,0.7391063858417758,-0.006065534822558962,0.18884574548061528,0.582880659111706,-0.5323462342888212,0.9402583707995257,1.7994968197538437,-1.5804326583155233,-0.5498576008022996,-0.41586487996867555,-2.594438473380876,-0.20792628568089838,-0.05371153893023452,1.111311390110987,1.043087154127094,0.35648676024702847,0.7406413495945469,-1.7174901393497024,-0.5055206163892351,0.12444380491205628,0.2635168161584073,1.797430855129327,0.14163338680020648,2.195246757411419,1.3348708114974404,2.299036977743916,-1.5774051814618686,1.7117732762461901,0.37674565026187756,-0.6997844473879765,-1.0219500087855766,-2.631738198091557,-0.38120837544237773,0.4153454326347774,-1.1057341522928317,-1.749561587292299,1.1692578741087636,-0.4665158273933133,-1.3155212639292173,0.7521474301263578,-0.42079778332228823,0.31097180594294915,0.7091466990379948,0.825962573058696,0.3846841820235162,1.3271700873958,0.8989715838374636,2.138446326737935,0.8207061142504928,0.4817470479831832,2.046769364082126,1.013220469300983,1.4307884583515513,0.24665790517738484,-0.09142765416388775,-0.8978835841127965,2.1272319654519163,-0.24151888455402062,-0.5932587701094062,-1.6478458884228309,-0.25457893943964405,1.5913614923566013,-1.1452402381900029,0.43397472460552017,0.29789344556192504,1.665719652232908,0.7618902735558941,0.6687839547142187,-1.2400301056762388,1.9432788477844014,-0.3634019171329619,-0.28964201627915565],\"type\":\"scatter\"}],                        {\"legend\":{\"bgcolor\":\"#F5F6F9\",\"font\":{\"color\":\"#4D5663\"}},\"paper_bgcolor\":\"#F5F6F9\",\"plot_bgcolor\":\"#F5F6F9\",\"template\":{\"data\":{\"barpolar\":[{\"marker\":{\"line\":{\"color\":\"#E5ECF6\",\"width\":0.5},\"pattern\":{\"fillmode\":\"overlay\",\"size\":10,\"solidity\":0.2}},\"type\":\"barpolar\"}],\"bar\":[{\"error_x\":{\"color\":\"#2a3f5f\"},\"error_y\":{\"color\":\"#2a3f5f\"},\"marker\":{\"line\":{\"color\":\"#E5ECF6\",\"width\":0.5},\"pattern\":{\"fillmode\":\"overlay\",\"size\":10,\"solidity\":0.2}},\"type\":\"bar\"}],\"carpet\":[{\"aaxis\":{\"endlinecolor\":\"#2a3f5f\",\"gridcolor\":\"white\",\"linecolor\":\"white\",\"minorgridcolor\":\"white\",\"startlinecolor\":\"#2a3f5f\"},\"baxis\":{\"endlinecolor\":\"#2a3f5f\",\"gridcolor\":\"white\",\"linecolor\":\"white\",\"minorgridcolor\":\"white\",\"startlinecolor\":\"#2a3f5f\"},\"type\":\"carpet\"}],\"choropleth\":[{\"colorbar\":{\"outlinewidth\":0,\"ticks\":\"\"},\"type\":\"choropleth\"}],\"contourcarpet\":[{\"colorbar\":{\"outlinewidth\":0,\"ticks\":\"\"},\"type\":\"contourcarpet\"}],\"contour\":[{\"colorbar\":{\"outlinewidth\":0,\"ticks\":\"\"},\"colorscale\":[[0.0,\"#0d0887\"],[0.1111111111111111,\"#46039f\"],[0.2222222222222222,\"#7201a8\"],[0.3333333333333333,\"#9c179e\"],[0.4444444444444444,\"#bd3786\"],[0.5555555555555556,\"#d8576b\"],[0.6666666666666666,\"#ed7953\"],[0.7777777777777778,\"#fb9f3a\"],[0.8888888888888888,\"#fdca26\"],[1.0,\"#f0f921\"]],\"type\":\"contour\"}],\"heatmapgl\":[{\"colorbar\":{\"outlinewidth\":0,\"ticks\":\"\"},\"colorscale\":[[0.0,\"#0d0887\"],[0.1111111111111111,\"#46039f\"],[0.2222222222222222,\"#7201a8\"],[0.3333333333333333,\"#9c179e\"],[0.4444444444444444,\"#bd3786\"],[0.5555555555555556,\"#d8576b\"],[0.6666666666666666,\"#ed7953\"],[0.7777777777777778,\"#fb9f3a\"],[0.8888888888888888,\"#fdca26\"],[1.0,\"#f0f921\"]],\"type\":\"heatmapgl\"}],\"heatmap\":[{\"colorbar\":{\"outlinewidth\":0,\"ticks\":\"\"},\"colorscale\":[[0.0,\"#0d0887\"],[0.1111111111111111,\"#46039f\"],[0.2222222222222222,\"#7201a8\"],[0.3333333333333333,\"#9c179e\"],[0.4444444444444444,\"#bd3786\"],[0.5555555555555556,\"#d8576b\"],[0.6666666666666666,\"#ed7953\"],[0.7777777777777778,\"#fb9f3a\"],[0.8888888888888888,\"#fdca26\"],[1.0,\"#f0f921\"]],\"type\":\"heatmap\"}],\"histogram2dcontour\":[{\"colorbar\":{\"outlinewidth\":0,\"ticks\":\"\"},\"colorscale\":[[0.0,\"#0d0887\"],[0.1111111111111111,\"#46039f\"],[0.2222222222222222,\"#7201a8\"],[0.3333333333333333,\"#9c179e\"],[0.4444444444444444,\"#bd3786\"],[0.5555555555555556,\"#d8576b\"],[0.6666666666666666,\"#ed7953\"],[0.7777777777777778,\"#fb9f3a\"],[0.8888888888888888,\"#fdca26\"],[1.0,\"#f0f921\"]],\"type\":\"histogram2dcontour\"}],\"histogram2d\":[{\"colorbar\":{\"outlinewidth\":0,\"ticks\":\"\"},\"colorscale\":[[0.0,\"#0d0887\"],[0.1111111111111111,\"#46039f\"],[0.2222222222222222,\"#7201a8\"],[0.3333333333333333,\"#9c179e\"],[0.4444444444444444,\"#bd3786\"],[0.5555555555555556,\"#d8576b\"],[0.6666666666666666,\"#ed7953\"],[0.7777777777777778,\"#fb9f3a\"],[0.8888888888888888,\"#fdca26\"],[1.0,\"#f0f921\"]],\"type\":\"histogram2d\"}],\"histogram\":[{\"marker\":{\"pattern\":{\"fillmode\":\"overlay\",\"size\":10,\"solidity\":0.2}},\"type\":\"histogram\"}],\"mesh3d\":[{\"colorbar\":{\"outlinewidth\":0,\"ticks\":\"\"},\"type\":\"mesh3d\"}],\"parcoords\":[{\"line\":{\"colorbar\":{\"outlinewidth\":0,\"ticks\":\"\"}},\"type\":\"parcoords\"}],\"pie\":[{\"automargin\":true,\"type\":\"pie\"}],\"scatter3d\":[{\"line\":{\"colorbar\":{\"outlinewidth\":0,\"ticks\":\"\"}},\"marker\":{\"colorbar\":{\"outlinewidth\":0,\"ticks\":\"\"}},\"type\":\"scatter3d\"}],\"scattercarpet\":[{\"marker\":{\"colorbar\":{\"outlinewidth\":0,\"ticks\":\"\"}},\"type\":\"scattercarpet\"}],\"scattergeo\":[{\"marker\":{\"colorbar\":{\"outlinewidth\":0,\"ticks\":\"\"}},\"type\":\"scattergeo\"}],\"scattergl\":[{\"marker\":{\"colorbar\":{\"outlinewidth\":0,\"ticks\":\"\"}},\"type\":\"scattergl\"}],\"scattermapbox\":[{\"marker\":{\"colorbar\":{\"outlinewidth\":0,\"ticks\":\"\"}},\"type\":\"scattermapbox\"}],\"scatterpolargl\":[{\"marker\":{\"colorbar\":{\"outlinewidth\":0,\"ticks\":\"\"}},\"type\":\"scatterpolargl\"}],\"scatterpolar\":[{\"marker\":{\"colorbar\":{\"outlinewidth\":0,\"ticks\":\"\"}},\"type\":\"scatterpolar\"}],\"scatter\":[{\"fillpattern\":{\"fillmode\":\"overlay\",\"size\":10,\"solidity\":0.2},\"type\":\"scatter\"}],\"scatterternary\":[{\"marker\":{\"colorbar\":{\"outlinewidth\":0,\"ticks\":\"\"}},\"type\":\"scatterternary\"}],\"surface\":[{\"colorbar\":{\"outlinewidth\":0,\"ticks\":\"\"},\"colorscale\":[[0.0,\"#0d0887\"],[0.1111111111111111,\"#46039f\"],[0.2222222222222222,\"#7201a8\"],[0.3333333333333333,\"#9c179e\"],[0.4444444444444444,\"#bd3786\"],[0.5555555555555556,\"#d8576b\"],[0.6666666666666666,\"#ed7953\"],[0.7777777777777778,\"#fb9f3a\"],[0.8888888888888888,\"#fdca26\"],[1.0,\"#f0f921\"]],\"type\":\"surface\"}],\"table\":[{\"cells\":{\"fill\":{\"color\":\"#EBF0F8\"},\"line\":{\"color\":\"white\"}},\"header\":{\"fill\":{\"color\":\"#C8D4E3\"},\"line\":{\"color\":\"white\"}},\"type\":\"table\"}]},\"layout\":{\"annotationdefaults\":{\"arrowcolor\":\"#2a3f5f\",\"arrowhead\":0,\"arrowwidth\":1},\"autotypenumbers\":\"strict\",\"coloraxis\":{\"colorbar\":{\"outlinewidth\":0,\"ticks\":\"\"}},\"colorscale\":{\"diverging\":[[0,\"#8e0152\"],[0.1,\"#c51b7d\"],[0.2,\"#de77ae\"],[0.3,\"#f1b6da\"],[0.4,\"#fde0ef\"],[0.5,\"#f7f7f7\"],[0.6,\"#e6f5d0\"],[0.7,\"#b8e186\"],[0.8,\"#7fbc41\"],[0.9,\"#4d9221\"],[1,\"#276419\"]],\"sequential\":[[0.0,\"#0d0887\"],[0.1111111111111111,\"#46039f\"],[0.2222222222222222,\"#7201a8\"],[0.3333333333333333,\"#9c179e\"],[0.4444444444444444,\"#bd3786\"],[0.5555555555555556,\"#d8576b\"],[0.6666666666666666,\"#ed7953\"],[0.7777777777777778,\"#fb9f3a\"],[0.8888888888888888,\"#fdca26\"],[1.0,\"#f0f921\"]],\"sequentialminus\":[[0.0,\"#0d0887\"],[0.1111111111111111,\"#46039f\"],[0.2222222222222222,\"#7201a8\"],[0.3333333333333333,\"#9c179e\"],[0.4444444444444444,\"#bd3786\"],[0.5555555555555556,\"#d8576b\"],[0.6666666666666666,\"#ed7953\"],[0.7777777777777778,\"#fb9f3a\"],[0.8888888888888888,\"#fdca26\"],[1.0,\"#f0f921\"]]},\"colorway\":[\"#636efa\",\"#EF553B\",\"#00cc96\",\"#ab63fa\",\"#FFA15A\",\"#19d3f3\",\"#FF6692\",\"#B6E880\",\"#FF97FF\",\"#FECB52\"],\"font\":{\"color\":\"#2a3f5f\"},\"geo\":{\"bgcolor\":\"white\",\"lakecolor\":\"white\",\"landcolor\":\"#E5ECF6\",\"showlakes\":true,\"showland\":true,\"subunitcolor\":\"white\"},\"hoverlabel\":{\"align\":\"left\"},\"hovermode\":\"closest\",\"mapbox\":{\"style\":\"light\"},\"paper_bgcolor\":\"white\",\"plot_bgcolor\":\"#E5ECF6\",\"polar\":{\"angularaxis\":{\"gridcolor\":\"white\",\"linecolor\":\"white\",\"ticks\":\"\"},\"bgcolor\":\"#E5ECF6\",\"radialaxis\":{\"gridcolor\":\"white\",\"linecolor\":\"white\",\"ticks\":\"\"}},\"scene\":{\"xaxis\":{\"backgroundcolor\":\"#E5ECF6\",\"gridcolor\":\"white\",\"gridwidth\":2,\"linecolor\":\"white\",\"showbackground\":true,\"ticks\":\"\",\"zerolinecolor\":\"white\"},\"yaxis\":{\"backgroundcolor\":\"#E5ECF6\",\"gridcolor\":\"white\",\"gridwidth\":2,\"linecolor\":\"white\",\"showbackground\":true,\"ticks\":\"\",\"zerolinecolor\":\"white\"},\"zaxis\":{\"backgroundcolor\":\"#E5ECF6\",\"gridcolor\":\"white\",\"gridwidth\":2,\"linecolor\":\"white\",\"showbackground\":true,\"ticks\":\"\",\"zerolinecolor\":\"white\"}},\"shapedefaults\":{\"line\":{\"color\":\"#2a3f5f\"}},\"ternary\":{\"aaxis\":{\"gridcolor\":\"white\",\"linecolor\":\"white\",\"ticks\":\"\"},\"baxis\":{\"gridcolor\":\"white\",\"linecolor\":\"white\",\"ticks\":\"\"},\"bgcolor\":\"#E5ECF6\",\"caxis\":{\"gridcolor\":\"white\",\"linecolor\":\"white\",\"ticks\":\"\"}},\"title\":{\"x\":0.05},\"xaxis\":{\"automargin\":true,\"gridcolor\":\"white\",\"linecolor\":\"white\",\"ticks\":\"\",\"title\":{\"standoff\":15},\"zerolinecolor\":\"white\",\"zerolinewidth\":2},\"yaxis\":{\"automargin\":true,\"gridcolor\":\"white\",\"linecolor\":\"white\",\"ticks\":\"\",\"title\":{\"standoff\":15},\"zerolinecolor\":\"white\",\"zerolinewidth\":2}}},\"title\":{\"font\":{\"color\":\"#4D5663\"}},\"xaxis\":{\"gridcolor\":\"#E1E5ED\",\"showgrid\":true,\"tickfont\":{\"color\":\"#4D5663\"},\"title\":{\"font\":{\"color\":\"#4D5663\"},\"text\":\"\"},\"zerolinecolor\":\"#E1E5ED\"},\"yaxis\":{\"gridcolor\":\"#E1E5ED\",\"showgrid\":true,\"tickfont\":{\"color\":\"#4D5663\"},\"title\":{\"font\":{\"color\":\"#4D5663\"},\"text\":\"\"},\"zerolinecolor\":\"#E1E5ED\"}},                        {\"showLink\": true, \"linkText\": \"Export to plot.ly\", \"plotlyServerURL\": \"https://plot.ly\", \"responsive\": true}                    ).then(function(){\n",
       "                            \n",
       "var gd = document.getElementById('b8b3c039-7f4d-4ac0-ba75-cbec0a256cb9');\n",
       "var x = new MutationObserver(function (mutations, observer) {{\n",
       "        var display = window.getComputedStyle(gd).display;\n",
       "        if (!display || display === 'none') {{\n",
       "            console.log([gd, 'removed!']);\n",
       "            Plotly.purge(gd);\n",
       "            observer.disconnect();\n",
       "        }}\n",
       "}});\n",
       "\n",
       "// Listen for the removal of the full notebook cells\n",
       "var notebookContainer = gd.closest('#notebook-container');\n",
       "if (notebookContainer) {{\n",
       "    x.observe(notebookContainer, {childList: true});\n",
       "}}\n",
       "\n",
       "// Listen for the clearing of the current output cell\n",
       "var outputEl = gd.closest('.output');\n",
       "if (outputEl) {{\n",
       "    x.observe(outputEl, {childList: true});\n",
       "}}\n",
       "\n",
       "                        })                };                });            </script>        </div>"
      ]
     },
     "metadata": {},
     "output_type": "display_data"
    }
   ],
   "source": [
    "df.iplot(kind='scatter',x='A',y='B',mode='markers',size=20)"
   ]
  },
  {
   "cell_type": "markdown",
   "metadata": {},
   "source": [
    "## Bar Plots"
   ]
  },
  {
   "cell_type": "code",
   "execution_count": 38,
   "metadata": {},
   "outputs": [
    {
     "data": {
      "application/vnd.plotly.v1+json": {
       "config": {
        "linkText": "Export to plot.ly",
        "plotlyServerURL": "https://plot.ly",
        "showLink": true
       },
       "data": [
        {
         "marker": {
          "color": "rgba(255, 153, 51, 0.6)",
          "line": {
           "color": "rgba(255, 153, 51, 1.0)",
           "width": 1
          }
         },
         "name": "values",
         "orientation": "v",
         "text": "",
         "type": "bar",
         "x": [
          "A",
          "B",
          "C"
         ],
         "y": [
          32,
          43,
          50
         ]
        }
       ],
       "layout": {
        "legend": {
         "bgcolor": "#F5F6F9",
         "font": {
          "color": "#4D5663"
         }
        },
        "paper_bgcolor": "#F5F6F9",
        "plot_bgcolor": "#F5F6F9",
        "template": {
         "data": {
          "bar": [
           {
            "error_x": {
             "color": "#2a3f5f"
            },
            "error_y": {
             "color": "#2a3f5f"
            },
            "marker": {
             "line": {
              "color": "#E5ECF6",
              "width": 0.5
             },
             "pattern": {
              "fillmode": "overlay",
              "size": 10,
              "solidity": 0.2
             }
            },
            "type": "bar"
           }
          ],
          "barpolar": [
           {
            "marker": {
             "line": {
              "color": "#E5ECF6",
              "width": 0.5
             },
             "pattern": {
              "fillmode": "overlay",
              "size": 10,
              "solidity": 0.2
             }
            },
            "type": "barpolar"
           }
          ],
          "carpet": [
           {
            "aaxis": {
             "endlinecolor": "#2a3f5f",
             "gridcolor": "white",
             "linecolor": "white",
             "minorgridcolor": "white",
             "startlinecolor": "#2a3f5f"
            },
            "baxis": {
             "endlinecolor": "#2a3f5f",
             "gridcolor": "white",
             "linecolor": "white",
             "minorgridcolor": "white",
             "startlinecolor": "#2a3f5f"
            },
            "type": "carpet"
           }
          ],
          "choropleth": [
           {
            "colorbar": {
             "outlinewidth": 0,
             "ticks": ""
            },
            "type": "choropleth"
           }
          ],
          "contour": [
           {
            "colorbar": {
             "outlinewidth": 0,
             "ticks": ""
            },
            "colorscale": [
             [
              0,
              "#0d0887"
             ],
             [
              0.1111111111111111,
              "#46039f"
             ],
             [
              0.2222222222222222,
              "#7201a8"
             ],
             [
              0.3333333333333333,
              "#9c179e"
             ],
             [
              0.4444444444444444,
              "#bd3786"
             ],
             [
              0.5555555555555556,
              "#d8576b"
             ],
             [
              0.6666666666666666,
              "#ed7953"
             ],
             [
              0.7777777777777778,
              "#fb9f3a"
             ],
             [
              0.8888888888888888,
              "#fdca26"
             ],
             [
              1,
              "#f0f921"
             ]
            ],
            "type": "contour"
           }
          ],
          "contourcarpet": [
           {
            "colorbar": {
             "outlinewidth": 0,
             "ticks": ""
            },
            "type": "contourcarpet"
           }
          ],
          "heatmap": [
           {
            "colorbar": {
             "outlinewidth": 0,
             "ticks": ""
            },
            "colorscale": [
             [
              0,
              "#0d0887"
             ],
             [
              0.1111111111111111,
              "#46039f"
             ],
             [
              0.2222222222222222,
              "#7201a8"
             ],
             [
              0.3333333333333333,
              "#9c179e"
             ],
             [
              0.4444444444444444,
              "#bd3786"
             ],
             [
              0.5555555555555556,
              "#d8576b"
             ],
             [
              0.6666666666666666,
              "#ed7953"
             ],
             [
              0.7777777777777778,
              "#fb9f3a"
             ],
             [
              0.8888888888888888,
              "#fdca26"
             ],
             [
              1,
              "#f0f921"
             ]
            ],
            "type": "heatmap"
           }
          ],
          "heatmapgl": [
           {
            "colorbar": {
             "outlinewidth": 0,
             "ticks": ""
            },
            "colorscale": [
             [
              0,
              "#0d0887"
             ],
             [
              0.1111111111111111,
              "#46039f"
             ],
             [
              0.2222222222222222,
              "#7201a8"
             ],
             [
              0.3333333333333333,
              "#9c179e"
             ],
             [
              0.4444444444444444,
              "#bd3786"
             ],
             [
              0.5555555555555556,
              "#d8576b"
             ],
             [
              0.6666666666666666,
              "#ed7953"
             ],
             [
              0.7777777777777778,
              "#fb9f3a"
             ],
             [
              0.8888888888888888,
              "#fdca26"
             ],
             [
              1,
              "#f0f921"
             ]
            ],
            "type": "heatmapgl"
           }
          ],
          "histogram": [
           {
            "marker": {
             "pattern": {
              "fillmode": "overlay",
              "size": 10,
              "solidity": 0.2
             }
            },
            "type": "histogram"
           }
          ],
          "histogram2d": [
           {
            "colorbar": {
             "outlinewidth": 0,
             "ticks": ""
            },
            "colorscale": [
             [
              0,
              "#0d0887"
             ],
             [
              0.1111111111111111,
              "#46039f"
             ],
             [
              0.2222222222222222,
              "#7201a8"
             ],
             [
              0.3333333333333333,
              "#9c179e"
             ],
             [
              0.4444444444444444,
              "#bd3786"
             ],
             [
              0.5555555555555556,
              "#d8576b"
             ],
             [
              0.6666666666666666,
              "#ed7953"
             ],
             [
              0.7777777777777778,
              "#fb9f3a"
             ],
             [
              0.8888888888888888,
              "#fdca26"
             ],
             [
              1,
              "#f0f921"
             ]
            ],
            "type": "histogram2d"
           }
          ],
          "histogram2dcontour": [
           {
            "colorbar": {
             "outlinewidth": 0,
             "ticks": ""
            },
            "colorscale": [
             [
              0,
              "#0d0887"
             ],
             [
              0.1111111111111111,
              "#46039f"
             ],
             [
              0.2222222222222222,
              "#7201a8"
             ],
             [
              0.3333333333333333,
              "#9c179e"
             ],
             [
              0.4444444444444444,
              "#bd3786"
             ],
             [
              0.5555555555555556,
              "#d8576b"
             ],
             [
              0.6666666666666666,
              "#ed7953"
             ],
             [
              0.7777777777777778,
              "#fb9f3a"
             ],
             [
              0.8888888888888888,
              "#fdca26"
             ],
             [
              1,
              "#f0f921"
             ]
            ],
            "type": "histogram2dcontour"
           }
          ],
          "mesh3d": [
           {
            "colorbar": {
             "outlinewidth": 0,
             "ticks": ""
            },
            "type": "mesh3d"
           }
          ],
          "parcoords": [
           {
            "line": {
             "colorbar": {
              "outlinewidth": 0,
              "ticks": ""
             }
            },
            "type": "parcoords"
           }
          ],
          "pie": [
           {
            "automargin": true,
            "type": "pie"
           }
          ],
          "scatter": [
           {
            "fillpattern": {
             "fillmode": "overlay",
             "size": 10,
             "solidity": 0.2
            },
            "type": "scatter"
           }
          ],
          "scatter3d": [
           {
            "line": {
             "colorbar": {
              "outlinewidth": 0,
              "ticks": ""
             }
            },
            "marker": {
             "colorbar": {
              "outlinewidth": 0,
              "ticks": ""
             }
            },
            "type": "scatter3d"
           }
          ],
          "scattercarpet": [
           {
            "marker": {
             "colorbar": {
              "outlinewidth": 0,
              "ticks": ""
             }
            },
            "type": "scattercarpet"
           }
          ],
          "scattergeo": [
           {
            "marker": {
             "colorbar": {
              "outlinewidth": 0,
              "ticks": ""
             }
            },
            "type": "scattergeo"
           }
          ],
          "scattergl": [
           {
            "marker": {
             "colorbar": {
              "outlinewidth": 0,
              "ticks": ""
             }
            },
            "type": "scattergl"
           }
          ],
          "scattermapbox": [
           {
            "marker": {
             "colorbar": {
              "outlinewidth": 0,
              "ticks": ""
             }
            },
            "type": "scattermapbox"
           }
          ],
          "scatterpolar": [
           {
            "marker": {
             "colorbar": {
              "outlinewidth": 0,
              "ticks": ""
             }
            },
            "type": "scatterpolar"
           }
          ],
          "scatterpolargl": [
           {
            "marker": {
             "colorbar": {
              "outlinewidth": 0,
              "ticks": ""
             }
            },
            "type": "scatterpolargl"
           }
          ],
          "scatterternary": [
           {
            "marker": {
             "colorbar": {
              "outlinewidth": 0,
              "ticks": ""
             }
            },
            "type": "scatterternary"
           }
          ],
          "surface": [
           {
            "colorbar": {
             "outlinewidth": 0,
             "ticks": ""
            },
            "colorscale": [
             [
              0,
              "#0d0887"
             ],
             [
              0.1111111111111111,
              "#46039f"
             ],
             [
              0.2222222222222222,
              "#7201a8"
             ],
             [
              0.3333333333333333,
              "#9c179e"
             ],
             [
              0.4444444444444444,
              "#bd3786"
             ],
             [
              0.5555555555555556,
              "#d8576b"
             ],
             [
              0.6666666666666666,
              "#ed7953"
             ],
             [
              0.7777777777777778,
              "#fb9f3a"
             ],
             [
              0.8888888888888888,
              "#fdca26"
             ],
             [
              1,
              "#f0f921"
             ]
            ],
            "type": "surface"
           }
          ],
          "table": [
           {
            "cells": {
             "fill": {
              "color": "#EBF0F8"
             },
             "line": {
              "color": "white"
             }
            },
            "header": {
             "fill": {
              "color": "#C8D4E3"
             },
             "line": {
              "color": "white"
             }
            },
            "type": "table"
           }
          ]
         },
         "layout": {
          "annotationdefaults": {
           "arrowcolor": "#2a3f5f",
           "arrowhead": 0,
           "arrowwidth": 1
          },
          "autotypenumbers": "strict",
          "coloraxis": {
           "colorbar": {
            "outlinewidth": 0,
            "ticks": ""
           }
          },
          "colorscale": {
           "diverging": [
            [
             0,
             "#8e0152"
            ],
            [
             0.1,
             "#c51b7d"
            ],
            [
             0.2,
             "#de77ae"
            ],
            [
             0.3,
             "#f1b6da"
            ],
            [
             0.4,
             "#fde0ef"
            ],
            [
             0.5,
             "#f7f7f7"
            ],
            [
             0.6,
             "#e6f5d0"
            ],
            [
             0.7,
             "#b8e186"
            ],
            [
             0.8,
             "#7fbc41"
            ],
            [
             0.9,
             "#4d9221"
            ],
            [
             1,
             "#276419"
            ]
           ],
           "sequential": [
            [
             0,
             "#0d0887"
            ],
            [
             0.1111111111111111,
             "#46039f"
            ],
            [
             0.2222222222222222,
             "#7201a8"
            ],
            [
             0.3333333333333333,
             "#9c179e"
            ],
            [
             0.4444444444444444,
             "#bd3786"
            ],
            [
             0.5555555555555556,
             "#d8576b"
            ],
            [
             0.6666666666666666,
             "#ed7953"
            ],
            [
             0.7777777777777778,
             "#fb9f3a"
            ],
            [
             0.8888888888888888,
             "#fdca26"
            ],
            [
             1,
             "#f0f921"
            ]
           ],
           "sequentialminus": [
            [
             0,
             "#0d0887"
            ],
            [
             0.1111111111111111,
             "#46039f"
            ],
            [
             0.2222222222222222,
             "#7201a8"
            ],
            [
             0.3333333333333333,
             "#9c179e"
            ],
            [
             0.4444444444444444,
             "#bd3786"
            ],
            [
             0.5555555555555556,
             "#d8576b"
            ],
            [
             0.6666666666666666,
             "#ed7953"
            ],
            [
             0.7777777777777778,
             "#fb9f3a"
            ],
            [
             0.8888888888888888,
             "#fdca26"
            ],
            [
             1,
             "#f0f921"
            ]
           ]
          },
          "colorway": [
           "#636efa",
           "#EF553B",
           "#00cc96",
           "#ab63fa",
           "#FFA15A",
           "#19d3f3",
           "#FF6692",
           "#B6E880",
           "#FF97FF",
           "#FECB52"
          ],
          "font": {
           "color": "#2a3f5f"
          },
          "geo": {
           "bgcolor": "white",
           "lakecolor": "white",
           "landcolor": "#E5ECF6",
           "showlakes": true,
           "showland": true,
           "subunitcolor": "white"
          },
          "hoverlabel": {
           "align": "left"
          },
          "hovermode": "closest",
          "mapbox": {
           "style": "light"
          },
          "paper_bgcolor": "white",
          "plot_bgcolor": "#E5ECF6",
          "polar": {
           "angularaxis": {
            "gridcolor": "white",
            "linecolor": "white",
            "ticks": ""
           },
           "bgcolor": "#E5ECF6",
           "radialaxis": {
            "gridcolor": "white",
            "linecolor": "white",
            "ticks": ""
           }
          },
          "scene": {
           "xaxis": {
            "backgroundcolor": "#E5ECF6",
            "gridcolor": "white",
            "gridwidth": 2,
            "linecolor": "white",
            "showbackground": true,
            "ticks": "",
            "zerolinecolor": "white"
           },
           "yaxis": {
            "backgroundcolor": "#E5ECF6",
            "gridcolor": "white",
            "gridwidth": 2,
            "linecolor": "white",
            "showbackground": true,
            "ticks": "",
            "zerolinecolor": "white"
           },
           "zaxis": {
            "backgroundcolor": "#E5ECF6",
            "gridcolor": "white",
            "gridwidth": 2,
            "linecolor": "white",
            "showbackground": true,
            "ticks": "",
            "zerolinecolor": "white"
           }
          },
          "shapedefaults": {
           "line": {
            "color": "#2a3f5f"
           }
          },
          "ternary": {
           "aaxis": {
            "gridcolor": "white",
            "linecolor": "white",
            "ticks": ""
           },
           "baxis": {
            "gridcolor": "white",
            "linecolor": "white",
            "ticks": ""
           },
           "bgcolor": "#E5ECF6",
           "caxis": {
            "gridcolor": "white",
            "linecolor": "white",
            "ticks": ""
           }
          },
          "title": {
           "x": 0.05
          },
          "xaxis": {
           "automargin": true,
           "gridcolor": "white",
           "linecolor": "white",
           "ticks": "",
           "title": {
            "standoff": 15
           },
           "zerolinecolor": "white",
           "zerolinewidth": 2
          },
          "yaxis": {
           "automargin": true,
           "gridcolor": "white",
           "linecolor": "white",
           "ticks": "",
           "title": {
            "standoff": 15
           },
           "zerolinecolor": "white",
           "zerolinewidth": 2
          }
         }
        },
        "title": {
         "font": {
          "color": "#4D5663"
         }
        },
        "xaxis": {
         "gridcolor": "#E1E5ED",
         "showgrid": true,
         "tickfont": {
          "color": "#4D5663"
         },
         "title": {
          "font": {
           "color": "#4D5663"
          },
          "text": ""
         },
         "zerolinecolor": "#E1E5ED"
        },
        "yaxis": {
         "gridcolor": "#E1E5ED",
         "showgrid": true,
         "tickfont": {
          "color": "#4D5663"
         },
         "title": {
          "font": {
           "color": "#4D5663"
          },
          "text": ""
         },
         "zerolinecolor": "#E1E5ED"
        }
       }
      },
      "text/html": [
       "<div>                            <div id=\"6825d3d6-6933-4c64-9197-b11a76c628ff\" class=\"plotly-graph-div\" style=\"height:525px; width:100%;\"></div>            <script type=\"text/javascript\">                require([\"plotly\"], function(Plotly) {                    window.PLOTLYENV=window.PLOTLYENV || {};\n",
       "                    window.PLOTLYENV.BASE_URL='https://plot.ly';                                    if (document.getElementById(\"6825d3d6-6933-4c64-9197-b11a76c628ff\")) {                    Plotly.newPlot(                        \"6825d3d6-6933-4c64-9197-b11a76c628ff\",                        [{\"marker\":{\"color\":\"rgba(255, 153, 51, 0.6)\",\"line\":{\"color\":\"rgba(255, 153, 51, 1.0)\",\"width\":1}},\"name\":\"values\",\"orientation\":\"v\",\"text\":\"\",\"x\":[\"A\",\"B\",\"C\"],\"y\":[32,43,50],\"type\":\"bar\"}],                        {\"legend\":{\"bgcolor\":\"#F5F6F9\",\"font\":{\"color\":\"#4D5663\"}},\"paper_bgcolor\":\"#F5F6F9\",\"plot_bgcolor\":\"#F5F6F9\",\"template\":{\"data\":{\"barpolar\":[{\"marker\":{\"line\":{\"color\":\"#E5ECF6\",\"width\":0.5},\"pattern\":{\"fillmode\":\"overlay\",\"size\":10,\"solidity\":0.2}},\"type\":\"barpolar\"}],\"bar\":[{\"error_x\":{\"color\":\"#2a3f5f\"},\"error_y\":{\"color\":\"#2a3f5f\"},\"marker\":{\"line\":{\"color\":\"#E5ECF6\",\"width\":0.5},\"pattern\":{\"fillmode\":\"overlay\",\"size\":10,\"solidity\":0.2}},\"type\":\"bar\"}],\"carpet\":[{\"aaxis\":{\"endlinecolor\":\"#2a3f5f\",\"gridcolor\":\"white\",\"linecolor\":\"white\",\"minorgridcolor\":\"white\",\"startlinecolor\":\"#2a3f5f\"},\"baxis\":{\"endlinecolor\":\"#2a3f5f\",\"gridcolor\":\"white\",\"linecolor\":\"white\",\"minorgridcolor\":\"white\",\"startlinecolor\":\"#2a3f5f\"},\"type\":\"carpet\"}],\"choropleth\":[{\"colorbar\":{\"outlinewidth\":0,\"ticks\":\"\"},\"type\":\"choropleth\"}],\"contourcarpet\":[{\"colorbar\":{\"outlinewidth\":0,\"ticks\":\"\"},\"type\":\"contourcarpet\"}],\"contour\":[{\"colorbar\":{\"outlinewidth\":0,\"ticks\":\"\"},\"colorscale\":[[0.0,\"#0d0887\"],[0.1111111111111111,\"#46039f\"],[0.2222222222222222,\"#7201a8\"],[0.3333333333333333,\"#9c179e\"],[0.4444444444444444,\"#bd3786\"],[0.5555555555555556,\"#d8576b\"],[0.6666666666666666,\"#ed7953\"],[0.7777777777777778,\"#fb9f3a\"],[0.8888888888888888,\"#fdca26\"],[1.0,\"#f0f921\"]],\"type\":\"contour\"}],\"heatmapgl\":[{\"colorbar\":{\"outlinewidth\":0,\"ticks\":\"\"},\"colorscale\":[[0.0,\"#0d0887\"],[0.1111111111111111,\"#46039f\"],[0.2222222222222222,\"#7201a8\"],[0.3333333333333333,\"#9c179e\"],[0.4444444444444444,\"#bd3786\"],[0.5555555555555556,\"#d8576b\"],[0.6666666666666666,\"#ed7953\"],[0.7777777777777778,\"#fb9f3a\"],[0.8888888888888888,\"#fdca26\"],[1.0,\"#f0f921\"]],\"type\":\"heatmapgl\"}],\"heatmap\":[{\"colorbar\":{\"outlinewidth\":0,\"ticks\":\"\"},\"colorscale\":[[0.0,\"#0d0887\"],[0.1111111111111111,\"#46039f\"],[0.2222222222222222,\"#7201a8\"],[0.3333333333333333,\"#9c179e\"],[0.4444444444444444,\"#bd3786\"],[0.5555555555555556,\"#d8576b\"],[0.6666666666666666,\"#ed7953\"],[0.7777777777777778,\"#fb9f3a\"],[0.8888888888888888,\"#fdca26\"],[1.0,\"#f0f921\"]],\"type\":\"heatmap\"}],\"histogram2dcontour\":[{\"colorbar\":{\"outlinewidth\":0,\"ticks\":\"\"},\"colorscale\":[[0.0,\"#0d0887\"],[0.1111111111111111,\"#46039f\"],[0.2222222222222222,\"#7201a8\"],[0.3333333333333333,\"#9c179e\"],[0.4444444444444444,\"#bd3786\"],[0.5555555555555556,\"#d8576b\"],[0.6666666666666666,\"#ed7953\"],[0.7777777777777778,\"#fb9f3a\"],[0.8888888888888888,\"#fdca26\"],[1.0,\"#f0f921\"]],\"type\":\"histogram2dcontour\"}],\"histogram2d\":[{\"colorbar\":{\"outlinewidth\":0,\"ticks\":\"\"},\"colorscale\":[[0.0,\"#0d0887\"],[0.1111111111111111,\"#46039f\"],[0.2222222222222222,\"#7201a8\"],[0.3333333333333333,\"#9c179e\"],[0.4444444444444444,\"#bd3786\"],[0.5555555555555556,\"#d8576b\"],[0.6666666666666666,\"#ed7953\"],[0.7777777777777778,\"#fb9f3a\"],[0.8888888888888888,\"#fdca26\"],[1.0,\"#f0f921\"]],\"type\":\"histogram2d\"}],\"histogram\":[{\"marker\":{\"pattern\":{\"fillmode\":\"overlay\",\"size\":10,\"solidity\":0.2}},\"type\":\"histogram\"}],\"mesh3d\":[{\"colorbar\":{\"outlinewidth\":0,\"ticks\":\"\"},\"type\":\"mesh3d\"}],\"parcoords\":[{\"line\":{\"colorbar\":{\"outlinewidth\":0,\"ticks\":\"\"}},\"type\":\"parcoords\"}],\"pie\":[{\"automargin\":true,\"type\":\"pie\"}],\"scatter3d\":[{\"line\":{\"colorbar\":{\"outlinewidth\":0,\"ticks\":\"\"}},\"marker\":{\"colorbar\":{\"outlinewidth\":0,\"ticks\":\"\"}},\"type\":\"scatter3d\"}],\"scattercarpet\":[{\"marker\":{\"colorbar\":{\"outlinewidth\":0,\"ticks\":\"\"}},\"type\":\"scattercarpet\"}],\"scattergeo\":[{\"marker\":{\"colorbar\":{\"outlinewidth\":0,\"ticks\":\"\"}},\"type\":\"scattergeo\"}],\"scattergl\":[{\"marker\":{\"colorbar\":{\"outlinewidth\":0,\"ticks\":\"\"}},\"type\":\"scattergl\"}],\"scattermapbox\":[{\"marker\":{\"colorbar\":{\"outlinewidth\":0,\"ticks\":\"\"}},\"type\":\"scattermapbox\"}],\"scatterpolargl\":[{\"marker\":{\"colorbar\":{\"outlinewidth\":0,\"ticks\":\"\"}},\"type\":\"scatterpolargl\"}],\"scatterpolar\":[{\"marker\":{\"colorbar\":{\"outlinewidth\":0,\"ticks\":\"\"}},\"type\":\"scatterpolar\"}],\"scatter\":[{\"fillpattern\":{\"fillmode\":\"overlay\",\"size\":10,\"solidity\":0.2},\"type\":\"scatter\"}],\"scatterternary\":[{\"marker\":{\"colorbar\":{\"outlinewidth\":0,\"ticks\":\"\"}},\"type\":\"scatterternary\"}],\"surface\":[{\"colorbar\":{\"outlinewidth\":0,\"ticks\":\"\"},\"colorscale\":[[0.0,\"#0d0887\"],[0.1111111111111111,\"#46039f\"],[0.2222222222222222,\"#7201a8\"],[0.3333333333333333,\"#9c179e\"],[0.4444444444444444,\"#bd3786\"],[0.5555555555555556,\"#d8576b\"],[0.6666666666666666,\"#ed7953\"],[0.7777777777777778,\"#fb9f3a\"],[0.8888888888888888,\"#fdca26\"],[1.0,\"#f0f921\"]],\"type\":\"surface\"}],\"table\":[{\"cells\":{\"fill\":{\"color\":\"#EBF0F8\"},\"line\":{\"color\":\"white\"}},\"header\":{\"fill\":{\"color\":\"#C8D4E3\"},\"line\":{\"color\":\"white\"}},\"type\":\"table\"}]},\"layout\":{\"annotationdefaults\":{\"arrowcolor\":\"#2a3f5f\",\"arrowhead\":0,\"arrowwidth\":1},\"autotypenumbers\":\"strict\",\"coloraxis\":{\"colorbar\":{\"outlinewidth\":0,\"ticks\":\"\"}},\"colorscale\":{\"diverging\":[[0,\"#8e0152\"],[0.1,\"#c51b7d\"],[0.2,\"#de77ae\"],[0.3,\"#f1b6da\"],[0.4,\"#fde0ef\"],[0.5,\"#f7f7f7\"],[0.6,\"#e6f5d0\"],[0.7,\"#b8e186\"],[0.8,\"#7fbc41\"],[0.9,\"#4d9221\"],[1,\"#276419\"]],\"sequential\":[[0.0,\"#0d0887\"],[0.1111111111111111,\"#46039f\"],[0.2222222222222222,\"#7201a8\"],[0.3333333333333333,\"#9c179e\"],[0.4444444444444444,\"#bd3786\"],[0.5555555555555556,\"#d8576b\"],[0.6666666666666666,\"#ed7953\"],[0.7777777777777778,\"#fb9f3a\"],[0.8888888888888888,\"#fdca26\"],[1.0,\"#f0f921\"]],\"sequentialminus\":[[0.0,\"#0d0887\"],[0.1111111111111111,\"#46039f\"],[0.2222222222222222,\"#7201a8\"],[0.3333333333333333,\"#9c179e\"],[0.4444444444444444,\"#bd3786\"],[0.5555555555555556,\"#d8576b\"],[0.6666666666666666,\"#ed7953\"],[0.7777777777777778,\"#fb9f3a\"],[0.8888888888888888,\"#fdca26\"],[1.0,\"#f0f921\"]]},\"colorway\":[\"#636efa\",\"#EF553B\",\"#00cc96\",\"#ab63fa\",\"#FFA15A\",\"#19d3f3\",\"#FF6692\",\"#B6E880\",\"#FF97FF\",\"#FECB52\"],\"font\":{\"color\":\"#2a3f5f\"},\"geo\":{\"bgcolor\":\"white\",\"lakecolor\":\"white\",\"landcolor\":\"#E5ECF6\",\"showlakes\":true,\"showland\":true,\"subunitcolor\":\"white\"},\"hoverlabel\":{\"align\":\"left\"},\"hovermode\":\"closest\",\"mapbox\":{\"style\":\"light\"},\"paper_bgcolor\":\"white\",\"plot_bgcolor\":\"#E5ECF6\",\"polar\":{\"angularaxis\":{\"gridcolor\":\"white\",\"linecolor\":\"white\",\"ticks\":\"\"},\"bgcolor\":\"#E5ECF6\",\"radialaxis\":{\"gridcolor\":\"white\",\"linecolor\":\"white\",\"ticks\":\"\"}},\"scene\":{\"xaxis\":{\"backgroundcolor\":\"#E5ECF6\",\"gridcolor\":\"white\",\"gridwidth\":2,\"linecolor\":\"white\",\"showbackground\":true,\"ticks\":\"\",\"zerolinecolor\":\"white\"},\"yaxis\":{\"backgroundcolor\":\"#E5ECF6\",\"gridcolor\":\"white\",\"gridwidth\":2,\"linecolor\":\"white\",\"showbackground\":true,\"ticks\":\"\",\"zerolinecolor\":\"white\"},\"zaxis\":{\"backgroundcolor\":\"#E5ECF6\",\"gridcolor\":\"white\",\"gridwidth\":2,\"linecolor\":\"white\",\"showbackground\":true,\"ticks\":\"\",\"zerolinecolor\":\"white\"}},\"shapedefaults\":{\"line\":{\"color\":\"#2a3f5f\"}},\"ternary\":{\"aaxis\":{\"gridcolor\":\"white\",\"linecolor\":\"white\",\"ticks\":\"\"},\"baxis\":{\"gridcolor\":\"white\",\"linecolor\":\"white\",\"ticks\":\"\"},\"bgcolor\":\"#E5ECF6\",\"caxis\":{\"gridcolor\":\"white\",\"linecolor\":\"white\",\"ticks\":\"\"}},\"title\":{\"x\":0.05},\"xaxis\":{\"automargin\":true,\"gridcolor\":\"white\",\"linecolor\":\"white\",\"ticks\":\"\",\"title\":{\"standoff\":15},\"zerolinecolor\":\"white\",\"zerolinewidth\":2},\"yaxis\":{\"automargin\":true,\"gridcolor\":\"white\",\"linecolor\":\"white\",\"ticks\":\"\",\"title\":{\"standoff\":15},\"zerolinecolor\":\"white\",\"zerolinewidth\":2}}},\"title\":{\"font\":{\"color\":\"#4D5663\"}},\"xaxis\":{\"gridcolor\":\"#E1E5ED\",\"showgrid\":true,\"tickfont\":{\"color\":\"#4D5663\"},\"title\":{\"font\":{\"color\":\"#4D5663\"},\"text\":\"\"},\"zerolinecolor\":\"#E1E5ED\"},\"yaxis\":{\"gridcolor\":\"#E1E5ED\",\"showgrid\":true,\"tickfont\":{\"color\":\"#4D5663\"},\"title\":{\"font\":{\"color\":\"#4D5663\"},\"text\":\"\"},\"zerolinecolor\":\"#E1E5ED\"}},                        {\"showLink\": true, \"linkText\": \"Export to plot.ly\", \"plotlyServerURL\": \"https://plot.ly\", \"responsive\": true}                    ).then(function(){\n",
       "                            \n",
       "var gd = document.getElementById('6825d3d6-6933-4c64-9197-b11a76c628ff');\n",
       "var x = new MutationObserver(function (mutations, observer) {{\n",
       "        var display = window.getComputedStyle(gd).display;\n",
       "        if (!display || display === 'none') {{\n",
       "            console.log([gd, 'removed!']);\n",
       "            Plotly.purge(gd);\n",
       "            observer.disconnect();\n",
       "        }}\n",
       "}});\n",
       "\n",
       "// Listen for the removal of the full notebook cells\n",
       "var notebookContainer = gd.closest('#notebook-container');\n",
       "if (notebookContainer) {{\n",
       "    x.observe(notebookContainer, {childList: true});\n",
       "}}\n",
       "\n",
       "// Listen for the clearing of the current output cell\n",
       "var outputEl = gd.closest('.output');\n",
       "if (outputEl) {{\n",
       "    x.observe(outputEl, {childList: true});\n",
       "}}\n",
       "\n",
       "                        })                };                });            </script>        </div>"
      ]
     },
     "metadata": {},
     "output_type": "display_data"
    }
   ],
   "source": [
    "df2.iplot(kind='bar',x='Category')"
   ]
  },
  {
   "cell_type": "code",
   "execution_count": 40,
   "metadata": {},
   "outputs": [
    {
     "data": {
      "application/vnd.plotly.v1+json": {
       "config": {
        "linkText": "Export to plot.ly",
        "plotlyServerURL": "https://plot.ly",
        "showLink": true
       },
       "data": [
        {
         "marker": {
          "color": "rgba(255, 153, 51, 0.6)",
          "line": {
           "color": "rgba(255, 153, 51, 1.0)",
           "width": 1
          }
         },
         "name": "None",
         "orientation": "v",
         "text": "",
         "type": "bar",
         "x": [
          "A",
          "B",
          "C",
          "D"
         ],
         "y": [
          100,
          100,
          100,
          100
         ]
        }
       ],
       "layout": {
        "legend": {
         "bgcolor": "#F5F6F9",
         "font": {
          "color": "#4D5663"
         }
        },
        "paper_bgcolor": "#F5F6F9",
        "plot_bgcolor": "#F5F6F9",
        "template": {
         "data": {
          "bar": [
           {
            "error_x": {
             "color": "#2a3f5f"
            },
            "error_y": {
             "color": "#2a3f5f"
            },
            "marker": {
             "line": {
              "color": "#E5ECF6",
              "width": 0.5
             },
             "pattern": {
              "fillmode": "overlay",
              "size": 10,
              "solidity": 0.2
             }
            },
            "type": "bar"
           }
          ],
          "barpolar": [
           {
            "marker": {
             "line": {
              "color": "#E5ECF6",
              "width": 0.5
             },
             "pattern": {
              "fillmode": "overlay",
              "size": 10,
              "solidity": 0.2
             }
            },
            "type": "barpolar"
           }
          ],
          "carpet": [
           {
            "aaxis": {
             "endlinecolor": "#2a3f5f",
             "gridcolor": "white",
             "linecolor": "white",
             "minorgridcolor": "white",
             "startlinecolor": "#2a3f5f"
            },
            "baxis": {
             "endlinecolor": "#2a3f5f",
             "gridcolor": "white",
             "linecolor": "white",
             "minorgridcolor": "white",
             "startlinecolor": "#2a3f5f"
            },
            "type": "carpet"
           }
          ],
          "choropleth": [
           {
            "colorbar": {
             "outlinewidth": 0,
             "ticks": ""
            },
            "type": "choropleth"
           }
          ],
          "contour": [
           {
            "colorbar": {
             "outlinewidth": 0,
             "ticks": ""
            },
            "colorscale": [
             [
              0,
              "#0d0887"
             ],
             [
              0.1111111111111111,
              "#46039f"
             ],
             [
              0.2222222222222222,
              "#7201a8"
             ],
             [
              0.3333333333333333,
              "#9c179e"
             ],
             [
              0.4444444444444444,
              "#bd3786"
             ],
             [
              0.5555555555555556,
              "#d8576b"
             ],
             [
              0.6666666666666666,
              "#ed7953"
             ],
             [
              0.7777777777777778,
              "#fb9f3a"
             ],
             [
              0.8888888888888888,
              "#fdca26"
             ],
             [
              1,
              "#f0f921"
             ]
            ],
            "type": "contour"
           }
          ],
          "contourcarpet": [
           {
            "colorbar": {
             "outlinewidth": 0,
             "ticks": ""
            },
            "type": "contourcarpet"
           }
          ],
          "heatmap": [
           {
            "colorbar": {
             "outlinewidth": 0,
             "ticks": ""
            },
            "colorscale": [
             [
              0,
              "#0d0887"
             ],
             [
              0.1111111111111111,
              "#46039f"
             ],
             [
              0.2222222222222222,
              "#7201a8"
             ],
             [
              0.3333333333333333,
              "#9c179e"
             ],
             [
              0.4444444444444444,
              "#bd3786"
             ],
             [
              0.5555555555555556,
              "#d8576b"
             ],
             [
              0.6666666666666666,
              "#ed7953"
             ],
             [
              0.7777777777777778,
              "#fb9f3a"
             ],
             [
              0.8888888888888888,
              "#fdca26"
             ],
             [
              1,
              "#f0f921"
             ]
            ],
            "type": "heatmap"
           }
          ],
          "heatmapgl": [
           {
            "colorbar": {
             "outlinewidth": 0,
             "ticks": ""
            },
            "colorscale": [
             [
              0,
              "#0d0887"
             ],
             [
              0.1111111111111111,
              "#46039f"
             ],
             [
              0.2222222222222222,
              "#7201a8"
             ],
             [
              0.3333333333333333,
              "#9c179e"
             ],
             [
              0.4444444444444444,
              "#bd3786"
             ],
             [
              0.5555555555555556,
              "#d8576b"
             ],
             [
              0.6666666666666666,
              "#ed7953"
             ],
             [
              0.7777777777777778,
              "#fb9f3a"
             ],
             [
              0.8888888888888888,
              "#fdca26"
             ],
             [
              1,
              "#f0f921"
             ]
            ],
            "type": "heatmapgl"
           }
          ],
          "histogram": [
           {
            "marker": {
             "pattern": {
              "fillmode": "overlay",
              "size": 10,
              "solidity": 0.2
             }
            },
            "type": "histogram"
           }
          ],
          "histogram2d": [
           {
            "colorbar": {
             "outlinewidth": 0,
             "ticks": ""
            },
            "colorscale": [
             [
              0,
              "#0d0887"
             ],
             [
              0.1111111111111111,
              "#46039f"
             ],
             [
              0.2222222222222222,
              "#7201a8"
             ],
             [
              0.3333333333333333,
              "#9c179e"
             ],
             [
              0.4444444444444444,
              "#bd3786"
             ],
             [
              0.5555555555555556,
              "#d8576b"
             ],
             [
              0.6666666666666666,
              "#ed7953"
             ],
             [
              0.7777777777777778,
              "#fb9f3a"
             ],
             [
              0.8888888888888888,
              "#fdca26"
             ],
             [
              1,
              "#f0f921"
             ]
            ],
            "type": "histogram2d"
           }
          ],
          "histogram2dcontour": [
           {
            "colorbar": {
             "outlinewidth": 0,
             "ticks": ""
            },
            "colorscale": [
             [
              0,
              "#0d0887"
             ],
             [
              0.1111111111111111,
              "#46039f"
             ],
             [
              0.2222222222222222,
              "#7201a8"
             ],
             [
              0.3333333333333333,
              "#9c179e"
             ],
             [
              0.4444444444444444,
              "#bd3786"
             ],
             [
              0.5555555555555556,
              "#d8576b"
             ],
             [
              0.6666666666666666,
              "#ed7953"
             ],
             [
              0.7777777777777778,
              "#fb9f3a"
             ],
             [
              0.8888888888888888,
              "#fdca26"
             ],
             [
              1,
              "#f0f921"
             ]
            ],
            "type": "histogram2dcontour"
           }
          ],
          "mesh3d": [
           {
            "colorbar": {
             "outlinewidth": 0,
             "ticks": ""
            },
            "type": "mesh3d"
           }
          ],
          "parcoords": [
           {
            "line": {
             "colorbar": {
              "outlinewidth": 0,
              "ticks": ""
             }
            },
            "type": "parcoords"
           }
          ],
          "pie": [
           {
            "automargin": true,
            "type": "pie"
           }
          ],
          "scatter": [
           {
            "fillpattern": {
             "fillmode": "overlay",
             "size": 10,
             "solidity": 0.2
            },
            "type": "scatter"
           }
          ],
          "scatter3d": [
           {
            "line": {
             "colorbar": {
              "outlinewidth": 0,
              "ticks": ""
             }
            },
            "marker": {
             "colorbar": {
              "outlinewidth": 0,
              "ticks": ""
             }
            },
            "type": "scatter3d"
           }
          ],
          "scattercarpet": [
           {
            "marker": {
             "colorbar": {
              "outlinewidth": 0,
              "ticks": ""
             }
            },
            "type": "scattercarpet"
           }
          ],
          "scattergeo": [
           {
            "marker": {
             "colorbar": {
              "outlinewidth": 0,
              "ticks": ""
             }
            },
            "type": "scattergeo"
           }
          ],
          "scattergl": [
           {
            "marker": {
             "colorbar": {
              "outlinewidth": 0,
              "ticks": ""
             }
            },
            "type": "scattergl"
           }
          ],
          "scattermapbox": [
           {
            "marker": {
             "colorbar": {
              "outlinewidth": 0,
              "ticks": ""
             }
            },
            "type": "scattermapbox"
           }
          ],
          "scatterpolar": [
           {
            "marker": {
             "colorbar": {
              "outlinewidth": 0,
              "ticks": ""
             }
            },
            "type": "scatterpolar"
           }
          ],
          "scatterpolargl": [
           {
            "marker": {
             "colorbar": {
              "outlinewidth": 0,
              "ticks": ""
             }
            },
            "type": "scatterpolargl"
           }
          ],
          "scatterternary": [
           {
            "marker": {
             "colorbar": {
              "outlinewidth": 0,
              "ticks": ""
             }
            },
            "type": "scatterternary"
           }
          ],
          "surface": [
           {
            "colorbar": {
             "outlinewidth": 0,
             "ticks": ""
            },
            "colorscale": [
             [
              0,
              "#0d0887"
             ],
             [
              0.1111111111111111,
              "#46039f"
             ],
             [
              0.2222222222222222,
              "#7201a8"
             ],
             [
              0.3333333333333333,
              "#9c179e"
             ],
             [
              0.4444444444444444,
              "#bd3786"
             ],
             [
              0.5555555555555556,
              "#d8576b"
             ],
             [
              0.6666666666666666,
              "#ed7953"
             ],
             [
              0.7777777777777778,
              "#fb9f3a"
             ],
             [
              0.8888888888888888,
              "#fdca26"
             ],
             [
              1,
              "#f0f921"
             ]
            ],
            "type": "surface"
           }
          ],
          "table": [
           {
            "cells": {
             "fill": {
              "color": "#EBF0F8"
             },
             "line": {
              "color": "white"
             }
            },
            "header": {
             "fill": {
              "color": "#C8D4E3"
             },
             "line": {
              "color": "white"
             }
            },
            "type": "table"
           }
          ]
         },
         "layout": {
          "annotationdefaults": {
           "arrowcolor": "#2a3f5f",
           "arrowhead": 0,
           "arrowwidth": 1
          },
          "autotypenumbers": "strict",
          "coloraxis": {
           "colorbar": {
            "outlinewidth": 0,
            "ticks": ""
           }
          },
          "colorscale": {
           "diverging": [
            [
             0,
             "#8e0152"
            ],
            [
             0.1,
             "#c51b7d"
            ],
            [
             0.2,
             "#de77ae"
            ],
            [
             0.3,
             "#f1b6da"
            ],
            [
             0.4,
             "#fde0ef"
            ],
            [
             0.5,
             "#f7f7f7"
            ],
            [
             0.6,
             "#e6f5d0"
            ],
            [
             0.7,
             "#b8e186"
            ],
            [
             0.8,
             "#7fbc41"
            ],
            [
             0.9,
             "#4d9221"
            ],
            [
             1,
             "#276419"
            ]
           ],
           "sequential": [
            [
             0,
             "#0d0887"
            ],
            [
             0.1111111111111111,
             "#46039f"
            ],
            [
             0.2222222222222222,
             "#7201a8"
            ],
            [
             0.3333333333333333,
             "#9c179e"
            ],
            [
             0.4444444444444444,
             "#bd3786"
            ],
            [
             0.5555555555555556,
             "#d8576b"
            ],
            [
             0.6666666666666666,
             "#ed7953"
            ],
            [
             0.7777777777777778,
             "#fb9f3a"
            ],
            [
             0.8888888888888888,
             "#fdca26"
            ],
            [
             1,
             "#f0f921"
            ]
           ],
           "sequentialminus": [
            [
             0,
             "#0d0887"
            ],
            [
             0.1111111111111111,
             "#46039f"
            ],
            [
             0.2222222222222222,
             "#7201a8"
            ],
            [
             0.3333333333333333,
             "#9c179e"
            ],
            [
             0.4444444444444444,
             "#bd3786"
            ],
            [
             0.5555555555555556,
             "#d8576b"
            ],
            [
             0.6666666666666666,
             "#ed7953"
            ],
            [
             0.7777777777777778,
             "#fb9f3a"
            ],
            [
             0.8888888888888888,
             "#fdca26"
            ],
            [
             1,
             "#f0f921"
            ]
           ]
          },
          "colorway": [
           "#636efa",
           "#EF553B",
           "#00cc96",
           "#ab63fa",
           "#FFA15A",
           "#19d3f3",
           "#FF6692",
           "#B6E880",
           "#FF97FF",
           "#FECB52"
          ],
          "font": {
           "color": "#2a3f5f"
          },
          "geo": {
           "bgcolor": "white",
           "lakecolor": "white",
           "landcolor": "#E5ECF6",
           "showlakes": true,
           "showland": true,
           "subunitcolor": "white"
          },
          "hoverlabel": {
           "align": "left"
          },
          "hovermode": "closest",
          "mapbox": {
           "style": "light"
          },
          "paper_bgcolor": "white",
          "plot_bgcolor": "#E5ECF6",
          "polar": {
           "angularaxis": {
            "gridcolor": "white",
            "linecolor": "white",
            "ticks": ""
           },
           "bgcolor": "#E5ECF6",
           "radialaxis": {
            "gridcolor": "white",
            "linecolor": "white",
            "ticks": ""
           }
          },
          "scene": {
           "xaxis": {
            "backgroundcolor": "#E5ECF6",
            "gridcolor": "white",
            "gridwidth": 2,
            "linecolor": "white",
            "showbackground": true,
            "ticks": "",
            "zerolinecolor": "white"
           },
           "yaxis": {
            "backgroundcolor": "#E5ECF6",
            "gridcolor": "white",
            "gridwidth": 2,
            "linecolor": "white",
            "showbackground": true,
            "ticks": "",
            "zerolinecolor": "white"
           },
           "zaxis": {
            "backgroundcolor": "#E5ECF6",
            "gridcolor": "white",
            "gridwidth": 2,
            "linecolor": "white",
            "showbackground": true,
            "ticks": "",
            "zerolinecolor": "white"
           }
          },
          "shapedefaults": {
           "line": {
            "color": "#2a3f5f"
           }
          },
          "ternary": {
           "aaxis": {
            "gridcolor": "white",
            "linecolor": "white",
            "ticks": ""
           },
           "baxis": {
            "gridcolor": "white",
            "linecolor": "white",
            "ticks": ""
           },
           "bgcolor": "#E5ECF6",
           "caxis": {
            "gridcolor": "white",
            "linecolor": "white",
            "ticks": ""
           }
          },
          "title": {
           "x": 0.05
          },
          "xaxis": {
           "automargin": true,
           "gridcolor": "white",
           "linecolor": "white",
           "ticks": "",
           "title": {
            "standoff": 15
           },
           "zerolinecolor": "white",
           "zerolinewidth": 2
          },
          "yaxis": {
           "automargin": true,
           "gridcolor": "white",
           "linecolor": "white",
           "ticks": "",
           "title": {
            "standoff": 15
           },
           "zerolinecolor": "white",
           "zerolinewidth": 2
          }
         }
        },
        "title": {
         "font": {
          "color": "#4D5663"
         }
        },
        "xaxis": {
         "gridcolor": "#E1E5ED",
         "showgrid": true,
         "tickfont": {
          "color": "#4D5663"
         },
         "title": {
          "font": {
           "color": "#4D5663"
          },
          "text": ""
         },
         "zerolinecolor": "#E1E5ED"
        },
        "yaxis": {
         "gridcolor": "#E1E5ED",
         "showgrid": true,
         "tickfont": {
          "color": "#4D5663"
         },
         "title": {
          "font": {
           "color": "#4D5663"
          },
          "text": ""
         },
         "zerolinecolor": "#E1E5ED"
        }
       }
      },
      "text/html": [
       "<div>                            <div id=\"4070edd0-8111-4e62-b13d-9d6f90980979\" class=\"plotly-graph-div\" style=\"height:525px; width:100%;\"></div>            <script type=\"text/javascript\">                require([\"plotly\"], function(Plotly) {                    window.PLOTLYENV=window.PLOTLYENV || {};\n",
       "                    window.PLOTLYENV.BASE_URL='https://plot.ly';                                    if (document.getElementById(\"4070edd0-8111-4e62-b13d-9d6f90980979\")) {                    Plotly.newPlot(                        \"4070edd0-8111-4e62-b13d-9d6f90980979\",                        [{\"marker\":{\"color\":\"rgba(255, 153, 51, 0.6)\",\"line\":{\"color\":\"rgba(255, 153, 51, 1.0)\",\"width\":1}},\"name\":\"None\",\"orientation\":\"v\",\"text\":\"\",\"x\":[\"A\",\"B\",\"C\",\"D\"],\"y\":[100,100,100,100],\"type\":\"bar\"}],                        {\"legend\":{\"bgcolor\":\"#F5F6F9\",\"font\":{\"color\":\"#4D5663\"}},\"paper_bgcolor\":\"#F5F6F9\",\"plot_bgcolor\":\"#F5F6F9\",\"template\":{\"data\":{\"barpolar\":[{\"marker\":{\"line\":{\"color\":\"#E5ECF6\",\"width\":0.5},\"pattern\":{\"fillmode\":\"overlay\",\"size\":10,\"solidity\":0.2}},\"type\":\"barpolar\"}],\"bar\":[{\"error_x\":{\"color\":\"#2a3f5f\"},\"error_y\":{\"color\":\"#2a3f5f\"},\"marker\":{\"line\":{\"color\":\"#E5ECF6\",\"width\":0.5},\"pattern\":{\"fillmode\":\"overlay\",\"size\":10,\"solidity\":0.2}},\"type\":\"bar\"}],\"carpet\":[{\"aaxis\":{\"endlinecolor\":\"#2a3f5f\",\"gridcolor\":\"white\",\"linecolor\":\"white\",\"minorgridcolor\":\"white\",\"startlinecolor\":\"#2a3f5f\"},\"baxis\":{\"endlinecolor\":\"#2a3f5f\",\"gridcolor\":\"white\",\"linecolor\":\"white\",\"minorgridcolor\":\"white\",\"startlinecolor\":\"#2a3f5f\"},\"type\":\"carpet\"}],\"choropleth\":[{\"colorbar\":{\"outlinewidth\":0,\"ticks\":\"\"},\"type\":\"choropleth\"}],\"contourcarpet\":[{\"colorbar\":{\"outlinewidth\":0,\"ticks\":\"\"},\"type\":\"contourcarpet\"}],\"contour\":[{\"colorbar\":{\"outlinewidth\":0,\"ticks\":\"\"},\"colorscale\":[[0.0,\"#0d0887\"],[0.1111111111111111,\"#46039f\"],[0.2222222222222222,\"#7201a8\"],[0.3333333333333333,\"#9c179e\"],[0.4444444444444444,\"#bd3786\"],[0.5555555555555556,\"#d8576b\"],[0.6666666666666666,\"#ed7953\"],[0.7777777777777778,\"#fb9f3a\"],[0.8888888888888888,\"#fdca26\"],[1.0,\"#f0f921\"]],\"type\":\"contour\"}],\"heatmapgl\":[{\"colorbar\":{\"outlinewidth\":0,\"ticks\":\"\"},\"colorscale\":[[0.0,\"#0d0887\"],[0.1111111111111111,\"#46039f\"],[0.2222222222222222,\"#7201a8\"],[0.3333333333333333,\"#9c179e\"],[0.4444444444444444,\"#bd3786\"],[0.5555555555555556,\"#d8576b\"],[0.6666666666666666,\"#ed7953\"],[0.7777777777777778,\"#fb9f3a\"],[0.8888888888888888,\"#fdca26\"],[1.0,\"#f0f921\"]],\"type\":\"heatmapgl\"}],\"heatmap\":[{\"colorbar\":{\"outlinewidth\":0,\"ticks\":\"\"},\"colorscale\":[[0.0,\"#0d0887\"],[0.1111111111111111,\"#46039f\"],[0.2222222222222222,\"#7201a8\"],[0.3333333333333333,\"#9c179e\"],[0.4444444444444444,\"#bd3786\"],[0.5555555555555556,\"#d8576b\"],[0.6666666666666666,\"#ed7953\"],[0.7777777777777778,\"#fb9f3a\"],[0.8888888888888888,\"#fdca26\"],[1.0,\"#f0f921\"]],\"type\":\"heatmap\"}],\"histogram2dcontour\":[{\"colorbar\":{\"outlinewidth\":0,\"ticks\":\"\"},\"colorscale\":[[0.0,\"#0d0887\"],[0.1111111111111111,\"#46039f\"],[0.2222222222222222,\"#7201a8\"],[0.3333333333333333,\"#9c179e\"],[0.4444444444444444,\"#bd3786\"],[0.5555555555555556,\"#d8576b\"],[0.6666666666666666,\"#ed7953\"],[0.7777777777777778,\"#fb9f3a\"],[0.8888888888888888,\"#fdca26\"],[1.0,\"#f0f921\"]],\"type\":\"histogram2dcontour\"}],\"histogram2d\":[{\"colorbar\":{\"outlinewidth\":0,\"ticks\":\"\"},\"colorscale\":[[0.0,\"#0d0887\"],[0.1111111111111111,\"#46039f\"],[0.2222222222222222,\"#7201a8\"],[0.3333333333333333,\"#9c179e\"],[0.4444444444444444,\"#bd3786\"],[0.5555555555555556,\"#d8576b\"],[0.6666666666666666,\"#ed7953\"],[0.7777777777777778,\"#fb9f3a\"],[0.8888888888888888,\"#fdca26\"],[1.0,\"#f0f921\"]],\"type\":\"histogram2d\"}],\"histogram\":[{\"marker\":{\"pattern\":{\"fillmode\":\"overlay\",\"size\":10,\"solidity\":0.2}},\"type\":\"histogram\"}],\"mesh3d\":[{\"colorbar\":{\"outlinewidth\":0,\"ticks\":\"\"},\"type\":\"mesh3d\"}],\"parcoords\":[{\"line\":{\"colorbar\":{\"outlinewidth\":0,\"ticks\":\"\"}},\"type\":\"parcoords\"}],\"pie\":[{\"automargin\":true,\"type\":\"pie\"}],\"scatter3d\":[{\"line\":{\"colorbar\":{\"outlinewidth\":0,\"ticks\":\"\"}},\"marker\":{\"colorbar\":{\"outlinewidth\":0,\"ticks\":\"\"}},\"type\":\"scatter3d\"}],\"scattercarpet\":[{\"marker\":{\"colorbar\":{\"outlinewidth\":0,\"ticks\":\"\"}},\"type\":\"scattercarpet\"}],\"scattergeo\":[{\"marker\":{\"colorbar\":{\"outlinewidth\":0,\"ticks\":\"\"}},\"type\":\"scattergeo\"}],\"scattergl\":[{\"marker\":{\"colorbar\":{\"outlinewidth\":0,\"ticks\":\"\"}},\"type\":\"scattergl\"}],\"scattermapbox\":[{\"marker\":{\"colorbar\":{\"outlinewidth\":0,\"ticks\":\"\"}},\"type\":\"scattermapbox\"}],\"scatterpolargl\":[{\"marker\":{\"colorbar\":{\"outlinewidth\":0,\"ticks\":\"\"}},\"type\":\"scatterpolargl\"}],\"scatterpolar\":[{\"marker\":{\"colorbar\":{\"outlinewidth\":0,\"ticks\":\"\"}},\"type\":\"scatterpolar\"}],\"scatter\":[{\"fillpattern\":{\"fillmode\":\"overlay\",\"size\":10,\"solidity\":0.2},\"type\":\"scatter\"}],\"scatterternary\":[{\"marker\":{\"colorbar\":{\"outlinewidth\":0,\"ticks\":\"\"}},\"type\":\"scatterternary\"}],\"surface\":[{\"colorbar\":{\"outlinewidth\":0,\"ticks\":\"\"},\"colorscale\":[[0.0,\"#0d0887\"],[0.1111111111111111,\"#46039f\"],[0.2222222222222222,\"#7201a8\"],[0.3333333333333333,\"#9c179e\"],[0.4444444444444444,\"#bd3786\"],[0.5555555555555556,\"#d8576b\"],[0.6666666666666666,\"#ed7953\"],[0.7777777777777778,\"#fb9f3a\"],[0.8888888888888888,\"#fdca26\"],[1.0,\"#f0f921\"]],\"type\":\"surface\"}],\"table\":[{\"cells\":{\"fill\":{\"color\":\"#EBF0F8\"},\"line\":{\"color\":\"white\"}},\"header\":{\"fill\":{\"color\":\"#C8D4E3\"},\"line\":{\"color\":\"white\"}},\"type\":\"table\"}]},\"layout\":{\"annotationdefaults\":{\"arrowcolor\":\"#2a3f5f\",\"arrowhead\":0,\"arrowwidth\":1},\"autotypenumbers\":\"strict\",\"coloraxis\":{\"colorbar\":{\"outlinewidth\":0,\"ticks\":\"\"}},\"colorscale\":{\"diverging\":[[0,\"#8e0152\"],[0.1,\"#c51b7d\"],[0.2,\"#de77ae\"],[0.3,\"#f1b6da\"],[0.4,\"#fde0ef\"],[0.5,\"#f7f7f7\"],[0.6,\"#e6f5d0\"],[0.7,\"#b8e186\"],[0.8,\"#7fbc41\"],[0.9,\"#4d9221\"],[1,\"#276419\"]],\"sequential\":[[0.0,\"#0d0887\"],[0.1111111111111111,\"#46039f\"],[0.2222222222222222,\"#7201a8\"],[0.3333333333333333,\"#9c179e\"],[0.4444444444444444,\"#bd3786\"],[0.5555555555555556,\"#d8576b\"],[0.6666666666666666,\"#ed7953\"],[0.7777777777777778,\"#fb9f3a\"],[0.8888888888888888,\"#fdca26\"],[1.0,\"#f0f921\"]],\"sequentialminus\":[[0.0,\"#0d0887\"],[0.1111111111111111,\"#46039f\"],[0.2222222222222222,\"#7201a8\"],[0.3333333333333333,\"#9c179e\"],[0.4444444444444444,\"#bd3786\"],[0.5555555555555556,\"#d8576b\"],[0.6666666666666666,\"#ed7953\"],[0.7777777777777778,\"#fb9f3a\"],[0.8888888888888888,\"#fdca26\"],[1.0,\"#f0f921\"]]},\"colorway\":[\"#636efa\",\"#EF553B\",\"#00cc96\",\"#ab63fa\",\"#FFA15A\",\"#19d3f3\",\"#FF6692\",\"#B6E880\",\"#FF97FF\",\"#FECB52\"],\"font\":{\"color\":\"#2a3f5f\"},\"geo\":{\"bgcolor\":\"white\",\"lakecolor\":\"white\",\"landcolor\":\"#E5ECF6\",\"showlakes\":true,\"showland\":true,\"subunitcolor\":\"white\"},\"hoverlabel\":{\"align\":\"left\"},\"hovermode\":\"closest\",\"mapbox\":{\"style\":\"light\"},\"paper_bgcolor\":\"white\",\"plot_bgcolor\":\"#E5ECF6\",\"polar\":{\"angularaxis\":{\"gridcolor\":\"white\",\"linecolor\":\"white\",\"ticks\":\"\"},\"bgcolor\":\"#E5ECF6\",\"radialaxis\":{\"gridcolor\":\"white\",\"linecolor\":\"white\",\"ticks\":\"\"}},\"scene\":{\"xaxis\":{\"backgroundcolor\":\"#E5ECF6\",\"gridcolor\":\"white\",\"gridwidth\":2,\"linecolor\":\"white\",\"showbackground\":true,\"ticks\":\"\",\"zerolinecolor\":\"white\"},\"yaxis\":{\"backgroundcolor\":\"#E5ECF6\",\"gridcolor\":\"white\",\"gridwidth\":2,\"linecolor\":\"white\",\"showbackground\":true,\"ticks\":\"\",\"zerolinecolor\":\"white\"},\"zaxis\":{\"backgroundcolor\":\"#E5ECF6\",\"gridcolor\":\"white\",\"gridwidth\":2,\"linecolor\":\"white\",\"showbackground\":true,\"ticks\":\"\",\"zerolinecolor\":\"white\"}},\"shapedefaults\":{\"line\":{\"color\":\"#2a3f5f\"}},\"ternary\":{\"aaxis\":{\"gridcolor\":\"white\",\"linecolor\":\"white\",\"ticks\":\"\"},\"baxis\":{\"gridcolor\":\"white\",\"linecolor\":\"white\",\"ticks\":\"\"},\"bgcolor\":\"#E5ECF6\",\"caxis\":{\"gridcolor\":\"white\",\"linecolor\":\"white\",\"ticks\":\"\"}},\"title\":{\"x\":0.05},\"xaxis\":{\"automargin\":true,\"gridcolor\":\"white\",\"linecolor\":\"white\",\"ticks\":\"\",\"title\":{\"standoff\":15},\"zerolinecolor\":\"white\",\"zerolinewidth\":2},\"yaxis\":{\"automargin\":true,\"gridcolor\":\"white\",\"linecolor\":\"white\",\"ticks\":\"\",\"title\":{\"standoff\":15},\"zerolinecolor\":\"white\",\"zerolinewidth\":2}}},\"title\":{\"font\":{\"color\":\"#4D5663\"}},\"xaxis\":{\"gridcolor\":\"#E1E5ED\",\"showgrid\":true,\"tickfont\":{\"color\":\"#4D5663\"},\"title\":{\"font\":{\"color\":\"#4D5663\"},\"text\":\"\"},\"zerolinecolor\":\"#E1E5ED\"},\"yaxis\":{\"gridcolor\":\"#E1E5ED\",\"showgrid\":true,\"tickfont\":{\"color\":\"#4D5663\"},\"title\":{\"font\":{\"color\":\"#4D5663\"},\"text\":\"\"},\"zerolinecolor\":\"#E1E5ED\"}},                        {\"showLink\": true, \"linkText\": \"Export to plot.ly\", \"plotlyServerURL\": \"https://plot.ly\", \"responsive\": true}                    ).then(function(){\n",
       "                            \n",
       "var gd = document.getElementById('4070edd0-8111-4e62-b13d-9d6f90980979');\n",
       "var x = new MutationObserver(function (mutations, observer) {{\n",
       "        var display = window.getComputedStyle(gd).display;\n",
       "        if (!display || display === 'none') {{\n",
       "            console.log([gd, 'removed!']);\n",
       "            Plotly.purge(gd);\n",
       "            observer.disconnect();\n",
       "        }}\n",
       "}});\n",
       "\n",
       "// Listen for the removal of the full notebook cells\n",
       "var notebookContainer = gd.closest('#notebook-container');\n",
       "if (notebookContainer) {{\n",
       "    x.observe(notebookContainer, {childList: true});\n",
       "}}\n",
       "\n",
       "// Listen for the clearing of the current output cell\n",
       "var outputEl = gd.closest('.output');\n",
       "if (outputEl) {{\n",
       "    x.observe(outputEl, {childList: true});\n",
       "}}\n",
       "\n",
       "                        })                };                });            </script>        </div>"
      ]
     },
     "metadata": {},
     "output_type": "display_data"
    }
   ],
   "source": [
    "df.count().iplot(kind='bar')"
   ]
  },
  {
   "cell_type": "code",
   "execution_count": 41,
   "metadata": {},
   "outputs": [
    {
     "data": {
      "application/vnd.plotly.v1+json": {
       "config": {
        "linkText": "Export to plot.ly",
        "plotlyServerURL": "https://plot.ly",
        "showLink": true
       },
       "data": [
        {
         "marker": {
          "color": "rgba(255, 153, 51, 0.6)",
          "line": {
           "color": "rgba(255, 153, 51, 1.0)",
           "width": 1
          }
         },
         "name": "None",
         "orientation": "v",
         "text": "",
         "type": "bar",
         "x": [
          "A",
          "B",
          "C",
          "D"
         ],
         "y": [
          1.6636278512695017,
          15.403241017275501,
          -10.50973534936233,
          9.562773766551306
         ]
        }
       ],
       "layout": {
        "legend": {
         "bgcolor": "#F5F6F9",
         "font": {
          "color": "#4D5663"
         }
        },
        "paper_bgcolor": "#F5F6F9",
        "plot_bgcolor": "#F5F6F9",
        "template": {
         "data": {
          "bar": [
           {
            "error_x": {
             "color": "#2a3f5f"
            },
            "error_y": {
             "color": "#2a3f5f"
            },
            "marker": {
             "line": {
              "color": "#E5ECF6",
              "width": 0.5
             },
             "pattern": {
              "fillmode": "overlay",
              "size": 10,
              "solidity": 0.2
             }
            },
            "type": "bar"
           }
          ],
          "barpolar": [
           {
            "marker": {
             "line": {
              "color": "#E5ECF6",
              "width": 0.5
             },
             "pattern": {
              "fillmode": "overlay",
              "size": 10,
              "solidity": 0.2
             }
            },
            "type": "barpolar"
           }
          ],
          "carpet": [
           {
            "aaxis": {
             "endlinecolor": "#2a3f5f",
             "gridcolor": "white",
             "linecolor": "white",
             "minorgridcolor": "white",
             "startlinecolor": "#2a3f5f"
            },
            "baxis": {
             "endlinecolor": "#2a3f5f",
             "gridcolor": "white",
             "linecolor": "white",
             "minorgridcolor": "white",
             "startlinecolor": "#2a3f5f"
            },
            "type": "carpet"
           }
          ],
          "choropleth": [
           {
            "colorbar": {
             "outlinewidth": 0,
             "ticks": ""
            },
            "type": "choropleth"
           }
          ],
          "contour": [
           {
            "colorbar": {
             "outlinewidth": 0,
             "ticks": ""
            },
            "colorscale": [
             [
              0,
              "#0d0887"
             ],
             [
              0.1111111111111111,
              "#46039f"
             ],
             [
              0.2222222222222222,
              "#7201a8"
             ],
             [
              0.3333333333333333,
              "#9c179e"
             ],
             [
              0.4444444444444444,
              "#bd3786"
             ],
             [
              0.5555555555555556,
              "#d8576b"
             ],
             [
              0.6666666666666666,
              "#ed7953"
             ],
             [
              0.7777777777777778,
              "#fb9f3a"
             ],
             [
              0.8888888888888888,
              "#fdca26"
             ],
             [
              1,
              "#f0f921"
             ]
            ],
            "type": "contour"
           }
          ],
          "contourcarpet": [
           {
            "colorbar": {
             "outlinewidth": 0,
             "ticks": ""
            },
            "type": "contourcarpet"
           }
          ],
          "heatmap": [
           {
            "colorbar": {
             "outlinewidth": 0,
             "ticks": ""
            },
            "colorscale": [
             [
              0,
              "#0d0887"
             ],
             [
              0.1111111111111111,
              "#46039f"
             ],
             [
              0.2222222222222222,
              "#7201a8"
             ],
             [
              0.3333333333333333,
              "#9c179e"
             ],
             [
              0.4444444444444444,
              "#bd3786"
             ],
             [
              0.5555555555555556,
              "#d8576b"
             ],
             [
              0.6666666666666666,
              "#ed7953"
             ],
             [
              0.7777777777777778,
              "#fb9f3a"
             ],
             [
              0.8888888888888888,
              "#fdca26"
             ],
             [
              1,
              "#f0f921"
             ]
            ],
            "type": "heatmap"
           }
          ],
          "heatmapgl": [
           {
            "colorbar": {
             "outlinewidth": 0,
             "ticks": ""
            },
            "colorscale": [
             [
              0,
              "#0d0887"
             ],
             [
              0.1111111111111111,
              "#46039f"
             ],
             [
              0.2222222222222222,
              "#7201a8"
             ],
             [
              0.3333333333333333,
              "#9c179e"
             ],
             [
              0.4444444444444444,
              "#bd3786"
             ],
             [
              0.5555555555555556,
              "#d8576b"
             ],
             [
              0.6666666666666666,
              "#ed7953"
             ],
             [
              0.7777777777777778,
              "#fb9f3a"
             ],
             [
              0.8888888888888888,
              "#fdca26"
             ],
             [
              1,
              "#f0f921"
             ]
            ],
            "type": "heatmapgl"
           }
          ],
          "histogram": [
           {
            "marker": {
             "pattern": {
              "fillmode": "overlay",
              "size": 10,
              "solidity": 0.2
             }
            },
            "type": "histogram"
           }
          ],
          "histogram2d": [
           {
            "colorbar": {
             "outlinewidth": 0,
             "ticks": ""
            },
            "colorscale": [
             [
              0,
              "#0d0887"
             ],
             [
              0.1111111111111111,
              "#46039f"
             ],
             [
              0.2222222222222222,
              "#7201a8"
             ],
             [
              0.3333333333333333,
              "#9c179e"
             ],
             [
              0.4444444444444444,
              "#bd3786"
             ],
             [
              0.5555555555555556,
              "#d8576b"
             ],
             [
              0.6666666666666666,
              "#ed7953"
             ],
             [
              0.7777777777777778,
              "#fb9f3a"
             ],
             [
              0.8888888888888888,
              "#fdca26"
             ],
             [
              1,
              "#f0f921"
             ]
            ],
            "type": "histogram2d"
           }
          ],
          "histogram2dcontour": [
           {
            "colorbar": {
             "outlinewidth": 0,
             "ticks": ""
            },
            "colorscale": [
             [
              0,
              "#0d0887"
             ],
             [
              0.1111111111111111,
              "#46039f"
             ],
             [
              0.2222222222222222,
              "#7201a8"
             ],
             [
              0.3333333333333333,
              "#9c179e"
             ],
             [
              0.4444444444444444,
              "#bd3786"
             ],
             [
              0.5555555555555556,
              "#d8576b"
             ],
             [
              0.6666666666666666,
              "#ed7953"
             ],
             [
              0.7777777777777778,
              "#fb9f3a"
             ],
             [
              0.8888888888888888,
              "#fdca26"
             ],
             [
              1,
              "#f0f921"
             ]
            ],
            "type": "histogram2dcontour"
           }
          ],
          "mesh3d": [
           {
            "colorbar": {
             "outlinewidth": 0,
             "ticks": ""
            },
            "type": "mesh3d"
           }
          ],
          "parcoords": [
           {
            "line": {
             "colorbar": {
              "outlinewidth": 0,
              "ticks": ""
             }
            },
            "type": "parcoords"
           }
          ],
          "pie": [
           {
            "automargin": true,
            "type": "pie"
           }
          ],
          "scatter": [
           {
            "fillpattern": {
             "fillmode": "overlay",
             "size": 10,
             "solidity": 0.2
            },
            "type": "scatter"
           }
          ],
          "scatter3d": [
           {
            "line": {
             "colorbar": {
              "outlinewidth": 0,
              "ticks": ""
             }
            },
            "marker": {
             "colorbar": {
              "outlinewidth": 0,
              "ticks": ""
             }
            },
            "type": "scatter3d"
           }
          ],
          "scattercarpet": [
           {
            "marker": {
             "colorbar": {
              "outlinewidth": 0,
              "ticks": ""
             }
            },
            "type": "scattercarpet"
           }
          ],
          "scattergeo": [
           {
            "marker": {
             "colorbar": {
              "outlinewidth": 0,
              "ticks": ""
             }
            },
            "type": "scattergeo"
           }
          ],
          "scattergl": [
           {
            "marker": {
             "colorbar": {
              "outlinewidth": 0,
              "ticks": ""
             }
            },
            "type": "scattergl"
           }
          ],
          "scattermapbox": [
           {
            "marker": {
             "colorbar": {
              "outlinewidth": 0,
              "ticks": ""
             }
            },
            "type": "scattermapbox"
           }
          ],
          "scatterpolar": [
           {
            "marker": {
             "colorbar": {
              "outlinewidth": 0,
              "ticks": ""
             }
            },
            "type": "scatterpolar"
           }
          ],
          "scatterpolargl": [
           {
            "marker": {
             "colorbar": {
              "outlinewidth": 0,
              "ticks": ""
             }
            },
            "type": "scatterpolargl"
           }
          ],
          "scatterternary": [
           {
            "marker": {
             "colorbar": {
              "outlinewidth": 0,
              "ticks": ""
             }
            },
            "type": "scatterternary"
           }
          ],
          "surface": [
           {
            "colorbar": {
             "outlinewidth": 0,
             "ticks": ""
            },
            "colorscale": [
             [
              0,
              "#0d0887"
             ],
             [
              0.1111111111111111,
              "#46039f"
             ],
             [
              0.2222222222222222,
              "#7201a8"
             ],
             [
              0.3333333333333333,
              "#9c179e"
             ],
             [
              0.4444444444444444,
              "#bd3786"
             ],
             [
              0.5555555555555556,
              "#d8576b"
             ],
             [
              0.6666666666666666,
              "#ed7953"
             ],
             [
              0.7777777777777778,
              "#fb9f3a"
             ],
             [
              0.8888888888888888,
              "#fdca26"
             ],
             [
              1,
              "#f0f921"
             ]
            ],
            "type": "surface"
           }
          ],
          "table": [
           {
            "cells": {
             "fill": {
              "color": "#EBF0F8"
             },
             "line": {
              "color": "white"
             }
            },
            "header": {
             "fill": {
              "color": "#C8D4E3"
             },
             "line": {
              "color": "white"
             }
            },
            "type": "table"
           }
          ]
         },
         "layout": {
          "annotationdefaults": {
           "arrowcolor": "#2a3f5f",
           "arrowhead": 0,
           "arrowwidth": 1
          },
          "autotypenumbers": "strict",
          "coloraxis": {
           "colorbar": {
            "outlinewidth": 0,
            "ticks": ""
           }
          },
          "colorscale": {
           "diverging": [
            [
             0,
             "#8e0152"
            ],
            [
             0.1,
             "#c51b7d"
            ],
            [
             0.2,
             "#de77ae"
            ],
            [
             0.3,
             "#f1b6da"
            ],
            [
             0.4,
             "#fde0ef"
            ],
            [
             0.5,
             "#f7f7f7"
            ],
            [
             0.6,
             "#e6f5d0"
            ],
            [
             0.7,
             "#b8e186"
            ],
            [
             0.8,
             "#7fbc41"
            ],
            [
             0.9,
             "#4d9221"
            ],
            [
             1,
             "#276419"
            ]
           ],
           "sequential": [
            [
             0,
             "#0d0887"
            ],
            [
             0.1111111111111111,
             "#46039f"
            ],
            [
             0.2222222222222222,
             "#7201a8"
            ],
            [
             0.3333333333333333,
             "#9c179e"
            ],
            [
             0.4444444444444444,
             "#bd3786"
            ],
            [
             0.5555555555555556,
             "#d8576b"
            ],
            [
             0.6666666666666666,
             "#ed7953"
            ],
            [
             0.7777777777777778,
             "#fb9f3a"
            ],
            [
             0.8888888888888888,
             "#fdca26"
            ],
            [
             1,
             "#f0f921"
            ]
           ],
           "sequentialminus": [
            [
             0,
             "#0d0887"
            ],
            [
             0.1111111111111111,
             "#46039f"
            ],
            [
             0.2222222222222222,
             "#7201a8"
            ],
            [
             0.3333333333333333,
             "#9c179e"
            ],
            [
             0.4444444444444444,
             "#bd3786"
            ],
            [
             0.5555555555555556,
             "#d8576b"
            ],
            [
             0.6666666666666666,
             "#ed7953"
            ],
            [
             0.7777777777777778,
             "#fb9f3a"
            ],
            [
             0.8888888888888888,
             "#fdca26"
            ],
            [
             1,
             "#f0f921"
            ]
           ]
          },
          "colorway": [
           "#636efa",
           "#EF553B",
           "#00cc96",
           "#ab63fa",
           "#FFA15A",
           "#19d3f3",
           "#FF6692",
           "#B6E880",
           "#FF97FF",
           "#FECB52"
          ],
          "font": {
           "color": "#2a3f5f"
          },
          "geo": {
           "bgcolor": "white",
           "lakecolor": "white",
           "landcolor": "#E5ECF6",
           "showlakes": true,
           "showland": true,
           "subunitcolor": "white"
          },
          "hoverlabel": {
           "align": "left"
          },
          "hovermode": "closest",
          "mapbox": {
           "style": "light"
          },
          "paper_bgcolor": "white",
          "plot_bgcolor": "#E5ECF6",
          "polar": {
           "angularaxis": {
            "gridcolor": "white",
            "linecolor": "white",
            "ticks": ""
           },
           "bgcolor": "#E5ECF6",
           "radialaxis": {
            "gridcolor": "white",
            "linecolor": "white",
            "ticks": ""
           }
          },
          "scene": {
           "xaxis": {
            "backgroundcolor": "#E5ECF6",
            "gridcolor": "white",
            "gridwidth": 2,
            "linecolor": "white",
            "showbackground": true,
            "ticks": "",
            "zerolinecolor": "white"
           },
           "yaxis": {
            "backgroundcolor": "#E5ECF6",
            "gridcolor": "white",
            "gridwidth": 2,
            "linecolor": "white",
            "showbackground": true,
            "ticks": "",
            "zerolinecolor": "white"
           },
           "zaxis": {
            "backgroundcolor": "#E5ECF6",
            "gridcolor": "white",
            "gridwidth": 2,
            "linecolor": "white",
            "showbackground": true,
            "ticks": "",
            "zerolinecolor": "white"
           }
          },
          "shapedefaults": {
           "line": {
            "color": "#2a3f5f"
           }
          },
          "ternary": {
           "aaxis": {
            "gridcolor": "white",
            "linecolor": "white",
            "ticks": ""
           },
           "baxis": {
            "gridcolor": "white",
            "linecolor": "white",
            "ticks": ""
           },
           "bgcolor": "#E5ECF6",
           "caxis": {
            "gridcolor": "white",
            "linecolor": "white",
            "ticks": ""
           }
          },
          "title": {
           "x": 0.05
          },
          "xaxis": {
           "automargin": true,
           "gridcolor": "white",
           "linecolor": "white",
           "ticks": "",
           "title": {
            "standoff": 15
           },
           "zerolinecolor": "white",
           "zerolinewidth": 2
          },
          "yaxis": {
           "automargin": true,
           "gridcolor": "white",
           "linecolor": "white",
           "ticks": "",
           "title": {
            "standoff": 15
           },
           "zerolinecolor": "white",
           "zerolinewidth": 2
          }
         }
        },
        "title": {
         "font": {
          "color": "#4D5663"
         }
        },
        "xaxis": {
         "gridcolor": "#E1E5ED",
         "showgrid": true,
         "tickfont": {
          "color": "#4D5663"
         },
         "title": {
          "font": {
           "color": "#4D5663"
          },
          "text": ""
         },
         "zerolinecolor": "#E1E5ED"
        },
        "yaxis": {
         "gridcolor": "#E1E5ED",
         "showgrid": true,
         "tickfont": {
          "color": "#4D5663"
         },
         "title": {
          "font": {
           "color": "#4D5663"
          },
          "text": ""
         },
         "zerolinecolor": "#E1E5ED"
        }
       }
      },
      "text/html": [
       "<div>                            <div id=\"8fd7ca89-1d5a-42e3-950d-2414d4d7db1f\" class=\"plotly-graph-div\" style=\"height:525px; width:100%;\"></div>            <script type=\"text/javascript\">                require([\"plotly\"], function(Plotly) {                    window.PLOTLYENV=window.PLOTLYENV || {};\n",
       "                    window.PLOTLYENV.BASE_URL='https://plot.ly';                                    if (document.getElementById(\"8fd7ca89-1d5a-42e3-950d-2414d4d7db1f\")) {                    Plotly.newPlot(                        \"8fd7ca89-1d5a-42e3-950d-2414d4d7db1f\",                        [{\"marker\":{\"color\":\"rgba(255, 153, 51, 0.6)\",\"line\":{\"color\":\"rgba(255, 153, 51, 1.0)\",\"width\":1}},\"name\":\"None\",\"orientation\":\"v\",\"text\":\"\",\"x\":[\"A\",\"B\",\"C\",\"D\"],\"y\":[1.6636278512695017,15.403241017275501,-10.50973534936233,9.562773766551306],\"type\":\"bar\"}],                        {\"legend\":{\"bgcolor\":\"#F5F6F9\",\"font\":{\"color\":\"#4D5663\"}},\"paper_bgcolor\":\"#F5F6F9\",\"plot_bgcolor\":\"#F5F6F9\",\"template\":{\"data\":{\"barpolar\":[{\"marker\":{\"line\":{\"color\":\"#E5ECF6\",\"width\":0.5},\"pattern\":{\"fillmode\":\"overlay\",\"size\":10,\"solidity\":0.2}},\"type\":\"barpolar\"}],\"bar\":[{\"error_x\":{\"color\":\"#2a3f5f\"},\"error_y\":{\"color\":\"#2a3f5f\"},\"marker\":{\"line\":{\"color\":\"#E5ECF6\",\"width\":0.5},\"pattern\":{\"fillmode\":\"overlay\",\"size\":10,\"solidity\":0.2}},\"type\":\"bar\"}],\"carpet\":[{\"aaxis\":{\"endlinecolor\":\"#2a3f5f\",\"gridcolor\":\"white\",\"linecolor\":\"white\",\"minorgridcolor\":\"white\",\"startlinecolor\":\"#2a3f5f\"},\"baxis\":{\"endlinecolor\":\"#2a3f5f\",\"gridcolor\":\"white\",\"linecolor\":\"white\",\"minorgridcolor\":\"white\",\"startlinecolor\":\"#2a3f5f\"},\"type\":\"carpet\"}],\"choropleth\":[{\"colorbar\":{\"outlinewidth\":0,\"ticks\":\"\"},\"type\":\"choropleth\"}],\"contourcarpet\":[{\"colorbar\":{\"outlinewidth\":0,\"ticks\":\"\"},\"type\":\"contourcarpet\"}],\"contour\":[{\"colorbar\":{\"outlinewidth\":0,\"ticks\":\"\"},\"colorscale\":[[0.0,\"#0d0887\"],[0.1111111111111111,\"#46039f\"],[0.2222222222222222,\"#7201a8\"],[0.3333333333333333,\"#9c179e\"],[0.4444444444444444,\"#bd3786\"],[0.5555555555555556,\"#d8576b\"],[0.6666666666666666,\"#ed7953\"],[0.7777777777777778,\"#fb9f3a\"],[0.8888888888888888,\"#fdca26\"],[1.0,\"#f0f921\"]],\"type\":\"contour\"}],\"heatmapgl\":[{\"colorbar\":{\"outlinewidth\":0,\"ticks\":\"\"},\"colorscale\":[[0.0,\"#0d0887\"],[0.1111111111111111,\"#46039f\"],[0.2222222222222222,\"#7201a8\"],[0.3333333333333333,\"#9c179e\"],[0.4444444444444444,\"#bd3786\"],[0.5555555555555556,\"#d8576b\"],[0.6666666666666666,\"#ed7953\"],[0.7777777777777778,\"#fb9f3a\"],[0.8888888888888888,\"#fdca26\"],[1.0,\"#f0f921\"]],\"type\":\"heatmapgl\"}],\"heatmap\":[{\"colorbar\":{\"outlinewidth\":0,\"ticks\":\"\"},\"colorscale\":[[0.0,\"#0d0887\"],[0.1111111111111111,\"#46039f\"],[0.2222222222222222,\"#7201a8\"],[0.3333333333333333,\"#9c179e\"],[0.4444444444444444,\"#bd3786\"],[0.5555555555555556,\"#d8576b\"],[0.6666666666666666,\"#ed7953\"],[0.7777777777777778,\"#fb9f3a\"],[0.8888888888888888,\"#fdca26\"],[1.0,\"#f0f921\"]],\"type\":\"heatmap\"}],\"histogram2dcontour\":[{\"colorbar\":{\"outlinewidth\":0,\"ticks\":\"\"},\"colorscale\":[[0.0,\"#0d0887\"],[0.1111111111111111,\"#46039f\"],[0.2222222222222222,\"#7201a8\"],[0.3333333333333333,\"#9c179e\"],[0.4444444444444444,\"#bd3786\"],[0.5555555555555556,\"#d8576b\"],[0.6666666666666666,\"#ed7953\"],[0.7777777777777778,\"#fb9f3a\"],[0.8888888888888888,\"#fdca26\"],[1.0,\"#f0f921\"]],\"type\":\"histogram2dcontour\"}],\"histogram2d\":[{\"colorbar\":{\"outlinewidth\":0,\"ticks\":\"\"},\"colorscale\":[[0.0,\"#0d0887\"],[0.1111111111111111,\"#46039f\"],[0.2222222222222222,\"#7201a8\"],[0.3333333333333333,\"#9c179e\"],[0.4444444444444444,\"#bd3786\"],[0.5555555555555556,\"#d8576b\"],[0.6666666666666666,\"#ed7953\"],[0.7777777777777778,\"#fb9f3a\"],[0.8888888888888888,\"#fdca26\"],[1.0,\"#f0f921\"]],\"type\":\"histogram2d\"}],\"histogram\":[{\"marker\":{\"pattern\":{\"fillmode\":\"overlay\",\"size\":10,\"solidity\":0.2}},\"type\":\"histogram\"}],\"mesh3d\":[{\"colorbar\":{\"outlinewidth\":0,\"ticks\":\"\"},\"type\":\"mesh3d\"}],\"parcoords\":[{\"line\":{\"colorbar\":{\"outlinewidth\":0,\"ticks\":\"\"}},\"type\":\"parcoords\"}],\"pie\":[{\"automargin\":true,\"type\":\"pie\"}],\"scatter3d\":[{\"line\":{\"colorbar\":{\"outlinewidth\":0,\"ticks\":\"\"}},\"marker\":{\"colorbar\":{\"outlinewidth\":0,\"ticks\":\"\"}},\"type\":\"scatter3d\"}],\"scattercarpet\":[{\"marker\":{\"colorbar\":{\"outlinewidth\":0,\"ticks\":\"\"}},\"type\":\"scattercarpet\"}],\"scattergeo\":[{\"marker\":{\"colorbar\":{\"outlinewidth\":0,\"ticks\":\"\"}},\"type\":\"scattergeo\"}],\"scattergl\":[{\"marker\":{\"colorbar\":{\"outlinewidth\":0,\"ticks\":\"\"}},\"type\":\"scattergl\"}],\"scattermapbox\":[{\"marker\":{\"colorbar\":{\"outlinewidth\":0,\"ticks\":\"\"}},\"type\":\"scattermapbox\"}],\"scatterpolargl\":[{\"marker\":{\"colorbar\":{\"outlinewidth\":0,\"ticks\":\"\"}},\"type\":\"scatterpolargl\"}],\"scatterpolar\":[{\"marker\":{\"colorbar\":{\"outlinewidth\":0,\"ticks\":\"\"}},\"type\":\"scatterpolar\"}],\"scatter\":[{\"fillpattern\":{\"fillmode\":\"overlay\",\"size\":10,\"solidity\":0.2},\"type\":\"scatter\"}],\"scatterternary\":[{\"marker\":{\"colorbar\":{\"outlinewidth\":0,\"ticks\":\"\"}},\"type\":\"scatterternary\"}],\"surface\":[{\"colorbar\":{\"outlinewidth\":0,\"ticks\":\"\"},\"colorscale\":[[0.0,\"#0d0887\"],[0.1111111111111111,\"#46039f\"],[0.2222222222222222,\"#7201a8\"],[0.3333333333333333,\"#9c179e\"],[0.4444444444444444,\"#bd3786\"],[0.5555555555555556,\"#d8576b\"],[0.6666666666666666,\"#ed7953\"],[0.7777777777777778,\"#fb9f3a\"],[0.8888888888888888,\"#fdca26\"],[1.0,\"#f0f921\"]],\"type\":\"surface\"}],\"table\":[{\"cells\":{\"fill\":{\"color\":\"#EBF0F8\"},\"line\":{\"color\":\"white\"}},\"header\":{\"fill\":{\"color\":\"#C8D4E3\"},\"line\":{\"color\":\"white\"}},\"type\":\"table\"}]},\"layout\":{\"annotationdefaults\":{\"arrowcolor\":\"#2a3f5f\",\"arrowhead\":0,\"arrowwidth\":1},\"autotypenumbers\":\"strict\",\"coloraxis\":{\"colorbar\":{\"outlinewidth\":0,\"ticks\":\"\"}},\"colorscale\":{\"diverging\":[[0,\"#8e0152\"],[0.1,\"#c51b7d\"],[0.2,\"#de77ae\"],[0.3,\"#f1b6da\"],[0.4,\"#fde0ef\"],[0.5,\"#f7f7f7\"],[0.6,\"#e6f5d0\"],[0.7,\"#b8e186\"],[0.8,\"#7fbc41\"],[0.9,\"#4d9221\"],[1,\"#276419\"]],\"sequential\":[[0.0,\"#0d0887\"],[0.1111111111111111,\"#46039f\"],[0.2222222222222222,\"#7201a8\"],[0.3333333333333333,\"#9c179e\"],[0.4444444444444444,\"#bd3786\"],[0.5555555555555556,\"#d8576b\"],[0.6666666666666666,\"#ed7953\"],[0.7777777777777778,\"#fb9f3a\"],[0.8888888888888888,\"#fdca26\"],[1.0,\"#f0f921\"]],\"sequentialminus\":[[0.0,\"#0d0887\"],[0.1111111111111111,\"#46039f\"],[0.2222222222222222,\"#7201a8\"],[0.3333333333333333,\"#9c179e\"],[0.4444444444444444,\"#bd3786\"],[0.5555555555555556,\"#d8576b\"],[0.6666666666666666,\"#ed7953\"],[0.7777777777777778,\"#fb9f3a\"],[0.8888888888888888,\"#fdca26\"],[1.0,\"#f0f921\"]]},\"colorway\":[\"#636efa\",\"#EF553B\",\"#00cc96\",\"#ab63fa\",\"#FFA15A\",\"#19d3f3\",\"#FF6692\",\"#B6E880\",\"#FF97FF\",\"#FECB52\"],\"font\":{\"color\":\"#2a3f5f\"},\"geo\":{\"bgcolor\":\"white\",\"lakecolor\":\"white\",\"landcolor\":\"#E5ECF6\",\"showlakes\":true,\"showland\":true,\"subunitcolor\":\"white\"},\"hoverlabel\":{\"align\":\"left\"},\"hovermode\":\"closest\",\"mapbox\":{\"style\":\"light\"},\"paper_bgcolor\":\"white\",\"plot_bgcolor\":\"#E5ECF6\",\"polar\":{\"angularaxis\":{\"gridcolor\":\"white\",\"linecolor\":\"white\",\"ticks\":\"\"},\"bgcolor\":\"#E5ECF6\",\"radialaxis\":{\"gridcolor\":\"white\",\"linecolor\":\"white\",\"ticks\":\"\"}},\"scene\":{\"xaxis\":{\"backgroundcolor\":\"#E5ECF6\",\"gridcolor\":\"white\",\"gridwidth\":2,\"linecolor\":\"white\",\"showbackground\":true,\"ticks\":\"\",\"zerolinecolor\":\"white\"},\"yaxis\":{\"backgroundcolor\":\"#E5ECF6\",\"gridcolor\":\"white\",\"gridwidth\":2,\"linecolor\":\"white\",\"showbackground\":true,\"ticks\":\"\",\"zerolinecolor\":\"white\"},\"zaxis\":{\"backgroundcolor\":\"#E5ECF6\",\"gridcolor\":\"white\",\"gridwidth\":2,\"linecolor\":\"white\",\"showbackground\":true,\"ticks\":\"\",\"zerolinecolor\":\"white\"}},\"shapedefaults\":{\"line\":{\"color\":\"#2a3f5f\"}},\"ternary\":{\"aaxis\":{\"gridcolor\":\"white\",\"linecolor\":\"white\",\"ticks\":\"\"},\"baxis\":{\"gridcolor\":\"white\",\"linecolor\":\"white\",\"ticks\":\"\"},\"bgcolor\":\"#E5ECF6\",\"caxis\":{\"gridcolor\":\"white\",\"linecolor\":\"white\",\"ticks\":\"\"}},\"title\":{\"x\":0.05},\"xaxis\":{\"automargin\":true,\"gridcolor\":\"white\",\"linecolor\":\"white\",\"ticks\":\"\",\"title\":{\"standoff\":15},\"zerolinecolor\":\"white\",\"zerolinewidth\":2},\"yaxis\":{\"automargin\":true,\"gridcolor\":\"white\",\"linecolor\":\"white\",\"ticks\":\"\",\"title\":{\"standoff\":15},\"zerolinecolor\":\"white\",\"zerolinewidth\":2}}},\"title\":{\"font\":{\"color\":\"#4D5663\"}},\"xaxis\":{\"gridcolor\":\"#E1E5ED\",\"showgrid\":true,\"tickfont\":{\"color\":\"#4D5663\"},\"title\":{\"font\":{\"color\":\"#4D5663\"},\"text\":\"\"},\"zerolinecolor\":\"#E1E5ED\"},\"yaxis\":{\"gridcolor\":\"#E1E5ED\",\"showgrid\":true,\"tickfont\":{\"color\":\"#4D5663\"},\"title\":{\"font\":{\"color\":\"#4D5663\"},\"text\":\"\"},\"zerolinecolor\":\"#E1E5ED\"}},                        {\"showLink\": true, \"linkText\": \"Export to plot.ly\", \"plotlyServerURL\": \"https://plot.ly\", \"responsive\": true}                    ).then(function(){\n",
       "                            \n",
       "var gd = document.getElementById('8fd7ca89-1d5a-42e3-950d-2414d4d7db1f');\n",
       "var x = new MutationObserver(function (mutations, observer) {{\n",
       "        var display = window.getComputedStyle(gd).display;\n",
       "        if (!display || display === 'none') {{\n",
       "            console.log([gd, 'removed!']);\n",
       "            Plotly.purge(gd);\n",
       "            observer.disconnect();\n",
       "        }}\n",
       "}});\n",
       "\n",
       "// Listen for the removal of the full notebook cells\n",
       "var notebookContainer = gd.closest('#notebook-container');\n",
       "if (notebookContainer) {{\n",
       "    x.observe(notebookContainer, {childList: true});\n",
       "}}\n",
       "\n",
       "// Listen for the clearing of the current output cell\n",
       "var outputEl = gd.closest('.output');\n",
       "if (outputEl) {{\n",
       "    x.observe(outputEl, {childList: true});\n",
       "}}\n",
       "\n",
       "                        })                };                });            </script>        </div>"
      ]
     },
     "metadata": {},
     "output_type": "display_data"
    }
   ],
   "source": [
    "df.sum().iplot(kind='bar')"
   ]
  },
  {
   "cell_type": "markdown",
   "metadata": {},
   "source": [
    "## Boxplots"
   ]
  },
  {
   "cell_type": "code",
   "execution_count": 42,
   "metadata": {},
   "outputs": [
    {
     "data": {
      "application/vnd.plotly.v1+json": {
       "config": {
        "linkText": "Export to plot.ly",
        "plotlyServerURL": "https://plot.ly",
        "showLink": true
       },
       "data": [
        {
         "boxpoints": false,
         "line": {
          "width": 1.3
         },
         "marker": {
          "color": "rgba(255, 153, 51, 1.0)"
         },
         "name": "A",
         "orientation": "v",
         "type": "box",
         "y": [
          -0.4115038731053773,
          -0.49582647792730933,
          0.6715039515278375,
          -0.7228439533683615,
          -1.0163644309323503,
          -1.6771187460497037,
          0.1426942594043106,
          0.010733057367568256,
          -0.2757248886421378,
          0.43634248238396767,
          -0.31625760352765825,
          1.0788695418388297,
          -1.3650683550356226,
          3.3295296907918908,
          1.2448035616874729,
          3.567907542703827,
          -1.2585894835205205,
          -0.7578902845652957,
          0.961097206466587,
          -0.22999127206120065,
          0.6355315190013411,
          -0.36640556130886015,
          -0.2359925976152816,
          0.6673896386703786,
          1.1118429093534206,
          1.0437621305016933,
          2.139732992997837,
          -0.5236645252310186,
          1.139886268203172,
          -1.8176105247030476,
          1.9016562907969128,
          0.5611763439299505,
          1.1863070628387569,
          -0.7993614395088802,
          -0.9268837477538382,
          1.3729270460114111,
          -2.235935935570002,
          -0.2799295467449602,
          -0.43376234483213355,
          -0.5243245831093638,
          -0.38600115945410135,
          -1.3599235166505075,
          -0.32119363857062766,
          0.27802374924973083,
          -0.28865745131943243,
          -2.2447838364351265,
          0.41572772303099154,
          -0.6729677858079124,
          0.3365952342631071,
          -0.42526332525683985,
          0.0839719329428044,
          -0.42767437800103897,
          -1.0035137994991385,
          -2.166642613122833,
          0.46360762343438955,
          -0.23745818472369123,
          0.9098292268808831,
          0.2141601647321144,
          -0.15744101383067263,
          -1.467649085021929,
          0.6621485851703116,
          -0.8598313197446324,
          0.10187808206059304,
          0.2438722144197782,
          1.8871003222668867,
          -0.5959777327995854,
          -0.05383220104909009,
          1.9217840425297361,
          1.4672698064203502,
          0.3982542762139769,
          0.004494820302078757,
          -1.363266704463435,
          -0.3383320859684264,
          -1.9948896538406473,
          -0.41325343868616204,
          0.17825113054126104,
          0.6340245373609271,
          0.43859956361879593,
          -0.6578477062991168,
          0.38778746921351653,
          -0.594250066209521,
          -0.8491583522129205,
          0.2716301090805724,
          1.665090431012535,
          0.5914792364899399,
          -1.3333439007396537,
          -0.3480441111400766,
          1.5047931302741744,
          1.5972618958250668,
          1.7008755333460621,
          0.5150358045518847,
          -0.1976070256189633,
          -1.2680496771545622,
          -0.6871816841822501,
          0.36439994493622735,
          0.3427615210908248,
          -0.9201279626113359,
          0.4755993371367693,
          0.37629736026692095,
          -1.6674568683437216
         ]
        },
        {
         "boxpoints": false,
         "line": {
          "width": 1.3
         },
         "marker": {
          "color": "rgba(55, 128, 191, 1.0)"
         },
         "name": "B",
         "orientation": "v",
         "type": "box",
         "y": [
          -1.4305731294486232,
          0.9807190014899824,
          -1.0140748716230523,
          -1.5160479694028781,
          0.08365899582671213,
          -0.9794348438041677,
          0.08039100336480866,
          -0.38620152988385487,
          0.7203864725872914,
          -0.3627743143627477,
          0.6906005220034608,
          -0.27652058601410145,
          0.28831869941097654,
          1.4438561407269055,
          1.0020674345178482,
          1.3657923506545961,
          0.8917550027505843,
          -0.5873052322447015,
          1.4394241421913423,
          -1.1823295994022869,
          0.48004408303977236,
          -0.9954568496222879,
          -0.4491627396631762,
          0.23781870826368207,
          0.39794648816463896,
          -1.0462274230665645,
          -1.0219333474135248,
          0.6382625121026199,
          0.7391063858417758,
          -0.006065534822558962,
          0.18884574548061528,
          0.582880659111706,
          -0.5323462342888212,
          0.9402583707995257,
          1.7994968197538437,
          -1.5804326583155233,
          -0.5498576008022996,
          -0.41586487996867555,
          -2.594438473380876,
          -0.20792628568089838,
          -0.05371153893023452,
          1.111311390110987,
          1.043087154127094,
          0.35648676024702847,
          0.7406413495945469,
          -1.7174901393497024,
          -0.5055206163892351,
          0.12444380491205628,
          0.2635168161584073,
          1.797430855129327,
          0.14163338680020648,
          2.195246757411419,
          1.3348708114974404,
          2.299036977743916,
          -1.5774051814618686,
          1.7117732762461901,
          0.37674565026187756,
          -0.6997844473879765,
          -1.0219500087855766,
          -2.631738198091557,
          -0.38120837544237773,
          0.4153454326347774,
          -1.1057341522928317,
          -1.749561587292299,
          1.1692578741087636,
          -0.4665158273933133,
          -1.3155212639292173,
          0.7521474301263578,
          -0.42079778332228823,
          0.31097180594294915,
          0.7091466990379948,
          0.825962573058696,
          0.3846841820235162,
          1.3271700873958,
          0.8989715838374636,
          2.138446326737935,
          0.8207061142504928,
          0.4817470479831832,
          2.046769364082126,
          1.013220469300983,
          1.4307884583515513,
          0.24665790517738484,
          -0.09142765416388775,
          -0.8978835841127965,
          2.1272319654519163,
          -0.24151888455402062,
          -0.5932587701094062,
          -1.6478458884228309,
          -0.25457893943964405,
          1.5913614923566013,
          -1.1452402381900029,
          0.43397472460552017,
          0.29789344556192504,
          1.665719652232908,
          0.7618902735558941,
          0.6687839547142187,
          -1.2400301056762388,
          1.9432788477844014,
          -0.3634019171329619,
          -0.28964201627915565
         ]
        },
        {
         "boxpoints": false,
         "line": {
          "width": 1.3
         },
         "marker": {
          "color": "rgba(50, 171, 96, 1.0)"
         },
         "name": "C",
         "orientation": "v",
         "type": "box",
         "y": [
          -0.4035301924,
          -1.6115860040301881,
          2.63945593136704,
          -1.5374839951136252,
          -1.2546012462110507,
          -1.1478278861644489,
          -0.22344713607849873,
          0.5012049872176282,
          -1.2865158584850092,
          1.9966649713354254,
          1.0614357923896944,
          0.029051133995821998,
          0.5741341579600965,
          1.0121114494433188,
          -1.276322302266929,
          0.3369758870931138,
          0.3912593775087565,
          -1.3517841319669084,
          1.5172818388815197,
          -0.6440166550733297,
          -0.3296765211299378,
          -1.1772530587445735,
          -0.6075223902280605,
          -0.9843634880970925,
          0.8440972379163757,
          0.3373307357476102,
          1.4974507063604852,
          -0.2924614819388411,
          -1.1540542805212934,
          0.7080419216884527,
          0.9896711825862118,
          1.3915773511841565,
          0.48800016708057137,
          -0.6816629799471235,
          3.6906470186359766,
          -0.9729424696404596,
          0.3694023839341636,
          -1.9814389066380493,
          1.1832447199312832,
          0.2528153750253914,
          -0.1943675304647376,
          -2.041265638824802,
          -0.976403640219806,
          -0.9805421520471272,
          0.6226144108094213,
          -1.4037058892112146,
          -1.462855221354042,
          -1.1339692853238932,
          -1.3281294843803555,
          -0.5072142772940965,
          -0.3829634858842726,
          0.396831281688865,
          -0.7402213896535239,
          1.7916923395407218,
          -0.12332017792413869,
          -0.5751212006787343,
          0.1557171376469303,
          -1.4085456017217224,
          -0.9398489612284758,
          -0.5664768192331817,
          -0.7021956724900761,
          -0.34226261467506475,
          0.6382338806480061,
          0.40638787214901806,
          0.770317953302265,
          -1.1402947326629862,
          -0.10404369355686148,
          -0.24087188871662418,
          0.24013156988503864,
          -1.124958800682844,
          0.49397502804491733,
          -1.7416465240211423,
          -0.24835776441600488,
          -0.7767255508915297,
          1.4311788662680227,
          -0.8779758030452509,
          -1.1782098939586012,
          -0.29495897761025025,
          -0.02906120291342997,
          -0.9269912028980818,
          2.1133715450615043,
          1.5134655662634757,
          1.9173411041804995,
          -2.953633013125038,
          -0.6274523412193578,
          -0.13284118020160382,
          -1.3416402082908638,
          0.5105507549206211,
          -0.6000431906610564,
          -0.982412433565821,
          0.29710728428260513,
          0.35971185983495624,
          2.683313221272684,
          0.1819196613306115,
          -1.2062436686268865,
          -0.6917132729114516,
          0.45350056303868724,
          1.2385571276215268,
          1.510493943135955,
          -0.10002727631138691
         ]
        },
        {
         "boxpoints": false,
         "line": {
          "width": 1.3
         },
         "marker": {
          "color": "rgba(128, 0, 128, 1.0)"
         },
         "name": "D",
         "orientation": "v",
         "type": "box",
         "y": [
          -0.17944125256573867,
          0.2954550026102315,
          0.8295327554843667,
          -0.09650700161090092,
          -0.09342781232579536,
          -0.30032766969785857,
          -0.2748027549319671,
          0.11616669471986152,
          -0.19126602055433553,
          1.0023550720871446,
          0.9822367624881188,
          1.7170154044961143,
          -2.2243956239383316,
          1.1474683748014989,
          -0.2474131491143195,
          -0.09108246576146586,
          -0.31301992780391524,
          1.0751754919333834,
          -0.5341796867143148,
          0.9267183635118273,
          0.9240873386491374,
          -0.12852958241859497,
          0.5557212190612986,
          1.4693971099645429,
          1.4824921671579085,
          -0.7149387327321645,
          -1.07110559511885,
          -0.4870817370270348,
          -0.5190349323577252,
          1.1975564098754115,
          0.4327325868655046,
          -0.4024875799842912,
          -0.19617068589293388,
          1.1954916894899468,
          -0.20343284928335367,
          -1.937931449693175,
          0.857790457328531,
          -0.08399090124024515,
          -0.04677209432273538,
          1.6958009985383622,
          0.39870368934923106,
          2.04013968157642,
          -1.1937869356030246,
          0.8053739045174904,
          -1.1091139351283579,
          -0.3058909964352519,
          2.4202442471856016,
          -1.393206144544414,
          1.8161343865870752,
          -1.6946494545813768,
          -0.15519971129471366,
          -0.4789915926665577,
          -1.1528321690188423,
          0.7716397578502623,
          1.553040607057728,
          0.14090580264915656,
          -0.9030555859668093,
          -1.2584687865204276,
          -0.01643851885561289,
          0.23708453208375252,
          -2.1695680905439665,
          0.3789354689395262,
          0.9279923481390357,
          -0.17015388869641665,
          1.0447416789832396,
          -0.6523888906952022,
          1.4531540564058119,
          0.48317324830428854,
          0.7846129443340959,
          0.29570263617838416,
          -1.4186653925597024,
          -0.7923388495577489,
          -0.531088689765993,
          -0.02754672744255599,
          -0.8199278760531039,
          -1.3680696820312197,
          0.8942837002485874,
          -0.6090454677613588,
          -1.683713409831505,
          -0.4038546901781923,
          -1.7983798616269113,
          1.5511005341501645,
          0.5628033921903397,
          0.05099382830891123,
          1.1541177566072083,
          -0.3195013703053062,
          0.7527127178945748,
          0.43391918921727285,
          0.9588473110445781,
          0.9450450726397501,
          -0.5290483332066993,
          -1.4239066577673982,
          0.6558761617436887,
          -0.0877481573205621,
          1.0005951564688398,
          -0.6584730132628027,
          1.8860735715741814,
          0.5703339010296119,
          0.506497865412588,
          -0.3528068968712007
         ]
        }
       ],
       "layout": {
        "legend": {
         "bgcolor": "#F5F6F9",
         "font": {
          "color": "#4D5663"
         }
        },
        "paper_bgcolor": "#F5F6F9",
        "plot_bgcolor": "#F5F6F9",
        "template": {
         "data": {
          "bar": [
           {
            "error_x": {
             "color": "#2a3f5f"
            },
            "error_y": {
             "color": "#2a3f5f"
            },
            "marker": {
             "line": {
              "color": "#E5ECF6",
              "width": 0.5
             },
             "pattern": {
              "fillmode": "overlay",
              "size": 10,
              "solidity": 0.2
             }
            },
            "type": "bar"
           }
          ],
          "barpolar": [
           {
            "marker": {
             "line": {
              "color": "#E5ECF6",
              "width": 0.5
             },
             "pattern": {
              "fillmode": "overlay",
              "size": 10,
              "solidity": 0.2
             }
            },
            "type": "barpolar"
           }
          ],
          "carpet": [
           {
            "aaxis": {
             "endlinecolor": "#2a3f5f",
             "gridcolor": "white",
             "linecolor": "white",
             "minorgridcolor": "white",
             "startlinecolor": "#2a3f5f"
            },
            "baxis": {
             "endlinecolor": "#2a3f5f",
             "gridcolor": "white",
             "linecolor": "white",
             "minorgridcolor": "white",
             "startlinecolor": "#2a3f5f"
            },
            "type": "carpet"
           }
          ],
          "choropleth": [
           {
            "colorbar": {
             "outlinewidth": 0,
             "ticks": ""
            },
            "type": "choropleth"
           }
          ],
          "contour": [
           {
            "colorbar": {
             "outlinewidth": 0,
             "ticks": ""
            },
            "colorscale": [
             [
              0,
              "#0d0887"
             ],
             [
              0.1111111111111111,
              "#46039f"
             ],
             [
              0.2222222222222222,
              "#7201a8"
             ],
             [
              0.3333333333333333,
              "#9c179e"
             ],
             [
              0.4444444444444444,
              "#bd3786"
             ],
             [
              0.5555555555555556,
              "#d8576b"
             ],
             [
              0.6666666666666666,
              "#ed7953"
             ],
             [
              0.7777777777777778,
              "#fb9f3a"
             ],
             [
              0.8888888888888888,
              "#fdca26"
             ],
             [
              1,
              "#f0f921"
             ]
            ],
            "type": "contour"
           }
          ],
          "contourcarpet": [
           {
            "colorbar": {
             "outlinewidth": 0,
             "ticks": ""
            },
            "type": "contourcarpet"
           }
          ],
          "heatmap": [
           {
            "colorbar": {
             "outlinewidth": 0,
             "ticks": ""
            },
            "colorscale": [
             [
              0,
              "#0d0887"
             ],
             [
              0.1111111111111111,
              "#46039f"
             ],
             [
              0.2222222222222222,
              "#7201a8"
             ],
             [
              0.3333333333333333,
              "#9c179e"
             ],
             [
              0.4444444444444444,
              "#bd3786"
             ],
             [
              0.5555555555555556,
              "#d8576b"
             ],
             [
              0.6666666666666666,
              "#ed7953"
             ],
             [
              0.7777777777777778,
              "#fb9f3a"
             ],
             [
              0.8888888888888888,
              "#fdca26"
             ],
             [
              1,
              "#f0f921"
             ]
            ],
            "type": "heatmap"
           }
          ],
          "heatmapgl": [
           {
            "colorbar": {
             "outlinewidth": 0,
             "ticks": ""
            },
            "colorscale": [
             [
              0,
              "#0d0887"
             ],
             [
              0.1111111111111111,
              "#46039f"
             ],
             [
              0.2222222222222222,
              "#7201a8"
             ],
             [
              0.3333333333333333,
              "#9c179e"
             ],
             [
              0.4444444444444444,
              "#bd3786"
             ],
             [
              0.5555555555555556,
              "#d8576b"
             ],
             [
              0.6666666666666666,
              "#ed7953"
             ],
             [
              0.7777777777777778,
              "#fb9f3a"
             ],
             [
              0.8888888888888888,
              "#fdca26"
             ],
             [
              1,
              "#f0f921"
             ]
            ],
            "type": "heatmapgl"
           }
          ],
          "histogram": [
           {
            "marker": {
             "pattern": {
              "fillmode": "overlay",
              "size": 10,
              "solidity": 0.2
             }
            },
            "type": "histogram"
           }
          ],
          "histogram2d": [
           {
            "colorbar": {
             "outlinewidth": 0,
             "ticks": ""
            },
            "colorscale": [
             [
              0,
              "#0d0887"
             ],
             [
              0.1111111111111111,
              "#46039f"
             ],
             [
              0.2222222222222222,
              "#7201a8"
             ],
             [
              0.3333333333333333,
              "#9c179e"
             ],
             [
              0.4444444444444444,
              "#bd3786"
             ],
             [
              0.5555555555555556,
              "#d8576b"
             ],
             [
              0.6666666666666666,
              "#ed7953"
             ],
             [
              0.7777777777777778,
              "#fb9f3a"
             ],
             [
              0.8888888888888888,
              "#fdca26"
             ],
             [
              1,
              "#f0f921"
             ]
            ],
            "type": "histogram2d"
           }
          ],
          "histogram2dcontour": [
           {
            "colorbar": {
             "outlinewidth": 0,
             "ticks": ""
            },
            "colorscale": [
             [
              0,
              "#0d0887"
             ],
             [
              0.1111111111111111,
              "#46039f"
             ],
             [
              0.2222222222222222,
              "#7201a8"
             ],
             [
              0.3333333333333333,
              "#9c179e"
             ],
             [
              0.4444444444444444,
              "#bd3786"
             ],
             [
              0.5555555555555556,
              "#d8576b"
             ],
             [
              0.6666666666666666,
              "#ed7953"
             ],
             [
              0.7777777777777778,
              "#fb9f3a"
             ],
             [
              0.8888888888888888,
              "#fdca26"
             ],
             [
              1,
              "#f0f921"
             ]
            ],
            "type": "histogram2dcontour"
           }
          ],
          "mesh3d": [
           {
            "colorbar": {
             "outlinewidth": 0,
             "ticks": ""
            },
            "type": "mesh3d"
           }
          ],
          "parcoords": [
           {
            "line": {
             "colorbar": {
              "outlinewidth": 0,
              "ticks": ""
             }
            },
            "type": "parcoords"
           }
          ],
          "pie": [
           {
            "automargin": true,
            "type": "pie"
           }
          ],
          "scatter": [
           {
            "fillpattern": {
             "fillmode": "overlay",
             "size": 10,
             "solidity": 0.2
            },
            "type": "scatter"
           }
          ],
          "scatter3d": [
           {
            "line": {
             "colorbar": {
              "outlinewidth": 0,
              "ticks": ""
             }
            },
            "marker": {
             "colorbar": {
              "outlinewidth": 0,
              "ticks": ""
             }
            },
            "type": "scatter3d"
           }
          ],
          "scattercarpet": [
           {
            "marker": {
             "colorbar": {
              "outlinewidth": 0,
              "ticks": ""
             }
            },
            "type": "scattercarpet"
           }
          ],
          "scattergeo": [
           {
            "marker": {
             "colorbar": {
              "outlinewidth": 0,
              "ticks": ""
             }
            },
            "type": "scattergeo"
           }
          ],
          "scattergl": [
           {
            "marker": {
             "colorbar": {
              "outlinewidth": 0,
              "ticks": ""
             }
            },
            "type": "scattergl"
           }
          ],
          "scattermapbox": [
           {
            "marker": {
             "colorbar": {
              "outlinewidth": 0,
              "ticks": ""
             }
            },
            "type": "scattermapbox"
           }
          ],
          "scatterpolar": [
           {
            "marker": {
             "colorbar": {
              "outlinewidth": 0,
              "ticks": ""
             }
            },
            "type": "scatterpolar"
           }
          ],
          "scatterpolargl": [
           {
            "marker": {
             "colorbar": {
              "outlinewidth": 0,
              "ticks": ""
             }
            },
            "type": "scatterpolargl"
           }
          ],
          "scatterternary": [
           {
            "marker": {
             "colorbar": {
              "outlinewidth": 0,
              "ticks": ""
             }
            },
            "type": "scatterternary"
           }
          ],
          "surface": [
           {
            "colorbar": {
             "outlinewidth": 0,
             "ticks": ""
            },
            "colorscale": [
             [
              0,
              "#0d0887"
             ],
             [
              0.1111111111111111,
              "#46039f"
             ],
             [
              0.2222222222222222,
              "#7201a8"
             ],
             [
              0.3333333333333333,
              "#9c179e"
             ],
             [
              0.4444444444444444,
              "#bd3786"
             ],
             [
              0.5555555555555556,
              "#d8576b"
             ],
             [
              0.6666666666666666,
              "#ed7953"
             ],
             [
              0.7777777777777778,
              "#fb9f3a"
             ],
             [
              0.8888888888888888,
              "#fdca26"
             ],
             [
              1,
              "#f0f921"
             ]
            ],
            "type": "surface"
           }
          ],
          "table": [
           {
            "cells": {
             "fill": {
              "color": "#EBF0F8"
             },
             "line": {
              "color": "white"
             }
            },
            "header": {
             "fill": {
              "color": "#C8D4E3"
             },
             "line": {
              "color": "white"
             }
            },
            "type": "table"
           }
          ]
         },
         "layout": {
          "annotationdefaults": {
           "arrowcolor": "#2a3f5f",
           "arrowhead": 0,
           "arrowwidth": 1
          },
          "autotypenumbers": "strict",
          "coloraxis": {
           "colorbar": {
            "outlinewidth": 0,
            "ticks": ""
           }
          },
          "colorscale": {
           "diverging": [
            [
             0,
             "#8e0152"
            ],
            [
             0.1,
             "#c51b7d"
            ],
            [
             0.2,
             "#de77ae"
            ],
            [
             0.3,
             "#f1b6da"
            ],
            [
             0.4,
             "#fde0ef"
            ],
            [
             0.5,
             "#f7f7f7"
            ],
            [
             0.6,
             "#e6f5d0"
            ],
            [
             0.7,
             "#b8e186"
            ],
            [
             0.8,
             "#7fbc41"
            ],
            [
             0.9,
             "#4d9221"
            ],
            [
             1,
             "#276419"
            ]
           ],
           "sequential": [
            [
             0,
             "#0d0887"
            ],
            [
             0.1111111111111111,
             "#46039f"
            ],
            [
             0.2222222222222222,
             "#7201a8"
            ],
            [
             0.3333333333333333,
             "#9c179e"
            ],
            [
             0.4444444444444444,
             "#bd3786"
            ],
            [
             0.5555555555555556,
             "#d8576b"
            ],
            [
             0.6666666666666666,
             "#ed7953"
            ],
            [
             0.7777777777777778,
             "#fb9f3a"
            ],
            [
             0.8888888888888888,
             "#fdca26"
            ],
            [
             1,
             "#f0f921"
            ]
           ],
           "sequentialminus": [
            [
             0,
             "#0d0887"
            ],
            [
             0.1111111111111111,
             "#46039f"
            ],
            [
             0.2222222222222222,
             "#7201a8"
            ],
            [
             0.3333333333333333,
             "#9c179e"
            ],
            [
             0.4444444444444444,
             "#bd3786"
            ],
            [
             0.5555555555555556,
             "#d8576b"
            ],
            [
             0.6666666666666666,
             "#ed7953"
            ],
            [
             0.7777777777777778,
             "#fb9f3a"
            ],
            [
             0.8888888888888888,
             "#fdca26"
            ],
            [
             1,
             "#f0f921"
            ]
           ]
          },
          "colorway": [
           "#636efa",
           "#EF553B",
           "#00cc96",
           "#ab63fa",
           "#FFA15A",
           "#19d3f3",
           "#FF6692",
           "#B6E880",
           "#FF97FF",
           "#FECB52"
          ],
          "font": {
           "color": "#2a3f5f"
          },
          "geo": {
           "bgcolor": "white",
           "lakecolor": "white",
           "landcolor": "#E5ECF6",
           "showlakes": true,
           "showland": true,
           "subunitcolor": "white"
          },
          "hoverlabel": {
           "align": "left"
          },
          "hovermode": "closest",
          "mapbox": {
           "style": "light"
          },
          "paper_bgcolor": "white",
          "plot_bgcolor": "#E5ECF6",
          "polar": {
           "angularaxis": {
            "gridcolor": "white",
            "linecolor": "white",
            "ticks": ""
           },
           "bgcolor": "#E5ECF6",
           "radialaxis": {
            "gridcolor": "white",
            "linecolor": "white",
            "ticks": ""
           }
          },
          "scene": {
           "xaxis": {
            "backgroundcolor": "#E5ECF6",
            "gridcolor": "white",
            "gridwidth": 2,
            "linecolor": "white",
            "showbackground": true,
            "ticks": "",
            "zerolinecolor": "white"
           },
           "yaxis": {
            "backgroundcolor": "#E5ECF6",
            "gridcolor": "white",
            "gridwidth": 2,
            "linecolor": "white",
            "showbackground": true,
            "ticks": "",
            "zerolinecolor": "white"
           },
           "zaxis": {
            "backgroundcolor": "#E5ECF6",
            "gridcolor": "white",
            "gridwidth": 2,
            "linecolor": "white",
            "showbackground": true,
            "ticks": "",
            "zerolinecolor": "white"
           }
          },
          "shapedefaults": {
           "line": {
            "color": "#2a3f5f"
           }
          },
          "ternary": {
           "aaxis": {
            "gridcolor": "white",
            "linecolor": "white",
            "ticks": ""
           },
           "baxis": {
            "gridcolor": "white",
            "linecolor": "white",
            "ticks": ""
           },
           "bgcolor": "#E5ECF6",
           "caxis": {
            "gridcolor": "white",
            "linecolor": "white",
            "ticks": ""
           }
          },
          "title": {
           "x": 0.05
          },
          "xaxis": {
           "automargin": true,
           "gridcolor": "white",
           "linecolor": "white",
           "ticks": "",
           "title": {
            "standoff": 15
           },
           "zerolinecolor": "white",
           "zerolinewidth": 2
          },
          "yaxis": {
           "automargin": true,
           "gridcolor": "white",
           "linecolor": "white",
           "ticks": "",
           "title": {
            "standoff": 15
           },
           "zerolinecolor": "white",
           "zerolinewidth": 2
          }
         }
        },
        "title": {
         "font": {
          "color": "#4D5663"
         }
        },
        "xaxis": {
         "gridcolor": "#E1E5ED",
         "showgrid": true,
         "tickfont": {
          "color": "#4D5663"
         },
         "title": {
          "font": {
           "color": "#4D5663"
          },
          "text": ""
         },
         "zerolinecolor": "#E1E5ED"
        },
        "yaxis": {
         "gridcolor": "#E1E5ED",
         "showgrid": true,
         "tickfont": {
          "color": "#4D5663"
         },
         "title": {
          "font": {
           "color": "#4D5663"
          },
          "text": ""
         },
         "zerolinecolor": "#E1E5ED"
        }
       }
      },
      "text/html": [
       "<div>                            <div id=\"b9c20d49-5a52-489f-8765-8ea967e4dc04\" class=\"plotly-graph-div\" style=\"height:525px; width:100%;\"></div>            <script type=\"text/javascript\">                require([\"plotly\"], function(Plotly) {                    window.PLOTLYENV=window.PLOTLYENV || {};\n",
       "                    window.PLOTLYENV.BASE_URL='https://plot.ly';                                    if (document.getElementById(\"b9c20d49-5a52-489f-8765-8ea967e4dc04\")) {                    Plotly.newPlot(                        \"b9c20d49-5a52-489f-8765-8ea967e4dc04\",                        [{\"boxpoints\":false,\"line\":{\"width\":1.3},\"marker\":{\"color\":\"rgba(255, 153, 51, 1.0)\"},\"name\":\"A\",\"orientation\":\"v\",\"y\":[-0.4115038731053773,-0.49582647792730933,0.6715039515278375,-0.7228439533683615,-1.0163644309323503,-1.6771187460497037,0.1426942594043106,0.010733057367568256,-0.2757248886421378,0.43634248238396767,-0.31625760352765825,1.0788695418388297,-1.3650683550356226,3.3295296907918908,1.2448035616874729,3.567907542703827,-1.2585894835205205,-0.7578902845652957,0.961097206466587,-0.22999127206120065,0.6355315190013411,-0.36640556130886015,-0.2359925976152816,0.6673896386703786,1.1118429093534206,1.0437621305016933,2.139732992997837,-0.5236645252310186,1.139886268203172,-1.8176105247030476,1.9016562907969128,0.5611763439299505,1.1863070628387569,-0.7993614395088802,-0.9268837477538382,1.3729270460114111,-2.235935935570002,-0.2799295467449602,-0.43376234483213355,-0.5243245831093638,-0.38600115945410135,-1.3599235166505075,-0.32119363857062766,0.27802374924973083,-0.28865745131943243,-2.2447838364351265,0.41572772303099154,-0.6729677858079124,0.3365952342631071,-0.42526332525683985,0.0839719329428044,-0.42767437800103897,-1.0035137994991385,-2.166642613122833,0.46360762343438955,-0.23745818472369123,0.9098292268808831,0.2141601647321144,-0.15744101383067263,-1.467649085021929,0.6621485851703116,-0.8598313197446324,0.10187808206059304,0.2438722144197782,1.8871003222668867,-0.5959777327995854,-0.05383220104909009,1.9217840425297361,1.4672698064203502,0.3982542762139769,0.004494820302078757,-1.363266704463435,-0.3383320859684264,-1.9948896538406473,-0.41325343868616204,0.17825113054126104,0.6340245373609271,0.43859956361879593,-0.6578477062991168,0.38778746921351653,-0.594250066209521,-0.8491583522129205,0.2716301090805724,1.665090431012535,0.5914792364899399,-1.3333439007396537,-0.3480441111400766,1.5047931302741744,1.5972618958250668,1.7008755333460621,0.5150358045518847,-0.1976070256189633,-1.2680496771545622,-0.6871816841822501,0.36439994493622735,0.3427615210908248,-0.9201279626113359,0.4755993371367693,0.37629736026692095,-1.6674568683437216],\"type\":\"box\"},{\"boxpoints\":false,\"line\":{\"width\":1.3},\"marker\":{\"color\":\"rgba(55, 128, 191, 1.0)\"},\"name\":\"B\",\"orientation\":\"v\",\"y\":[-1.4305731294486232,0.9807190014899824,-1.0140748716230523,-1.5160479694028781,0.08365899582671213,-0.9794348438041677,0.08039100336480866,-0.38620152988385487,0.7203864725872914,-0.3627743143627477,0.6906005220034608,-0.27652058601410145,0.28831869941097654,1.4438561407269055,1.0020674345178482,1.3657923506545961,0.8917550027505843,-0.5873052322447015,1.4394241421913423,-1.1823295994022869,0.48004408303977236,-0.9954568496222879,-0.4491627396631762,0.23781870826368207,0.39794648816463896,-1.0462274230665645,-1.0219333474135248,0.6382625121026199,0.7391063858417758,-0.006065534822558962,0.18884574548061528,0.582880659111706,-0.5323462342888212,0.9402583707995257,1.7994968197538437,-1.5804326583155233,-0.5498576008022996,-0.41586487996867555,-2.594438473380876,-0.20792628568089838,-0.05371153893023452,1.111311390110987,1.043087154127094,0.35648676024702847,0.7406413495945469,-1.7174901393497024,-0.5055206163892351,0.12444380491205628,0.2635168161584073,1.797430855129327,0.14163338680020648,2.195246757411419,1.3348708114974404,2.299036977743916,-1.5774051814618686,1.7117732762461901,0.37674565026187756,-0.6997844473879765,-1.0219500087855766,-2.631738198091557,-0.38120837544237773,0.4153454326347774,-1.1057341522928317,-1.749561587292299,1.1692578741087636,-0.4665158273933133,-1.3155212639292173,0.7521474301263578,-0.42079778332228823,0.31097180594294915,0.7091466990379948,0.825962573058696,0.3846841820235162,1.3271700873958,0.8989715838374636,2.138446326737935,0.8207061142504928,0.4817470479831832,2.046769364082126,1.013220469300983,1.4307884583515513,0.24665790517738484,-0.09142765416388775,-0.8978835841127965,2.1272319654519163,-0.24151888455402062,-0.5932587701094062,-1.6478458884228309,-0.25457893943964405,1.5913614923566013,-1.1452402381900029,0.43397472460552017,0.29789344556192504,1.665719652232908,0.7618902735558941,0.6687839547142187,-1.2400301056762388,1.9432788477844014,-0.3634019171329619,-0.28964201627915565],\"type\":\"box\"},{\"boxpoints\":false,\"line\":{\"width\":1.3},\"marker\":{\"color\":\"rgba(50, 171, 96, 1.0)\"},\"name\":\"C\",\"orientation\":\"v\",\"y\":[-0.4035301924,-1.6115860040301881,2.63945593136704,-1.5374839951136252,-1.2546012462110507,-1.1478278861644489,-0.22344713607849873,0.5012049872176282,-1.2865158584850092,1.9966649713354254,1.0614357923896944,0.029051133995821998,0.5741341579600965,1.0121114494433188,-1.276322302266929,0.3369758870931138,0.3912593775087565,-1.3517841319669084,1.5172818388815197,-0.6440166550733297,-0.3296765211299378,-1.1772530587445735,-0.6075223902280605,-0.9843634880970925,0.8440972379163757,0.3373307357476102,1.4974507063604852,-0.2924614819388411,-1.1540542805212934,0.7080419216884527,0.9896711825862118,1.3915773511841565,0.48800016708057137,-0.6816629799471235,3.6906470186359766,-0.9729424696404596,0.3694023839341636,-1.9814389066380493,1.1832447199312832,0.2528153750253914,-0.1943675304647376,-2.041265638824802,-0.976403640219806,-0.9805421520471272,0.6226144108094213,-1.4037058892112146,-1.462855221354042,-1.1339692853238932,-1.3281294843803555,-0.5072142772940965,-0.3829634858842726,0.396831281688865,-0.7402213896535239,1.7916923395407218,-0.12332017792413869,-0.5751212006787343,0.1557171376469303,-1.4085456017217224,-0.9398489612284758,-0.5664768192331817,-0.7021956724900761,-0.34226261467506475,0.6382338806480061,0.40638787214901806,0.770317953302265,-1.1402947326629862,-0.10404369355686148,-0.24087188871662418,0.24013156988503864,-1.124958800682844,0.49397502804491733,-1.7416465240211423,-0.24835776441600488,-0.7767255508915297,1.4311788662680227,-0.8779758030452509,-1.1782098939586012,-0.29495897761025025,-0.02906120291342997,-0.9269912028980818,2.1133715450615043,1.5134655662634757,1.9173411041804995,-2.953633013125038,-0.6274523412193578,-0.13284118020160382,-1.3416402082908638,0.5105507549206211,-0.6000431906610564,-0.982412433565821,0.29710728428260513,0.35971185983495624,2.683313221272684,0.1819196613306115,-1.2062436686268865,-0.6917132729114516,0.45350056303868724,1.2385571276215268,1.510493943135955,-0.10002727631138691],\"type\":\"box\"},{\"boxpoints\":false,\"line\":{\"width\":1.3},\"marker\":{\"color\":\"rgba(128, 0, 128, 1.0)\"},\"name\":\"D\",\"orientation\":\"v\",\"y\":[-0.17944125256573867,0.2954550026102315,0.8295327554843667,-0.09650700161090092,-0.09342781232579536,-0.30032766969785857,-0.2748027549319671,0.11616669471986152,-0.19126602055433553,1.0023550720871446,0.9822367624881188,1.7170154044961143,-2.2243956239383316,1.1474683748014989,-0.2474131491143195,-0.09108246576146586,-0.31301992780391524,1.0751754919333834,-0.5341796867143148,0.9267183635118273,0.9240873386491374,-0.12852958241859497,0.5557212190612986,1.4693971099645429,1.4824921671579085,-0.7149387327321645,-1.07110559511885,-0.4870817370270348,-0.5190349323577252,1.1975564098754115,0.4327325868655046,-0.4024875799842912,-0.19617068589293388,1.1954916894899468,-0.20343284928335367,-1.937931449693175,0.857790457328531,-0.08399090124024515,-0.04677209432273538,1.6958009985383622,0.39870368934923106,2.04013968157642,-1.1937869356030246,0.8053739045174904,-1.1091139351283579,-0.3058909964352519,2.4202442471856016,-1.393206144544414,1.8161343865870752,-1.6946494545813768,-0.15519971129471366,-0.4789915926665577,-1.1528321690188423,0.7716397578502623,1.553040607057728,0.14090580264915656,-0.9030555859668093,-1.2584687865204276,-0.01643851885561289,0.23708453208375252,-2.1695680905439665,0.3789354689395262,0.9279923481390357,-0.17015388869641665,1.0447416789832396,-0.6523888906952022,1.4531540564058119,0.48317324830428854,0.7846129443340959,0.29570263617838416,-1.4186653925597024,-0.7923388495577489,-0.531088689765993,-0.02754672744255599,-0.8199278760531039,-1.3680696820312197,0.8942837002485874,-0.6090454677613588,-1.683713409831505,-0.4038546901781923,-1.7983798616269113,1.5511005341501645,0.5628033921903397,0.05099382830891123,1.1541177566072083,-0.3195013703053062,0.7527127178945748,0.43391918921727285,0.9588473110445781,0.9450450726397501,-0.5290483332066993,-1.4239066577673982,0.6558761617436887,-0.0877481573205621,1.0005951564688398,-0.6584730132628027,1.8860735715741814,0.5703339010296119,0.506497865412588,-0.3528068968712007],\"type\":\"box\"}],                        {\"legend\":{\"bgcolor\":\"#F5F6F9\",\"font\":{\"color\":\"#4D5663\"}},\"paper_bgcolor\":\"#F5F6F9\",\"plot_bgcolor\":\"#F5F6F9\",\"template\":{\"data\":{\"barpolar\":[{\"marker\":{\"line\":{\"color\":\"#E5ECF6\",\"width\":0.5},\"pattern\":{\"fillmode\":\"overlay\",\"size\":10,\"solidity\":0.2}},\"type\":\"barpolar\"}],\"bar\":[{\"error_x\":{\"color\":\"#2a3f5f\"},\"error_y\":{\"color\":\"#2a3f5f\"},\"marker\":{\"line\":{\"color\":\"#E5ECF6\",\"width\":0.5},\"pattern\":{\"fillmode\":\"overlay\",\"size\":10,\"solidity\":0.2}},\"type\":\"bar\"}],\"carpet\":[{\"aaxis\":{\"endlinecolor\":\"#2a3f5f\",\"gridcolor\":\"white\",\"linecolor\":\"white\",\"minorgridcolor\":\"white\",\"startlinecolor\":\"#2a3f5f\"},\"baxis\":{\"endlinecolor\":\"#2a3f5f\",\"gridcolor\":\"white\",\"linecolor\":\"white\",\"minorgridcolor\":\"white\",\"startlinecolor\":\"#2a3f5f\"},\"type\":\"carpet\"}],\"choropleth\":[{\"colorbar\":{\"outlinewidth\":0,\"ticks\":\"\"},\"type\":\"choropleth\"}],\"contourcarpet\":[{\"colorbar\":{\"outlinewidth\":0,\"ticks\":\"\"},\"type\":\"contourcarpet\"}],\"contour\":[{\"colorbar\":{\"outlinewidth\":0,\"ticks\":\"\"},\"colorscale\":[[0.0,\"#0d0887\"],[0.1111111111111111,\"#46039f\"],[0.2222222222222222,\"#7201a8\"],[0.3333333333333333,\"#9c179e\"],[0.4444444444444444,\"#bd3786\"],[0.5555555555555556,\"#d8576b\"],[0.6666666666666666,\"#ed7953\"],[0.7777777777777778,\"#fb9f3a\"],[0.8888888888888888,\"#fdca26\"],[1.0,\"#f0f921\"]],\"type\":\"contour\"}],\"heatmapgl\":[{\"colorbar\":{\"outlinewidth\":0,\"ticks\":\"\"},\"colorscale\":[[0.0,\"#0d0887\"],[0.1111111111111111,\"#46039f\"],[0.2222222222222222,\"#7201a8\"],[0.3333333333333333,\"#9c179e\"],[0.4444444444444444,\"#bd3786\"],[0.5555555555555556,\"#d8576b\"],[0.6666666666666666,\"#ed7953\"],[0.7777777777777778,\"#fb9f3a\"],[0.8888888888888888,\"#fdca26\"],[1.0,\"#f0f921\"]],\"type\":\"heatmapgl\"}],\"heatmap\":[{\"colorbar\":{\"outlinewidth\":0,\"ticks\":\"\"},\"colorscale\":[[0.0,\"#0d0887\"],[0.1111111111111111,\"#46039f\"],[0.2222222222222222,\"#7201a8\"],[0.3333333333333333,\"#9c179e\"],[0.4444444444444444,\"#bd3786\"],[0.5555555555555556,\"#d8576b\"],[0.6666666666666666,\"#ed7953\"],[0.7777777777777778,\"#fb9f3a\"],[0.8888888888888888,\"#fdca26\"],[1.0,\"#f0f921\"]],\"type\":\"heatmap\"}],\"histogram2dcontour\":[{\"colorbar\":{\"outlinewidth\":0,\"ticks\":\"\"},\"colorscale\":[[0.0,\"#0d0887\"],[0.1111111111111111,\"#46039f\"],[0.2222222222222222,\"#7201a8\"],[0.3333333333333333,\"#9c179e\"],[0.4444444444444444,\"#bd3786\"],[0.5555555555555556,\"#d8576b\"],[0.6666666666666666,\"#ed7953\"],[0.7777777777777778,\"#fb9f3a\"],[0.8888888888888888,\"#fdca26\"],[1.0,\"#f0f921\"]],\"type\":\"histogram2dcontour\"}],\"histogram2d\":[{\"colorbar\":{\"outlinewidth\":0,\"ticks\":\"\"},\"colorscale\":[[0.0,\"#0d0887\"],[0.1111111111111111,\"#46039f\"],[0.2222222222222222,\"#7201a8\"],[0.3333333333333333,\"#9c179e\"],[0.4444444444444444,\"#bd3786\"],[0.5555555555555556,\"#d8576b\"],[0.6666666666666666,\"#ed7953\"],[0.7777777777777778,\"#fb9f3a\"],[0.8888888888888888,\"#fdca26\"],[1.0,\"#f0f921\"]],\"type\":\"histogram2d\"}],\"histogram\":[{\"marker\":{\"pattern\":{\"fillmode\":\"overlay\",\"size\":10,\"solidity\":0.2}},\"type\":\"histogram\"}],\"mesh3d\":[{\"colorbar\":{\"outlinewidth\":0,\"ticks\":\"\"},\"type\":\"mesh3d\"}],\"parcoords\":[{\"line\":{\"colorbar\":{\"outlinewidth\":0,\"ticks\":\"\"}},\"type\":\"parcoords\"}],\"pie\":[{\"automargin\":true,\"type\":\"pie\"}],\"scatter3d\":[{\"line\":{\"colorbar\":{\"outlinewidth\":0,\"ticks\":\"\"}},\"marker\":{\"colorbar\":{\"outlinewidth\":0,\"ticks\":\"\"}},\"type\":\"scatter3d\"}],\"scattercarpet\":[{\"marker\":{\"colorbar\":{\"outlinewidth\":0,\"ticks\":\"\"}},\"type\":\"scattercarpet\"}],\"scattergeo\":[{\"marker\":{\"colorbar\":{\"outlinewidth\":0,\"ticks\":\"\"}},\"type\":\"scattergeo\"}],\"scattergl\":[{\"marker\":{\"colorbar\":{\"outlinewidth\":0,\"ticks\":\"\"}},\"type\":\"scattergl\"}],\"scattermapbox\":[{\"marker\":{\"colorbar\":{\"outlinewidth\":0,\"ticks\":\"\"}},\"type\":\"scattermapbox\"}],\"scatterpolargl\":[{\"marker\":{\"colorbar\":{\"outlinewidth\":0,\"ticks\":\"\"}},\"type\":\"scatterpolargl\"}],\"scatterpolar\":[{\"marker\":{\"colorbar\":{\"outlinewidth\":0,\"ticks\":\"\"}},\"type\":\"scatterpolar\"}],\"scatter\":[{\"fillpattern\":{\"fillmode\":\"overlay\",\"size\":10,\"solidity\":0.2},\"type\":\"scatter\"}],\"scatterternary\":[{\"marker\":{\"colorbar\":{\"outlinewidth\":0,\"ticks\":\"\"}},\"type\":\"scatterternary\"}],\"surface\":[{\"colorbar\":{\"outlinewidth\":0,\"ticks\":\"\"},\"colorscale\":[[0.0,\"#0d0887\"],[0.1111111111111111,\"#46039f\"],[0.2222222222222222,\"#7201a8\"],[0.3333333333333333,\"#9c179e\"],[0.4444444444444444,\"#bd3786\"],[0.5555555555555556,\"#d8576b\"],[0.6666666666666666,\"#ed7953\"],[0.7777777777777778,\"#fb9f3a\"],[0.8888888888888888,\"#fdca26\"],[1.0,\"#f0f921\"]],\"type\":\"surface\"}],\"table\":[{\"cells\":{\"fill\":{\"color\":\"#EBF0F8\"},\"line\":{\"color\":\"white\"}},\"header\":{\"fill\":{\"color\":\"#C8D4E3\"},\"line\":{\"color\":\"white\"}},\"type\":\"table\"}]},\"layout\":{\"annotationdefaults\":{\"arrowcolor\":\"#2a3f5f\",\"arrowhead\":0,\"arrowwidth\":1},\"autotypenumbers\":\"strict\",\"coloraxis\":{\"colorbar\":{\"outlinewidth\":0,\"ticks\":\"\"}},\"colorscale\":{\"diverging\":[[0,\"#8e0152\"],[0.1,\"#c51b7d\"],[0.2,\"#de77ae\"],[0.3,\"#f1b6da\"],[0.4,\"#fde0ef\"],[0.5,\"#f7f7f7\"],[0.6,\"#e6f5d0\"],[0.7,\"#b8e186\"],[0.8,\"#7fbc41\"],[0.9,\"#4d9221\"],[1,\"#276419\"]],\"sequential\":[[0.0,\"#0d0887\"],[0.1111111111111111,\"#46039f\"],[0.2222222222222222,\"#7201a8\"],[0.3333333333333333,\"#9c179e\"],[0.4444444444444444,\"#bd3786\"],[0.5555555555555556,\"#d8576b\"],[0.6666666666666666,\"#ed7953\"],[0.7777777777777778,\"#fb9f3a\"],[0.8888888888888888,\"#fdca26\"],[1.0,\"#f0f921\"]],\"sequentialminus\":[[0.0,\"#0d0887\"],[0.1111111111111111,\"#46039f\"],[0.2222222222222222,\"#7201a8\"],[0.3333333333333333,\"#9c179e\"],[0.4444444444444444,\"#bd3786\"],[0.5555555555555556,\"#d8576b\"],[0.6666666666666666,\"#ed7953\"],[0.7777777777777778,\"#fb9f3a\"],[0.8888888888888888,\"#fdca26\"],[1.0,\"#f0f921\"]]},\"colorway\":[\"#636efa\",\"#EF553B\",\"#00cc96\",\"#ab63fa\",\"#FFA15A\",\"#19d3f3\",\"#FF6692\",\"#B6E880\",\"#FF97FF\",\"#FECB52\"],\"font\":{\"color\":\"#2a3f5f\"},\"geo\":{\"bgcolor\":\"white\",\"lakecolor\":\"white\",\"landcolor\":\"#E5ECF6\",\"showlakes\":true,\"showland\":true,\"subunitcolor\":\"white\"},\"hoverlabel\":{\"align\":\"left\"},\"hovermode\":\"closest\",\"mapbox\":{\"style\":\"light\"},\"paper_bgcolor\":\"white\",\"plot_bgcolor\":\"#E5ECF6\",\"polar\":{\"angularaxis\":{\"gridcolor\":\"white\",\"linecolor\":\"white\",\"ticks\":\"\"},\"bgcolor\":\"#E5ECF6\",\"radialaxis\":{\"gridcolor\":\"white\",\"linecolor\":\"white\",\"ticks\":\"\"}},\"scene\":{\"xaxis\":{\"backgroundcolor\":\"#E5ECF6\",\"gridcolor\":\"white\",\"gridwidth\":2,\"linecolor\":\"white\",\"showbackground\":true,\"ticks\":\"\",\"zerolinecolor\":\"white\"},\"yaxis\":{\"backgroundcolor\":\"#E5ECF6\",\"gridcolor\":\"white\",\"gridwidth\":2,\"linecolor\":\"white\",\"showbackground\":true,\"ticks\":\"\",\"zerolinecolor\":\"white\"},\"zaxis\":{\"backgroundcolor\":\"#E5ECF6\",\"gridcolor\":\"white\",\"gridwidth\":2,\"linecolor\":\"white\",\"showbackground\":true,\"ticks\":\"\",\"zerolinecolor\":\"white\"}},\"shapedefaults\":{\"line\":{\"color\":\"#2a3f5f\"}},\"ternary\":{\"aaxis\":{\"gridcolor\":\"white\",\"linecolor\":\"white\",\"ticks\":\"\"},\"baxis\":{\"gridcolor\":\"white\",\"linecolor\":\"white\",\"ticks\":\"\"},\"bgcolor\":\"#E5ECF6\",\"caxis\":{\"gridcolor\":\"white\",\"linecolor\":\"white\",\"ticks\":\"\"}},\"title\":{\"x\":0.05},\"xaxis\":{\"automargin\":true,\"gridcolor\":\"white\",\"linecolor\":\"white\",\"ticks\":\"\",\"title\":{\"standoff\":15},\"zerolinecolor\":\"white\",\"zerolinewidth\":2},\"yaxis\":{\"automargin\":true,\"gridcolor\":\"white\",\"linecolor\":\"white\",\"ticks\":\"\",\"title\":{\"standoff\":15},\"zerolinecolor\":\"white\",\"zerolinewidth\":2}}},\"title\":{\"font\":{\"color\":\"#4D5663\"}},\"xaxis\":{\"gridcolor\":\"#E1E5ED\",\"showgrid\":true,\"tickfont\":{\"color\":\"#4D5663\"},\"title\":{\"font\":{\"color\":\"#4D5663\"},\"text\":\"\"},\"zerolinecolor\":\"#E1E5ED\"},\"yaxis\":{\"gridcolor\":\"#E1E5ED\",\"showgrid\":true,\"tickfont\":{\"color\":\"#4D5663\"},\"title\":{\"font\":{\"color\":\"#4D5663\"},\"text\":\"\"},\"zerolinecolor\":\"#E1E5ED\"}},                        {\"showLink\": true, \"linkText\": \"Export to plot.ly\", \"plotlyServerURL\": \"https://plot.ly\", \"responsive\": true}                    ).then(function(){\n",
       "                            \n",
       "var gd = document.getElementById('b9c20d49-5a52-489f-8765-8ea967e4dc04');\n",
       "var x = new MutationObserver(function (mutations, observer) {{\n",
       "        var display = window.getComputedStyle(gd).display;\n",
       "        if (!display || display === 'none') {{\n",
       "            console.log([gd, 'removed!']);\n",
       "            Plotly.purge(gd);\n",
       "            observer.disconnect();\n",
       "        }}\n",
       "}});\n",
       "\n",
       "// Listen for the removal of the full notebook cells\n",
       "var notebookContainer = gd.closest('#notebook-container');\n",
       "if (notebookContainer) {{\n",
       "    x.observe(notebookContainer, {childList: true});\n",
       "}}\n",
       "\n",
       "// Listen for the clearing of the current output cell\n",
       "var outputEl = gd.closest('.output');\n",
       "if (outputEl) {{\n",
       "    x.observe(outputEl, {childList: true});\n",
       "}}\n",
       "\n",
       "                        })                };                });            </script>        </div>"
      ]
     },
     "metadata": {},
     "output_type": "display_data"
    }
   ],
   "source": [
    "df.iplot(kind='box')"
   ]
  },
  {
   "cell_type": "markdown",
   "metadata": {},
   "source": [
    "## 3d Surface"
   ]
  },
  {
   "cell_type": "code",
   "execution_count": 43,
   "metadata": {},
   "outputs": [],
   "source": [
    "df3 = pd.DataFrame({'x':[1,2,3,4,5],'y':[10,20,30,20,10],'z':[500,400,300,200,100]})"
   ]
  },
  {
   "cell_type": "code",
   "execution_count": 45,
   "metadata": {},
   "outputs": [
    {
     "data": {
      "text/html": [
       "<div>\n",
       "<style scoped>\n",
       "    .dataframe tbody tr th:only-of-type {\n",
       "        vertical-align: middle;\n",
       "    }\n",
       "\n",
       "    .dataframe tbody tr th {\n",
       "        vertical-align: top;\n",
       "    }\n",
       "\n",
       "    .dataframe thead th {\n",
       "        text-align: right;\n",
       "    }\n",
       "</style>\n",
       "<table border=\"1\" class=\"dataframe\">\n",
       "  <thead>\n",
       "    <tr style=\"text-align: right;\">\n",
       "      <th></th>\n",
       "      <th>x</th>\n",
       "      <th>y</th>\n",
       "      <th>z</th>\n",
       "    </tr>\n",
       "  </thead>\n",
       "  <tbody>\n",
       "    <tr>\n",
       "      <th>0</th>\n",
       "      <td>1</td>\n",
       "      <td>10</td>\n",
       "      <td>500</td>\n",
       "    </tr>\n",
       "    <tr>\n",
       "      <th>1</th>\n",
       "      <td>2</td>\n",
       "      <td>20</td>\n",
       "      <td>400</td>\n",
       "    </tr>\n",
       "    <tr>\n",
       "      <th>2</th>\n",
       "      <td>3</td>\n",
       "      <td>30</td>\n",
       "      <td>300</td>\n",
       "    </tr>\n",
       "    <tr>\n",
       "      <th>3</th>\n",
       "      <td>4</td>\n",
       "      <td>20</td>\n",
       "      <td>200</td>\n",
       "    </tr>\n",
       "    <tr>\n",
       "      <th>4</th>\n",
       "      <td>5</td>\n",
       "      <td>10</td>\n",
       "      <td>100</td>\n",
       "    </tr>\n",
       "  </tbody>\n",
       "</table>\n",
       "</div>"
      ],
      "text/plain": [
       "   x   y    z\n",
       "0  1  10  500\n",
       "1  2  20  400\n",
       "2  3  30  300\n",
       "3  4  20  200\n",
       "4  5  10  100"
      ]
     },
     "execution_count": 45,
     "metadata": {},
     "output_type": "execute_result"
    }
   ],
   "source": [
    "df3"
   ]
  },
  {
   "cell_type": "code",
   "execution_count": 47,
   "metadata": {},
   "outputs": [
    {
     "data": {
      "application/vnd.plotly.v1+json": {
       "config": {
        "linkText": "Export to plot.ly",
        "plotlyServerURL": "https://plot.ly",
        "showLink": true
       },
       "data": [
        {
         "colorscale": [
          [
           0,
           "rgb(255, 153, 51)"
          ],
          [
           0.1111111111111111,
           "rgb(55, 128, 191)"
          ],
          [
           0.2222222222222222,
           "rgb(50, 171, 96)"
          ],
          [
           0.3333333333333333,
           "rgb(128, 0, 128)"
          ],
          [
           0.4444444444444444,
           "rgb(219, 64, 82)"
          ],
          [
           0.5555555555555556,
           "rgb(0, 128, 128)"
          ],
          [
           0.6666666666666666,
           "rgb(255, 255, 51)"
          ],
          [
           0.7777777777777778,
           "rgb(128, 128, 0)"
          ],
          [
           0.8888888888888888,
           "rgb(251, 128, 114)"
          ],
          [
           1,
           "rgb(128, 177, 211)"
          ]
         ],
         "type": "surface",
         "x": [
          0,
          1,
          2,
          3,
          4
         ],
         "y": [
          "x",
          "y",
          "z"
         ],
         "z": [
          [
           1,
           2,
           3,
           4,
           5
          ],
          [
           10,
           20,
           30,
           20,
           10
          ],
          [
           500,
           400,
           300,
           200,
           100
          ]
         ]
        }
       ],
       "layout": {
        "legend": {
         "bgcolor": "#F5F6F9",
         "font": {
          "color": "#4D5663"
         }
        },
        "paper_bgcolor": "#F5F6F9",
        "plot_bgcolor": "#F5F6F9",
        "template": {
         "data": {
          "bar": [
           {
            "error_x": {
             "color": "#2a3f5f"
            },
            "error_y": {
             "color": "#2a3f5f"
            },
            "marker": {
             "line": {
              "color": "#E5ECF6",
              "width": 0.5
             },
             "pattern": {
              "fillmode": "overlay",
              "size": 10,
              "solidity": 0.2
             }
            },
            "type": "bar"
           }
          ],
          "barpolar": [
           {
            "marker": {
             "line": {
              "color": "#E5ECF6",
              "width": 0.5
             },
             "pattern": {
              "fillmode": "overlay",
              "size": 10,
              "solidity": 0.2
             }
            },
            "type": "barpolar"
           }
          ],
          "carpet": [
           {
            "aaxis": {
             "endlinecolor": "#2a3f5f",
             "gridcolor": "white",
             "linecolor": "white",
             "minorgridcolor": "white",
             "startlinecolor": "#2a3f5f"
            },
            "baxis": {
             "endlinecolor": "#2a3f5f",
             "gridcolor": "white",
             "linecolor": "white",
             "minorgridcolor": "white",
             "startlinecolor": "#2a3f5f"
            },
            "type": "carpet"
           }
          ],
          "choropleth": [
           {
            "colorbar": {
             "outlinewidth": 0,
             "ticks": ""
            },
            "type": "choropleth"
           }
          ],
          "contour": [
           {
            "colorbar": {
             "outlinewidth": 0,
             "ticks": ""
            },
            "colorscale": [
             [
              0,
              "#0d0887"
             ],
             [
              0.1111111111111111,
              "#46039f"
             ],
             [
              0.2222222222222222,
              "#7201a8"
             ],
             [
              0.3333333333333333,
              "#9c179e"
             ],
             [
              0.4444444444444444,
              "#bd3786"
             ],
             [
              0.5555555555555556,
              "#d8576b"
             ],
             [
              0.6666666666666666,
              "#ed7953"
             ],
             [
              0.7777777777777778,
              "#fb9f3a"
             ],
             [
              0.8888888888888888,
              "#fdca26"
             ],
             [
              1,
              "#f0f921"
             ]
            ],
            "type": "contour"
           }
          ],
          "contourcarpet": [
           {
            "colorbar": {
             "outlinewidth": 0,
             "ticks": ""
            },
            "type": "contourcarpet"
           }
          ],
          "heatmap": [
           {
            "colorbar": {
             "outlinewidth": 0,
             "ticks": ""
            },
            "colorscale": [
             [
              0,
              "#0d0887"
             ],
             [
              0.1111111111111111,
              "#46039f"
             ],
             [
              0.2222222222222222,
              "#7201a8"
             ],
             [
              0.3333333333333333,
              "#9c179e"
             ],
             [
              0.4444444444444444,
              "#bd3786"
             ],
             [
              0.5555555555555556,
              "#d8576b"
             ],
             [
              0.6666666666666666,
              "#ed7953"
             ],
             [
              0.7777777777777778,
              "#fb9f3a"
             ],
             [
              0.8888888888888888,
              "#fdca26"
             ],
             [
              1,
              "#f0f921"
             ]
            ],
            "type": "heatmap"
           }
          ],
          "heatmapgl": [
           {
            "colorbar": {
             "outlinewidth": 0,
             "ticks": ""
            },
            "colorscale": [
             [
              0,
              "#0d0887"
             ],
             [
              0.1111111111111111,
              "#46039f"
             ],
             [
              0.2222222222222222,
              "#7201a8"
             ],
             [
              0.3333333333333333,
              "#9c179e"
             ],
             [
              0.4444444444444444,
              "#bd3786"
             ],
             [
              0.5555555555555556,
              "#d8576b"
             ],
             [
              0.6666666666666666,
              "#ed7953"
             ],
             [
              0.7777777777777778,
              "#fb9f3a"
             ],
             [
              0.8888888888888888,
              "#fdca26"
             ],
             [
              1,
              "#f0f921"
             ]
            ],
            "type": "heatmapgl"
           }
          ],
          "histogram": [
           {
            "marker": {
             "pattern": {
              "fillmode": "overlay",
              "size": 10,
              "solidity": 0.2
             }
            },
            "type": "histogram"
           }
          ],
          "histogram2d": [
           {
            "colorbar": {
             "outlinewidth": 0,
             "ticks": ""
            },
            "colorscale": [
             [
              0,
              "#0d0887"
             ],
             [
              0.1111111111111111,
              "#46039f"
             ],
             [
              0.2222222222222222,
              "#7201a8"
             ],
             [
              0.3333333333333333,
              "#9c179e"
             ],
             [
              0.4444444444444444,
              "#bd3786"
             ],
             [
              0.5555555555555556,
              "#d8576b"
             ],
             [
              0.6666666666666666,
              "#ed7953"
             ],
             [
              0.7777777777777778,
              "#fb9f3a"
             ],
             [
              0.8888888888888888,
              "#fdca26"
             ],
             [
              1,
              "#f0f921"
             ]
            ],
            "type": "histogram2d"
           }
          ],
          "histogram2dcontour": [
           {
            "colorbar": {
             "outlinewidth": 0,
             "ticks": ""
            },
            "colorscale": [
             [
              0,
              "#0d0887"
             ],
             [
              0.1111111111111111,
              "#46039f"
             ],
             [
              0.2222222222222222,
              "#7201a8"
             ],
             [
              0.3333333333333333,
              "#9c179e"
             ],
             [
              0.4444444444444444,
              "#bd3786"
             ],
             [
              0.5555555555555556,
              "#d8576b"
             ],
             [
              0.6666666666666666,
              "#ed7953"
             ],
             [
              0.7777777777777778,
              "#fb9f3a"
             ],
             [
              0.8888888888888888,
              "#fdca26"
             ],
             [
              1,
              "#f0f921"
             ]
            ],
            "type": "histogram2dcontour"
           }
          ],
          "mesh3d": [
           {
            "colorbar": {
             "outlinewidth": 0,
             "ticks": ""
            },
            "type": "mesh3d"
           }
          ],
          "parcoords": [
           {
            "line": {
             "colorbar": {
              "outlinewidth": 0,
              "ticks": ""
             }
            },
            "type": "parcoords"
           }
          ],
          "pie": [
           {
            "automargin": true,
            "type": "pie"
           }
          ],
          "scatter": [
           {
            "fillpattern": {
             "fillmode": "overlay",
             "size": 10,
             "solidity": 0.2
            },
            "type": "scatter"
           }
          ],
          "scatter3d": [
           {
            "line": {
             "colorbar": {
              "outlinewidth": 0,
              "ticks": ""
             }
            },
            "marker": {
             "colorbar": {
              "outlinewidth": 0,
              "ticks": ""
             }
            },
            "type": "scatter3d"
           }
          ],
          "scattercarpet": [
           {
            "marker": {
             "colorbar": {
              "outlinewidth": 0,
              "ticks": ""
             }
            },
            "type": "scattercarpet"
           }
          ],
          "scattergeo": [
           {
            "marker": {
             "colorbar": {
              "outlinewidth": 0,
              "ticks": ""
             }
            },
            "type": "scattergeo"
           }
          ],
          "scattergl": [
           {
            "marker": {
             "colorbar": {
              "outlinewidth": 0,
              "ticks": ""
             }
            },
            "type": "scattergl"
           }
          ],
          "scattermapbox": [
           {
            "marker": {
             "colorbar": {
              "outlinewidth": 0,
              "ticks": ""
             }
            },
            "type": "scattermapbox"
           }
          ],
          "scatterpolar": [
           {
            "marker": {
             "colorbar": {
              "outlinewidth": 0,
              "ticks": ""
             }
            },
            "type": "scatterpolar"
           }
          ],
          "scatterpolargl": [
           {
            "marker": {
             "colorbar": {
              "outlinewidth": 0,
              "ticks": ""
             }
            },
            "type": "scatterpolargl"
           }
          ],
          "scatterternary": [
           {
            "marker": {
             "colorbar": {
              "outlinewidth": 0,
              "ticks": ""
             }
            },
            "type": "scatterternary"
           }
          ],
          "surface": [
           {
            "colorbar": {
             "outlinewidth": 0,
             "ticks": ""
            },
            "colorscale": [
             [
              0,
              "#0d0887"
             ],
             [
              0.1111111111111111,
              "#46039f"
             ],
             [
              0.2222222222222222,
              "#7201a8"
             ],
             [
              0.3333333333333333,
              "#9c179e"
             ],
             [
              0.4444444444444444,
              "#bd3786"
             ],
             [
              0.5555555555555556,
              "#d8576b"
             ],
             [
              0.6666666666666666,
              "#ed7953"
             ],
             [
              0.7777777777777778,
              "#fb9f3a"
             ],
             [
              0.8888888888888888,
              "#fdca26"
             ],
             [
              1,
              "#f0f921"
             ]
            ],
            "type": "surface"
           }
          ],
          "table": [
           {
            "cells": {
             "fill": {
              "color": "#EBF0F8"
             },
             "line": {
              "color": "white"
             }
            },
            "header": {
             "fill": {
              "color": "#C8D4E3"
             },
             "line": {
              "color": "white"
             }
            },
            "type": "table"
           }
          ]
         },
         "layout": {
          "annotationdefaults": {
           "arrowcolor": "#2a3f5f",
           "arrowhead": 0,
           "arrowwidth": 1
          },
          "autotypenumbers": "strict",
          "coloraxis": {
           "colorbar": {
            "outlinewidth": 0,
            "ticks": ""
           }
          },
          "colorscale": {
           "diverging": [
            [
             0,
             "#8e0152"
            ],
            [
             0.1,
             "#c51b7d"
            ],
            [
             0.2,
             "#de77ae"
            ],
            [
             0.3,
             "#f1b6da"
            ],
            [
             0.4,
             "#fde0ef"
            ],
            [
             0.5,
             "#f7f7f7"
            ],
            [
             0.6,
             "#e6f5d0"
            ],
            [
             0.7,
             "#b8e186"
            ],
            [
             0.8,
             "#7fbc41"
            ],
            [
             0.9,
             "#4d9221"
            ],
            [
             1,
             "#276419"
            ]
           ],
           "sequential": [
            [
             0,
             "#0d0887"
            ],
            [
             0.1111111111111111,
             "#46039f"
            ],
            [
             0.2222222222222222,
             "#7201a8"
            ],
            [
             0.3333333333333333,
             "#9c179e"
            ],
            [
             0.4444444444444444,
             "#bd3786"
            ],
            [
             0.5555555555555556,
             "#d8576b"
            ],
            [
             0.6666666666666666,
             "#ed7953"
            ],
            [
             0.7777777777777778,
             "#fb9f3a"
            ],
            [
             0.8888888888888888,
             "#fdca26"
            ],
            [
             1,
             "#f0f921"
            ]
           ],
           "sequentialminus": [
            [
             0,
             "#0d0887"
            ],
            [
             0.1111111111111111,
             "#46039f"
            ],
            [
             0.2222222222222222,
             "#7201a8"
            ],
            [
             0.3333333333333333,
             "#9c179e"
            ],
            [
             0.4444444444444444,
             "#bd3786"
            ],
            [
             0.5555555555555556,
             "#d8576b"
            ],
            [
             0.6666666666666666,
             "#ed7953"
            ],
            [
             0.7777777777777778,
             "#fb9f3a"
            ],
            [
             0.8888888888888888,
             "#fdca26"
            ],
            [
             1,
             "#f0f921"
            ]
           ]
          },
          "colorway": [
           "#636efa",
           "#EF553B",
           "#00cc96",
           "#ab63fa",
           "#FFA15A",
           "#19d3f3",
           "#FF6692",
           "#B6E880",
           "#FF97FF",
           "#FECB52"
          ],
          "font": {
           "color": "#2a3f5f"
          },
          "geo": {
           "bgcolor": "white",
           "lakecolor": "white",
           "landcolor": "#E5ECF6",
           "showlakes": true,
           "showland": true,
           "subunitcolor": "white"
          },
          "hoverlabel": {
           "align": "left"
          },
          "hovermode": "closest",
          "mapbox": {
           "style": "light"
          },
          "paper_bgcolor": "white",
          "plot_bgcolor": "#E5ECF6",
          "polar": {
           "angularaxis": {
            "gridcolor": "white",
            "linecolor": "white",
            "ticks": ""
           },
           "bgcolor": "#E5ECF6",
           "radialaxis": {
            "gridcolor": "white",
            "linecolor": "white",
            "ticks": ""
           }
          },
          "scene": {
           "xaxis": {
            "backgroundcolor": "#E5ECF6",
            "gridcolor": "white",
            "gridwidth": 2,
            "linecolor": "white",
            "showbackground": true,
            "ticks": "",
            "zerolinecolor": "white"
           },
           "yaxis": {
            "backgroundcolor": "#E5ECF6",
            "gridcolor": "white",
            "gridwidth": 2,
            "linecolor": "white",
            "showbackground": true,
            "ticks": "",
            "zerolinecolor": "white"
           },
           "zaxis": {
            "backgroundcolor": "#E5ECF6",
            "gridcolor": "white",
            "gridwidth": 2,
            "linecolor": "white",
            "showbackground": true,
            "ticks": "",
            "zerolinecolor": "white"
           }
          },
          "shapedefaults": {
           "line": {
            "color": "#2a3f5f"
           }
          },
          "ternary": {
           "aaxis": {
            "gridcolor": "white",
            "linecolor": "white",
            "ticks": ""
           },
           "baxis": {
            "gridcolor": "white",
            "linecolor": "white",
            "ticks": ""
           },
           "bgcolor": "#E5ECF6",
           "caxis": {
            "gridcolor": "white",
            "linecolor": "white",
            "ticks": ""
           }
          },
          "title": {
           "x": 0.05
          },
          "xaxis": {
           "automargin": true,
           "gridcolor": "white",
           "linecolor": "white",
           "ticks": "",
           "title": {
            "standoff": 15
           },
           "zerolinecolor": "white",
           "zerolinewidth": 2
          },
          "yaxis": {
           "automargin": true,
           "gridcolor": "white",
           "linecolor": "white",
           "ticks": "",
           "title": {
            "standoff": 15
           },
           "zerolinecolor": "white",
           "zerolinewidth": 2
          }
         }
        },
        "title": {
         "font": {
          "color": "#4D5663"
         }
        },
        "xaxis": {
         "gridcolor": "#E1E5ED",
         "showgrid": true,
         "tickfont": {
          "color": "#4D5663"
         },
         "title": {
          "font": {
           "color": "#4D5663"
          },
          "text": ""
         },
         "zerolinecolor": "#E1E5ED"
        },
        "yaxis": {
         "gridcolor": "#E1E5ED",
         "showgrid": true,
         "tickfont": {
          "color": "#4D5663"
         },
         "title": {
          "font": {
           "color": "#4D5663"
          },
          "text": ""
         },
         "zerolinecolor": "#E1E5ED"
        }
       }
      },
      "text/html": [
       "<div>                            <div id=\"e8e7e28c-7f84-4c62-b966-dd1d94f49d70\" class=\"plotly-graph-div\" style=\"height:525px; width:100%;\"></div>            <script type=\"text/javascript\">                require([\"plotly\"], function(Plotly) {                    window.PLOTLYENV=window.PLOTLYENV || {};\n",
       "                    window.PLOTLYENV.BASE_URL='https://plot.ly';                                    if (document.getElementById(\"e8e7e28c-7f84-4c62-b966-dd1d94f49d70\")) {                    Plotly.newPlot(                        \"e8e7e28c-7f84-4c62-b966-dd1d94f49d70\",                        [{\"colorscale\":[[0.0,\"rgb(255, 153, 51)\"],[0.1111111111111111,\"rgb(55, 128, 191)\"],[0.2222222222222222,\"rgb(50, 171, 96)\"],[0.3333333333333333,\"rgb(128, 0, 128)\"],[0.4444444444444444,\"rgb(219, 64, 82)\"],[0.5555555555555556,\"rgb(0, 128, 128)\"],[0.6666666666666666,\"rgb(255, 255, 51)\"],[0.7777777777777778,\"rgb(128, 128, 0)\"],[0.8888888888888888,\"rgb(251, 128, 114)\"],[1.0,\"rgb(128, 177, 211)\"]],\"x\":[0,1,2,3,4],\"y\":[\"x\",\"y\",\"z\"],\"z\":[[1,2,3,4,5],[10,20,30,20,10],[500,400,300,200,100]],\"type\":\"surface\"}],                        {\"legend\":{\"bgcolor\":\"#F5F6F9\",\"font\":{\"color\":\"#4D5663\"}},\"paper_bgcolor\":\"#F5F6F9\",\"plot_bgcolor\":\"#F5F6F9\",\"template\":{\"data\":{\"barpolar\":[{\"marker\":{\"line\":{\"color\":\"#E5ECF6\",\"width\":0.5},\"pattern\":{\"fillmode\":\"overlay\",\"size\":10,\"solidity\":0.2}},\"type\":\"barpolar\"}],\"bar\":[{\"error_x\":{\"color\":\"#2a3f5f\"},\"error_y\":{\"color\":\"#2a3f5f\"},\"marker\":{\"line\":{\"color\":\"#E5ECF6\",\"width\":0.5},\"pattern\":{\"fillmode\":\"overlay\",\"size\":10,\"solidity\":0.2}},\"type\":\"bar\"}],\"carpet\":[{\"aaxis\":{\"endlinecolor\":\"#2a3f5f\",\"gridcolor\":\"white\",\"linecolor\":\"white\",\"minorgridcolor\":\"white\",\"startlinecolor\":\"#2a3f5f\"},\"baxis\":{\"endlinecolor\":\"#2a3f5f\",\"gridcolor\":\"white\",\"linecolor\":\"white\",\"minorgridcolor\":\"white\",\"startlinecolor\":\"#2a3f5f\"},\"type\":\"carpet\"}],\"choropleth\":[{\"colorbar\":{\"outlinewidth\":0,\"ticks\":\"\"},\"type\":\"choropleth\"}],\"contourcarpet\":[{\"colorbar\":{\"outlinewidth\":0,\"ticks\":\"\"},\"type\":\"contourcarpet\"}],\"contour\":[{\"colorbar\":{\"outlinewidth\":0,\"ticks\":\"\"},\"colorscale\":[[0.0,\"#0d0887\"],[0.1111111111111111,\"#46039f\"],[0.2222222222222222,\"#7201a8\"],[0.3333333333333333,\"#9c179e\"],[0.4444444444444444,\"#bd3786\"],[0.5555555555555556,\"#d8576b\"],[0.6666666666666666,\"#ed7953\"],[0.7777777777777778,\"#fb9f3a\"],[0.8888888888888888,\"#fdca26\"],[1.0,\"#f0f921\"]],\"type\":\"contour\"}],\"heatmapgl\":[{\"colorbar\":{\"outlinewidth\":0,\"ticks\":\"\"},\"colorscale\":[[0.0,\"#0d0887\"],[0.1111111111111111,\"#46039f\"],[0.2222222222222222,\"#7201a8\"],[0.3333333333333333,\"#9c179e\"],[0.4444444444444444,\"#bd3786\"],[0.5555555555555556,\"#d8576b\"],[0.6666666666666666,\"#ed7953\"],[0.7777777777777778,\"#fb9f3a\"],[0.8888888888888888,\"#fdca26\"],[1.0,\"#f0f921\"]],\"type\":\"heatmapgl\"}],\"heatmap\":[{\"colorbar\":{\"outlinewidth\":0,\"ticks\":\"\"},\"colorscale\":[[0.0,\"#0d0887\"],[0.1111111111111111,\"#46039f\"],[0.2222222222222222,\"#7201a8\"],[0.3333333333333333,\"#9c179e\"],[0.4444444444444444,\"#bd3786\"],[0.5555555555555556,\"#d8576b\"],[0.6666666666666666,\"#ed7953\"],[0.7777777777777778,\"#fb9f3a\"],[0.8888888888888888,\"#fdca26\"],[1.0,\"#f0f921\"]],\"type\":\"heatmap\"}],\"histogram2dcontour\":[{\"colorbar\":{\"outlinewidth\":0,\"ticks\":\"\"},\"colorscale\":[[0.0,\"#0d0887\"],[0.1111111111111111,\"#46039f\"],[0.2222222222222222,\"#7201a8\"],[0.3333333333333333,\"#9c179e\"],[0.4444444444444444,\"#bd3786\"],[0.5555555555555556,\"#d8576b\"],[0.6666666666666666,\"#ed7953\"],[0.7777777777777778,\"#fb9f3a\"],[0.8888888888888888,\"#fdca26\"],[1.0,\"#f0f921\"]],\"type\":\"histogram2dcontour\"}],\"histogram2d\":[{\"colorbar\":{\"outlinewidth\":0,\"ticks\":\"\"},\"colorscale\":[[0.0,\"#0d0887\"],[0.1111111111111111,\"#46039f\"],[0.2222222222222222,\"#7201a8\"],[0.3333333333333333,\"#9c179e\"],[0.4444444444444444,\"#bd3786\"],[0.5555555555555556,\"#d8576b\"],[0.6666666666666666,\"#ed7953\"],[0.7777777777777778,\"#fb9f3a\"],[0.8888888888888888,\"#fdca26\"],[1.0,\"#f0f921\"]],\"type\":\"histogram2d\"}],\"histogram\":[{\"marker\":{\"pattern\":{\"fillmode\":\"overlay\",\"size\":10,\"solidity\":0.2}},\"type\":\"histogram\"}],\"mesh3d\":[{\"colorbar\":{\"outlinewidth\":0,\"ticks\":\"\"},\"type\":\"mesh3d\"}],\"parcoords\":[{\"line\":{\"colorbar\":{\"outlinewidth\":0,\"ticks\":\"\"}},\"type\":\"parcoords\"}],\"pie\":[{\"automargin\":true,\"type\":\"pie\"}],\"scatter3d\":[{\"line\":{\"colorbar\":{\"outlinewidth\":0,\"ticks\":\"\"}},\"marker\":{\"colorbar\":{\"outlinewidth\":0,\"ticks\":\"\"}},\"type\":\"scatter3d\"}],\"scattercarpet\":[{\"marker\":{\"colorbar\":{\"outlinewidth\":0,\"ticks\":\"\"}},\"type\":\"scattercarpet\"}],\"scattergeo\":[{\"marker\":{\"colorbar\":{\"outlinewidth\":0,\"ticks\":\"\"}},\"type\":\"scattergeo\"}],\"scattergl\":[{\"marker\":{\"colorbar\":{\"outlinewidth\":0,\"ticks\":\"\"}},\"type\":\"scattergl\"}],\"scattermapbox\":[{\"marker\":{\"colorbar\":{\"outlinewidth\":0,\"ticks\":\"\"}},\"type\":\"scattermapbox\"}],\"scatterpolargl\":[{\"marker\":{\"colorbar\":{\"outlinewidth\":0,\"ticks\":\"\"}},\"type\":\"scatterpolargl\"}],\"scatterpolar\":[{\"marker\":{\"colorbar\":{\"outlinewidth\":0,\"ticks\":\"\"}},\"type\":\"scatterpolar\"}],\"scatter\":[{\"fillpattern\":{\"fillmode\":\"overlay\",\"size\":10,\"solidity\":0.2},\"type\":\"scatter\"}],\"scatterternary\":[{\"marker\":{\"colorbar\":{\"outlinewidth\":0,\"ticks\":\"\"}},\"type\":\"scatterternary\"}],\"surface\":[{\"colorbar\":{\"outlinewidth\":0,\"ticks\":\"\"},\"colorscale\":[[0.0,\"#0d0887\"],[0.1111111111111111,\"#46039f\"],[0.2222222222222222,\"#7201a8\"],[0.3333333333333333,\"#9c179e\"],[0.4444444444444444,\"#bd3786\"],[0.5555555555555556,\"#d8576b\"],[0.6666666666666666,\"#ed7953\"],[0.7777777777777778,\"#fb9f3a\"],[0.8888888888888888,\"#fdca26\"],[1.0,\"#f0f921\"]],\"type\":\"surface\"}],\"table\":[{\"cells\":{\"fill\":{\"color\":\"#EBF0F8\"},\"line\":{\"color\":\"white\"}},\"header\":{\"fill\":{\"color\":\"#C8D4E3\"},\"line\":{\"color\":\"white\"}},\"type\":\"table\"}]},\"layout\":{\"annotationdefaults\":{\"arrowcolor\":\"#2a3f5f\",\"arrowhead\":0,\"arrowwidth\":1},\"autotypenumbers\":\"strict\",\"coloraxis\":{\"colorbar\":{\"outlinewidth\":0,\"ticks\":\"\"}},\"colorscale\":{\"diverging\":[[0,\"#8e0152\"],[0.1,\"#c51b7d\"],[0.2,\"#de77ae\"],[0.3,\"#f1b6da\"],[0.4,\"#fde0ef\"],[0.5,\"#f7f7f7\"],[0.6,\"#e6f5d0\"],[0.7,\"#b8e186\"],[0.8,\"#7fbc41\"],[0.9,\"#4d9221\"],[1,\"#276419\"]],\"sequential\":[[0.0,\"#0d0887\"],[0.1111111111111111,\"#46039f\"],[0.2222222222222222,\"#7201a8\"],[0.3333333333333333,\"#9c179e\"],[0.4444444444444444,\"#bd3786\"],[0.5555555555555556,\"#d8576b\"],[0.6666666666666666,\"#ed7953\"],[0.7777777777777778,\"#fb9f3a\"],[0.8888888888888888,\"#fdca26\"],[1.0,\"#f0f921\"]],\"sequentialminus\":[[0.0,\"#0d0887\"],[0.1111111111111111,\"#46039f\"],[0.2222222222222222,\"#7201a8\"],[0.3333333333333333,\"#9c179e\"],[0.4444444444444444,\"#bd3786\"],[0.5555555555555556,\"#d8576b\"],[0.6666666666666666,\"#ed7953\"],[0.7777777777777778,\"#fb9f3a\"],[0.8888888888888888,\"#fdca26\"],[1.0,\"#f0f921\"]]},\"colorway\":[\"#636efa\",\"#EF553B\",\"#00cc96\",\"#ab63fa\",\"#FFA15A\",\"#19d3f3\",\"#FF6692\",\"#B6E880\",\"#FF97FF\",\"#FECB52\"],\"font\":{\"color\":\"#2a3f5f\"},\"geo\":{\"bgcolor\":\"white\",\"lakecolor\":\"white\",\"landcolor\":\"#E5ECF6\",\"showlakes\":true,\"showland\":true,\"subunitcolor\":\"white\"},\"hoverlabel\":{\"align\":\"left\"},\"hovermode\":\"closest\",\"mapbox\":{\"style\":\"light\"},\"paper_bgcolor\":\"white\",\"plot_bgcolor\":\"#E5ECF6\",\"polar\":{\"angularaxis\":{\"gridcolor\":\"white\",\"linecolor\":\"white\",\"ticks\":\"\"},\"bgcolor\":\"#E5ECF6\",\"radialaxis\":{\"gridcolor\":\"white\",\"linecolor\":\"white\",\"ticks\":\"\"}},\"scene\":{\"xaxis\":{\"backgroundcolor\":\"#E5ECF6\",\"gridcolor\":\"white\",\"gridwidth\":2,\"linecolor\":\"white\",\"showbackground\":true,\"ticks\":\"\",\"zerolinecolor\":\"white\"},\"yaxis\":{\"backgroundcolor\":\"#E5ECF6\",\"gridcolor\":\"white\",\"gridwidth\":2,\"linecolor\":\"white\",\"showbackground\":true,\"ticks\":\"\",\"zerolinecolor\":\"white\"},\"zaxis\":{\"backgroundcolor\":\"#E5ECF6\",\"gridcolor\":\"white\",\"gridwidth\":2,\"linecolor\":\"white\",\"showbackground\":true,\"ticks\":\"\",\"zerolinecolor\":\"white\"}},\"shapedefaults\":{\"line\":{\"color\":\"#2a3f5f\"}},\"ternary\":{\"aaxis\":{\"gridcolor\":\"white\",\"linecolor\":\"white\",\"ticks\":\"\"},\"baxis\":{\"gridcolor\":\"white\",\"linecolor\":\"white\",\"ticks\":\"\"},\"bgcolor\":\"#E5ECF6\",\"caxis\":{\"gridcolor\":\"white\",\"linecolor\":\"white\",\"ticks\":\"\"}},\"title\":{\"x\":0.05},\"xaxis\":{\"automargin\":true,\"gridcolor\":\"white\",\"linecolor\":\"white\",\"ticks\":\"\",\"title\":{\"standoff\":15},\"zerolinecolor\":\"white\",\"zerolinewidth\":2},\"yaxis\":{\"automargin\":true,\"gridcolor\":\"white\",\"linecolor\":\"white\",\"ticks\":\"\",\"title\":{\"standoff\":15},\"zerolinecolor\":\"white\",\"zerolinewidth\":2}}},\"title\":{\"font\":{\"color\":\"#4D5663\"}},\"xaxis\":{\"gridcolor\":\"#E1E5ED\",\"showgrid\":true,\"tickfont\":{\"color\":\"#4D5663\"},\"title\":{\"font\":{\"color\":\"#4D5663\"},\"text\":\"\"},\"zerolinecolor\":\"#E1E5ED\"},\"yaxis\":{\"gridcolor\":\"#E1E5ED\",\"showgrid\":true,\"tickfont\":{\"color\":\"#4D5663\"},\"title\":{\"font\":{\"color\":\"#4D5663\"},\"text\":\"\"},\"zerolinecolor\":\"#E1E5ED\"}},                        {\"showLink\": true, \"linkText\": \"Export to plot.ly\", \"plotlyServerURL\": \"https://plot.ly\", \"responsive\": true}                    ).then(function(){\n",
       "                            \n",
       "var gd = document.getElementById('e8e7e28c-7f84-4c62-b966-dd1d94f49d70');\n",
       "var x = new MutationObserver(function (mutations, observer) {{\n",
       "        var display = window.getComputedStyle(gd).display;\n",
       "        if (!display || display === 'none') {{\n",
       "            console.log([gd, 'removed!']);\n",
       "            Plotly.purge(gd);\n",
       "            observer.disconnect();\n",
       "        }}\n",
       "}});\n",
       "\n",
       "// Listen for the removal of the full notebook cells\n",
       "var notebookContainer = gd.closest('#notebook-container');\n",
       "if (notebookContainer) {{\n",
       "    x.observe(notebookContainer, {childList: true});\n",
       "}}\n",
       "\n",
       "// Listen for the clearing of the current output cell\n",
       "var outputEl = gd.closest('.output');\n",
       "if (outputEl) {{\n",
       "    x.observe(outputEl, {childList: true});\n",
       "}}\n",
       "\n",
       "                        })                };                });            </script>        </div>"
      ]
     },
     "metadata": {},
     "output_type": "display_data"
    }
   ],
   "source": [
    "df3.iplot(kind='surface')"
   ]
  },
  {
   "cell_type": "code",
   "execution_count": 52,
   "metadata": {},
   "outputs": [],
   "source": [
    "df4 = pd.DataFrame({'x':[1,2,3,4,5],'y':[10,20,30,20,10],'z':[5,4,3,2,1]})"
   ]
  },
  {
   "cell_type": "code",
   "execution_count": 53,
   "metadata": {},
   "outputs": [
    {
     "data": {
      "text/html": [
       "<div>\n",
       "<style scoped>\n",
       "    .dataframe tbody tr th:only-of-type {\n",
       "        vertical-align: middle;\n",
       "    }\n",
       "\n",
       "    .dataframe tbody tr th {\n",
       "        vertical-align: top;\n",
       "    }\n",
       "\n",
       "    .dataframe thead th {\n",
       "        text-align: right;\n",
       "    }\n",
       "</style>\n",
       "<table border=\"1\" class=\"dataframe\">\n",
       "  <thead>\n",
       "    <tr style=\"text-align: right;\">\n",
       "      <th></th>\n",
       "      <th>x</th>\n",
       "      <th>y</th>\n",
       "      <th>z</th>\n",
       "    </tr>\n",
       "  </thead>\n",
       "  <tbody>\n",
       "    <tr>\n",
       "      <th>0</th>\n",
       "      <td>1</td>\n",
       "      <td>10</td>\n",
       "      <td>5</td>\n",
       "    </tr>\n",
       "    <tr>\n",
       "      <th>1</th>\n",
       "      <td>2</td>\n",
       "      <td>20</td>\n",
       "      <td>4</td>\n",
       "    </tr>\n",
       "    <tr>\n",
       "      <th>2</th>\n",
       "      <td>3</td>\n",
       "      <td>30</td>\n",
       "      <td>3</td>\n",
       "    </tr>\n",
       "    <tr>\n",
       "      <th>3</th>\n",
       "      <td>4</td>\n",
       "      <td>20</td>\n",
       "      <td>2</td>\n",
       "    </tr>\n",
       "    <tr>\n",
       "      <th>4</th>\n",
       "      <td>5</td>\n",
       "      <td>10</td>\n",
       "      <td>1</td>\n",
       "    </tr>\n",
       "  </tbody>\n",
       "</table>\n",
       "</div>"
      ],
      "text/plain": [
       "   x   y  z\n",
       "0  1  10  5\n",
       "1  2  20  4\n",
       "2  3  30  3\n",
       "3  4  20  2\n",
       "4  5  10  1"
      ]
     },
     "execution_count": 53,
     "metadata": {},
     "output_type": "execute_result"
    }
   ],
   "source": [
    "df4"
   ]
  },
  {
   "cell_type": "code",
   "execution_count": 55,
   "metadata": {},
   "outputs": [
    {
     "data": {
      "application/vnd.plotly.v1+json": {
       "config": {
        "linkText": "Export to plot.ly",
        "plotlyServerURL": "https://plot.ly",
        "showLink": true
       },
       "data": [
        {
         "colorscale": [
          [
           0,
           "rgb(255, 153, 51)"
          ],
          [
           0.1111111111111111,
           "rgb(55, 128, 191)"
          ],
          [
           0.2222222222222222,
           "rgb(50, 171, 96)"
          ],
          [
           0.3333333333333333,
           "rgb(128, 0, 128)"
          ],
          [
           0.4444444444444444,
           "rgb(219, 64, 82)"
          ],
          [
           0.5555555555555556,
           "rgb(0, 128, 128)"
          ],
          [
           0.6666666666666666,
           "rgb(255, 255, 51)"
          ],
          [
           0.7777777777777778,
           "rgb(128, 128, 0)"
          ],
          [
           0.8888888888888888,
           "rgb(251, 128, 114)"
          ],
          [
           1,
           "rgb(128, 177, 211)"
          ]
         ],
         "type": "surface",
         "x": [
          0,
          1,
          2,
          3,
          4
         ],
         "y": [
          "x",
          "y",
          "z"
         ],
         "z": [
          [
           1,
           2,
           3,
           4,
           5
          ],
          [
           10,
           20,
           30,
           20,
           10
          ],
          [
           5,
           4,
           3,
           2,
           1
          ]
         ]
        }
       ],
       "layout": {
        "legend": {
         "bgcolor": "#F5F6F9",
         "font": {
          "color": "#4D5663"
         }
        },
        "paper_bgcolor": "#F5F6F9",
        "plot_bgcolor": "#F5F6F9",
        "template": {
         "data": {
          "bar": [
           {
            "error_x": {
             "color": "#2a3f5f"
            },
            "error_y": {
             "color": "#2a3f5f"
            },
            "marker": {
             "line": {
              "color": "#E5ECF6",
              "width": 0.5
             },
             "pattern": {
              "fillmode": "overlay",
              "size": 10,
              "solidity": 0.2
             }
            },
            "type": "bar"
           }
          ],
          "barpolar": [
           {
            "marker": {
             "line": {
              "color": "#E5ECF6",
              "width": 0.5
             },
             "pattern": {
              "fillmode": "overlay",
              "size": 10,
              "solidity": 0.2
             }
            },
            "type": "barpolar"
           }
          ],
          "carpet": [
           {
            "aaxis": {
             "endlinecolor": "#2a3f5f",
             "gridcolor": "white",
             "linecolor": "white",
             "minorgridcolor": "white",
             "startlinecolor": "#2a3f5f"
            },
            "baxis": {
             "endlinecolor": "#2a3f5f",
             "gridcolor": "white",
             "linecolor": "white",
             "minorgridcolor": "white",
             "startlinecolor": "#2a3f5f"
            },
            "type": "carpet"
           }
          ],
          "choropleth": [
           {
            "colorbar": {
             "outlinewidth": 0,
             "ticks": ""
            },
            "type": "choropleth"
           }
          ],
          "contour": [
           {
            "colorbar": {
             "outlinewidth": 0,
             "ticks": ""
            },
            "colorscale": [
             [
              0,
              "#0d0887"
             ],
             [
              0.1111111111111111,
              "#46039f"
             ],
             [
              0.2222222222222222,
              "#7201a8"
             ],
             [
              0.3333333333333333,
              "#9c179e"
             ],
             [
              0.4444444444444444,
              "#bd3786"
             ],
             [
              0.5555555555555556,
              "#d8576b"
             ],
             [
              0.6666666666666666,
              "#ed7953"
             ],
             [
              0.7777777777777778,
              "#fb9f3a"
             ],
             [
              0.8888888888888888,
              "#fdca26"
             ],
             [
              1,
              "#f0f921"
             ]
            ],
            "type": "contour"
           }
          ],
          "contourcarpet": [
           {
            "colorbar": {
             "outlinewidth": 0,
             "ticks": ""
            },
            "type": "contourcarpet"
           }
          ],
          "heatmap": [
           {
            "colorbar": {
             "outlinewidth": 0,
             "ticks": ""
            },
            "colorscale": [
             [
              0,
              "#0d0887"
             ],
             [
              0.1111111111111111,
              "#46039f"
             ],
             [
              0.2222222222222222,
              "#7201a8"
             ],
             [
              0.3333333333333333,
              "#9c179e"
             ],
             [
              0.4444444444444444,
              "#bd3786"
             ],
             [
              0.5555555555555556,
              "#d8576b"
             ],
             [
              0.6666666666666666,
              "#ed7953"
             ],
             [
              0.7777777777777778,
              "#fb9f3a"
             ],
             [
              0.8888888888888888,
              "#fdca26"
             ],
             [
              1,
              "#f0f921"
             ]
            ],
            "type": "heatmap"
           }
          ],
          "heatmapgl": [
           {
            "colorbar": {
             "outlinewidth": 0,
             "ticks": ""
            },
            "colorscale": [
             [
              0,
              "#0d0887"
             ],
             [
              0.1111111111111111,
              "#46039f"
             ],
             [
              0.2222222222222222,
              "#7201a8"
             ],
             [
              0.3333333333333333,
              "#9c179e"
             ],
             [
              0.4444444444444444,
              "#bd3786"
             ],
             [
              0.5555555555555556,
              "#d8576b"
             ],
             [
              0.6666666666666666,
              "#ed7953"
             ],
             [
              0.7777777777777778,
              "#fb9f3a"
             ],
             [
              0.8888888888888888,
              "#fdca26"
             ],
             [
              1,
              "#f0f921"
             ]
            ],
            "type": "heatmapgl"
           }
          ],
          "histogram": [
           {
            "marker": {
             "pattern": {
              "fillmode": "overlay",
              "size": 10,
              "solidity": 0.2
             }
            },
            "type": "histogram"
           }
          ],
          "histogram2d": [
           {
            "colorbar": {
             "outlinewidth": 0,
             "ticks": ""
            },
            "colorscale": [
             [
              0,
              "#0d0887"
             ],
             [
              0.1111111111111111,
              "#46039f"
             ],
             [
              0.2222222222222222,
              "#7201a8"
             ],
             [
              0.3333333333333333,
              "#9c179e"
             ],
             [
              0.4444444444444444,
              "#bd3786"
             ],
             [
              0.5555555555555556,
              "#d8576b"
             ],
             [
              0.6666666666666666,
              "#ed7953"
             ],
             [
              0.7777777777777778,
              "#fb9f3a"
             ],
             [
              0.8888888888888888,
              "#fdca26"
             ],
             [
              1,
              "#f0f921"
             ]
            ],
            "type": "histogram2d"
           }
          ],
          "histogram2dcontour": [
           {
            "colorbar": {
             "outlinewidth": 0,
             "ticks": ""
            },
            "colorscale": [
             [
              0,
              "#0d0887"
             ],
             [
              0.1111111111111111,
              "#46039f"
             ],
             [
              0.2222222222222222,
              "#7201a8"
             ],
             [
              0.3333333333333333,
              "#9c179e"
             ],
             [
              0.4444444444444444,
              "#bd3786"
             ],
             [
              0.5555555555555556,
              "#d8576b"
             ],
             [
              0.6666666666666666,
              "#ed7953"
             ],
             [
              0.7777777777777778,
              "#fb9f3a"
             ],
             [
              0.8888888888888888,
              "#fdca26"
             ],
             [
              1,
              "#f0f921"
             ]
            ],
            "type": "histogram2dcontour"
           }
          ],
          "mesh3d": [
           {
            "colorbar": {
             "outlinewidth": 0,
             "ticks": ""
            },
            "type": "mesh3d"
           }
          ],
          "parcoords": [
           {
            "line": {
             "colorbar": {
              "outlinewidth": 0,
              "ticks": ""
             }
            },
            "type": "parcoords"
           }
          ],
          "pie": [
           {
            "automargin": true,
            "type": "pie"
           }
          ],
          "scatter": [
           {
            "fillpattern": {
             "fillmode": "overlay",
             "size": 10,
             "solidity": 0.2
            },
            "type": "scatter"
           }
          ],
          "scatter3d": [
           {
            "line": {
             "colorbar": {
              "outlinewidth": 0,
              "ticks": ""
             }
            },
            "marker": {
             "colorbar": {
              "outlinewidth": 0,
              "ticks": ""
             }
            },
            "type": "scatter3d"
           }
          ],
          "scattercarpet": [
           {
            "marker": {
             "colorbar": {
              "outlinewidth": 0,
              "ticks": ""
             }
            },
            "type": "scattercarpet"
           }
          ],
          "scattergeo": [
           {
            "marker": {
             "colorbar": {
              "outlinewidth": 0,
              "ticks": ""
             }
            },
            "type": "scattergeo"
           }
          ],
          "scattergl": [
           {
            "marker": {
             "colorbar": {
              "outlinewidth": 0,
              "ticks": ""
             }
            },
            "type": "scattergl"
           }
          ],
          "scattermapbox": [
           {
            "marker": {
             "colorbar": {
              "outlinewidth": 0,
              "ticks": ""
             }
            },
            "type": "scattermapbox"
           }
          ],
          "scatterpolar": [
           {
            "marker": {
             "colorbar": {
              "outlinewidth": 0,
              "ticks": ""
             }
            },
            "type": "scatterpolar"
           }
          ],
          "scatterpolargl": [
           {
            "marker": {
             "colorbar": {
              "outlinewidth": 0,
              "ticks": ""
             }
            },
            "type": "scatterpolargl"
           }
          ],
          "scatterternary": [
           {
            "marker": {
             "colorbar": {
              "outlinewidth": 0,
              "ticks": ""
             }
            },
            "type": "scatterternary"
           }
          ],
          "surface": [
           {
            "colorbar": {
             "outlinewidth": 0,
             "ticks": ""
            },
            "colorscale": [
             [
              0,
              "#0d0887"
             ],
             [
              0.1111111111111111,
              "#46039f"
             ],
             [
              0.2222222222222222,
              "#7201a8"
             ],
             [
              0.3333333333333333,
              "#9c179e"
             ],
             [
              0.4444444444444444,
              "#bd3786"
             ],
             [
              0.5555555555555556,
              "#d8576b"
             ],
             [
              0.6666666666666666,
              "#ed7953"
             ],
             [
              0.7777777777777778,
              "#fb9f3a"
             ],
             [
              0.8888888888888888,
              "#fdca26"
             ],
             [
              1,
              "#f0f921"
             ]
            ],
            "type": "surface"
           }
          ],
          "table": [
           {
            "cells": {
             "fill": {
              "color": "#EBF0F8"
             },
             "line": {
              "color": "white"
             }
            },
            "header": {
             "fill": {
              "color": "#C8D4E3"
             },
             "line": {
              "color": "white"
             }
            },
            "type": "table"
           }
          ]
         },
         "layout": {
          "annotationdefaults": {
           "arrowcolor": "#2a3f5f",
           "arrowhead": 0,
           "arrowwidth": 1
          },
          "autotypenumbers": "strict",
          "coloraxis": {
           "colorbar": {
            "outlinewidth": 0,
            "ticks": ""
           }
          },
          "colorscale": {
           "diverging": [
            [
             0,
             "#8e0152"
            ],
            [
             0.1,
             "#c51b7d"
            ],
            [
             0.2,
             "#de77ae"
            ],
            [
             0.3,
             "#f1b6da"
            ],
            [
             0.4,
             "#fde0ef"
            ],
            [
             0.5,
             "#f7f7f7"
            ],
            [
             0.6,
             "#e6f5d0"
            ],
            [
             0.7,
             "#b8e186"
            ],
            [
             0.8,
             "#7fbc41"
            ],
            [
             0.9,
             "#4d9221"
            ],
            [
             1,
             "#276419"
            ]
           ],
           "sequential": [
            [
             0,
             "#0d0887"
            ],
            [
             0.1111111111111111,
             "#46039f"
            ],
            [
             0.2222222222222222,
             "#7201a8"
            ],
            [
             0.3333333333333333,
             "#9c179e"
            ],
            [
             0.4444444444444444,
             "#bd3786"
            ],
            [
             0.5555555555555556,
             "#d8576b"
            ],
            [
             0.6666666666666666,
             "#ed7953"
            ],
            [
             0.7777777777777778,
             "#fb9f3a"
            ],
            [
             0.8888888888888888,
             "#fdca26"
            ],
            [
             1,
             "#f0f921"
            ]
           ],
           "sequentialminus": [
            [
             0,
             "#0d0887"
            ],
            [
             0.1111111111111111,
             "#46039f"
            ],
            [
             0.2222222222222222,
             "#7201a8"
            ],
            [
             0.3333333333333333,
             "#9c179e"
            ],
            [
             0.4444444444444444,
             "#bd3786"
            ],
            [
             0.5555555555555556,
             "#d8576b"
            ],
            [
             0.6666666666666666,
             "#ed7953"
            ],
            [
             0.7777777777777778,
             "#fb9f3a"
            ],
            [
             0.8888888888888888,
             "#fdca26"
            ],
            [
             1,
             "#f0f921"
            ]
           ]
          },
          "colorway": [
           "#636efa",
           "#EF553B",
           "#00cc96",
           "#ab63fa",
           "#FFA15A",
           "#19d3f3",
           "#FF6692",
           "#B6E880",
           "#FF97FF",
           "#FECB52"
          ],
          "font": {
           "color": "#2a3f5f"
          },
          "geo": {
           "bgcolor": "white",
           "lakecolor": "white",
           "landcolor": "#E5ECF6",
           "showlakes": true,
           "showland": true,
           "subunitcolor": "white"
          },
          "hoverlabel": {
           "align": "left"
          },
          "hovermode": "closest",
          "mapbox": {
           "style": "light"
          },
          "paper_bgcolor": "white",
          "plot_bgcolor": "#E5ECF6",
          "polar": {
           "angularaxis": {
            "gridcolor": "white",
            "linecolor": "white",
            "ticks": ""
           },
           "bgcolor": "#E5ECF6",
           "radialaxis": {
            "gridcolor": "white",
            "linecolor": "white",
            "ticks": ""
           }
          },
          "scene": {
           "xaxis": {
            "backgroundcolor": "#E5ECF6",
            "gridcolor": "white",
            "gridwidth": 2,
            "linecolor": "white",
            "showbackground": true,
            "ticks": "",
            "zerolinecolor": "white"
           },
           "yaxis": {
            "backgroundcolor": "#E5ECF6",
            "gridcolor": "white",
            "gridwidth": 2,
            "linecolor": "white",
            "showbackground": true,
            "ticks": "",
            "zerolinecolor": "white"
           },
           "zaxis": {
            "backgroundcolor": "#E5ECF6",
            "gridcolor": "white",
            "gridwidth": 2,
            "linecolor": "white",
            "showbackground": true,
            "ticks": "",
            "zerolinecolor": "white"
           }
          },
          "shapedefaults": {
           "line": {
            "color": "#2a3f5f"
           }
          },
          "ternary": {
           "aaxis": {
            "gridcolor": "white",
            "linecolor": "white",
            "ticks": ""
           },
           "baxis": {
            "gridcolor": "white",
            "linecolor": "white",
            "ticks": ""
           },
           "bgcolor": "#E5ECF6",
           "caxis": {
            "gridcolor": "white",
            "linecolor": "white",
            "ticks": ""
           }
          },
          "title": {
           "x": 0.05
          },
          "xaxis": {
           "automargin": true,
           "gridcolor": "white",
           "linecolor": "white",
           "ticks": "",
           "title": {
            "standoff": 15
           },
           "zerolinecolor": "white",
           "zerolinewidth": 2
          },
          "yaxis": {
           "automargin": true,
           "gridcolor": "white",
           "linecolor": "white",
           "ticks": "",
           "title": {
            "standoff": 15
           },
           "zerolinecolor": "white",
           "zerolinewidth": 2
          }
         }
        },
        "title": {
         "font": {
          "color": "#4D5663"
         }
        },
        "xaxis": {
         "gridcolor": "#E1E5ED",
         "showgrid": true,
         "tickfont": {
          "color": "#4D5663"
         },
         "title": {
          "font": {
           "color": "#4D5663"
          },
          "text": ""
         },
         "zerolinecolor": "#E1E5ED"
        },
        "yaxis": {
         "gridcolor": "#E1E5ED",
         "showgrid": true,
         "tickfont": {
          "color": "#4D5663"
         },
         "title": {
          "font": {
           "color": "#4D5663"
          },
          "text": ""
         },
         "zerolinecolor": "#E1E5ED"
        }
       }
      },
      "text/html": [
       "<div>                            <div id=\"fba8cc58-c58f-40f7-b99d-717183d4d728\" class=\"plotly-graph-div\" style=\"height:525px; width:100%;\"></div>            <script type=\"text/javascript\">                require([\"plotly\"], function(Plotly) {                    window.PLOTLYENV=window.PLOTLYENV || {};\n",
       "                    window.PLOTLYENV.BASE_URL='https://plot.ly';                                    if (document.getElementById(\"fba8cc58-c58f-40f7-b99d-717183d4d728\")) {                    Plotly.newPlot(                        \"fba8cc58-c58f-40f7-b99d-717183d4d728\",                        [{\"colorscale\":[[0.0,\"rgb(255, 153, 51)\"],[0.1111111111111111,\"rgb(55, 128, 191)\"],[0.2222222222222222,\"rgb(50, 171, 96)\"],[0.3333333333333333,\"rgb(128, 0, 128)\"],[0.4444444444444444,\"rgb(219, 64, 82)\"],[0.5555555555555556,\"rgb(0, 128, 128)\"],[0.6666666666666666,\"rgb(255, 255, 51)\"],[0.7777777777777778,\"rgb(128, 128, 0)\"],[0.8888888888888888,\"rgb(251, 128, 114)\"],[1.0,\"rgb(128, 177, 211)\"]],\"x\":[0,1,2,3,4],\"y\":[\"x\",\"y\",\"z\"],\"z\":[[1,2,3,4,5],[10,20,30,20,10],[5,4,3,2,1]],\"type\":\"surface\"}],                        {\"legend\":{\"bgcolor\":\"#F5F6F9\",\"font\":{\"color\":\"#4D5663\"}},\"paper_bgcolor\":\"#F5F6F9\",\"plot_bgcolor\":\"#F5F6F9\",\"template\":{\"data\":{\"barpolar\":[{\"marker\":{\"line\":{\"color\":\"#E5ECF6\",\"width\":0.5},\"pattern\":{\"fillmode\":\"overlay\",\"size\":10,\"solidity\":0.2}},\"type\":\"barpolar\"}],\"bar\":[{\"error_x\":{\"color\":\"#2a3f5f\"},\"error_y\":{\"color\":\"#2a3f5f\"},\"marker\":{\"line\":{\"color\":\"#E5ECF6\",\"width\":0.5},\"pattern\":{\"fillmode\":\"overlay\",\"size\":10,\"solidity\":0.2}},\"type\":\"bar\"}],\"carpet\":[{\"aaxis\":{\"endlinecolor\":\"#2a3f5f\",\"gridcolor\":\"white\",\"linecolor\":\"white\",\"minorgridcolor\":\"white\",\"startlinecolor\":\"#2a3f5f\"},\"baxis\":{\"endlinecolor\":\"#2a3f5f\",\"gridcolor\":\"white\",\"linecolor\":\"white\",\"minorgridcolor\":\"white\",\"startlinecolor\":\"#2a3f5f\"},\"type\":\"carpet\"}],\"choropleth\":[{\"colorbar\":{\"outlinewidth\":0,\"ticks\":\"\"},\"type\":\"choropleth\"}],\"contourcarpet\":[{\"colorbar\":{\"outlinewidth\":0,\"ticks\":\"\"},\"type\":\"contourcarpet\"}],\"contour\":[{\"colorbar\":{\"outlinewidth\":0,\"ticks\":\"\"},\"colorscale\":[[0.0,\"#0d0887\"],[0.1111111111111111,\"#46039f\"],[0.2222222222222222,\"#7201a8\"],[0.3333333333333333,\"#9c179e\"],[0.4444444444444444,\"#bd3786\"],[0.5555555555555556,\"#d8576b\"],[0.6666666666666666,\"#ed7953\"],[0.7777777777777778,\"#fb9f3a\"],[0.8888888888888888,\"#fdca26\"],[1.0,\"#f0f921\"]],\"type\":\"contour\"}],\"heatmapgl\":[{\"colorbar\":{\"outlinewidth\":0,\"ticks\":\"\"},\"colorscale\":[[0.0,\"#0d0887\"],[0.1111111111111111,\"#46039f\"],[0.2222222222222222,\"#7201a8\"],[0.3333333333333333,\"#9c179e\"],[0.4444444444444444,\"#bd3786\"],[0.5555555555555556,\"#d8576b\"],[0.6666666666666666,\"#ed7953\"],[0.7777777777777778,\"#fb9f3a\"],[0.8888888888888888,\"#fdca26\"],[1.0,\"#f0f921\"]],\"type\":\"heatmapgl\"}],\"heatmap\":[{\"colorbar\":{\"outlinewidth\":0,\"ticks\":\"\"},\"colorscale\":[[0.0,\"#0d0887\"],[0.1111111111111111,\"#46039f\"],[0.2222222222222222,\"#7201a8\"],[0.3333333333333333,\"#9c179e\"],[0.4444444444444444,\"#bd3786\"],[0.5555555555555556,\"#d8576b\"],[0.6666666666666666,\"#ed7953\"],[0.7777777777777778,\"#fb9f3a\"],[0.8888888888888888,\"#fdca26\"],[1.0,\"#f0f921\"]],\"type\":\"heatmap\"}],\"histogram2dcontour\":[{\"colorbar\":{\"outlinewidth\":0,\"ticks\":\"\"},\"colorscale\":[[0.0,\"#0d0887\"],[0.1111111111111111,\"#46039f\"],[0.2222222222222222,\"#7201a8\"],[0.3333333333333333,\"#9c179e\"],[0.4444444444444444,\"#bd3786\"],[0.5555555555555556,\"#d8576b\"],[0.6666666666666666,\"#ed7953\"],[0.7777777777777778,\"#fb9f3a\"],[0.8888888888888888,\"#fdca26\"],[1.0,\"#f0f921\"]],\"type\":\"histogram2dcontour\"}],\"histogram2d\":[{\"colorbar\":{\"outlinewidth\":0,\"ticks\":\"\"},\"colorscale\":[[0.0,\"#0d0887\"],[0.1111111111111111,\"#46039f\"],[0.2222222222222222,\"#7201a8\"],[0.3333333333333333,\"#9c179e\"],[0.4444444444444444,\"#bd3786\"],[0.5555555555555556,\"#d8576b\"],[0.6666666666666666,\"#ed7953\"],[0.7777777777777778,\"#fb9f3a\"],[0.8888888888888888,\"#fdca26\"],[1.0,\"#f0f921\"]],\"type\":\"histogram2d\"}],\"histogram\":[{\"marker\":{\"pattern\":{\"fillmode\":\"overlay\",\"size\":10,\"solidity\":0.2}},\"type\":\"histogram\"}],\"mesh3d\":[{\"colorbar\":{\"outlinewidth\":0,\"ticks\":\"\"},\"type\":\"mesh3d\"}],\"parcoords\":[{\"line\":{\"colorbar\":{\"outlinewidth\":0,\"ticks\":\"\"}},\"type\":\"parcoords\"}],\"pie\":[{\"automargin\":true,\"type\":\"pie\"}],\"scatter3d\":[{\"line\":{\"colorbar\":{\"outlinewidth\":0,\"ticks\":\"\"}},\"marker\":{\"colorbar\":{\"outlinewidth\":0,\"ticks\":\"\"}},\"type\":\"scatter3d\"}],\"scattercarpet\":[{\"marker\":{\"colorbar\":{\"outlinewidth\":0,\"ticks\":\"\"}},\"type\":\"scattercarpet\"}],\"scattergeo\":[{\"marker\":{\"colorbar\":{\"outlinewidth\":0,\"ticks\":\"\"}},\"type\":\"scattergeo\"}],\"scattergl\":[{\"marker\":{\"colorbar\":{\"outlinewidth\":0,\"ticks\":\"\"}},\"type\":\"scattergl\"}],\"scattermapbox\":[{\"marker\":{\"colorbar\":{\"outlinewidth\":0,\"ticks\":\"\"}},\"type\":\"scattermapbox\"}],\"scatterpolargl\":[{\"marker\":{\"colorbar\":{\"outlinewidth\":0,\"ticks\":\"\"}},\"type\":\"scatterpolargl\"}],\"scatterpolar\":[{\"marker\":{\"colorbar\":{\"outlinewidth\":0,\"ticks\":\"\"}},\"type\":\"scatterpolar\"}],\"scatter\":[{\"fillpattern\":{\"fillmode\":\"overlay\",\"size\":10,\"solidity\":0.2},\"type\":\"scatter\"}],\"scatterternary\":[{\"marker\":{\"colorbar\":{\"outlinewidth\":0,\"ticks\":\"\"}},\"type\":\"scatterternary\"}],\"surface\":[{\"colorbar\":{\"outlinewidth\":0,\"ticks\":\"\"},\"colorscale\":[[0.0,\"#0d0887\"],[0.1111111111111111,\"#46039f\"],[0.2222222222222222,\"#7201a8\"],[0.3333333333333333,\"#9c179e\"],[0.4444444444444444,\"#bd3786\"],[0.5555555555555556,\"#d8576b\"],[0.6666666666666666,\"#ed7953\"],[0.7777777777777778,\"#fb9f3a\"],[0.8888888888888888,\"#fdca26\"],[1.0,\"#f0f921\"]],\"type\":\"surface\"}],\"table\":[{\"cells\":{\"fill\":{\"color\":\"#EBF0F8\"},\"line\":{\"color\":\"white\"}},\"header\":{\"fill\":{\"color\":\"#C8D4E3\"},\"line\":{\"color\":\"white\"}},\"type\":\"table\"}]},\"layout\":{\"annotationdefaults\":{\"arrowcolor\":\"#2a3f5f\",\"arrowhead\":0,\"arrowwidth\":1},\"autotypenumbers\":\"strict\",\"coloraxis\":{\"colorbar\":{\"outlinewidth\":0,\"ticks\":\"\"}},\"colorscale\":{\"diverging\":[[0,\"#8e0152\"],[0.1,\"#c51b7d\"],[0.2,\"#de77ae\"],[0.3,\"#f1b6da\"],[0.4,\"#fde0ef\"],[0.5,\"#f7f7f7\"],[0.6,\"#e6f5d0\"],[0.7,\"#b8e186\"],[0.8,\"#7fbc41\"],[0.9,\"#4d9221\"],[1,\"#276419\"]],\"sequential\":[[0.0,\"#0d0887\"],[0.1111111111111111,\"#46039f\"],[0.2222222222222222,\"#7201a8\"],[0.3333333333333333,\"#9c179e\"],[0.4444444444444444,\"#bd3786\"],[0.5555555555555556,\"#d8576b\"],[0.6666666666666666,\"#ed7953\"],[0.7777777777777778,\"#fb9f3a\"],[0.8888888888888888,\"#fdca26\"],[1.0,\"#f0f921\"]],\"sequentialminus\":[[0.0,\"#0d0887\"],[0.1111111111111111,\"#46039f\"],[0.2222222222222222,\"#7201a8\"],[0.3333333333333333,\"#9c179e\"],[0.4444444444444444,\"#bd3786\"],[0.5555555555555556,\"#d8576b\"],[0.6666666666666666,\"#ed7953\"],[0.7777777777777778,\"#fb9f3a\"],[0.8888888888888888,\"#fdca26\"],[1.0,\"#f0f921\"]]},\"colorway\":[\"#636efa\",\"#EF553B\",\"#00cc96\",\"#ab63fa\",\"#FFA15A\",\"#19d3f3\",\"#FF6692\",\"#B6E880\",\"#FF97FF\",\"#FECB52\"],\"font\":{\"color\":\"#2a3f5f\"},\"geo\":{\"bgcolor\":\"white\",\"lakecolor\":\"white\",\"landcolor\":\"#E5ECF6\",\"showlakes\":true,\"showland\":true,\"subunitcolor\":\"white\"},\"hoverlabel\":{\"align\":\"left\"},\"hovermode\":\"closest\",\"mapbox\":{\"style\":\"light\"},\"paper_bgcolor\":\"white\",\"plot_bgcolor\":\"#E5ECF6\",\"polar\":{\"angularaxis\":{\"gridcolor\":\"white\",\"linecolor\":\"white\",\"ticks\":\"\"},\"bgcolor\":\"#E5ECF6\",\"radialaxis\":{\"gridcolor\":\"white\",\"linecolor\":\"white\",\"ticks\":\"\"}},\"scene\":{\"xaxis\":{\"backgroundcolor\":\"#E5ECF6\",\"gridcolor\":\"white\",\"gridwidth\":2,\"linecolor\":\"white\",\"showbackground\":true,\"ticks\":\"\",\"zerolinecolor\":\"white\"},\"yaxis\":{\"backgroundcolor\":\"#E5ECF6\",\"gridcolor\":\"white\",\"gridwidth\":2,\"linecolor\":\"white\",\"showbackground\":true,\"ticks\":\"\",\"zerolinecolor\":\"white\"},\"zaxis\":{\"backgroundcolor\":\"#E5ECF6\",\"gridcolor\":\"white\",\"gridwidth\":2,\"linecolor\":\"white\",\"showbackground\":true,\"ticks\":\"\",\"zerolinecolor\":\"white\"}},\"shapedefaults\":{\"line\":{\"color\":\"#2a3f5f\"}},\"ternary\":{\"aaxis\":{\"gridcolor\":\"white\",\"linecolor\":\"white\",\"ticks\":\"\"},\"baxis\":{\"gridcolor\":\"white\",\"linecolor\":\"white\",\"ticks\":\"\"},\"bgcolor\":\"#E5ECF6\",\"caxis\":{\"gridcolor\":\"white\",\"linecolor\":\"white\",\"ticks\":\"\"}},\"title\":{\"x\":0.05},\"xaxis\":{\"automargin\":true,\"gridcolor\":\"white\",\"linecolor\":\"white\",\"ticks\":\"\",\"title\":{\"standoff\":15},\"zerolinecolor\":\"white\",\"zerolinewidth\":2},\"yaxis\":{\"automargin\":true,\"gridcolor\":\"white\",\"linecolor\":\"white\",\"ticks\":\"\",\"title\":{\"standoff\":15},\"zerolinecolor\":\"white\",\"zerolinewidth\":2}}},\"title\":{\"font\":{\"color\":\"#4D5663\"}},\"xaxis\":{\"gridcolor\":\"#E1E5ED\",\"showgrid\":true,\"tickfont\":{\"color\":\"#4D5663\"},\"title\":{\"font\":{\"color\":\"#4D5663\"},\"text\":\"\"},\"zerolinecolor\":\"#E1E5ED\"},\"yaxis\":{\"gridcolor\":\"#E1E5ED\",\"showgrid\":true,\"tickfont\":{\"color\":\"#4D5663\"},\"title\":{\"font\":{\"color\":\"#4D5663\"},\"text\":\"\"},\"zerolinecolor\":\"#E1E5ED\"}},                        {\"showLink\": true, \"linkText\": \"Export to plot.ly\", \"plotlyServerURL\": \"https://plot.ly\", \"responsive\": true}                    ).then(function(){\n",
       "                            \n",
       "var gd = document.getElementById('fba8cc58-c58f-40f7-b99d-717183d4d728');\n",
       "var x = new MutationObserver(function (mutations, observer) {{\n",
       "        var display = window.getComputedStyle(gd).display;\n",
       "        if (!display || display === 'none') {{\n",
       "            console.log([gd, 'removed!']);\n",
       "            Plotly.purge(gd);\n",
       "            observer.disconnect();\n",
       "        }}\n",
       "}});\n",
       "\n",
       "// Listen for the removal of the full notebook cells\n",
       "var notebookContainer = gd.closest('#notebook-container');\n",
       "if (notebookContainer) {{\n",
       "    x.observe(notebookContainer, {childList: true});\n",
       "}}\n",
       "\n",
       "// Listen for the clearing of the current output cell\n",
       "var outputEl = gd.closest('.output');\n",
       "if (outputEl) {{\n",
       "    x.observe(outputEl, {childList: true});\n",
       "}}\n",
       "\n",
       "                        })                };                });            </script>        </div>"
      ]
     },
     "metadata": {},
     "output_type": "display_data"
    }
   ],
   "source": [
    "df3.iplot(kind='surface')"
   ]
  },
  {
   "cell_type": "code",
   "execution_count": 56,
   "metadata": {},
   "outputs": [
    {
     "data": {
      "application/vnd.plotly.v1+json": {
       "config": {
        "linkText": "Export to plot.ly",
        "plotlyServerURL": "https://plot.ly",
        "showLink": true
       },
       "data": [
        {
         "colorscale": [
          [
           0,
           "rgb(165,0,38)"
          ],
          [
           0.1,
           "rgb(215,48,39)"
          ],
          [
           0.2,
           "rgb(244,109,67)"
          ],
          [
           0.3,
           "rgb(253,174,97)"
          ],
          [
           0.4,
           "rgb(254,224,144)"
          ],
          [
           0.5,
           "rgb(255,255,191)"
          ],
          [
           0.6,
           "rgb(224,243,248)"
          ],
          [
           0.7,
           "rgb(171,217,233)"
          ],
          [
           0.8,
           "rgb(116,173,209)"
          ],
          [
           0.9,
           "rgb(69,117,180)"
          ],
          [
           1,
           "rgb(49,54,149)"
          ]
         ],
         "type": "surface",
         "x": [
          0,
          1,
          2,
          3,
          4
         ],
         "y": [
          "x",
          "y",
          "z"
         ],
         "z": [
          [
           1,
           2,
           3,
           4,
           5
          ],
          [
           10,
           20,
           30,
           20,
           10
          ],
          [
           5,
           4,
           3,
           2,
           1
          ]
         ]
        }
       ],
       "layout": {
        "legend": {
         "bgcolor": "#F5F6F9",
         "font": {
          "color": "#4D5663"
         }
        },
        "paper_bgcolor": "#F5F6F9",
        "plot_bgcolor": "#F5F6F9",
        "template": {
         "data": {
          "bar": [
           {
            "error_x": {
             "color": "#2a3f5f"
            },
            "error_y": {
             "color": "#2a3f5f"
            },
            "marker": {
             "line": {
              "color": "#E5ECF6",
              "width": 0.5
             },
             "pattern": {
              "fillmode": "overlay",
              "size": 10,
              "solidity": 0.2
             }
            },
            "type": "bar"
           }
          ],
          "barpolar": [
           {
            "marker": {
             "line": {
              "color": "#E5ECF6",
              "width": 0.5
             },
             "pattern": {
              "fillmode": "overlay",
              "size": 10,
              "solidity": 0.2
             }
            },
            "type": "barpolar"
           }
          ],
          "carpet": [
           {
            "aaxis": {
             "endlinecolor": "#2a3f5f",
             "gridcolor": "white",
             "linecolor": "white",
             "minorgridcolor": "white",
             "startlinecolor": "#2a3f5f"
            },
            "baxis": {
             "endlinecolor": "#2a3f5f",
             "gridcolor": "white",
             "linecolor": "white",
             "minorgridcolor": "white",
             "startlinecolor": "#2a3f5f"
            },
            "type": "carpet"
           }
          ],
          "choropleth": [
           {
            "colorbar": {
             "outlinewidth": 0,
             "ticks": ""
            },
            "type": "choropleth"
           }
          ],
          "contour": [
           {
            "colorbar": {
             "outlinewidth": 0,
             "ticks": ""
            },
            "colorscale": [
             [
              0,
              "#0d0887"
             ],
             [
              0.1111111111111111,
              "#46039f"
             ],
             [
              0.2222222222222222,
              "#7201a8"
             ],
             [
              0.3333333333333333,
              "#9c179e"
             ],
             [
              0.4444444444444444,
              "#bd3786"
             ],
             [
              0.5555555555555556,
              "#d8576b"
             ],
             [
              0.6666666666666666,
              "#ed7953"
             ],
             [
              0.7777777777777778,
              "#fb9f3a"
             ],
             [
              0.8888888888888888,
              "#fdca26"
             ],
             [
              1,
              "#f0f921"
             ]
            ],
            "type": "contour"
           }
          ],
          "contourcarpet": [
           {
            "colorbar": {
             "outlinewidth": 0,
             "ticks": ""
            },
            "type": "contourcarpet"
           }
          ],
          "heatmap": [
           {
            "colorbar": {
             "outlinewidth": 0,
             "ticks": ""
            },
            "colorscale": [
             [
              0,
              "#0d0887"
             ],
             [
              0.1111111111111111,
              "#46039f"
             ],
             [
              0.2222222222222222,
              "#7201a8"
             ],
             [
              0.3333333333333333,
              "#9c179e"
             ],
             [
              0.4444444444444444,
              "#bd3786"
             ],
             [
              0.5555555555555556,
              "#d8576b"
             ],
             [
              0.6666666666666666,
              "#ed7953"
             ],
             [
              0.7777777777777778,
              "#fb9f3a"
             ],
             [
              0.8888888888888888,
              "#fdca26"
             ],
             [
              1,
              "#f0f921"
             ]
            ],
            "type": "heatmap"
           }
          ],
          "heatmapgl": [
           {
            "colorbar": {
             "outlinewidth": 0,
             "ticks": ""
            },
            "colorscale": [
             [
              0,
              "#0d0887"
             ],
             [
              0.1111111111111111,
              "#46039f"
             ],
             [
              0.2222222222222222,
              "#7201a8"
             ],
             [
              0.3333333333333333,
              "#9c179e"
             ],
             [
              0.4444444444444444,
              "#bd3786"
             ],
             [
              0.5555555555555556,
              "#d8576b"
             ],
             [
              0.6666666666666666,
              "#ed7953"
             ],
             [
              0.7777777777777778,
              "#fb9f3a"
             ],
             [
              0.8888888888888888,
              "#fdca26"
             ],
             [
              1,
              "#f0f921"
             ]
            ],
            "type": "heatmapgl"
           }
          ],
          "histogram": [
           {
            "marker": {
             "pattern": {
              "fillmode": "overlay",
              "size": 10,
              "solidity": 0.2
             }
            },
            "type": "histogram"
           }
          ],
          "histogram2d": [
           {
            "colorbar": {
             "outlinewidth": 0,
             "ticks": ""
            },
            "colorscale": [
             [
              0,
              "#0d0887"
             ],
             [
              0.1111111111111111,
              "#46039f"
             ],
             [
              0.2222222222222222,
              "#7201a8"
             ],
             [
              0.3333333333333333,
              "#9c179e"
             ],
             [
              0.4444444444444444,
              "#bd3786"
             ],
             [
              0.5555555555555556,
              "#d8576b"
             ],
             [
              0.6666666666666666,
              "#ed7953"
             ],
             [
              0.7777777777777778,
              "#fb9f3a"
             ],
             [
              0.8888888888888888,
              "#fdca26"
             ],
             [
              1,
              "#f0f921"
             ]
            ],
            "type": "histogram2d"
           }
          ],
          "histogram2dcontour": [
           {
            "colorbar": {
             "outlinewidth": 0,
             "ticks": ""
            },
            "colorscale": [
             [
              0,
              "#0d0887"
             ],
             [
              0.1111111111111111,
              "#46039f"
             ],
             [
              0.2222222222222222,
              "#7201a8"
             ],
             [
              0.3333333333333333,
              "#9c179e"
             ],
             [
              0.4444444444444444,
              "#bd3786"
             ],
             [
              0.5555555555555556,
              "#d8576b"
             ],
             [
              0.6666666666666666,
              "#ed7953"
             ],
             [
              0.7777777777777778,
              "#fb9f3a"
             ],
             [
              0.8888888888888888,
              "#fdca26"
             ],
             [
              1,
              "#f0f921"
             ]
            ],
            "type": "histogram2dcontour"
           }
          ],
          "mesh3d": [
           {
            "colorbar": {
             "outlinewidth": 0,
             "ticks": ""
            },
            "type": "mesh3d"
           }
          ],
          "parcoords": [
           {
            "line": {
             "colorbar": {
              "outlinewidth": 0,
              "ticks": ""
             }
            },
            "type": "parcoords"
           }
          ],
          "pie": [
           {
            "automargin": true,
            "type": "pie"
           }
          ],
          "scatter": [
           {
            "fillpattern": {
             "fillmode": "overlay",
             "size": 10,
             "solidity": 0.2
            },
            "type": "scatter"
           }
          ],
          "scatter3d": [
           {
            "line": {
             "colorbar": {
              "outlinewidth": 0,
              "ticks": ""
             }
            },
            "marker": {
             "colorbar": {
              "outlinewidth": 0,
              "ticks": ""
             }
            },
            "type": "scatter3d"
           }
          ],
          "scattercarpet": [
           {
            "marker": {
             "colorbar": {
              "outlinewidth": 0,
              "ticks": ""
             }
            },
            "type": "scattercarpet"
           }
          ],
          "scattergeo": [
           {
            "marker": {
             "colorbar": {
              "outlinewidth": 0,
              "ticks": ""
             }
            },
            "type": "scattergeo"
           }
          ],
          "scattergl": [
           {
            "marker": {
             "colorbar": {
              "outlinewidth": 0,
              "ticks": ""
             }
            },
            "type": "scattergl"
           }
          ],
          "scattermapbox": [
           {
            "marker": {
             "colorbar": {
              "outlinewidth": 0,
              "ticks": ""
             }
            },
            "type": "scattermapbox"
           }
          ],
          "scatterpolar": [
           {
            "marker": {
             "colorbar": {
              "outlinewidth": 0,
              "ticks": ""
             }
            },
            "type": "scatterpolar"
           }
          ],
          "scatterpolargl": [
           {
            "marker": {
             "colorbar": {
              "outlinewidth": 0,
              "ticks": ""
             }
            },
            "type": "scatterpolargl"
           }
          ],
          "scatterternary": [
           {
            "marker": {
             "colorbar": {
              "outlinewidth": 0,
              "ticks": ""
             }
            },
            "type": "scatterternary"
           }
          ],
          "surface": [
           {
            "colorbar": {
             "outlinewidth": 0,
             "ticks": ""
            },
            "colorscale": [
             [
              0,
              "#0d0887"
             ],
             [
              0.1111111111111111,
              "#46039f"
             ],
             [
              0.2222222222222222,
              "#7201a8"
             ],
             [
              0.3333333333333333,
              "#9c179e"
             ],
             [
              0.4444444444444444,
              "#bd3786"
             ],
             [
              0.5555555555555556,
              "#d8576b"
             ],
             [
              0.6666666666666666,
              "#ed7953"
             ],
             [
              0.7777777777777778,
              "#fb9f3a"
             ],
             [
              0.8888888888888888,
              "#fdca26"
             ],
             [
              1,
              "#f0f921"
             ]
            ],
            "type": "surface"
           }
          ],
          "table": [
           {
            "cells": {
             "fill": {
              "color": "#EBF0F8"
             },
             "line": {
              "color": "white"
             }
            },
            "header": {
             "fill": {
              "color": "#C8D4E3"
             },
             "line": {
              "color": "white"
             }
            },
            "type": "table"
           }
          ]
         },
         "layout": {
          "annotationdefaults": {
           "arrowcolor": "#2a3f5f",
           "arrowhead": 0,
           "arrowwidth": 1
          },
          "autotypenumbers": "strict",
          "coloraxis": {
           "colorbar": {
            "outlinewidth": 0,
            "ticks": ""
           }
          },
          "colorscale": {
           "diverging": [
            [
             0,
             "#8e0152"
            ],
            [
             0.1,
             "#c51b7d"
            ],
            [
             0.2,
             "#de77ae"
            ],
            [
             0.3,
             "#f1b6da"
            ],
            [
             0.4,
             "#fde0ef"
            ],
            [
             0.5,
             "#f7f7f7"
            ],
            [
             0.6,
             "#e6f5d0"
            ],
            [
             0.7,
             "#b8e186"
            ],
            [
             0.8,
             "#7fbc41"
            ],
            [
             0.9,
             "#4d9221"
            ],
            [
             1,
             "#276419"
            ]
           ],
           "sequential": [
            [
             0,
             "#0d0887"
            ],
            [
             0.1111111111111111,
             "#46039f"
            ],
            [
             0.2222222222222222,
             "#7201a8"
            ],
            [
             0.3333333333333333,
             "#9c179e"
            ],
            [
             0.4444444444444444,
             "#bd3786"
            ],
            [
             0.5555555555555556,
             "#d8576b"
            ],
            [
             0.6666666666666666,
             "#ed7953"
            ],
            [
             0.7777777777777778,
             "#fb9f3a"
            ],
            [
             0.8888888888888888,
             "#fdca26"
            ],
            [
             1,
             "#f0f921"
            ]
           ],
           "sequentialminus": [
            [
             0,
             "#0d0887"
            ],
            [
             0.1111111111111111,
             "#46039f"
            ],
            [
             0.2222222222222222,
             "#7201a8"
            ],
            [
             0.3333333333333333,
             "#9c179e"
            ],
            [
             0.4444444444444444,
             "#bd3786"
            ],
            [
             0.5555555555555556,
             "#d8576b"
            ],
            [
             0.6666666666666666,
             "#ed7953"
            ],
            [
             0.7777777777777778,
             "#fb9f3a"
            ],
            [
             0.8888888888888888,
             "#fdca26"
            ],
            [
             1,
             "#f0f921"
            ]
           ]
          },
          "colorway": [
           "#636efa",
           "#EF553B",
           "#00cc96",
           "#ab63fa",
           "#FFA15A",
           "#19d3f3",
           "#FF6692",
           "#B6E880",
           "#FF97FF",
           "#FECB52"
          ],
          "font": {
           "color": "#2a3f5f"
          },
          "geo": {
           "bgcolor": "white",
           "lakecolor": "white",
           "landcolor": "#E5ECF6",
           "showlakes": true,
           "showland": true,
           "subunitcolor": "white"
          },
          "hoverlabel": {
           "align": "left"
          },
          "hovermode": "closest",
          "mapbox": {
           "style": "light"
          },
          "paper_bgcolor": "white",
          "plot_bgcolor": "#E5ECF6",
          "polar": {
           "angularaxis": {
            "gridcolor": "white",
            "linecolor": "white",
            "ticks": ""
           },
           "bgcolor": "#E5ECF6",
           "radialaxis": {
            "gridcolor": "white",
            "linecolor": "white",
            "ticks": ""
           }
          },
          "scene": {
           "xaxis": {
            "backgroundcolor": "#E5ECF6",
            "gridcolor": "white",
            "gridwidth": 2,
            "linecolor": "white",
            "showbackground": true,
            "ticks": "",
            "zerolinecolor": "white"
           },
           "yaxis": {
            "backgroundcolor": "#E5ECF6",
            "gridcolor": "white",
            "gridwidth": 2,
            "linecolor": "white",
            "showbackground": true,
            "ticks": "",
            "zerolinecolor": "white"
           },
           "zaxis": {
            "backgroundcolor": "#E5ECF6",
            "gridcolor": "white",
            "gridwidth": 2,
            "linecolor": "white",
            "showbackground": true,
            "ticks": "",
            "zerolinecolor": "white"
           }
          },
          "shapedefaults": {
           "line": {
            "color": "#2a3f5f"
           }
          },
          "ternary": {
           "aaxis": {
            "gridcolor": "white",
            "linecolor": "white",
            "ticks": ""
           },
           "baxis": {
            "gridcolor": "white",
            "linecolor": "white",
            "ticks": ""
           },
           "bgcolor": "#E5ECF6",
           "caxis": {
            "gridcolor": "white",
            "linecolor": "white",
            "ticks": ""
           }
          },
          "title": {
           "x": 0.05
          },
          "xaxis": {
           "automargin": true,
           "gridcolor": "white",
           "linecolor": "white",
           "ticks": "",
           "title": {
            "standoff": 15
           },
           "zerolinecolor": "white",
           "zerolinewidth": 2
          },
          "yaxis": {
           "automargin": true,
           "gridcolor": "white",
           "linecolor": "white",
           "ticks": "",
           "title": {
            "standoff": 15
           },
           "zerolinecolor": "white",
           "zerolinewidth": 2
          }
         }
        },
        "title": {
         "font": {
          "color": "#4D5663"
         }
        },
        "xaxis": {
         "gridcolor": "#E1E5ED",
         "showgrid": true,
         "tickfont": {
          "color": "#4D5663"
         },
         "title": {
          "font": {
           "color": "#4D5663"
          },
          "text": ""
         },
         "zerolinecolor": "#E1E5ED"
        },
        "yaxis": {
         "gridcolor": "#E1E5ED",
         "showgrid": true,
         "tickfont": {
          "color": "#4D5663"
         },
         "title": {
          "font": {
           "color": "#4D5663"
          },
          "text": ""
         },
         "zerolinecolor": "#E1E5ED"
        }
       }
      },
      "text/html": [
       "<div>                            <div id=\"80b8d17c-d8e9-45e8-8824-5b72bc9db7f5\" class=\"plotly-graph-div\" style=\"height:525px; width:100%;\"></div>            <script type=\"text/javascript\">                require([\"plotly\"], function(Plotly) {                    window.PLOTLYENV=window.PLOTLYENV || {};\n",
       "                    window.PLOTLYENV.BASE_URL='https://plot.ly';                                    if (document.getElementById(\"80b8d17c-d8e9-45e8-8824-5b72bc9db7f5\")) {                    Plotly.newPlot(                        \"80b8d17c-d8e9-45e8-8824-5b72bc9db7f5\",                        [{\"colorscale\":[[0.0,\"rgb(165,0,38)\"],[0.1,\"rgb(215,48,39)\"],[0.2,\"rgb(244,109,67)\"],[0.3,\"rgb(253,174,97)\"],[0.4,\"rgb(254,224,144)\"],[0.5,\"rgb(255,255,191)\"],[0.6,\"rgb(224,243,248)\"],[0.7,\"rgb(171,217,233)\"],[0.8,\"rgb(116,173,209)\"],[0.9,\"rgb(69,117,180)\"],[1.0,\"rgb(49,54,149)\"]],\"x\":[0,1,2,3,4],\"y\":[\"x\",\"y\",\"z\"],\"z\":[[1,2,3,4,5],[10,20,30,20,10],[5,4,3,2,1]],\"type\":\"surface\"}],                        {\"legend\":{\"bgcolor\":\"#F5F6F9\",\"font\":{\"color\":\"#4D5663\"}},\"paper_bgcolor\":\"#F5F6F9\",\"plot_bgcolor\":\"#F5F6F9\",\"template\":{\"data\":{\"barpolar\":[{\"marker\":{\"line\":{\"color\":\"#E5ECF6\",\"width\":0.5},\"pattern\":{\"fillmode\":\"overlay\",\"size\":10,\"solidity\":0.2}},\"type\":\"barpolar\"}],\"bar\":[{\"error_x\":{\"color\":\"#2a3f5f\"},\"error_y\":{\"color\":\"#2a3f5f\"},\"marker\":{\"line\":{\"color\":\"#E5ECF6\",\"width\":0.5},\"pattern\":{\"fillmode\":\"overlay\",\"size\":10,\"solidity\":0.2}},\"type\":\"bar\"}],\"carpet\":[{\"aaxis\":{\"endlinecolor\":\"#2a3f5f\",\"gridcolor\":\"white\",\"linecolor\":\"white\",\"minorgridcolor\":\"white\",\"startlinecolor\":\"#2a3f5f\"},\"baxis\":{\"endlinecolor\":\"#2a3f5f\",\"gridcolor\":\"white\",\"linecolor\":\"white\",\"minorgridcolor\":\"white\",\"startlinecolor\":\"#2a3f5f\"},\"type\":\"carpet\"}],\"choropleth\":[{\"colorbar\":{\"outlinewidth\":0,\"ticks\":\"\"},\"type\":\"choropleth\"}],\"contourcarpet\":[{\"colorbar\":{\"outlinewidth\":0,\"ticks\":\"\"},\"type\":\"contourcarpet\"}],\"contour\":[{\"colorbar\":{\"outlinewidth\":0,\"ticks\":\"\"},\"colorscale\":[[0.0,\"#0d0887\"],[0.1111111111111111,\"#46039f\"],[0.2222222222222222,\"#7201a8\"],[0.3333333333333333,\"#9c179e\"],[0.4444444444444444,\"#bd3786\"],[0.5555555555555556,\"#d8576b\"],[0.6666666666666666,\"#ed7953\"],[0.7777777777777778,\"#fb9f3a\"],[0.8888888888888888,\"#fdca26\"],[1.0,\"#f0f921\"]],\"type\":\"contour\"}],\"heatmapgl\":[{\"colorbar\":{\"outlinewidth\":0,\"ticks\":\"\"},\"colorscale\":[[0.0,\"#0d0887\"],[0.1111111111111111,\"#46039f\"],[0.2222222222222222,\"#7201a8\"],[0.3333333333333333,\"#9c179e\"],[0.4444444444444444,\"#bd3786\"],[0.5555555555555556,\"#d8576b\"],[0.6666666666666666,\"#ed7953\"],[0.7777777777777778,\"#fb9f3a\"],[0.8888888888888888,\"#fdca26\"],[1.0,\"#f0f921\"]],\"type\":\"heatmapgl\"}],\"heatmap\":[{\"colorbar\":{\"outlinewidth\":0,\"ticks\":\"\"},\"colorscale\":[[0.0,\"#0d0887\"],[0.1111111111111111,\"#46039f\"],[0.2222222222222222,\"#7201a8\"],[0.3333333333333333,\"#9c179e\"],[0.4444444444444444,\"#bd3786\"],[0.5555555555555556,\"#d8576b\"],[0.6666666666666666,\"#ed7953\"],[0.7777777777777778,\"#fb9f3a\"],[0.8888888888888888,\"#fdca26\"],[1.0,\"#f0f921\"]],\"type\":\"heatmap\"}],\"histogram2dcontour\":[{\"colorbar\":{\"outlinewidth\":0,\"ticks\":\"\"},\"colorscale\":[[0.0,\"#0d0887\"],[0.1111111111111111,\"#46039f\"],[0.2222222222222222,\"#7201a8\"],[0.3333333333333333,\"#9c179e\"],[0.4444444444444444,\"#bd3786\"],[0.5555555555555556,\"#d8576b\"],[0.6666666666666666,\"#ed7953\"],[0.7777777777777778,\"#fb9f3a\"],[0.8888888888888888,\"#fdca26\"],[1.0,\"#f0f921\"]],\"type\":\"histogram2dcontour\"}],\"histogram2d\":[{\"colorbar\":{\"outlinewidth\":0,\"ticks\":\"\"},\"colorscale\":[[0.0,\"#0d0887\"],[0.1111111111111111,\"#46039f\"],[0.2222222222222222,\"#7201a8\"],[0.3333333333333333,\"#9c179e\"],[0.4444444444444444,\"#bd3786\"],[0.5555555555555556,\"#d8576b\"],[0.6666666666666666,\"#ed7953\"],[0.7777777777777778,\"#fb9f3a\"],[0.8888888888888888,\"#fdca26\"],[1.0,\"#f0f921\"]],\"type\":\"histogram2d\"}],\"histogram\":[{\"marker\":{\"pattern\":{\"fillmode\":\"overlay\",\"size\":10,\"solidity\":0.2}},\"type\":\"histogram\"}],\"mesh3d\":[{\"colorbar\":{\"outlinewidth\":0,\"ticks\":\"\"},\"type\":\"mesh3d\"}],\"parcoords\":[{\"line\":{\"colorbar\":{\"outlinewidth\":0,\"ticks\":\"\"}},\"type\":\"parcoords\"}],\"pie\":[{\"automargin\":true,\"type\":\"pie\"}],\"scatter3d\":[{\"line\":{\"colorbar\":{\"outlinewidth\":0,\"ticks\":\"\"}},\"marker\":{\"colorbar\":{\"outlinewidth\":0,\"ticks\":\"\"}},\"type\":\"scatter3d\"}],\"scattercarpet\":[{\"marker\":{\"colorbar\":{\"outlinewidth\":0,\"ticks\":\"\"}},\"type\":\"scattercarpet\"}],\"scattergeo\":[{\"marker\":{\"colorbar\":{\"outlinewidth\":0,\"ticks\":\"\"}},\"type\":\"scattergeo\"}],\"scattergl\":[{\"marker\":{\"colorbar\":{\"outlinewidth\":0,\"ticks\":\"\"}},\"type\":\"scattergl\"}],\"scattermapbox\":[{\"marker\":{\"colorbar\":{\"outlinewidth\":0,\"ticks\":\"\"}},\"type\":\"scattermapbox\"}],\"scatterpolargl\":[{\"marker\":{\"colorbar\":{\"outlinewidth\":0,\"ticks\":\"\"}},\"type\":\"scatterpolargl\"}],\"scatterpolar\":[{\"marker\":{\"colorbar\":{\"outlinewidth\":0,\"ticks\":\"\"}},\"type\":\"scatterpolar\"}],\"scatter\":[{\"fillpattern\":{\"fillmode\":\"overlay\",\"size\":10,\"solidity\":0.2},\"type\":\"scatter\"}],\"scatterternary\":[{\"marker\":{\"colorbar\":{\"outlinewidth\":0,\"ticks\":\"\"}},\"type\":\"scatterternary\"}],\"surface\":[{\"colorbar\":{\"outlinewidth\":0,\"ticks\":\"\"},\"colorscale\":[[0.0,\"#0d0887\"],[0.1111111111111111,\"#46039f\"],[0.2222222222222222,\"#7201a8\"],[0.3333333333333333,\"#9c179e\"],[0.4444444444444444,\"#bd3786\"],[0.5555555555555556,\"#d8576b\"],[0.6666666666666666,\"#ed7953\"],[0.7777777777777778,\"#fb9f3a\"],[0.8888888888888888,\"#fdca26\"],[1.0,\"#f0f921\"]],\"type\":\"surface\"}],\"table\":[{\"cells\":{\"fill\":{\"color\":\"#EBF0F8\"},\"line\":{\"color\":\"white\"}},\"header\":{\"fill\":{\"color\":\"#C8D4E3\"},\"line\":{\"color\":\"white\"}},\"type\":\"table\"}]},\"layout\":{\"annotationdefaults\":{\"arrowcolor\":\"#2a3f5f\",\"arrowhead\":0,\"arrowwidth\":1},\"autotypenumbers\":\"strict\",\"coloraxis\":{\"colorbar\":{\"outlinewidth\":0,\"ticks\":\"\"}},\"colorscale\":{\"diverging\":[[0,\"#8e0152\"],[0.1,\"#c51b7d\"],[0.2,\"#de77ae\"],[0.3,\"#f1b6da\"],[0.4,\"#fde0ef\"],[0.5,\"#f7f7f7\"],[0.6,\"#e6f5d0\"],[0.7,\"#b8e186\"],[0.8,\"#7fbc41\"],[0.9,\"#4d9221\"],[1,\"#276419\"]],\"sequential\":[[0.0,\"#0d0887\"],[0.1111111111111111,\"#46039f\"],[0.2222222222222222,\"#7201a8\"],[0.3333333333333333,\"#9c179e\"],[0.4444444444444444,\"#bd3786\"],[0.5555555555555556,\"#d8576b\"],[0.6666666666666666,\"#ed7953\"],[0.7777777777777778,\"#fb9f3a\"],[0.8888888888888888,\"#fdca26\"],[1.0,\"#f0f921\"]],\"sequentialminus\":[[0.0,\"#0d0887\"],[0.1111111111111111,\"#46039f\"],[0.2222222222222222,\"#7201a8\"],[0.3333333333333333,\"#9c179e\"],[0.4444444444444444,\"#bd3786\"],[0.5555555555555556,\"#d8576b\"],[0.6666666666666666,\"#ed7953\"],[0.7777777777777778,\"#fb9f3a\"],[0.8888888888888888,\"#fdca26\"],[1.0,\"#f0f921\"]]},\"colorway\":[\"#636efa\",\"#EF553B\",\"#00cc96\",\"#ab63fa\",\"#FFA15A\",\"#19d3f3\",\"#FF6692\",\"#B6E880\",\"#FF97FF\",\"#FECB52\"],\"font\":{\"color\":\"#2a3f5f\"},\"geo\":{\"bgcolor\":\"white\",\"lakecolor\":\"white\",\"landcolor\":\"#E5ECF6\",\"showlakes\":true,\"showland\":true,\"subunitcolor\":\"white\"},\"hoverlabel\":{\"align\":\"left\"},\"hovermode\":\"closest\",\"mapbox\":{\"style\":\"light\"},\"paper_bgcolor\":\"white\",\"plot_bgcolor\":\"#E5ECF6\",\"polar\":{\"angularaxis\":{\"gridcolor\":\"white\",\"linecolor\":\"white\",\"ticks\":\"\"},\"bgcolor\":\"#E5ECF6\",\"radialaxis\":{\"gridcolor\":\"white\",\"linecolor\":\"white\",\"ticks\":\"\"}},\"scene\":{\"xaxis\":{\"backgroundcolor\":\"#E5ECF6\",\"gridcolor\":\"white\",\"gridwidth\":2,\"linecolor\":\"white\",\"showbackground\":true,\"ticks\":\"\",\"zerolinecolor\":\"white\"},\"yaxis\":{\"backgroundcolor\":\"#E5ECF6\",\"gridcolor\":\"white\",\"gridwidth\":2,\"linecolor\":\"white\",\"showbackground\":true,\"ticks\":\"\",\"zerolinecolor\":\"white\"},\"zaxis\":{\"backgroundcolor\":\"#E5ECF6\",\"gridcolor\":\"white\",\"gridwidth\":2,\"linecolor\":\"white\",\"showbackground\":true,\"ticks\":\"\",\"zerolinecolor\":\"white\"}},\"shapedefaults\":{\"line\":{\"color\":\"#2a3f5f\"}},\"ternary\":{\"aaxis\":{\"gridcolor\":\"white\",\"linecolor\":\"white\",\"ticks\":\"\"},\"baxis\":{\"gridcolor\":\"white\",\"linecolor\":\"white\",\"ticks\":\"\"},\"bgcolor\":\"#E5ECF6\",\"caxis\":{\"gridcolor\":\"white\",\"linecolor\":\"white\",\"ticks\":\"\"}},\"title\":{\"x\":0.05},\"xaxis\":{\"automargin\":true,\"gridcolor\":\"white\",\"linecolor\":\"white\",\"ticks\":\"\",\"title\":{\"standoff\":15},\"zerolinecolor\":\"white\",\"zerolinewidth\":2},\"yaxis\":{\"automargin\":true,\"gridcolor\":\"white\",\"linecolor\":\"white\",\"ticks\":\"\",\"title\":{\"standoff\":15},\"zerolinecolor\":\"white\",\"zerolinewidth\":2}}},\"title\":{\"font\":{\"color\":\"#4D5663\"}},\"xaxis\":{\"gridcolor\":\"#E1E5ED\",\"showgrid\":true,\"tickfont\":{\"color\":\"#4D5663\"},\"title\":{\"font\":{\"color\":\"#4D5663\"},\"text\":\"\"},\"zerolinecolor\":\"#E1E5ED\"},\"yaxis\":{\"gridcolor\":\"#E1E5ED\",\"showgrid\":true,\"tickfont\":{\"color\":\"#4D5663\"},\"title\":{\"font\":{\"color\":\"#4D5663\"},\"text\":\"\"},\"zerolinecolor\":\"#E1E5ED\"}},                        {\"showLink\": true, \"linkText\": \"Export to plot.ly\", \"plotlyServerURL\": \"https://plot.ly\", \"responsive\": true}                    ).then(function(){\n",
       "                            \n",
       "var gd = document.getElementById('80b8d17c-d8e9-45e8-8824-5b72bc9db7f5');\n",
       "var x = new MutationObserver(function (mutations, observer) {{\n",
       "        var display = window.getComputedStyle(gd).display;\n",
       "        if (!display || display === 'none') {{\n",
       "            console.log([gd, 'removed!']);\n",
       "            Plotly.purge(gd);\n",
       "            observer.disconnect();\n",
       "        }}\n",
       "}});\n",
       "\n",
       "// Listen for the removal of the full notebook cells\n",
       "var notebookContainer = gd.closest('#notebook-container');\n",
       "if (notebookContainer) {{\n",
       "    x.observe(notebookContainer, {childList: true});\n",
       "}}\n",
       "\n",
       "// Listen for the clearing of the current output cell\n",
       "var outputEl = gd.closest('.output');\n",
       "if (outputEl) {{\n",
       "    x.observe(outputEl, {childList: true});\n",
       "}}\n",
       "\n",
       "                        })                };                });            </script>        </div>"
      ]
     },
     "metadata": {},
     "output_type": "display_data"
    }
   ],
   "source": [
    "df3.iplot(kind='surface',colorscale='rdylbu')"
   ]
  },
  {
   "cell_type": "markdown",
   "metadata": {},
   "source": [
    "## Bubble"
   ]
  },
  {
   "cell_type": "code",
   "execution_count": 17,
   "metadata": {},
   "outputs": [
    {
     "data": {
      "application/vnd.plotly.v1+json": {
       "config": {
        "linkText": "Export to plot.ly",
        "plotlyServerURL": "https://plot.ly",
        "showLink": true
       },
       "data": [
        {
         "marker": {
          "color": [
           "rgb(255, 153, 51)",
           "rgb(55, 128, 191)",
           "rgb(50, 171, 96)",
           "rgb(128, 0, 128)",
           "rgb(219, 64, 82)",
           "rgb(0, 128, 128)",
           "rgb(255, 255, 51)",
           "rgb(128, 128, 0)",
           "rgb(251, 128, 114)",
           "rgb(128, 177, 211)"
          ],
          "line": {
           "width": 1.3
          },
          "size": [
           63,
           26,
           34,
           53,
           28,
           28,
           40,
           42,
           49,
           23,
           51,
           47,
           53,
           43,
           64,
           22,
           50,
           57,
           88,
           90,
           42,
           49,
           77,
           63,
           26,
           76,
           84,
           68,
           47,
           73,
           61,
           51,
           69,
           21,
           51,
           71,
           52,
           50,
           55,
           76,
           54,
           25,
           56,
           51,
           71,
           55,
           60,
           60,
           74,
           73,
           58,
           45,
           94,
           48,
           21,
           59,
           72,
           67,
           107,
           36,
           40,
           68,
           60,
           40,
           26,
           17,
           41,
           43,
           95,
           60,
           112,
           84,
           55,
           69,
           74,
           69,
           46,
           42,
           61,
           91,
           55,
           12,
           56,
           81,
           61,
           41,
           54,
           46,
           97,
           60,
           65,
           34,
           70,
           71,
           54,
           52,
           42,
           65,
           53,
           26
          ],
          "symbol": "circle"
         },
         "mode": "markers",
         "text": "",
         "type": "scatter",
         "x": [
          0.5270350517910259,
          0.8072417761741204,
          1.1392313016357698,
          -0.26096404113916827,
          0.6926958204203916,
          0.9920051309969496,
          -0.11703426105936891,
          0.1772112230298288,
          -1.546858677607195,
          -2.12578011605067,
          -0.6668762349299929,
          -0.6859473345004385,
          -0.06517967932935818,
          1.509878948316418,
          -1.8327579596743897,
          0.006271054192142402,
          0.3414994082440188,
          0.9963915461590376,
          -0.6921272019494343,
          1.5772536578772964,
          -0.5557862878321287,
          -2.017935639740841,
          -1.1628872083088297,
          0.7367687289628784,
          0.9861800715940734,
          0.6246167005591827,
          -1.9474893936892852,
          1.514648850869348,
          -1.0370802434215016,
          0.9528204965997727,
          1.3086341505647139,
          -0.8999610192720289,
          -0.8274926084715756,
          0.23144826433866572,
          -0.8844009286812917,
          -1.0089518557682686,
          0.6932773742180772,
          1.0061969073018957,
          1.092431285788773,
          1.1045108225684144,
          -1.2769047407707261,
          1.054723907960595,
          -1.424470905566255,
          0.8213992840984147,
          0.6508352767197153,
          0.7329958919606228,
          -1.103247067925494,
          0.601973655750255,
          0.2411701647259433,
          0.7332646418151118,
          -0.4867885879627209,
          -1.2441969273967537,
          1.6754209142406766,
          -0.32039696502661236,
          1.1215309278302448,
          -1.3886324130968108,
          1.0143521438152425,
          -0.5068577869406047,
          -0.18319072282702112,
          0.012500231010309247,
          0.40854877825819697,
          1.8258137915196166,
          1.6461587266463735,
          -1.8705116276819005,
          1.5285251703518656,
          -0.6037446546192259,
          -0.5813250501397086,
          -1.4794730914628256,
          -1.0238816124476313,
          -2.739929363797368,
          1.0552377958437529,
          -1.5351435511108646,
          -1.7843905685681465,
          -0.28256426488536146,
          -0.3577831692789127,
          -0.3368682486926556,
          -0.6688560865867158,
          0.07685974077155044,
          -1.1543438385075415,
          -0.21220970437488415,
          -1.1771975886707862,
          0.4219558757493188,
          -0.4448033818296801,
          0.3241897943873185,
          0.46323398510899855,
          -2.5752791645582294,
          -1.3442022736781003,
          1.706852734553487,
          -0.2889523856225487,
          0.6976631999888713,
          -1.0146863195520115,
          -0.7524830335894936,
          -0.342321697117499,
          -0.414428719259938,
          1.26844070572974,
          -0.1096357311371834,
          0.47694159897509,
          -0.1877913031971587,
          -0.22201392254173058,
          1.4363529412819034
         ],
         "y": [
          -0.3573371322445269,
          -0.7954803660541344,
          -0.23383688048364987,
          -1.4689616392588782,
          0.537737290574604,
          -0.05179186032217305,
          1.1542428711277914,
          1.2733915245654719,
          0.6223971458964284,
          1.7660185634710133,
          -0.4248669150760995,
          0.6103571241821237,
          -0.4060266583344734,
          -0.34083406057226867,
          1.0457488946748692,
          0.16181416390983103,
          1.9322396713416716,
          1.8553521700780675,
          0.07955584163522861,
          -0.1574334729496121,
          -0.6833826482122404,
          -1.1980781090912365,
          -0.9053129632827271,
          -0.2145284338421415,
          -0.050637435429454376,
          -0.5458995868568157,
          -0.5726021831051272,
          0.03824973522765993,
          -0.617215839868082,
          -0.4570865099864727,
          1.4409852198056514,
          -1.9590013257555352,
          -0.5205643338706631,
          0.5938850164555284,
          0.46474974157386184,
          0.7882569264403052,
          0.024094991915381028,
          -1.4577162082850728,
          0.07561423667063542,
          -1.2001222092639914,
          0.7541788380651747,
          -0.24595719786258077,
          0.21254927464469472,
          -0.49310287074353265,
          -0.6707348435998824,
          -0.8367506132618868,
          0.44657092371361706,
          0.16521007038945787,
          0.3801082461965531,
          -0.7055556233504856,
          0.9365054887186388,
          0.3927142752274356,
          0.2990646831914984,
          0.5882157939174921,
          -0.6027841469280251,
          0.5109916821229135,
          -0.7059286693013546,
          -1.1250070453809728,
          0.3114178659387146,
          0.16637813506466545,
          -0.5573233254530179,
          -0.6326873498471812,
          -1.0807829905528308,
          -0.3976740103682822,
          -0.19283456701847768,
          -0.36007121436303724,
          -0.3470273779456088,
          -0.9597181464851905,
          1.066691240020702,
          0.9136225090209719,
          1.3101158716194419,
          -0.9085927744857276,
          -1.5561141030386398,
          0.688253431236142,
          -0.04912350342079393,
          0.0877282049928525,
          -1.1558341775294163,
          0.8469784835212012,
          -0.9074209290923171,
          -0.13420252879010483,
          -0.913883998790638,
          0.6794092228773175,
          -0.20344922901598547,
          1.0574595072611443,
          -1.4223714743297229,
          -1.9454108161259374,
          1.1376563393228913,
          -0.8629420319001743,
          -0.8272461902066471,
          -0.38017293677999786,
          0.8729160577567565,
          0.918135871563344,
          -0.22959205957453752,
          -1.0789951244840297,
          -2.2451156390336293,
          -0.46859350017118706,
          -1.5626645877329906,
          -0.6218078841153108,
          0.08863756424389115,
          -1.377863557567499
         ]
        }
       ],
       "layout": {
        "legend": {
         "bgcolor": "#F5F6F9",
         "font": {
          "color": "#4D5663"
         }
        },
        "paper_bgcolor": "#F5F6F9",
        "plot_bgcolor": "#F5F6F9",
        "template": {
         "data": {
          "bar": [
           {
            "error_x": {
             "color": "#2a3f5f"
            },
            "error_y": {
             "color": "#2a3f5f"
            },
            "marker": {
             "line": {
              "color": "#E5ECF6",
              "width": 0.5
             },
             "pattern": {
              "fillmode": "overlay",
              "size": 10,
              "solidity": 0.2
             }
            },
            "type": "bar"
           }
          ],
          "barpolar": [
           {
            "marker": {
             "line": {
              "color": "#E5ECF6",
              "width": 0.5
             },
             "pattern": {
              "fillmode": "overlay",
              "size": 10,
              "solidity": 0.2
             }
            },
            "type": "barpolar"
           }
          ],
          "carpet": [
           {
            "aaxis": {
             "endlinecolor": "#2a3f5f",
             "gridcolor": "white",
             "linecolor": "white",
             "minorgridcolor": "white",
             "startlinecolor": "#2a3f5f"
            },
            "baxis": {
             "endlinecolor": "#2a3f5f",
             "gridcolor": "white",
             "linecolor": "white",
             "minorgridcolor": "white",
             "startlinecolor": "#2a3f5f"
            },
            "type": "carpet"
           }
          ],
          "choropleth": [
           {
            "colorbar": {
             "outlinewidth": 0,
             "ticks": ""
            },
            "type": "choropleth"
           }
          ],
          "contour": [
           {
            "colorbar": {
             "outlinewidth": 0,
             "ticks": ""
            },
            "colorscale": [
             [
              0,
              "#0d0887"
             ],
             [
              0.1111111111111111,
              "#46039f"
             ],
             [
              0.2222222222222222,
              "#7201a8"
             ],
             [
              0.3333333333333333,
              "#9c179e"
             ],
             [
              0.4444444444444444,
              "#bd3786"
             ],
             [
              0.5555555555555556,
              "#d8576b"
             ],
             [
              0.6666666666666666,
              "#ed7953"
             ],
             [
              0.7777777777777778,
              "#fb9f3a"
             ],
             [
              0.8888888888888888,
              "#fdca26"
             ],
             [
              1,
              "#f0f921"
             ]
            ],
            "type": "contour"
           }
          ],
          "contourcarpet": [
           {
            "colorbar": {
             "outlinewidth": 0,
             "ticks": ""
            },
            "type": "contourcarpet"
           }
          ],
          "heatmap": [
           {
            "colorbar": {
             "outlinewidth": 0,
             "ticks": ""
            },
            "colorscale": [
             [
              0,
              "#0d0887"
             ],
             [
              0.1111111111111111,
              "#46039f"
             ],
             [
              0.2222222222222222,
              "#7201a8"
             ],
             [
              0.3333333333333333,
              "#9c179e"
             ],
             [
              0.4444444444444444,
              "#bd3786"
             ],
             [
              0.5555555555555556,
              "#d8576b"
             ],
             [
              0.6666666666666666,
              "#ed7953"
             ],
             [
              0.7777777777777778,
              "#fb9f3a"
             ],
             [
              0.8888888888888888,
              "#fdca26"
             ],
             [
              1,
              "#f0f921"
             ]
            ],
            "type": "heatmap"
           }
          ],
          "heatmapgl": [
           {
            "colorbar": {
             "outlinewidth": 0,
             "ticks": ""
            },
            "colorscale": [
             [
              0,
              "#0d0887"
             ],
             [
              0.1111111111111111,
              "#46039f"
             ],
             [
              0.2222222222222222,
              "#7201a8"
             ],
             [
              0.3333333333333333,
              "#9c179e"
             ],
             [
              0.4444444444444444,
              "#bd3786"
             ],
             [
              0.5555555555555556,
              "#d8576b"
             ],
             [
              0.6666666666666666,
              "#ed7953"
             ],
             [
              0.7777777777777778,
              "#fb9f3a"
             ],
             [
              0.8888888888888888,
              "#fdca26"
             ],
             [
              1,
              "#f0f921"
             ]
            ],
            "type": "heatmapgl"
           }
          ],
          "histogram": [
           {
            "marker": {
             "pattern": {
              "fillmode": "overlay",
              "size": 10,
              "solidity": 0.2
             }
            },
            "type": "histogram"
           }
          ],
          "histogram2d": [
           {
            "colorbar": {
             "outlinewidth": 0,
             "ticks": ""
            },
            "colorscale": [
             [
              0,
              "#0d0887"
             ],
             [
              0.1111111111111111,
              "#46039f"
             ],
             [
              0.2222222222222222,
              "#7201a8"
             ],
             [
              0.3333333333333333,
              "#9c179e"
             ],
             [
              0.4444444444444444,
              "#bd3786"
             ],
             [
              0.5555555555555556,
              "#d8576b"
             ],
             [
              0.6666666666666666,
              "#ed7953"
             ],
             [
              0.7777777777777778,
              "#fb9f3a"
             ],
             [
              0.8888888888888888,
              "#fdca26"
             ],
             [
              1,
              "#f0f921"
             ]
            ],
            "type": "histogram2d"
           }
          ],
          "histogram2dcontour": [
           {
            "colorbar": {
             "outlinewidth": 0,
             "ticks": ""
            },
            "colorscale": [
             [
              0,
              "#0d0887"
             ],
             [
              0.1111111111111111,
              "#46039f"
             ],
             [
              0.2222222222222222,
              "#7201a8"
             ],
             [
              0.3333333333333333,
              "#9c179e"
             ],
             [
              0.4444444444444444,
              "#bd3786"
             ],
             [
              0.5555555555555556,
              "#d8576b"
             ],
             [
              0.6666666666666666,
              "#ed7953"
             ],
             [
              0.7777777777777778,
              "#fb9f3a"
             ],
             [
              0.8888888888888888,
              "#fdca26"
             ],
             [
              1,
              "#f0f921"
             ]
            ],
            "type": "histogram2dcontour"
           }
          ],
          "mesh3d": [
           {
            "colorbar": {
             "outlinewidth": 0,
             "ticks": ""
            },
            "type": "mesh3d"
           }
          ],
          "parcoords": [
           {
            "line": {
             "colorbar": {
              "outlinewidth": 0,
              "ticks": ""
             }
            },
            "type": "parcoords"
           }
          ],
          "pie": [
           {
            "automargin": true,
            "type": "pie"
           }
          ],
          "scatter": [
           {
            "fillpattern": {
             "fillmode": "overlay",
             "size": 10,
             "solidity": 0.2
            },
            "type": "scatter"
           }
          ],
          "scatter3d": [
           {
            "line": {
             "colorbar": {
              "outlinewidth": 0,
              "ticks": ""
             }
            },
            "marker": {
             "colorbar": {
              "outlinewidth": 0,
              "ticks": ""
             }
            },
            "type": "scatter3d"
           }
          ],
          "scattercarpet": [
           {
            "marker": {
             "colorbar": {
              "outlinewidth": 0,
              "ticks": ""
             }
            },
            "type": "scattercarpet"
           }
          ],
          "scattergeo": [
           {
            "marker": {
             "colorbar": {
              "outlinewidth": 0,
              "ticks": ""
             }
            },
            "type": "scattergeo"
           }
          ],
          "scattergl": [
           {
            "marker": {
             "colorbar": {
              "outlinewidth": 0,
              "ticks": ""
             }
            },
            "type": "scattergl"
           }
          ],
          "scattermapbox": [
           {
            "marker": {
             "colorbar": {
              "outlinewidth": 0,
              "ticks": ""
             }
            },
            "type": "scattermapbox"
           }
          ],
          "scatterpolar": [
           {
            "marker": {
             "colorbar": {
              "outlinewidth": 0,
              "ticks": ""
             }
            },
            "type": "scatterpolar"
           }
          ],
          "scatterpolargl": [
           {
            "marker": {
             "colorbar": {
              "outlinewidth": 0,
              "ticks": ""
             }
            },
            "type": "scatterpolargl"
           }
          ],
          "scatterternary": [
           {
            "marker": {
             "colorbar": {
              "outlinewidth": 0,
              "ticks": ""
             }
            },
            "type": "scatterternary"
           }
          ],
          "surface": [
           {
            "colorbar": {
             "outlinewidth": 0,
             "ticks": ""
            },
            "colorscale": [
             [
              0,
              "#0d0887"
             ],
             [
              0.1111111111111111,
              "#46039f"
             ],
             [
              0.2222222222222222,
              "#7201a8"
             ],
             [
              0.3333333333333333,
              "#9c179e"
             ],
             [
              0.4444444444444444,
              "#bd3786"
             ],
             [
              0.5555555555555556,
              "#d8576b"
             ],
             [
              0.6666666666666666,
              "#ed7953"
             ],
             [
              0.7777777777777778,
              "#fb9f3a"
             ],
             [
              0.8888888888888888,
              "#fdca26"
             ],
             [
              1,
              "#f0f921"
             ]
            ],
            "type": "surface"
           }
          ],
          "table": [
           {
            "cells": {
             "fill": {
              "color": "#EBF0F8"
             },
             "line": {
              "color": "white"
             }
            },
            "header": {
             "fill": {
              "color": "#C8D4E3"
             },
             "line": {
              "color": "white"
             }
            },
            "type": "table"
           }
          ]
         },
         "layout": {
          "annotationdefaults": {
           "arrowcolor": "#2a3f5f",
           "arrowhead": 0,
           "arrowwidth": 1
          },
          "autotypenumbers": "strict",
          "coloraxis": {
           "colorbar": {
            "outlinewidth": 0,
            "ticks": ""
           }
          },
          "colorscale": {
           "diverging": [
            [
             0,
             "#8e0152"
            ],
            [
             0.1,
             "#c51b7d"
            ],
            [
             0.2,
             "#de77ae"
            ],
            [
             0.3,
             "#f1b6da"
            ],
            [
             0.4,
             "#fde0ef"
            ],
            [
             0.5,
             "#f7f7f7"
            ],
            [
             0.6,
             "#e6f5d0"
            ],
            [
             0.7,
             "#b8e186"
            ],
            [
             0.8,
             "#7fbc41"
            ],
            [
             0.9,
             "#4d9221"
            ],
            [
             1,
             "#276419"
            ]
           ],
           "sequential": [
            [
             0,
             "#0d0887"
            ],
            [
             0.1111111111111111,
             "#46039f"
            ],
            [
             0.2222222222222222,
             "#7201a8"
            ],
            [
             0.3333333333333333,
             "#9c179e"
            ],
            [
             0.4444444444444444,
             "#bd3786"
            ],
            [
             0.5555555555555556,
             "#d8576b"
            ],
            [
             0.6666666666666666,
             "#ed7953"
            ],
            [
             0.7777777777777778,
             "#fb9f3a"
            ],
            [
             0.8888888888888888,
             "#fdca26"
            ],
            [
             1,
             "#f0f921"
            ]
           ],
           "sequentialminus": [
            [
             0,
             "#0d0887"
            ],
            [
             0.1111111111111111,
             "#46039f"
            ],
            [
             0.2222222222222222,
             "#7201a8"
            ],
            [
             0.3333333333333333,
             "#9c179e"
            ],
            [
             0.4444444444444444,
             "#bd3786"
            ],
            [
             0.5555555555555556,
             "#d8576b"
            ],
            [
             0.6666666666666666,
             "#ed7953"
            ],
            [
             0.7777777777777778,
             "#fb9f3a"
            ],
            [
             0.8888888888888888,
             "#fdca26"
            ],
            [
             1,
             "#f0f921"
            ]
           ]
          },
          "colorway": [
           "#636efa",
           "#EF553B",
           "#00cc96",
           "#ab63fa",
           "#FFA15A",
           "#19d3f3",
           "#FF6692",
           "#B6E880",
           "#FF97FF",
           "#FECB52"
          ],
          "font": {
           "color": "#2a3f5f"
          },
          "geo": {
           "bgcolor": "white",
           "lakecolor": "white",
           "landcolor": "#E5ECF6",
           "showlakes": true,
           "showland": true,
           "subunitcolor": "white"
          },
          "hoverlabel": {
           "align": "left"
          },
          "hovermode": "closest",
          "mapbox": {
           "style": "light"
          },
          "paper_bgcolor": "white",
          "plot_bgcolor": "#E5ECF6",
          "polar": {
           "angularaxis": {
            "gridcolor": "white",
            "linecolor": "white",
            "ticks": ""
           },
           "bgcolor": "#E5ECF6",
           "radialaxis": {
            "gridcolor": "white",
            "linecolor": "white",
            "ticks": ""
           }
          },
          "scene": {
           "xaxis": {
            "backgroundcolor": "#E5ECF6",
            "gridcolor": "white",
            "gridwidth": 2,
            "linecolor": "white",
            "showbackground": true,
            "ticks": "",
            "zerolinecolor": "white"
           },
           "yaxis": {
            "backgroundcolor": "#E5ECF6",
            "gridcolor": "white",
            "gridwidth": 2,
            "linecolor": "white",
            "showbackground": true,
            "ticks": "",
            "zerolinecolor": "white"
           },
           "zaxis": {
            "backgroundcolor": "#E5ECF6",
            "gridcolor": "white",
            "gridwidth": 2,
            "linecolor": "white",
            "showbackground": true,
            "ticks": "",
            "zerolinecolor": "white"
           }
          },
          "shapedefaults": {
           "line": {
            "color": "#2a3f5f"
           }
          },
          "ternary": {
           "aaxis": {
            "gridcolor": "white",
            "linecolor": "white",
            "ticks": ""
           },
           "baxis": {
            "gridcolor": "white",
            "linecolor": "white",
            "ticks": ""
           },
           "bgcolor": "#E5ECF6",
           "caxis": {
            "gridcolor": "white",
            "linecolor": "white",
            "ticks": ""
           }
          },
          "title": {
           "x": 0.05
          },
          "xaxis": {
           "automargin": true,
           "gridcolor": "white",
           "linecolor": "white",
           "ticks": "",
           "title": {
            "standoff": 15
           },
           "zerolinecolor": "white",
           "zerolinewidth": 2
          },
          "yaxis": {
           "automargin": true,
           "gridcolor": "white",
           "linecolor": "white",
           "ticks": "",
           "title": {
            "standoff": 15
           },
           "zerolinecolor": "white",
           "zerolinewidth": 2
          }
         }
        },
        "title": {
         "font": {
          "color": "#4D5663"
         }
        },
        "xaxis": {
         "gridcolor": "#E1E5ED",
         "showgrid": true,
         "tickfont": {
          "color": "#4D5663"
         },
         "title": {
          "font": {
           "color": "#4D5663"
          },
          "text": ""
         },
         "zerolinecolor": "#E1E5ED"
        },
        "yaxis": {
         "gridcolor": "#E1E5ED",
         "showgrid": true,
         "tickfont": {
          "color": "#4D5663"
         },
         "title": {
          "font": {
           "color": "#4D5663"
          },
          "text": ""
         },
         "zerolinecolor": "#E1E5ED"
        }
       }
      },
      "text/html": [
       "<div>                            <div id=\"5c5b8565-2a6f-4cc5-a9c1-fdfe7e512b91\" class=\"plotly-graph-div\" style=\"height:525px; width:100%;\"></div>            <script type=\"text/javascript\">                require([\"plotly\"], function(Plotly) {                    window.PLOTLYENV=window.PLOTLYENV || {};\n",
       "                    window.PLOTLYENV.BASE_URL='https://plot.ly';                                    if (document.getElementById(\"5c5b8565-2a6f-4cc5-a9c1-fdfe7e512b91\")) {                    Plotly.newPlot(                        \"5c5b8565-2a6f-4cc5-a9c1-fdfe7e512b91\",                        [{\"marker\":{\"color\":[\"rgb(255, 153, 51)\",\"rgb(55, 128, 191)\",\"rgb(50, 171, 96)\",\"rgb(128, 0, 128)\",\"rgb(219, 64, 82)\",\"rgb(0, 128, 128)\",\"rgb(255, 255, 51)\",\"rgb(128, 128, 0)\",\"rgb(251, 128, 114)\",\"rgb(128, 177, 211)\"],\"line\":{\"width\":1.3},\"size\":[63,26,34,53,28,28,40,42,49,23,51,47,53,43,64,22,50,57,88,90,42,49,77,63,26,76,84,68,47,73,61,51,69,21,51,71,52,50,55,76,54,25,56,51,71,55,60,60,74,73,58,45,94,48,21,59,72,67,107,36,40,68,60,40,26,17,41,43,95,60,112,84,55,69,74,69,46,42,61,91,55,12,56,81,61,41,54,46,97,60,65,34,70,71,54,52,42,65,53,26],\"symbol\":\"circle\"},\"mode\":\"markers\",\"text\":\"\",\"x\":[0.5270350517910259,0.8072417761741204,1.1392313016357698,-0.26096404113916827,0.6926958204203916,0.9920051309969496,-0.11703426105936891,0.1772112230298288,-1.546858677607195,-2.12578011605067,-0.6668762349299929,-0.6859473345004385,-0.06517967932935818,1.509878948316418,-1.8327579596743897,0.006271054192142402,0.3414994082440188,0.9963915461590376,-0.6921272019494343,1.5772536578772964,-0.5557862878321287,-2.017935639740841,-1.1628872083088297,0.7367687289628784,0.9861800715940734,0.6246167005591827,-1.9474893936892852,1.514648850869348,-1.0370802434215016,0.9528204965997727,1.3086341505647139,-0.8999610192720289,-0.8274926084715756,0.23144826433866572,-0.8844009286812917,-1.0089518557682686,0.6932773742180772,1.0061969073018957,1.092431285788773,1.1045108225684144,-1.2769047407707261,1.054723907960595,-1.424470905566255,0.8213992840984147,0.6508352767197153,0.7329958919606228,-1.103247067925494,0.601973655750255,0.2411701647259433,0.7332646418151118,-0.4867885879627209,-1.2441969273967537,1.6754209142406766,-0.32039696502661236,1.1215309278302448,-1.3886324130968108,1.0143521438152425,-0.5068577869406047,-0.18319072282702112,0.012500231010309247,0.40854877825819697,1.8258137915196166,1.6461587266463735,-1.8705116276819005,1.5285251703518656,-0.6037446546192259,-0.5813250501397086,-1.4794730914628256,-1.0238816124476313,-2.739929363797368,1.0552377958437529,-1.5351435511108646,-1.7843905685681465,-0.28256426488536146,-0.3577831692789127,-0.3368682486926556,-0.6688560865867158,0.07685974077155044,-1.1543438385075415,-0.21220970437488415,-1.1771975886707862,0.4219558757493188,-0.4448033818296801,0.3241897943873185,0.46323398510899855,-2.5752791645582294,-1.3442022736781003,1.706852734553487,-0.2889523856225487,0.6976631999888713,-1.0146863195520115,-0.7524830335894936,-0.342321697117499,-0.414428719259938,1.26844070572974,-0.1096357311371834,0.47694159897509,-0.1877913031971587,-0.22201392254173058,1.4363529412819034],\"y\":[-0.3573371322445269,-0.7954803660541344,-0.23383688048364987,-1.4689616392588782,0.537737290574604,-0.05179186032217305,1.1542428711277914,1.2733915245654719,0.6223971458964284,1.7660185634710133,-0.4248669150760995,0.6103571241821237,-0.4060266583344734,-0.34083406057226867,1.0457488946748692,0.16181416390983103,1.9322396713416716,1.8553521700780675,0.07955584163522861,-0.1574334729496121,-0.6833826482122404,-1.1980781090912365,-0.9053129632827271,-0.2145284338421415,-0.050637435429454376,-0.5458995868568157,-0.5726021831051272,0.03824973522765993,-0.617215839868082,-0.4570865099864727,1.4409852198056514,-1.9590013257555352,-0.5205643338706631,0.5938850164555284,0.46474974157386184,0.7882569264403052,0.024094991915381028,-1.4577162082850728,0.07561423667063542,-1.2001222092639914,0.7541788380651747,-0.24595719786258077,0.21254927464469472,-0.49310287074353265,-0.6707348435998824,-0.8367506132618868,0.44657092371361706,0.16521007038945787,0.3801082461965531,-0.7055556233504856,0.9365054887186388,0.3927142752274356,0.2990646831914984,0.5882157939174921,-0.6027841469280251,0.5109916821229135,-0.7059286693013546,-1.1250070453809728,0.3114178659387146,0.16637813506466545,-0.5573233254530179,-0.6326873498471812,-1.0807829905528308,-0.3976740103682822,-0.19283456701847768,-0.36007121436303724,-0.3470273779456088,-0.9597181464851905,1.066691240020702,0.9136225090209719,1.3101158716194419,-0.9085927744857276,-1.5561141030386398,0.688253431236142,-0.04912350342079393,0.0877282049928525,-1.1558341775294163,0.8469784835212012,-0.9074209290923171,-0.13420252879010483,-0.913883998790638,0.6794092228773175,-0.20344922901598547,1.0574595072611443,-1.4223714743297229,-1.9454108161259374,1.1376563393228913,-0.8629420319001743,-0.8272461902066471,-0.38017293677999786,0.8729160577567565,0.918135871563344,-0.22959205957453752,-1.0789951244840297,-2.2451156390336293,-0.46859350017118706,-1.5626645877329906,-0.6218078841153108,0.08863756424389115,-1.377863557567499],\"type\":\"scatter\"}],                        {\"legend\":{\"bgcolor\":\"#F5F6F9\",\"font\":{\"color\":\"#4D5663\"}},\"paper_bgcolor\":\"#F5F6F9\",\"plot_bgcolor\":\"#F5F6F9\",\"template\":{\"data\":{\"barpolar\":[{\"marker\":{\"line\":{\"color\":\"#E5ECF6\",\"width\":0.5},\"pattern\":{\"fillmode\":\"overlay\",\"size\":10,\"solidity\":0.2}},\"type\":\"barpolar\"}],\"bar\":[{\"error_x\":{\"color\":\"#2a3f5f\"},\"error_y\":{\"color\":\"#2a3f5f\"},\"marker\":{\"line\":{\"color\":\"#E5ECF6\",\"width\":0.5},\"pattern\":{\"fillmode\":\"overlay\",\"size\":10,\"solidity\":0.2}},\"type\":\"bar\"}],\"carpet\":[{\"aaxis\":{\"endlinecolor\":\"#2a3f5f\",\"gridcolor\":\"white\",\"linecolor\":\"white\",\"minorgridcolor\":\"white\",\"startlinecolor\":\"#2a3f5f\"},\"baxis\":{\"endlinecolor\":\"#2a3f5f\",\"gridcolor\":\"white\",\"linecolor\":\"white\",\"minorgridcolor\":\"white\",\"startlinecolor\":\"#2a3f5f\"},\"type\":\"carpet\"}],\"choropleth\":[{\"colorbar\":{\"outlinewidth\":0,\"ticks\":\"\"},\"type\":\"choropleth\"}],\"contourcarpet\":[{\"colorbar\":{\"outlinewidth\":0,\"ticks\":\"\"},\"type\":\"contourcarpet\"}],\"contour\":[{\"colorbar\":{\"outlinewidth\":0,\"ticks\":\"\"},\"colorscale\":[[0.0,\"#0d0887\"],[0.1111111111111111,\"#46039f\"],[0.2222222222222222,\"#7201a8\"],[0.3333333333333333,\"#9c179e\"],[0.4444444444444444,\"#bd3786\"],[0.5555555555555556,\"#d8576b\"],[0.6666666666666666,\"#ed7953\"],[0.7777777777777778,\"#fb9f3a\"],[0.8888888888888888,\"#fdca26\"],[1.0,\"#f0f921\"]],\"type\":\"contour\"}],\"heatmapgl\":[{\"colorbar\":{\"outlinewidth\":0,\"ticks\":\"\"},\"colorscale\":[[0.0,\"#0d0887\"],[0.1111111111111111,\"#46039f\"],[0.2222222222222222,\"#7201a8\"],[0.3333333333333333,\"#9c179e\"],[0.4444444444444444,\"#bd3786\"],[0.5555555555555556,\"#d8576b\"],[0.6666666666666666,\"#ed7953\"],[0.7777777777777778,\"#fb9f3a\"],[0.8888888888888888,\"#fdca26\"],[1.0,\"#f0f921\"]],\"type\":\"heatmapgl\"}],\"heatmap\":[{\"colorbar\":{\"outlinewidth\":0,\"ticks\":\"\"},\"colorscale\":[[0.0,\"#0d0887\"],[0.1111111111111111,\"#46039f\"],[0.2222222222222222,\"#7201a8\"],[0.3333333333333333,\"#9c179e\"],[0.4444444444444444,\"#bd3786\"],[0.5555555555555556,\"#d8576b\"],[0.6666666666666666,\"#ed7953\"],[0.7777777777777778,\"#fb9f3a\"],[0.8888888888888888,\"#fdca26\"],[1.0,\"#f0f921\"]],\"type\":\"heatmap\"}],\"histogram2dcontour\":[{\"colorbar\":{\"outlinewidth\":0,\"ticks\":\"\"},\"colorscale\":[[0.0,\"#0d0887\"],[0.1111111111111111,\"#46039f\"],[0.2222222222222222,\"#7201a8\"],[0.3333333333333333,\"#9c179e\"],[0.4444444444444444,\"#bd3786\"],[0.5555555555555556,\"#d8576b\"],[0.6666666666666666,\"#ed7953\"],[0.7777777777777778,\"#fb9f3a\"],[0.8888888888888888,\"#fdca26\"],[1.0,\"#f0f921\"]],\"type\":\"histogram2dcontour\"}],\"histogram2d\":[{\"colorbar\":{\"outlinewidth\":0,\"ticks\":\"\"},\"colorscale\":[[0.0,\"#0d0887\"],[0.1111111111111111,\"#46039f\"],[0.2222222222222222,\"#7201a8\"],[0.3333333333333333,\"#9c179e\"],[0.4444444444444444,\"#bd3786\"],[0.5555555555555556,\"#d8576b\"],[0.6666666666666666,\"#ed7953\"],[0.7777777777777778,\"#fb9f3a\"],[0.8888888888888888,\"#fdca26\"],[1.0,\"#f0f921\"]],\"type\":\"histogram2d\"}],\"histogram\":[{\"marker\":{\"pattern\":{\"fillmode\":\"overlay\",\"size\":10,\"solidity\":0.2}},\"type\":\"histogram\"}],\"mesh3d\":[{\"colorbar\":{\"outlinewidth\":0,\"ticks\":\"\"},\"type\":\"mesh3d\"}],\"parcoords\":[{\"line\":{\"colorbar\":{\"outlinewidth\":0,\"ticks\":\"\"}},\"type\":\"parcoords\"}],\"pie\":[{\"automargin\":true,\"type\":\"pie\"}],\"scatter3d\":[{\"line\":{\"colorbar\":{\"outlinewidth\":0,\"ticks\":\"\"}},\"marker\":{\"colorbar\":{\"outlinewidth\":0,\"ticks\":\"\"}},\"type\":\"scatter3d\"}],\"scattercarpet\":[{\"marker\":{\"colorbar\":{\"outlinewidth\":0,\"ticks\":\"\"}},\"type\":\"scattercarpet\"}],\"scattergeo\":[{\"marker\":{\"colorbar\":{\"outlinewidth\":0,\"ticks\":\"\"}},\"type\":\"scattergeo\"}],\"scattergl\":[{\"marker\":{\"colorbar\":{\"outlinewidth\":0,\"ticks\":\"\"}},\"type\":\"scattergl\"}],\"scattermapbox\":[{\"marker\":{\"colorbar\":{\"outlinewidth\":0,\"ticks\":\"\"}},\"type\":\"scattermapbox\"}],\"scatterpolargl\":[{\"marker\":{\"colorbar\":{\"outlinewidth\":0,\"ticks\":\"\"}},\"type\":\"scatterpolargl\"}],\"scatterpolar\":[{\"marker\":{\"colorbar\":{\"outlinewidth\":0,\"ticks\":\"\"}},\"type\":\"scatterpolar\"}],\"scatter\":[{\"fillpattern\":{\"fillmode\":\"overlay\",\"size\":10,\"solidity\":0.2},\"type\":\"scatter\"}],\"scatterternary\":[{\"marker\":{\"colorbar\":{\"outlinewidth\":0,\"ticks\":\"\"}},\"type\":\"scatterternary\"}],\"surface\":[{\"colorbar\":{\"outlinewidth\":0,\"ticks\":\"\"},\"colorscale\":[[0.0,\"#0d0887\"],[0.1111111111111111,\"#46039f\"],[0.2222222222222222,\"#7201a8\"],[0.3333333333333333,\"#9c179e\"],[0.4444444444444444,\"#bd3786\"],[0.5555555555555556,\"#d8576b\"],[0.6666666666666666,\"#ed7953\"],[0.7777777777777778,\"#fb9f3a\"],[0.8888888888888888,\"#fdca26\"],[1.0,\"#f0f921\"]],\"type\":\"surface\"}],\"table\":[{\"cells\":{\"fill\":{\"color\":\"#EBF0F8\"},\"line\":{\"color\":\"white\"}},\"header\":{\"fill\":{\"color\":\"#C8D4E3\"},\"line\":{\"color\":\"white\"}},\"type\":\"table\"}]},\"layout\":{\"annotationdefaults\":{\"arrowcolor\":\"#2a3f5f\",\"arrowhead\":0,\"arrowwidth\":1},\"autotypenumbers\":\"strict\",\"coloraxis\":{\"colorbar\":{\"outlinewidth\":0,\"ticks\":\"\"}},\"colorscale\":{\"diverging\":[[0,\"#8e0152\"],[0.1,\"#c51b7d\"],[0.2,\"#de77ae\"],[0.3,\"#f1b6da\"],[0.4,\"#fde0ef\"],[0.5,\"#f7f7f7\"],[0.6,\"#e6f5d0\"],[0.7,\"#b8e186\"],[0.8,\"#7fbc41\"],[0.9,\"#4d9221\"],[1,\"#276419\"]],\"sequential\":[[0.0,\"#0d0887\"],[0.1111111111111111,\"#46039f\"],[0.2222222222222222,\"#7201a8\"],[0.3333333333333333,\"#9c179e\"],[0.4444444444444444,\"#bd3786\"],[0.5555555555555556,\"#d8576b\"],[0.6666666666666666,\"#ed7953\"],[0.7777777777777778,\"#fb9f3a\"],[0.8888888888888888,\"#fdca26\"],[1.0,\"#f0f921\"]],\"sequentialminus\":[[0.0,\"#0d0887\"],[0.1111111111111111,\"#46039f\"],[0.2222222222222222,\"#7201a8\"],[0.3333333333333333,\"#9c179e\"],[0.4444444444444444,\"#bd3786\"],[0.5555555555555556,\"#d8576b\"],[0.6666666666666666,\"#ed7953\"],[0.7777777777777778,\"#fb9f3a\"],[0.8888888888888888,\"#fdca26\"],[1.0,\"#f0f921\"]]},\"colorway\":[\"#636efa\",\"#EF553B\",\"#00cc96\",\"#ab63fa\",\"#FFA15A\",\"#19d3f3\",\"#FF6692\",\"#B6E880\",\"#FF97FF\",\"#FECB52\"],\"font\":{\"color\":\"#2a3f5f\"},\"geo\":{\"bgcolor\":\"white\",\"lakecolor\":\"white\",\"landcolor\":\"#E5ECF6\",\"showlakes\":true,\"showland\":true,\"subunitcolor\":\"white\"},\"hoverlabel\":{\"align\":\"left\"},\"hovermode\":\"closest\",\"mapbox\":{\"style\":\"light\"},\"paper_bgcolor\":\"white\",\"plot_bgcolor\":\"#E5ECF6\",\"polar\":{\"angularaxis\":{\"gridcolor\":\"white\",\"linecolor\":\"white\",\"ticks\":\"\"},\"bgcolor\":\"#E5ECF6\",\"radialaxis\":{\"gridcolor\":\"white\",\"linecolor\":\"white\",\"ticks\":\"\"}},\"scene\":{\"xaxis\":{\"backgroundcolor\":\"#E5ECF6\",\"gridcolor\":\"white\",\"gridwidth\":2,\"linecolor\":\"white\",\"showbackground\":true,\"ticks\":\"\",\"zerolinecolor\":\"white\"},\"yaxis\":{\"backgroundcolor\":\"#E5ECF6\",\"gridcolor\":\"white\",\"gridwidth\":2,\"linecolor\":\"white\",\"showbackground\":true,\"ticks\":\"\",\"zerolinecolor\":\"white\"},\"zaxis\":{\"backgroundcolor\":\"#E5ECF6\",\"gridcolor\":\"white\",\"gridwidth\":2,\"linecolor\":\"white\",\"showbackground\":true,\"ticks\":\"\",\"zerolinecolor\":\"white\"}},\"shapedefaults\":{\"line\":{\"color\":\"#2a3f5f\"}},\"ternary\":{\"aaxis\":{\"gridcolor\":\"white\",\"linecolor\":\"white\",\"ticks\":\"\"},\"baxis\":{\"gridcolor\":\"white\",\"linecolor\":\"white\",\"ticks\":\"\"},\"bgcolor\":\"#E5ECF6\",\"caxis\":{\"gridcolor\":\"white\",\"linecolor\":\"white\",\"ticks\":\"\"}},\"title\":{\"x\":0.05},\"xaxis\":{\"automargin\":true,\"gridcolor\":\"white\",\"linecolor\":\"white\",\"ticks\":\"\",\"title\":{\"standoff\":15},\"zerolinecolor\":\"white\",\"zerolinewidth\":2},\"yaxis\":{\"automargin\":true,\"gridcolor\":\"white\",\"linecolor\":\"white\",\"ticks\":\"\",\"title\":{\"standoff\":15},\"zerolinecolor\":\"white\",\"zerolinewidth\":2}}},\"title\":{\"font\":{\"color\":\"#4D5663\"}},\"xaxis\":{\"gridcolor\":\"#E1E5ED\",\"showgrid\":true,\"tickfont\":{\"color\":\"#4D5663\"},\"title\":{\"font\":{\"color\":\"#4D5663\"},\"text\":\"\"},\"zerolinecolor\":\"#E1E5ED\"},\"yaxis\":{\"gridcolor\":\"#E1E5ED\",\"showgrid\":true,\"tickfont\":{\"color\":\"#4D5663\"},\"title\":{\"font\":{\"color\":\"#4D5663\"},\"text\":\"\"},\"zerolinecolor\":\"#E1E5ED\"}},                        {\"showLink\": true, \"linkText\": \"Export to plot.ly\", \"plotlyServerURL\": \"https://plot.ly\", \"responsive\": true}                    ).then(function(){\n",
       "                            \n",
       "var gd = document.getElementById('5c5b8565-2a6f-4cc5-a9c1-fdfe7e512b91');\n",
       "var x = new MutationObserver(function (mutations, observer) {{\n",
       "        var display = window.getComputedStyle(gd).display;\n",
       "        if (!display || display === 'none') {{\n",
       "            console.log([gd, 'removed!']);\n",
       "            Plotly.purge(gd);\n",
       "            observer.disconnect();\n",
       "        }}\n",
       "}});\n",
       "\n",
       "// Listen for the removal of the full notebook cells\n",
       "var notebookContainer = gd.closest('#notebook-container');\n",
       "if (notebookContainer) {{\n",
       "    x.observe(notebookContainer, {childList: true});\n",
       "}}\n",
       "\n",
       "// Listen for the clearing of the current output cell\n",
       "var outputEl = gd.closest('.output');\n",
       "if (outputEl) {{\n",
       "    x.observe(outputEl, {childList: true});\n",
       "}}\n",
       "\n",
       "                        })                };                });            </script>        </div>"
      ]
     },
     "metadata": {},
     "output_type": "display_data"
    }
   ],
   "source": [
    "df.iplot(kind='bubble',x='A',y='B',size='C')"
   ]
  },
  {
   "cell_type": "markdown",
   "metadata": {},
   "source": [
    "## histogram"
   ]
  },
  {
   "cell_type": "code",
   "execution_count": 59,
   "metadata": {},
   "outputs": [
    {
     "data": {
      "application/vnd.plotly.v1+json": {
       "config": {
        "linkText": "Export to plot.ly",
        "plotlyServerURL": "https://plot.ly",
        "showLink": true
       },
       "data": [
        {
         "histfunc": "count",
         "histnorm": "",
         "marker": {
          "color": "rgba(255, 153, 51, 1.0)",
          "line": {
           "color": "#4D5663",
           "width": 1.3
          }
         },
         "name": "A",
         "nbinsx": 25,
         "opacity": 0.8,
         "orientation": "v",
         "type": "histogram",
         "x": [
          -0.4115038731053773,
          -0.49582647792730933,
          0.6715039515278375,
          -0.7228439533683615,
          -1.0163644309323503,
          -1.6771187460497037,
          0.1426942594043106,
          0.010733057367568256,
          -0.2757248886421378,
          0.43634248238396767,
          -0.31625760352765825,
          1.0788695418388297,
          -1.3650683550356226,
          3.3295296907918908,
          1.2448035616874729,
          3.567907542703827,
          -1.2585894835205205,
          -0.7578902845652957,
          0.961097206466587,
          -0.22999127206120065,
          0.6355315190013411,
          -0.36640556130886015,
          -0.2359925976152816,
          0.6673896386703786,
          1.1118429093534206,
          1.0437621305016933,
          2.139732992997837,
          -0.5236645252310186,
          1.139886268203172,
          -1.8176105247030476,
          1.9016562907969128,
          0.5611763439299505,
          1.1863070628387569,
          -0.7993614395088802,
          -0.9268837477538382,
          1.3729270460114111,
          -2.235935935570002,
          -0.2799295467449602,
          -0.43376234483213355,
          -0.5243245831093638,
          -0.38600115945410135,
          -1.3599235166505075,
          -0.32119363857062766,
          0.27802374924973083,
          -0.28865745131943243,
          -2.2447838364351265,
          0.41572772303099154,
          -0.6729677858079124,
          0.3365952342631071,
          -0.42526332525683985,
          0.0839719329428044,
          -0.42767437800103897,
          -1.0035137994991385,
          -2.166642613122833,
          0.46360762343438955,
          -0.23745818472369123,
          0.9098292268808831,
          0.2141601647321144,
          -0.15744101383067263,
          -1.467649085021929,
          0.6621485851703116,
          -0.8598313197446324,
          0.10187808206059304,
          0.2438722144197782,
          1.8871003222668867,
          -0.5959777327995854,
          -0.05383220104909009,
          1.9217840425297361,
          1.4672698064203502,
          0.3982542762139769,
          0.004494820302078757,
          -1.363266704463435,
          -0.3383320859684264,
          -1.9948896538406473,
          -0.41325343868616204,
          0.17825113054126104,
          0.6340245373609271,
          0.43859956361879593,
          -0.6578477062991168,
          0.38778746921351653,
          -0.594250066209521,
          -0.8491583522129205,
          0.2716301090805724,
          1.665090431012535,
          0.5914792364899399,
          -1.3333439007396537,
          -0.3480441111400766,
          1.5047931302741744,
          1.5972618958250668,
          1.7008755333460621,
          0.5150358045518847,
          -0.1976070256189633,
          -1.2680496771545622,
          -0.6871816841822501,
          0.36439994493622735,
          0.3427615210908248,
          -0.9201279626113359,
          0.4755993371367693,
          0.37629736026692095,
          -1.6674568683437216
         ]
        }
       ],
       "layout": {
        "barmode": "overlay",
        "legend": {
         "bgcolor": "#F5F6F9",
         "font": {
          "color": "#4D5663"
         }
        },
        "paper_bgcolor": "#F5F6F9",
        "plot_bgcolor": "#F5F6F9",
        "template": {
         "data": {
          "bar": [
           {
            "error_x": {
             "color": "#2a3f5f"
            },
            "error_y": {
             "color": "#2a3f5f"
            },
            "marker": {
             "line": {
              "color": "#E5ECF6",
              "width": 0.5
             },
             "pattern": {
              "fillmode": "overlay",
              "size": 10,
              "solidity": 0.2
             }
            },
            "type": "bar"
           }
          ],
          "barpolar": [
           {
            "marker": {
             "line": {
              "color": "#E5ECF6",
              "width": 0.5
             },
             "pattern": {
              "fillmode": "overlay",
              "size": 10,
              "solidity": 0.2
             }
            },
            "type": "barpolar"
           }
          ],
          "carpet": [
           {
            "aaxis": {
             "endlinecolor": "#2a3f5f",
             "gridcolor": "white",
             "linecolor": "white",
             "minorgridcolor": "white",
             "startlinecolor": "#2a3f5f"
            },
            "baxis": {
             "endlinecolor": "#2a3f5f",
             "gridcolor": "white",
             "linecolor": "white",
             "minorgridcolor": "white",
             "startlinecolor": "#2a3f5f"
            },
            "type": "carpet"
           }
          ],
          "choropleth": [
           {
            "colorbar": {
             "outlinewidth": 0,
             "ticks": ""
            },
            "type": "choropleth"
           }
          ],
          "contour": [
           {
            "colorbar": {
             "outlinewidth": 0,
             "ticks": ""
            },
            "colorscale": [
             [
              0,
              "#0d0887"
             ],
             [
              0.1111111111111111,
              "#46039f"
             ],
             [
              0.2222222222222222,
              "#7201a8"
             ],
             [
              0.3333333333333333,
              "#9c179e"
             ],
             [
              0.4444444444444444,
              "#bd3786"
             ],
             [
              0.5555555555555556,
              "#d8576b"
             ],
             [
              0.6666666666666666,
              "#ed7953"
             ],
             [
              0.7777777777777778,
              "#fb9f3a"
             ],
             [
              0.8888888888888888,
              "#fdca26"
             ],
             [
              1,
              "#f0f921"
             ]
            ],
            "type": "contour"
           }
          ],
          "contourcarpet": [
           {
            "colorbar": {
             "outlinewidth": 0,
             "ticks": ""
            },
            "type": "contourcarpet"
           }
          ],
          "heatmap": [
           {
            "colorbar": {
             "outlinewidth": 0,
             "ticks": ""
            },
            "colorscale": [
             [
              0,
              "#0d0887"
             ],
             [
              0.1111111111111111,
              "#46039f"
             ],
             [
              0.2222222222222222,
              "#7201a8"
             ],
             [
              0.3333333333333333,
              "#9c179e"
             ],
             [
              0.4444444444444444,
              "#bd3786"
             ],
             [
              0.5555555555555556,
              "#d8576b"
             ],
             [
              0.6666666666666666,
              "#ed7953"
             ],
             [
              0.7777777777777778,
              "#fb9f3a"
             ],
             [
              0.8888888888888888,
              "#fdca26"
             ],
             [
              1,
              "#f0f921"
             ]
            ],
            "type": "heatmap"
           }
          ],
          "heatmapgl": [
           {
            "colorbar": {
             "outlinewidth": 0,
             "ticks": ""
            },
            "colorscale": [
             [
              0,
              "#0d0887"
             ],
             [
              0.1111111111111111,
              "#46039f"
             ],
             [
              0.2222222222222222,
              "#7201a8"
             ],
             [
              0.3333333333333333,
              "#9c179e"
             ],
             [
              0.4444444444444444,
              "#bd3786"
             ],
             [
              0.5555555555555556,
              "#d8576b"
             ],
             [
              0.6666666666666666,
              "#ed7953"
             ],
             [
              0.7777777777777778,
              "#fb9f3a"
             ],
             [
              0.8888888888888888,
              "#fdca26"
             ],
             [
              1,
              "#f0f921"
             ]
            ],
            "type": "heatmapgl"
           }
          ],
          "histogram": [
           {
            "marker": {
             "pattern": {
              "fillmode": "overlay",
              "size": 10,
              "solidity": 0.2
             }
            },
            "type": "histogram"
           }
          ],
          "histogram2d": [
           {
            "colorbar": {
             "outlinewidth": 0,
             "ticks": ""
            },
            "colorscale": [
             [
              0,
              "#0d0887"
             ],
             [
              0.1111111111111111,
              "#46039f"
             ],
             [
              0.2222222222222222,
              "#7201a8"
             ],
             [
              0.3333333333333333,
              "#9c179e"
             ],
             [
              0.4444444444444444,
              "#bd3786"
             ],
             [
              0.5555555555555556,
              "#d8576b"
             ],
             [
              0.6666666666666666,
              "#ed7953"
             ],
             [
              0.7777777777777778,
              "#fb9f3a"
             ],
             [
              0.8888888888888888,
              "#fdca26"
             ],
             [
              1,
              "#f0f921"
             ]
            ],
            "type": "histogram2d"
           }
          ],
          "histogram2dcontour": [
           {
            "colorbar": {
             "outlinewidth": 0,
             "ticks": ""
            },
            "colorscale": [
             [
              0,
              "#0d0887"
             ],
             [
              0.1111111111111111,
              "#46039f"
             ],
             [
              0.2222222222222222,
              "#7201a8"
             ],
             [
              0.3333333333333333,
              "#9c179e"
             ],
             [
              0.4444444444444444,
              "#bd3786"
             ],
             [
              0.5555555555555556,
              "#d8576b"
             ],
             [
              0.6666666666666666,
              "#ed7953"
             ],
             [
              0.7777777777777778,
              "#fb9f3a"
             ],
             [
              0.8888888888888888,
              "#fdca26"
             ],
             [
              1,
              "#f0f921"
             ]
            ],
            "type": "histogram2dcontour"
           }
          ],
          "mesh3d": [
           {
            "colorbar": {
             "outlinewidth": 0,
             "ticks": ""
            },
            "type": "mesh3d"
           }
          ],
          "parcoords": [
           {
            "line": {
             "colorbar": {
              "outlinewidth": 0,
              "ticks": ""
             }
            },
            "type": "parcoords"
           }
          ],
          "pie": [
           {
            "automargin": true,
            "type": "pie"
           }
          ],
          "scatter": [
           {
            "fillpattern": {
             "fillmode": "overlay",
             "size": 10,
             "solidity": 0.2
            },
            "type": "scatter"
           }
          ],
          "scatter3d": [
           {
            "line": {
             "colorbar": {
              "outlinewidth": 0,
              "ticks": ""
             }
            },
            "marker": {
             "colorbar": {
              "outlinewidth": 0,
              "ticks": ""
             }
            },
            "type": "scatter3d"
           }
          ],
          "scattercarpet": [
           {
            "marker": {
             "colorbar": {
              "outlinewidth": 0,
              "ticks": ""
             }
            },
            "type": "scattercarpet"
           }
          ],
          "scattergeo": [
           {
            "marker": {
             "colorbar": {
              "outlinewidth": 0,
              "ticks": ""
             }
            },
            "type": "scattergeo"
           }
          ],
          "scattergl": [
           {
            "marker": {
             "colorbar": {
              "outlinewidth": 0,
              "ticks": ""
             }
            },
            "type": "scattergl"
           }
          ],
          "scattermapbox": [
           {
            "marker": {
             "colorbar": {
              "outlinewidth": 0,
              "ticks": ""
             }
            },
            "type": "scattermapbox"
           }
          ],
          "scatterpolar": [
           {
            "marker": {
             "colorbar": {
              "outlinewidth": 0,
              "ticks": ""
             }
            },
            "type": "scatterpolar"
           }
          ],
          "scatterpolargl": [
           {
            "marker": {
             "colorbar": {
              "outlinewidth": 0,
              "ticks": ""
             }
            },
            "type": "scatterpolargl"
           }
          ],
          "scatterternary": [
           {
            "marker": {
             "colorbar": {
              "outlinewidth": 0,
              "ticks": ""
             }
            },
            "type": "scatterternary"
           }
          ],
          "surface": [
           {
            "colorbar": {
             "outlinewidth": 0,
             "ticks": ""
            },
            "colorscale": [
             [
              0,
              "#0d0887"
             ],
             [
              0.1111111111111111,
              "#46039f"
             ],
             [
              0.2222222222222222,
              "#7201a8"
             ],
             [
              0.3333333333333333,
              "#9c179e"
             ],
             [
              0.4444444444444444,
              "#bd3786"
             ],
             [
              0.5555555555555556,
              "#d8576b"
             ],
             [
              0.6666666666666666,
              "#ed7953"
             ],
             [
              0.7777777777777778,
              "#fb9f3a"
             ],
             [
              0.8888888888888888,
              "#fdca26"
             ],
             [
              1,
              "#f0f921"
             ]
            ],
            "type": "surface"
           }
          ],
          "table": [
           {
            "cells": {
             "fill": {
              "color": "#EBF0F8"
             },
             "line": {
              "color": "white"
             }
            },
            "header": {
             "fill": {
              "color": "#C8D4E3"
             },
             "line": {
              "color": "white"
             }
            },
            "type": "table"
           }
          ]
         },
         "layout": {
          "annotationdefaults": {
           "arrowcolor": "#2a3f5f",
           "arrowhead": 0,
           "arrowwidth": 1
          },
          "autotypenumbers": "strict",
          "coloraxis": {
           "colorbar": {
            "outlinewidth": 0,
            "ticks": ""
           }
          },
          "colorscale": {
           "diverging": [
            [
             0,
             "#8e0152"
            ],
            [
             0.1,
             "#c51b7d"
            ],
            [
             0.2,
             "#de77ae"
            ],
            [
             0.3,
             "#f1b6da"
            ],
            [
             0.4,
             "#fde0ef"
            ],
            [
             0.5,
             "#f7f7f7"
            ],
            [
             0.6,
             "#e6f5d0"
            ],
            [
             0.7,
             "#b8e186"
            ],
            [
             0.8,
             "#7fbc41"
            ],
            [
             0.9,
             "#4d9221"
            ],
            [
             1,
             "#276419"
            ]
           ],
           "sequential": [
            [
             0,
             "#0d0887"
            ],
            [
             0.1111111111111111,
             "#46039f"
            ],
            [
             0.2222222222222222,
             "#7201a8"
            ],
            [
             0.3333333333333333,
             "#9c179e"
            ],
            [
             0.4444444444444444,
             "#bd3786"
            ],
            [
             0.5555555555555556,
             "#d8576b"
            ],
            [
             0.6666666666666666,
             "#ed7953"
            ],
            [
             0.7777777777777778,
             "#fb9f3a"
            ],
            [
             0.8888888888888888,
             "#fdca26"
            ],
            [
             1,
             "#f0f921"
            ]
           ],
           "sequentialminus": [
            [
             0,
             "#0d0887"
            ],
            [
             0.1111111111111111,
             "#46039f"
            ],
            [
             0.2222222222222222,
             "#7201a8"
            ],
            [
             0.3333333333333333,
             "#9c179e"
            ],
            [
             0.4444444444444444,
             "#bd3786"
            ],
            [
             0.5555555555555556,
             "#d8576b"
            ],
            [
             0.6666666666666666,
             "#ed7953"
            ],
            [
             0.7777777777777778,
             "#fb9f3a"
            ],
            [
             0.8888888888888888,
             "#fdca26"
            ],
            [
             1,
             "#f0f921"
            ]
           ]
          },
          "colorway": [
           "#636efa",
           "#EF553B",
           "#00cc96",
           "#ab63fa",
           "#FFA15A",
           "#19d3f3",
           "#FF6692",
           "#B6E880",
           "#FF97FF",
           "#FECB52"
          ],
          "font": {
           "color": "#2a3f5f"
          },
          "geo": {
           "bgcolor": "white",
           "lakecolor": "white",
           "landcolor": "#E5ECF6",
           "showlakes": true,
           "showland": true,
           "subunitcolor": "white"
          },
          "hoverlabel": {
           "align": "left"
          },
          "hovermode": "closest",
          "mapbox": {
           "style": "light"
          },
          "paper_bgcolor": "white",
          "plot_bgcolor": "#E5ECF6",
          "polar": {
           "angularaxis": {
            "gridcolor": "white",
            "linecolor": "white",
            "ticks": ""
           },
           "bgcolor": "#E5ECF6",
           "radialaxis": {
            "gridcolor": "white",
            "linecolor": "white",
            "ticks": ""
           }
          },
          "scene": {
           "xaxis": {
            "backgroundcolor": "#E5ECF6",
            "gridcolor": "white",
            "gridwidth": 2,
            "linecolor": "white",
            "showbackground": true,
            "ticks": "",
            "zerolinecolor": "white"
           },
           "yaxis": {
            "backgroundcolor": "#E5ECF6",
            "gridcolor": "white",
            "gridwidth": 2,
            "linecolor": "white",
            "showbackground": true,
            "ticks": "",
            "zerolinecolor": "white"
           },
           "zaxis": {
            "backgroundcolor": "#E5ECF6",
            "gridcolor": "white",
            "gridwidth": 2,
            "linecolor": "white",
            "showbackground": true,
            "ticks": "",
            "zerolinecolor": "white"
           }
          },
          "shapedefaults": {
           "line": {
            "color": "#2a3f5f"
           }
          },
          "ternary": {
           "aaxis": {
            "gridcolor": "white",
            "linecolor": "white",
            "ticks": ""
           },
           "baxis": {
            "gridcolor": "white",
            "linecolor": "white",
            "ticks": ""
           },
           "bgcolor": "#E5ECF6",
           "caxis": {
            "gridcolor": "white",
            "linecolor": "white",
            "ticks": ""
           }
          },
          "title": {
           "x": 0.05
          },
          "xaxis": {
           "automargin": true,
           "gridcolor": "white",
           "linecolor": "white",
           "ticks": "",
           "title": {
            "standoff": 15
           },
           "zerolinecolor": "white",
           "zerolinewidth": 2
          },
          "yaxis": {
           "automargin": true,
           "gridcolor": "white",
           "linecolor": "white",
           "ticks": "",
           "title": {
            "standoff": 15
           },
           "zerolinecolor": "white",
           "zerolinewidth": 2
          }
         }
        },
        "title": {
         "font": {
          "color": "#4D5663"
         }
        },
        "xaxis": {
         "gridcolor": "#E1E5ED",
         "showgrid": true,
         "tickfont": {
          "color": "#4D5663"
         },
         "title": {
          "font": {
           "color": "#4D5663"
          },
          "text": ""
         },
         "zerolinecolor": "#E1E5ED"
        },
        "yaxis": {
         "gridcolor": "#E1E5ED",
         "showgrid": true,
         "tickfont": {
          "color": "#4D5663"
         },
         "title": {
          "font": {
           "color": "#4D5663"
          },
          "text": ""
         },
         "zerolinecolor": "#E1E5ED"
        }
       }
      },
      "text/html": [
       "<div>                            <div id=\"2e048394-62ea-4573-99b0-04c2771e9e3d\" class=\"plotly-graph-div\" style=\"height:525px; width:100%;\"></div>            <script type=\"text/javascript\">                require([\"plotly\"], function(Plotly) {                    window.PLOTLYENV=window.PLOTLYENV || {};\n",
       "                    window.PLOTLYENV.BASE_URL='https://plot.ly';                                    if (document.getElementById(\"2e048394-62ea-4573-99b0-04c2771e9e3d\")) {                    Plotly.newPlot(                        \"2e048394-62ea-4573-99b0-04c2771e9e3d\",                        [{\"histfunc\":\"count\",\"histnorm\":\"\",\"marker\":{\"color\":\"rgba(255, 153, 51, 1.0)\",\"line\":{\"color\":\"#4D5663\",\"width\":1.3}},\"name\":\"A\",\"nbinsx\":25,\"opacity\":0.8,\"orientation\":\"v\",\"x\":[-0.4115038731053773,-0.49582647792730933,0.6715039515278375,-0.7228439533683615,-1.0163644309323503,-1.6771187460497037,0.1426942594043106,0.010733057367568256,-0.2757248886421378,0.43634248238396767,-0.31625760352765825,1.0788695418388297,-1.3650683550356226,3.3295296907918908,1.2448035616874729,3.567907542703827,-1.2585894835205205,-0.7578902845652957,0.961097206466587,-0.22999127206120065,0.6355315190013411,-0.36640556130886015,-0.2359925976152816,0.6673896386703786,1.1118429093534206,1.0437621305016933,2.139732992997837,-0.5236645252310186,1.139886268203172,-1.8176105247030476,1.9016562907969128,0.5611763439299505,1.1863070628387569,-0.7993614395088802,-0.9268837477538382,1.3729270460114111,-2.235935935570002,-0.2799295467449602,-0.43376234483213355,-0.5243245831093638,-0.38600115945410135,-1.3599235166505075,-0.32119363857062766,0.27802374924973083,-0.28865745131943243,-2.2447838364351265,0.41572772303099154,-0.6729677858079124,0.3365952342631071,-0.42526332525683985,0.0839719329428044,-0.42767437800103897,-1.0035137994991385,-2.166642613122833,0.46360762343438955,-0.23745818472369123,0.9098292268808831,0.2141601647321144,-0.15744101383067263,-1.467649085021929,0.6621485851703116,-0.8598313197446324,0.10187808206059304,0.2438722144197782,1.8871003222668867,-0.5959777327995854,-0.05383220104909009,1.9217840425297361,1.4672698064203502,0.3982542762139769,0.004494820302078757,-1.363266704463435,-0.3383320859684264,-1.9948896538406473,-0.41325343868616204,0.17825113054126104,0.6340245373609271,0.43859956361879593,-0.6578477062991168,0.38778746921351653,-0.594250066209521,-0.8491583522129205,0.2716301090805724,1.665090431012535,0.5914792364899399,-1.3333439007396537,-0.3480441111400766,1.5047931302741744,1.5972618958250668,1.7008755333460621,0.5150358045518847,-0.1976070256189633,-1.2680496771545622,-0.6871816841822501,0.36439994493622735,0.3427615210908248,-0.9201279626113359,0.4755993371367693,0.37629736026692095,-1.6674568683437216],\"type\":\"histogram\"}],                        {\"barmode\":\"overlay\",\"legend\":{\"bgcolor\":\"#F5F6F9\",\"font\":{\"color\":\"#4D5663\"}},\"paper_bgcolor\":\"#F5F6F9\",\"plot_bgcolor\":\"#F5F6F9\",\"template\":{\"data\":{\"barpolar\":[{\"marker\":{\"line\":{\"color\":\"#E5ECF6\",\"width\":0.5},\"pattern\":{\"fillmode\":\"overlay\",\"size\":10,\"solidity\":0.2}},\"type\":\"barpolar\"}],\"bar\":[{\"error_x\":{\"color\":\"#2a3f5f\"},\"error_y\":{\"color\":\"#2a3f5f\"},\"marker\":{\"line\":{\"color\":\"#E5ECF6\",\"width\":0.5},\"pattern\":{\"fillmode\":\"overlay\",\"size\":10,\"solidity\":0.2}},\"type\":\"bar\"}],\"carpet\":[{\"aaxis\":{\"endlinecolor\":\"#2a3f5f\",\"gridcolor\":\"white\",\"linecolor\":\"white\",\"minorgridcolor\":\"white\",\"startlinecolor\":\"#2a3f5f\"},\"baxis\":{\"endlinecolor\":\"#2a3f5f\",\"gridcolor\":\"white\",\"linecolor\":\"white\",\"minorgridcolor\":\"white\",\"startlinecolor\":\"#2a3f5f\"},\"type\":\"carpet\"}],\"choropleth\":[{\"colorbar\":{\"outlinewidth\":0,\"ticks\":\"\"},\"type\":\"choropleth\"}],\"contourcarpet\":[{\"colorbar\":{\"outlinewidth\":0,\"ticks\":\"\"},\"type\":\"contourcarpet\"}],\"contour\":[{\"colorbar\":{\"outlinewidth\":0,\"ticks\":\"\"},\"colorscale\":[[0.0,\"#0d0887\"],[0.1111111111111111,\"#46039f\"],[0.2222222222222222,\"#7201a8\"],[0.3333333333333333,\"#9c179e\"],[0.4444444444444444,\"#bd3786\"],[0.5555555555555556,\"#d8576b\"],[0.6666666666666666,\"#ed7953\"],[0.7777777777777778,\"#fb9f3a\"],[0.8888888888888888,\"#fdca26\"],[1.0,\"#f0f921\"]],\"type\":\"contour\"}],\"heatmapgl\":[{\"colorbar\":{\"outlinewidth\":0,\"ticks\":\"\"},\"colorscale\":[[0.0,\"#0d0887\"],[0.1111111111111111,\"#46039f\"],[0.2222222222222222,\"#7201a8\"],[0.3333333333333333,\"#9c179e\"],[0.4444444444444444,\"#bd3786\"],[0.5555555555555556,\"#d8576b\"],[0.6666666666666666,\"#ed7953\"],[0.7777777777777778,\"#fb9f3a\"],[0.8888888888888888,\"#fdca26\"],[1.0,\"#f0f921\"]],\"type\":\"heatmapgl\"}],\"heatmap\":[{\"colorbar\":{\"outlinewidth\":0,\"ticks\":\"\"},\"colorscale\":[[0.0,\"#0d0887\"],[0.1111111111111111,\"#46039f\"],[0.2222222222222222,\"#7201a8\"],[0.3333333333333333,\"#9c179e\"],[0.4444444444444444,\"#bd3786\"],[0.5555555555555556,\"#d8576b\"],[0.6666666666666666,\"#ed7953\"],[0.7777777777777778,\"#fb9f3a\"],[0.8888888888888888,\"#fdca26\"],[1.0,\"#f0f921\"]],\"type\":\"heatmap\"}],\"histogram2dcontour\":[{\"colorbar\":{\"outlinewidth\":0,\"ticks\":\"\"},\"colorscale\":[[0.0,\"#0d0887\"],[0.1111111111111111,\"#46039f\"],[0.2222222222222222,\"#7201a8\"],[0.3333333333333333,\"#9c179e\"],[0.4444444444444444,\"#bd3786\"],[0.5555555555555556,\"#d8576b\"],[0.6666666666666666,\"#ed7953\"],[0.7777777777777778,\"#fb9f3a\"],[0.8888888888888888,\"#fdca26\"],[1.0,\"#f0f921\"]],\"type\":\"histogram2dcontour\"}],\"histogram2d\":[{\"colorbar\":{\"outlinewidth\":0,\"ticks\":\"\"},\"colorscale\":[[0.0,\"#0d0887\"],[0.1111111111111111,\"#46039f\"],[0.2222222222222222,\"#7201a8\"],[0.3333333333333333,\"#9c179e\"],[0.4444444444444444,\"#bd3786\"],[0.5555555555555556,\"#d8576b\"],[0.6666666666666666,\"#ed7953\"],[0.7777777777777778,\"#fb9f3a\"],[0.8888888888888888,\"#fdca26\"],[1.0,\"#f0f921\"]],\"type\":\"histogram2d\"}],\"histogram\":[{\"marker\":{\"pattern\":{\"fillmode\":\"overlay\",\"size\":10,\"solidity\":0.2}},\"type\":\"histogram\"}],\"mesh3d\":[{\"colorbar\":{\"outlinewidth\":0,\"ticks\":\"\"},\"type\":\"mesh3d\"}],\"parcoords\":[{\"line\":{\"colorbar\":{\"outlinewidth\":0,\"ticks\":\"\"}},\"type\":\"parcoords\"}],\"pie\":[{\"automargin\":true,\"type\":\"pie\"}],\"scatter3d\":[{\"line\":{\"colorbar\":{\"outlinewidth\":0,\"ticks\":\"\"}},\"marker\":{\"colorbar\":{\"outlinewidth\":0,\"ticks\":\"\"}},\"type\":\"scatter3d\"}],\"scattercarpet\":[{\"marker\":{\"colorbar\":{\"outlinewidth\":0,\"ticks\":\"\"}},\"type\":\"scattercarpet\"}],\"scattergeo\":[{\"marker\":{\"colorbar\":{\"outlinewidth\":0,\"ticks\":\"\"}},\"type\":\"scattergeo\"}],\"scattergl\":[{\"marker\":{\"colorbar\":{\"outlinewidth\":0,\"ticks\":\"\"}},\"type\":\"scattergl\"}],\"scattermapbox\":[{\"marker\":{\"colorbar\":{\"outlinewidth\":0,\"ticks\":\"\"}},\"type\":\"scattermapbox\"}],\"scatterpolargl\":[{\"marker\":{\"colorbar\":{\"outlinewidth\":0,\"ticks\":\"\"}},\"type\":\"scatterpolargl\"}],\"scatterpolar\":[{\"marker\":{\"colorbar\":{\"outlinewidth\":0,\"ticks\":\"\"}},\"type\":\"scatterpolar\"}],\"scatter\":[{\"fillpattern\":{\"fillmode\":\"overlay\",\"size\":10,\"solidity\":0.2},\"type\":\"scatter\"}],\"scatterternary\":[{\"marker\":{\"colorbar\":{\"outlinewidth\":0,\"ticks\":\"\"}},\"type\":\"scatterternary\"}],\"surface\":[{\"colorbar\":{\"outlinewidth\":0,\"ticks\":\"\"},\"colorscale\":[[0.0,\"#0d0887\"],[0.1111111111111111,\"#46039f\"],[0.2222222222222222,\"#7201a8\"],[0.3333333333333333,\"#9c179e\"],[0.4444444444444444,\"#bd3786\"],[0.5555555555555556,\"#d8576b\"],[0.6666666666666666,\"#ed7953\"],[0.7777777777777778,\"#fb9f3a\"],[0.8888888888888888,\"#fdca26\"],[1.0,\"#f0f921\"]],\"type\":\"surface\"}],\"table\":[{\"cells\":{\"fill\":{\"color\":\"#EBF0F8\"},\"line\":{\"color\":\"white\"}},\"header\":{\"fill\":{\"color\":\"#C8D4E3\"},\"line\":{\"color\":\"white\"}},\"type\":\"table\"}]},\"layout\":{\"annotationdefaults\":{\"arrowcolor\":\"#2a3f5f\",\"arrowhead\":0,\"arrowwidth\":1},\"autotypenumbers\":\"strict\",\"coloraxis\":{\"colorbar\":{\"outlinewidth\":0,\"ticks\":\"\"}},\"colorscale\":{\"diverging\":[[0,\"#8e0152\"],[0.1,\"#c51b7d\"],[0.2,\"#de77ae\"],[0.3,\"#f1b6da\"],[0.4,\"#fde0ef\"],[0.5,\"#f7f7f7\"],[0.6,\"#e6f5d0\"],[0.7,\"#b8e186\"],[0.8,\"#7fbc41\"],[0.9,\"#4d9221\"],[1,\"#276419\"]],\"sequential\":[[0.0,\"#0d0887\"],[0.1111111111111111,\"#46039f\"],[0.2222222222222222,\"#7201a8\"],[0.3333333333333333,\"#9c179e\"],[0.4444444444444444,\"#bd3786\"],[0.5555555555555556,\"#d8576b\"],[0.6666666666666666,\"#ed7953\"],[0.7777777777777778,\"#fb9f3a\"],[0.8888888888888888,\"#fdca26\"],[1.0,\"#f0f921\"]],\"sequentialminus\":[[0.0,\"#0d0887\"],[0.1111111111111111,\"#46039f\"],[0.2222222222222222,\"#7201a8\"],[0.3333333333333333,\"#9c179e\"],[0.4444444444444444,\"#bd3786\"],[0.5555555555555556,\"#d8576b\"],[0.6666666666666666,\"#ed7953\"],[0.7777777777777778,\"#fb9f3a\"],[0.8888888888888888,\"#fdca26\"],[1.0,\"#f0f921\"]]},\"colorway\":[\"#636efa\",\"#EF553B\",\"#00cc96\",\"#ab63fa\",\"#FFA15A\",\"#19d3f3\",\"#FF6692\",\"#B6E880\",\"#FF97FF\",\"#FECB52\"],\"font\":{\"color\":\"#2a3f5f\"},\"geo\":{\"bgcolor\":\"white\",\"lakecolor\":\"white\",\"landcolor\":\"#E5ECF6\",\"showlakes\":true,\"showland\":true,\"subunitcolor\":\"white\"},\"hoverlabel\":{\"align\":\"left\"},\"hovermode\":\"closest\",\"mapbox\":{\"style\":\"light\"},\"paper_bgcolor\":\"white\",\"plot_bgcolor\":\"#E5ECF6\",\"polar\":{\"angularaxis\":{\"gridcolor\":\"white\",\"linecolor\":\"white\",\"ticks\":\"\"},\"bgcolor\":\"#E5ECF6\",\"radialaxis\":{\"gridcolor\":\"white\",\"linecolor\":\"white\",\"ticks\":\"\"}},\"scene\":{\"xaxis\":{\"backgroundcolor\":\"#E5ECF6\",\"gridcolor\":\"white\",\"gridwidth\":2,\"linecolor\":\"white\",\"showbackground\":true,\"ticks\":\"\",\"zerolinecolor\":\"white\"},\"yaxis\":{\"backgroundcolor\":\"#E5ECF6\",\"gridcolor\":\"white\",\"gridwidth\":2,\"linecolor\":\"white\",\"showbackground\":true,\"ticks\":\"\",\"zerolinecolor\":\"white\"},\"zaxis\":{\"backgroundcolor\":\"#E5ECF6\",\"gridcolor\":\"white\",\"gridwidth\":2,\"linecolor\":\"white\",\"showbackground\":true,\"ticks\":\"\",\"zerolinecolor\":\"white\"}},\"shapedefaults\":{\"line\":{\"color\":\"#2a3f5f\"}},\"ternary\":{\"aaxis\":{\"gridcolor\":\"white\",\"linecolor\":\"white\",\"ticks\":\"\"},\"baxis\":{\"gridcolor\":\"white\",\"linecolor\":\"white\",\"ticks\":\"\"},\"bgcolor\":\"#E5ECF6\",\"caxis\":{\"gridcolor\":\"white\",\"linecolor\":\"white\",\"ticks\":\"\"}},\"title\":{\"x\":0.05},\"xaxis\":{\"automargin\":true,\"gridcolor\":\"white\",\"linecolor\":\"white\",\"ticks\":\"\",\"title\":{\"standoff\":15},\"zerolinecolor\":\"white\",\"zerolinewidth\":2},\"yaxis\":{\"automargin\":true,\"gridcolor\":\"white\",\"linecolor\":\"white\",\"ticks\":\"\",\"title\":{\"standoff\":15},\"zerolinecolor\":\"white\",\"zerolinewidth\":2}}},\"title\":{\"font\":{\"color\":\"#4D5663\"}},\"xaxis\":{\"gridcolor\":\"#E1E5ED\",\"showgrid\":true,\"tickfont\":{\"color\":\"#4D5663\"},\"title\":{\"font\":{\"color\":\"#4D5663\"},\"text\":\"\"},\"zerolinecolor\":\"#E1E5ED\"},\"yaxis\":{\"gridcolor\":\"#E1E5ED\",\"showgrid\":true,\"tickfont\":{\"color\":\"#4D5663\"},\"title\":{\"font\":{\"color\":\"#4D5663\"},\"text\":\"\"},\"zerolinecolor\":\"#E1E5ED\"}},                        {\"showLink\": true, \"linkText\": \"Export to plot.ly\", \"plotlyServerURL\": \"https://plot.ly\", \"responsive\": true}                    ).then(function(){\n",
       "                            \n",
       "var gd = document.getElementById('2e048394-62ea-4573-99b0-04c2771e9e3d');\n",
       "var x = new MutationObserver(function (mutations, observer) {{\n",
       "        var display = window.getComputedStyle(gd).display;\n",
       "        if (!display || display === 'none') {{\n",
       "            console.log([gd, 'removed!']);\n",
       "            Plotly.purge(gd);\n",
       "            observer.disconnect();\n",
       "        }}\n",
       "}});\n",
       "\n",
       "// Listen for the removal of the full notebook cells\n",
       "var notebookContainer = gd.closest('#notebook-container');\n",
       "if (notebookContainer) {{\n",
       "    x.observe(notebookContainer, {childList: true});\n",
       "}}\n",
       "\n",
       "// Listen for the clearing of the current output cell\n",
       "var outputEl = gd.closest('.output');\n",
       "if (outputEl) {{\n",
       "    x.observe(outputEl, {childList: true});\n",
       "}}\n",
       "\n",
       "                        })                };                });            </script>        </div>"
      ]
     },
     "metadata": {},
     "output_type": "display_data"
    }
   ],
   "source": [
    "df['A'].iplot(kind='hist',bins=25)"
   ]
  },
  {
   "cell_type": "code",
   "execution_count": 60,
   "metadata": {},
   "outputs": [
    {
     "data": {
      "application/vnd.plotly.v1+json": {
       "config": {
        "linkText": "Export to plot.ly",
        "plotlyServerURL": "https://plot.ly",
        "showLink": true
       },
       "data": [
        {
         "histfunc": "count",
         "histnorm": "",
         "marker": {
          "color": "rgba(255, 153, 51, 1.0)",
          "line": {
           "color": "#4D5663",
           "width": 1.3
          }
         },
         "name": "A",
         "opacity": 0.8,
         "orientation": "v",
         "type": "histogram",
         "x": [
          -0.4115038731053773,
          -0.49582647792730933,
          0.6715039515278375,
          -0.7228439533683615,
          -1.0163644309323503,
          -1.6771187460497037,
          0.1426942594043106,
          0.010733057367568256,
          -0.2757248886421378,
          0.43634248238396767,
          -0.31625760352765825,
          1.0788695418388297,
          -1.3650683550356226,
          3.3295296907918908,
          1.2448035616874729,
          3.567907542703827,
          -1.2585894835205205,
          -0.7578902845652957,
          0.961097206466587,
          -0.22999127206120065,
          0.6355315190013411,
          -0.36640556130886015,
          -0.2359925976152816,
          0.6673896386703786,
          1.1118429093534206,
          1.0437621305016933,
          2.139732992997837,
          -0.5236645252310186,
          1.139886268203172,
          -1.8176105247030476,
          1.9016562907969128,
          0.5611763439299505,
          1.1863070628387569,
          -0.7993614395088802,
          -0.9268837477538382,
          1.3729270460114111,
          -2.235935935570002,
          -0.2799295467449602,
          -0.43376234483213355,
          -0.5243245831093638,
          -0.38600115945410135,
          -1.3599235166505075,
          -0.32119363857062766,
          0.27802374924973083,
          -0.28865745131943243,
          -2.2447838364351265,
          0.41572772303099154,
          -0.6729677858079124,
          0.3365952342631071,
          -0.42526332525683985,
          0.0839719329428044,
          -0.42767437800103897,
          -1.0035137994991385,
          -2.166642613122833,
          0.46360762343438955,
          -0.23745818472369123,
          0.9098292268808831,
          0.2141601647321144,
          -0.15744101383067263,
          -1.467649085021929,
          0.6621485851703116,
          -0.8598313197446324,
          0.10187808206059304,
          0.2438722144197782,
          1.8871003222668867,
          -0.5959777327995854,
          -0.05383220104909009,
          1.9217840425297361,
          1.4672698064203502,
          0.3982542762139769,
          0.004494820302078757,
          -1.363266704463435,
          -0.3383320859684264,
          -1.9948896538406473,
          -0.41325343868616204,
          0.17825113054126104,
          0.6340245373609271,
          0.43859956361879593,
          -0.6578477062991168,
          0.38778746921351653,
          -0.594250066209521,
          -0.8491583522129205,
          0.2716301090805724,
          1.665090431012535,
          0.5914792364899399,
          -1.3333439007396537,
          -0.3480441111400766,
          1.5047931302741744,
          1.5972618958250668,
          1.7008755333460621,
          0.5150358045518847,
          -0.1976070256189633,
          -1.2680496771545622,
          -0.6871816841822501,
          0.36439994493622735,
          0.3427615210908248,
          -0.9201279626113359,
          0.4755993371367693,
          0.37629736026692095,
          -1.6674568683437216
         ]
        },
        {
         "histfunc": "count",
         "histnorm": "",
         "marker": {
          "color": "rgba(55, 128, 191, 1.0)",
          "line": {
           "color": "#4D5663",
           "width": 1.3
          }
         },
         "name": "B",
         "opacity": 0.8,
         "orientation": "v",
         "type": "histogram",
         "x": [
          -1.4305731294486232,
          0.9807190014899824,
          -1.0140748716230523,
          -1.5160479694028781,
          0.08365899582671213,
          -0.9794348438041677,
          0.08039100336480866,
          -0.38620152988385487,
          0.7203864725872914,
          -0.3627743143627477,
          0.6906005220034608,
          -0.27652058601410145,
          0.28831869941097654,
          1.4438561407269055,
          1.0020674345178482,
          1.3657923506545961,
          0.8917550027505843,
          -0.5873052322447015,
          1.4394241421913423,
          -1.1823295994022869,
          0.48004408303977236,
          -0.9954568496222879,
          -0.4491627396631762,
          0.23781870826368207,
          0.39794648816463896,
          -1.0462274230665645,
          -1.0219333474135248,
          0.6382625121026199,
          0.7391063858417758,
          -0.006065534822558962,
          0.18884574548061528,
          0.582880659111706,
          -0.5323462342888212,
          0.9402583707995257,
          1.7994968197538437,
          -1.5804326583155233,
          -0.5498576008022996,
          -0.41586487996867555,
          -2.594438473380876,
          -0.20792628568089838,
          -0.05371153893023452,
          1.111311390110987,
          1.043087154127094,
          0.35648676024702847,
          0.7406413495945469,
          -1.7174901393497024,
          -0.5055206163892351,
          0.12444380491205628,
          0.2635168161584073,
          1.797430855129327,
          0.14163338680020648,
          2.195246757411419,
          1.3348708114974404,
          2.299036977743916,
          -1.5774051814618686,
          1.7117732762461901,
          0.37674565026187756,
          -0.6997844473879765,
          -1.0219500087855766,
          -2.631738198091557,
          -0.38120837544237773,
          0.4153454326347774,
          -1.1057341522928317,
          -1.749561587292299,
          1.1692578741087636,
          -0.4665158273933133,
          -1.3155212639292173,
          0.7521474301263578,
          -0.42079778332228823,
          0.31097180594294915,
          0.7091466990379948,
          0.825962573058696,
          0.3846841820235162,
          1.3271700873958,
          0.8989715838374636,
          2.138446326737935,
          0.8207061142504928,
          0.4817470479831832,
          2.046769364082126,
          1.013220469300983,
          1.4307884583515513,
          0.24665790517738484,
          -0.09142765416388775,
          -0.8978835841127965,
          2.1272319654519163,
          -0.24151888455402062,
          -0.5932587701094062,
          -1.6478458884228309,
          -0.25457893943964405,
          1.5913614923566013,
          -1.1452402381900029,
          0.43397472460552017,
          0.29789344556192504,
          1.665719652232908,
          0.7618902735558941,
          0.6687839547142187,
          -1.2400301056762388,
          1.9432788477844014,
          -0.3634019171329619,
          -0.28964201627915565
         ]
        },
        {
         "histfunc": "count",
         "histnorm": "",
         "marker": {
          "color": "rgba(50, 171, 96, 1.0)",
          "line": {
           "color": "#4D5663",
           "width": 1.3
          }
         },
         "name": "C",
         "opacity": 0.8,
         "orientation": "v",
         "type": "histogram",
         "x": [
          -0.4035301924,
          -1.6115860040301881,
          2.63945593136704,
          -1.5374839951136252,
          -1.2546012462110507,
          -1.1478278861644489,
          -0.22344713607849873,
          0.5012049872176282,
          -1.2865158584850092,
          1.9966649713354254,
          1.0614357923896944,
          0.029051133995821998,
          0.5741341579600965,
          1.0121114494433188,
          -1.276322302266929,
          0.3369758870931138,
          0.3912593775087565,
          -1.3517841319669084,
          1.5172818388815197,
          -0.6440166550733297,
          -0.3296765211299378,
          -1.1772530587445735,
          -0.6075223902280605,
          -0.9843634880970925,
          0.8440972379163757,
          0.3373307357476102,
          1.4974507063604852,
          -0.2924614819388411,
          -1.1540542805212934,
          0.7080419216884527,
          0.9896711825862118,
          1.3915773511841565,
          0.48800016708057137,
          -0.6816629799471235,
          3.6906470186359766,
          -0.9729424696404596,
          0.3694023839341636,
          -1.9814389066380493,
          1.1832447199312832,
          0.2528153750253914,
          -0.1943675304647376,
          -2.041265638824802,
          -0.976403640219806,
          -0.9805421520471272,
          0.6226144108094213,
          -1.4037058892112146,
          -1.462855221354042,
          -1.1339692853238932,
          -1.3281294843803555,
          -0.5072142772940965,
          -0.3829634858842726,
          0.396831281688865,
          -0.7402213896535239,
          1.7916923395407218,
          -0.12332017792413869,
          -0.5751212006787343,
          0.1557171376469303,
          -1.4085456017217224,
          -0.9398489612284758,
          -0.5664768192331817,
          -0.7021956724900761,
          -0.34226261467506475,
          0.6382338806480061,
          0.40638787214901806,
          0.770317953302265,
          -1.1402947326629862,
          -0.10404369355686148,
          -0.24087188871662418,
          0.24013156988503864,
          -1.124958800682844,
          0.49397502804491733,
          -1.7416465240211423,
          -0.24835776441600488,
          -0.7767255508915297,
          1.4311788662680227,
          -0.8779758030452509,
          -1.1782098939586012,
          -0.29495897761025025,
          -0.02906120291342997,
          -0.9269912028980818,
          2.1133715450615043,
          1.5134655662634757,
          1.9173411041804995,
          -2.953633013125038,
          -0.6274523412193578,
          -0.13284118020160382,
          -1.3416402082908638,
          0.5105507549206211,
          -0.6000431906610564,
          -0.982412433565821,
          0.29710728428260513,
          0.35971185983495624,
          2.683313221272684,
          0.1819196613306115,
          -1.2062436686268865,
          -0.6917132729114516,
          0.45350056303868724,
          1.2385571276215268,
          1.510493943135955,
          -0.10002727631138691
         ]
        },
        {
         "histfunc": "count",
         "histnorm": "",
         "marker": {
          "color": "rgba(128, 0, 128, 1.0)",
          "line": {
           "color": "#4D5663",
           "width": 1.3
          }
         },
         "name": "D",
         "opacity": 0.8,
         "orientation": "v",
         "type": "histogram",
         "x": [
          -0.17944125256573867,
          0.2954550026102315,
          0.8295327554843667,
          -0.09650700161090092,
          -0.09342781232579536,
          -0.30032766969785857,
          -0.2748027549319671,
          0.11616669471986152,
          -0.19126602055433553,
          1.0023550720871446,
          0.9822367624881188,
          1.7170154044961143,
          -2.2243956239383316,
          1.1474683748014989,
          -0.2474131491143195,
          -0.09108246576146586,
          -0.31301992780391524,
          1.0751754919333834,
          -0.5341796867143148,
          0.9267183635118273,
          0.9240873386491374,
          -0.12852958241859497,
          0.5557212190612986,
          1.4693971099645429,
          1.4824921671579085,
          -0.7149387327321645,
          -1.07110559511885,
          -0.4870817370270348,
          -0.5190349323577252,
          1.1975564098754115,
          0.4327325868655046,
          -0.4024875799842912,
          -0.19617068589293388,
          1.1954916894899468,
          -0.20343284928335367,
          -1.937931449693175,
          0.857790457328531,
          -0.08399090124024515,
          -0.04677209432273538,
          1.6958009985383622,
          0.39870368934923106,
          2.04013968157642,
          -1.1937869356030246,
          0.8053739045174904,
          -1.1091139351283579,
          -0.3058909964352519,
          2.4202442471856016,
          -1.393206144544414,
          1.8161343865870752,
          -1.6946494545813768,
          -0.15519971129471366,
          -0.4789915926665577,
          -1.1528321690188423,
          0.7716397578502623,
          1.553040607057728,
          0.14090580264915656,
          -0.9030555859668093,
          -1.2584687865204276,
          -0.01643851885561289,
          0.23708453208375252,
          -2.1695680905439665,
          0.3789354689395262,
          0.9279923481390357,
          -0.17015388869641665,
          1.0447416789832396,
          -0.6523888906952022,
          1.4531540564058119,
          0.48317324830428854,
          0.7846129443340959,
          0.29570263617838416,
          -1.4186653925597024,
          -0.7923388495577489,
          -0.531088689765993,
          -0.02754672744255599,
          -0.8199278760531039,
          -1.3680696820312197,
          0.8942837002485874,
          -0.6090454677613588,
          -1.683713409831505,
          -0.4038546901781923,
          -1.7983798616269113,
          1.5511005341501645,
          0.5628033921903397,
          0.05099382830891123,
          1.1541177566072083,
          -0.3195013703053062,
          0.7527127178945748,
          0.43391918921727285,
          0.9588473110445781,
          0.9450450726397501,
          -0.5290483332066993,
          -1.4239066577673982,
          0.6558761617436887,
          -0.0877481573205621,
          1.0005951564688398,
          -0.6584730132628027,
          1.8860735715741814,
          0.5703339010296119,
          0.506497865412588,
          -0.3528068968712007
         ]
        }
       ],
       "layout": {
        "barmode": "overlay",
        "legend": {
         "bgcolor": "#F5F6F9",
         "font": {
          "color": "#4D5663"
         }
        },
        "paper_bgcolor": "#F5F6F9",
        "plot_bgcolor": "#F5F6F9",
        "template": {
         "data": {
          "bar": [
           {
            "error_x": {
             "color": "#2a3f5f"
            },
            "error_y": {
             "color": "#2a3f5f"
            },
            "marker": {
             "line": {
              "color": "#E5ECF6",
              "width": 0.5
             },
             "pattern": {
              "fillmode": "overlay",
              "size": 10,
              "solidity": 0.2
             }
            },
            "type": "bar"
           }
          ],
          "barpolar": [
           {
            "marker": {
             "line": {
              "color": "#E5ECF6",
              "width": 0.5
             },
             "pattern": {
              "fillmode": "overlay",
              "size": 10,
              "solidity": 0.2
             }
            },
            "type": "barpolar"
           }
          ],
          "carpet": [
           {
            "aaxis": {
             "endlinecolor": "#2a3f5f",
             "gridcolor": "white",
             "linecolor": "white",
             "minorgridcolor": "white",
             "startlinecolor": "#2a3f5f"
            },
            "baxis": {
             "endlinecolor": "#2a3f5f",
             "gridcolor": "white",
             "linecolor": "white",
             "minorgridcolor": "white",
             "startlinecolor": "#2a3f5f"
            },
            "type": "carpet"
           }
          ],
          "choropleth": [
           {
            "colorbar": {
             "outlinewidth": 0,
             "ticks": ""
            },
            "type": "choropleth"
           }
          ],
          "contour": [
           {
            "colorbar": {
             "outlinewidth": 0,
             "ticks": ""
            },
            "colorscale": [
             [
              0,
              "#0d0887"
             ],
             [
              0.1111111111111111,
              "#46039f"
             ],
             [
              0.2222222222222222,
              "#7201a8"
             ],
             [
              0.3333333333333333,
              "#9c179e"
             ],
             [
              0.4444444444444444,
              "#bd3786"
             ],
             [
              0.5555555555555556,
              "#d8576b"
             ],
             [
              0.6666666666666666,
              "#ed7953"
             ],
             [
              0.7777777777777778,
              "#fb9f3a"
             ],
             [
              0.8888888888888888,
              "#fdca26"
             ],
             [
              1,
              "#f0f921"
             ]
            ],
            "type": "contour"
           }
          ],
          "contourcarpet": [
           {
            "colorbar": {
             "outlinewidth": 0,
             "ticks": ""
            },
            "type": "contourcarpet"
           }
          ],
          "heatmap": [
           {
            "colorbar": {
             "outlinewidth": 0,
             "ticks": ""
            },
            "colorscale": [
             [
              0,
              "#0d0887"
             ],
             [
              0.1111111111111111,
              "#46039f"
             ],
             [
              0.2222222222222222,
              "#7201a8"
             ],
             [
              0.3333333333333333,
              "#9c179e"
             ],
             [
              0.4444444444444444,
              "#bd3786"
             ],
             [
              0.5555555555555556,
              "#d8576b"
             ],
             [
              0.6666666666666666,
              "#ed7953"
             ],
             [
              0.7777777777777778,
              "#fb9f3a"
             ],
             [
              0.8888888888888888,
              "#fdca26"
             ],
             [
              1,
              "#f0f921"
             ]
            ],
            "type": "heatmap"
           }
          ],
          "heatmapgl": [
           {
            "colorbar": {
             "outlinewidth": 0,
             "ticks": ""
            },
            "colorscale": [
             [
              0,
              "#0d0887"
             ],
             [
              0.1111111111111111,
              "#46039f"
             ],
             [
              0.2222222222222222,
              "#7201a8"
             ],
             [
              0.3333333333333333,
              "#9c179e"
             ],
             [
              0.4444444444444444,
              "#bd3786"
             ],
             [
              0.5555555555555556,
              "#d8576b"
             ],
             [
              0.6666666666666666,
              "#ed7953"
             ],
             [
              0.7777777777777778,
              "#fb9f3a"
             ],
             [
              0.8888888888888888,
              "#fdca26"
             ],
             [
              1,
              "#f0f921"
             ]
            ],
            "type": "heatmapgl"
           }
          ],
          "histogram": [
           {
            "marker": {
             "pattern": {
              "fillmode": "overlay",
              "size": 10,
              "solidity": 0.2
             }
            },
            "type": "histogram"
           }
          ],
          "histogram2d": [
           {
            "colorbar": {
             "outlinewidth": 0,
             "ticks": ""
            },
            "colorscale": [
             [
              0,
              "#0d0887"
             ],
             [
              0.1111111111111111,
              "#46039f"
             ],
             [
              0.2222222222222222,
              "#7201a8"
             ],
             [
              0.3333333333333333,
              "#9c179e"
             ],
             [
              0.4444444444444444,
              "#bd3786"
             ],
             [
              0.5555555555555556,
              "#d8576b"
             ],
             [
              0.6666666666666666,
              "#ed7953"
             ],
             [
              0.7777777777777778,
              "#fb9f3a"
             ],
             [
              0.8888888888888888,
              "#fdca26"
             ],
             [
              1,
              "#f0f921"
             ]
            ],
            "type": "histogram2d"
           }
          ],
          "histogram2dcontour": [
           {
            "colorbar": {
             "outlinewidth": 0,
             "ticks": ""
            },
            "colorscale": [
             [
              0,
              "#0d0887"
             ],
             [
              0.1111111111111111,
              "#46039f"
             ],
             [
              0.2222222222222222,
              "#7201a8"
             ],
             [
              0.3333333333333333,
              "#9c179e"
             ],
             [
              0.4444444444444444,
              "#bd3786"
             ],
             [
              0.5555555555555556,
              "#d8576b"
             ],
             [
              0.6666666666666666,
              "#ed7953"
             ],
             [
              0.7777777777777778,
              "#fb9f3a"
             ],
             [
              0.8888888888888888,
              "#fdca26"
             ],
             [
              1,
              "#f0f921"
             ]
            ],
            "type": "histogram2dcontour"
           }
          ],
          "mesh3d": [
           {
            "colorbar": {
             "outlinewidth": 0,
             "ticks": ""
            },
            "type": "mesh3d"
           }
          ],
          "parcoords": [
           {
            "line": {
             "colorbar": {
              "outlinewidth": 0,
              "ticks": ""
             }
            },
            "type": "parcoords"
           }
          ],
          "pie": [
           {
            "automargin": true,
            "type": "pie"
           }
          ],
          "scatter": [
           {
            "fillpattern": {
             "fillmode": "overlay",
             "size": 10,
             "solidity": 0.2
            },
            "type": "scatter"
           }
          ],
          "scatter3d": [
           {
            "line": {
             "colorbar": {
              "outlinewidth": 0,
              "ticks": ""
             }
            },
            "marker": {
             "colorbar": {
              "outlinewidth": 0,
              "ticks": ""
             }
            },
            "type": "scatter3d"
           }
          ],
          "scattercarpet": [
           {
            "marker": {
             "colorbar": {
              "outlinewidth": 0,
              "ticks": ""
             }
            },
            "type": "scattercarpet"
           }
          ],
          "scattergeo": [
           {
            "marker": {
             "colorbar": {
              "outlinewidth": 0,
              "ticks": ""
             }
            },
            "type": "scattergeo"
           }
          ],
          "scattergl": [
           {
            "marker": {
             "colorbar": {
              "outlinewidth": 0,
              "ticks": ""
             }
            },
            "type": "scattergl"
           }
          ],
          "scattermapbox": [
           {
            "marker": {
             "colorbar": {
              "outlinewidth": 0,
              "ticks": ""
             }
            },
            "type": "scattermapbox"
           }
          ],
          "scatterpolar": [
           {
            "marker": {
             "colorbar": {
              "outlinewidth": 0,
              "ticks": ""
             }
            },
            "type": "scatterpolar"
           }
          ],
          "scatterpolargl": [
           {
            "marker": {
             "colorbar": {
              "outlinewidth": 0,
              "ticks": ""
             }
            },
            "type": "scatterpolargl"
           }
          ],
          "scatterternary": [
           {
            "marker": {
             "colorbar": {
              "outlinewidth": 0,
              "ticks": ""
             }
            },
            "type": "scatterternary"
           }
          ],
          "surface": [
           {
            "colorbar": {
             "outlinewidth": 0,
             "ticks": ""
            },
            "colorscale": [
             [
              0,
              "#0d0887"
             ],
             [
              0.1111111111111111,
              "#46039f"
             ],
             [
              0.2222222222222222,
              "#7201a8"
             ],
             [
              0.3333333333333333,
              "#9c179e"
             ],
             [
              0.4444444444444444,
              "#bd3786"
             ],
             [
              0.5555555555555556,
              "#d8576b"
             ],
             [
              0.6666666666666666,
              "#ed7953"
             ],
             [
              0.7777777777777778,
              "#fb9f3a"
             ],
             [
              0.8888888888888888,
              "#fdca26"
             ],
             [
              1,
              "#f0f921"
             ]
            ],
            "type": "surface"
           }
          ],
          "table": [
           {
            "cells": {
             "fill": {
              "color": "#EBF0F8"
             },
             "line": {
              "color": "white"
             }
            },
            "header": {
             "fill": {
              "color": "#C8D4E3"
             },
             "line": {
              "color": "white"
             }
            },
            "type": "table"
           }
          ]
         },
         "layout": {
          "annotationdefaults": {
           "arrowcolor": "#2a3f5f",
           "arrowhead": 0,
           "arrowwidth": 1
          },
          "autotypenumbers": "strict",
          "coloraxis": {
           "colorbar": {
            "outlinewidth": 0,
            "ticks": ""
           }
          },
          "colorscale": {
           "diverging": [
            [
             0,
             "#8e0152"
            ],
            [
             0.1,
             "#c51b7d"
            ],
            [
             0.2,
             "#de77ae"
            ],
            [
             0.3,
             "#f1b6da"
            ],
            [
             0.4,
             "#fde0ef"
            ],
            [
             0.5,
             "#f7f7f7"
            ],
            [
             0.6,
             "#e6f5d0"
            ],
            [
             0.7,
             "#b8e186"
            ],
            [
             0.8,
             "#7fbc41"
            ],
            [
             0.9,
             "#4d9221"
            ],
            [
             1,
             "#276419"
            ]
           ],
           "sequential": [
            [
             0,
             "#0d0887"
            ],
            [
             0.1111111111111111,
             "#46039f"
            ],
            [
             0.2222222222222222,
             "#7201a8"
            ],
            [
             0.3333333333333333,
             "#9c179e"
            ],
            [
             0.4444444444444444,
             "#bd3786"
            ],
            [
             0.5555555555555556,
             "#d8576b"
            ],
            [
             0.6666666666666666,
             "#ed7953"
            ],
            [
             0.7777777777777778,
             "#fb9f3a"
            ],
            [
             0.8888888888888888,
             "#fdca26"
            ],
            [
             1,
             "#f0f921"
            ]
           ],
           "sequentialminus": [
            [
             0,
             "#0d0887"
            ],
            [
             0.1111111111111111,
             "#46039f"
            ],
            [
             0.2222222222222222,
             "#7201a8"
            ],
            [
             0.3333333333333333,
             "#9c179e"
            ],
            [
             0.4444444444444444,
             "#bd3786"
            ],
            [
             0.5555555555555556,
             "#d8576b"
            ],
            [
             0.6666666666666666,
             "#ed7953"
            ],
            [
             0.7777777777777778,
             "#fb9f3a"
            ],
            [
             0.8888888888888888,
             "#fdca26"
            ],
            [
             1,
             "#f0f921"
            ]
           ]
          },
          "colorway": [
           "#636efa",
           "#EF553B",
           "#00cc96",
           "#ab63fa",
           "#FFA15A",
           "#19d3f3",
           "#FF6692",
           "#B6E880",
           "#FF97FF",
           "#FECB52"
          ],
          "font": {
           "color": "#2a3f5f"
          },
          "geo": {
           "bgcolor": "white",
           "lakecolor": "white",
           "landcolor": "#E5ECF6",
           "showlakes": true,
           "showland": true,
           "subunitcolor": "white"
          },
          "hoverlabel": {
           "align": "left"
          },
          "hovermode": "closest",
          "mapbox": {
           "style": "light"
          },
          "paper_bgcolor": "white",
          "plot_bgcolor": "#E5ECF6",
          "polar": {
           "angularaxis": {
            "gridcolor": "white",
            "linecolor": "white",
            "ticks": ""
           },
           "bgcolor": "#E5ECF6",
           "radialaxis": {
            "gridcolor": "white",
            "linecolor": "white",
            "ticks": ""
           }
          },
          "scene": {
           "xaxis": {
            "backgroundcolor": "#E5ECF6",
            "gridcolor": "white",
            "gridwidth": 2,
            "linecolor": "white",
            "showbackground": true,
            "ticks": "",
            "zerolinecolor": "white"
           },
           "yaxis": {
            "backgroundcolor": "#E5ECF6",
            "gridcolor": "white",
            "gridwidth": 2,
            "linecolor": "white",
            "showbackground": true,
            "ticks": "",
            "zerolinecolor": "white"
           },
           "zaxis": {
            "backgroundcolor": "#E5ECF6",
            "gridcolor": "white",
            "gridwidth": 2,
            "linecolor": "white",
            "showbackground": true,
            "ticks": "",
            "zerolinecolor": "white"
           }
          },
          "shapedefaults": {
           "line": {
            "color": "#2a3f5f"
           }
          },
          "ternary": {
           "aaxis": {
            "gridcolor": "white",
            "linecolor": "white",
            "ticks": ""
           },
           "baxis": {
            "gridcolor": "white",
            "linecolor": "white",
            "ticks": ""
           },
           "bgcolor": "#E5ECF6",
           "caxis": {
            "gridcolor": "white",
            "linecolor": "white",
            "ticks": ""
           }
          },
          "title": {
           "x": 0.05
          },
          "xaxis": {
           "automargin": true,
           "gridcolor": "white",
           "linecolor": "white",
           "ticks": "",
           "title": {
            "standoff": 15
           },
           "zerolinecolor": "white",
           "zerolinewidth": 2
          },
          "yaxis": {
           "automargin": true,
           "gridcolor": "white",
           "linecolor": "white",
           "ticks": "",
           "title": {
            "standoff": 15
           },
           "zerolinecolor": "white",
           "zerolinewidth": 2
          }
         }
        },
        "title": {
         "font": {
          "color": "#4D5663"
         }
        },
        "xaxis": {
         "gridcolor": "#E1E5ED",
         "showgrid": true,
         "tickfont": {
          "color": "#4D5663"
         },
         "title": {
          "font": {
           "color": "#4D5663"
          },
          "text": ""
         },
         "zerolinecolor": "#E1E5ED"
        },
        "yaxis": {
         "gridcolor": "#E1E5ED",
         "showgrid": true,
         "tickfont": {
          "color": "#4D5663"
         },
         "title": {
          "font": {
           "color": "#4D5663"
          },
          "text": ""
         },
         "zerolinecolor": "#E1E5ED"
        }
       }
      },
      "text/html": [
       "<div>                            <div id=\"6019821c-67d3-46ed-95b4-fe5dd5b6b029\" class=\"plotly-graph-div\" style=\"height:525px; width:100%;\"></div>            <script type=\"text/javascript\">                require([\"plotly\"], function(Plotly) {                    window.PLOTLYENV=window.PLOTLYENV || {};\n",
       "                    window.PLOTLYENV.BASE_URL='https://plot.ly';                                    if (document.getElementById(\"6019821c-67d3-46ed-95b4-fe5dd5b6b029\")) {                    Plotly.newPlot(                        \"6019821c-67d3-46ed-95b4-fe5dd5b6b029\",                        [{\"histfunc\":\"count\",\"histnorm\":\"\",\"marker\":{\"color\":\"rgba(255, 153, 51, 1.0)\",\"line\":{\"color\":\"#4D5663\",\"width\":1.3}},\"name\":\"A\",\"opacity\":0.8,\"orientation\":\"v\",\"x\":[-0.4115038731053773,-0.49582647792730933,0.6715039515278375,-0.7228439533683615,-1.0163644309323503,-1.6771187460497037,0.1426942594043106,0.010733057367568256,-0.2757248886421378,0.43634248238396767,-0.31625760352765825,1.0788695418388297,-1.3650683550356226,3.3295296907918908,1.2448035616874729,3.567907542703827,-1.2585894835205205,-0.7578902845652957,0.961097206466587,-0.22999127206120065,0.6355315190013411,-0.36640556130886015,-0.2359925976152816,0.6673896386703786,1.1118429093534206,1.0437621305016933,2.139732992997837,-0.5236645252310186,1.139886268203172,-1.8176105247030476,1.9016562907969128,0.5611763439299505,1.1863070628387569,-0.7993614395088802,-0.9268837477538382,1.3729270460114111,-2.235935935570002,-0.2799295467449602,-0.43376234483213355,-0.5243245831093638,-0.38600115945410135,-1.3599235166505075,-0.32119363857062766,0.27802374924973083,-0.28865745131943243,-2.2447838364351265,0.41572772303099154,-0.6729677858079124,0.3365952342631071,-0.42526332525683985,0.0839719329428044,-0.42767437800103897,-1.0035137994991385,-2.166642613122833,0.46360762343438955,-0.23745818472369123,0.9098292268808831,0.2141601647321144,-0.15744101383067263,-1.467649085021929,0.6621485851703116,-0.8598313197446324,0.10187808206059304,0.2438722144197782,1.8871003222668867,-0.5959777327995854,-0.05383220104909009,1.9217840425297361,1.4672698064203502,0.3982542762139769,0.004494820302078757,-1.363266704463435,-0.3383320859684264,-1.9948896538406473,-0.41325343868616204,0.17825113054126104,0.6340245373609271,0.43859956361879593,-0.6578477062991168,0.38778746921351653,-0.594250066209521,-0.8491583522129205,0.2716301090805724,1.665090431012535,0.5914792364899399,-1.3333439007396537,-0.3480441111400766,1.5047931302741744,1.5972618958250668,1.7008755333460621,0.5150358045518847,-0.1976070256189633,-1.2680496771545622,-0.6871816841822501,0.36439994493622735,0.3427615210908248,-0.9201279626113359,0.4755993371367693,0.37629736026692095,-1.6674568683437216],\"type\":\"histogram\"},{\"histfunc\":\"count\",\"histnorm\":\"\",\"marker\":{\"color\":\"rgba(55, 128, 191, 1.0)\",\"line\":{\"color\":\"#4D5663\",\"width\":1.3}},\"name\":\"B\",\"opacity\":0.8,\"orientation\":\"v\",\"x\":[-1.4305731294486232,0.9807190014899824,-1.0140748716230523,-1.5160479694028781,0.08365899582671213,-0.9794348438041677,0.08039100336480866,-0.38620152988385487,0.7203864725872914,-0.3627743143627477,0.6906005220034608,-0.27652058601410145,0.28831869941097654,1.4438561407269055,1.0020674345178482,1.3657923506545961,0.8917550027505843,-0.5873052322447015,1.4394241421913423,-1.1823295994022869,0.48004408303977236,-0.9954568496222879,-0.4491627396631762,0.23781870826368207,0.39794648816463896,-1.0462274230665645,-1.0219333474135248,0.6382625121026199,0.7391063858417758,-0.006065534822558962,0.18884574548061528,0.582880659111706,-0.5323462342888212,0.9402583707995257,1.7994968197538437,-1.5804326583155233,-0.5498576008022996,-0.41586487996867555,-2.594438473380876,-0.20792628568089838,-0.05371153893023452,1.111311390110987,1.043087154127094,0.35648676024702847,0.7406413495945469,-1.7174901393497024,-0.5055206163892351,0.12444380491205628,0.2635168161584073,1.797430855129327,0.14163338680020648,2.195246757411419,1.3348708114974404,2.299036977743916,-1.5774051814618686,1.7117732762461901,0.37674565026187756,-0.6997844473879765,-1.0219500087855766,-2.631738198091557,-0.38120837544237773,0.4153454326347774,-1.1057341522928317,-1.749561587292299,1.1692578741087636,-0.4665158273933133,-1.3155212639292173,0.7521474301263578,-0.42079778332228823,0.31097180594294915,0.7091466990379948,0.825962573058696,0.3846841820235162,1.3271700873958,0.8989715838374636,2.138446326737935,0.8207061142504928,0.4817470479831832,2.046769364082126,1.013220469300983,1.4307884583515513,0.24665790517738484,-0.09142765416388775,-0.8978835841127965,2.1272319654519163,-0.24151888455402062,-0.5932587701094062,-1.6478458884228309,-0.25457893943964405,1.5913614923566013,-1.1452402381900029,0.43397472460552017,0.29789344556192504,1.665719652232908,0.7618902735558941,0.6687839547142187,-1.2400301056762388,1.9432788477844014,-0.3634019171329619,-0.28964201627915565],\"type\":\"histogram\"},{\"histfunc\":\"count\",\"histnorm\":\"\",\"marker\":{\"color\":\"rgba(50, 171, 96, 1.0)\",\"line\":{\"color\":\"#4D5663\",\"width\":1.3}},\"name\":\"C\",\"opacity\":0.8,\"orientation\":\"v\",\"x\":[-0.4035301924,-1.6115860040301881,2.63945593136704,-1.5374839951136252,-1.2546012462110507,-1.1478278861644489,-0.22344713607849873,0.5012049872176282,-1.2865158584850092,1.9966649713354254,1.0614357923896944,0.029051133995821998,0.5741341579600965,1.0121114494433188,-1.276322302266929,0.3369758870931138,0.3912593775087565,-1.3517841319669084,1.5172818388815197,-0.6440166550733297,-0.3296765211299378,-1.1772530587445735,-0.6075223902280605,-0.9843634880970925,0.8440972379163757,0.3373307357476102,1.4974507063604852,-0.2924614819388411,-1.1540542805212934,0.7080419216884527,0.9896711825862118,1.3915773511841565,0.48800016708057137,-0.6816629799471235,3.6906470186359766,-0.9729424696404596,0.3694023839341636,-1.9814389066380493,1.1832447199312832,0.2528153750253914,-0.1943675304647376,-2.041265638824802,-0.976403640219806,-0.9805421520471272,0.6226144108094213,-1.4037058892112146,-1.462855221354042,-1.1339692853238932,-1.3281294843803555,-0.5072142772940965,-0.3829634858842726,0.396831281688865,-0.7402213896535239,1.7916923395407218,-0.12332017792413869,-0.5751212006787343,0.1557171376469303,-1.4085456017217224,-0.9398489612284758,-0.5664768192331817,-0.7021956724900761,-0.34226261467506475,0.6382338806480061,0.40638787214901806,0.770317953302265,-1.1402947326629862,-0.10404369355686148,-0.24087188871662418,0.24013156988503864,-1.124958800682844,0.49397502804491733,-1.7416465240211423,-0.24835776441600488,-0.7767255508915297,1.4311788662680227,-0.8779758030452509,-1.1782098939586012,-0.29495897761025025,-0.02906120291342997,-0.9269912028980818,2.1133715450615043,1.5134655662634757,1.9173411041804995,-2.953633013125038,-0.6274523412193578,-0.13284118020160382,-1.3416402082908638,0.5105507549206211,-0.6000431906610564,-0.982412433565821,0.29710728428260513,0.35971185983495624,2.683313221272684,0.1819196613306115,-1.2062436686268865,-0.6917132729114516,0.45350056303868724,1.2385571276215268,1.510493943135955,-0.10002727631138691],\"type\":\"histogram\"},{\"histfunc\":\"count\",\"histnorm\":\"\",\"marker\":{\"color\":\"rgba(128, 0, 128, 1.0)\",\"line\":{\"color\":\"#4D5663\",\"width\":1.3}},\"name\":\"D\",\"opacity\":0.8,\"orientation\":\"v\",\"x\":[-0.17944125256573867,0.2954550026102315,0.8295327554843667,-0.09650700161090092,-0.09342781232579536,-0.30032766969785857,-0.2748027549319671,0.11616669471986152,-0.19126602055433553,1.0023550720871446,0.9822367624881188,1.7170154044961143,-2.2243956239383316,1.1474683748014989,-0.2474131491143195,-0.09108246576146586,-0.31301992780391524,1.0751754919333834,-0.5341796867143148,0.9267183635118273,0.9240873386491374,-0.12852958241859497,0.5557212190612986,1.4693971099645429,1.4824921671579085,-0.7149387327321645,-1.07110559511885,-0.4870817370270348,-0.5190349323577252,1.1975564098754115,0.4327325868655046,-0.4024875799842912,-0.19617068589293388,1.1954916894899468,-0.20343284928335367,-1.937931449693175,0.857790457328531,-0.08399090124024515,-0.04677209432273538,1.6958009985383622,0.39870368934923106,2.04013968157642,-1.1937869356030246,0.8053739045174904,-1.1091139351283579,-0.3058909964352519,2.4202442471856016,-1.393206144544414,1.8161343865870752,-1.6946494545813768,-0.15519971129471366,-0.4789915926665577,-1.1528321690188423,0.7716397578502623,1.553040607057728,0.14090580264915656,-0.9030555859668093,-1.2584687865204276,-0.01643851885561289,0.23708453208375252,-2.1695680905439665,0.3789354689395262,0.9279923481390357,-0.17015388869641665,1.0447416789832396,-0.6523888906952022,1.4531540564058119,0.48317324830428854,0.7846129443340959,0.29570263617838416,-1.4186653925597024,-0.7923388495577489,-0.531088689765993,-0.02754672744255599,-0.8199278760531039,-1.3680696820312197,0.8942837002485874,-0.6090454677613588,-1.683713409831505,-0.4038546901781923,-1.7983798616269113,1.5511005341501645,0.5628033921903397,0.05099382830891123,1.1541177566072083,-0.3195013703053062,0.7527127178945748,0.43391918921727285,0.9588473110445781,0.9450450726397501,-0.5290483332066993,-1.4239066577673982,0.6558761617436887,-0.0877481573205621,1.0005951564688398,-0.6584730132628027,1.8860735715741814,0.5703339010296119,0.506497865412588,-0.3528068968712007],\"type\":\"histogram\"}],                        {\"barmode\":\"overlay\",\"legend\":{\"bgcolor\":\"#F5F6F9\",\"font\":{\"color\":\"#4D5663\"}},\"paper_bgcolor\":\"#F5F6F9\",\"plot_bgcolor\":\"#F5F6F9\",\"template\":{\"data\":{\"barpolar\":[{\"marker\":{\"line\":{\"color\":\"#E5ECF6\",\"width\":0.5},\"pattern\":{\"fillmode\":\"overlay\",\"size\":10,\"solidity\":0.2}},\"type\":\"barpolar\"}],\"bar\":[{\"error_x\":{\"color\":\"#2a3f5f\"},\"error_y\":{\"color\":\"#2a3f5f\"},\"marker\":{\"line\":{\"color\":\"#E5ECF6\",\"width\":0.5},\"pattern\":{\"fillmode\":\"overlay\",\"size\":10,\"solidity\":0.2}},\"type\":\"bar\"}],\"carpet\":[{\"aaxis\":{\"endlinecolor\":\"#2a3f5f\",\"gridcolor\":\"white\",\"linecolor\":\"white\",\"minorgridcolor\":\"white\",\"startlinecolor\":\"#2a3f5f\"},\"baxis\":{\"endlinecolor\":\"#2a3f5f\",\"gridcolor\":\"white\",\"linecolor\":\"white\",\"minorgridcolor\":\"white\",\"startlinecolor\":\"#2a3f5f\"},\"type\":\"carpet\"}],\"choropleth\":[{\"colorbar\":{\"outlinewidth\":0,\"ticks\":\"\"},\"type\":\"choropleth\"}],\"contourcarpet\":[{\"colorbar\":{\"outlinewidth\":0,\"ticks\":\"\"},\"type\":\"contourcarpet\"}],\"contour\":[{\"colorbar\":{\"outlinewidth\":0,\"ticks\":\"\"},\"colorscale\":[[0.0,\"#0d0887\"],[0.1111111111111111,\"#46039f\"],[0.2222222222222222,\"#7201a8\"],[0.3333333333333333,\"#9c179e\"],[0.4444444444444444,\"#bd3786\"],[0.5555555555555556,\"#d8576b\"],[0.6666666666666666,\"#ed7953\"],[0.7777777777777778,\"#fb9f3a\"],[0.8888888888888888,\"#fdca26\"],[1.0,\"#f0f921\"]],\"type\":\"contour\"}],\"heatmapgl\":[{\"colorbar\":{\"outlinewidth\":0,\"ticks\":\"\"},\"colorscale\":[[0.0,\"#0d0887\"],[0.1111111111111111,\"#46039f\"],[0.2222222222222222,\"#7201a8\"],[0.3333333333333333,\"#9c179e\"],[0.4444444444444444,\"#bd3786\"],[0.5555555555555556,\"#d8576b\"],[0.6666666666666666,\"#ed7953\"],[0.7777777777777778,\"#fb9f3a\"],[0.8888888888888888,\"#fdca26\"],[1.0,\"#f0f921\"]],\"type\":\"heatmapgl\"}],\"heatmap\":[{\"colorbar\":{\"outlinewidth\":0,\"ticks\":\"\"},\"colorscale\":[[0.0,\"#0d0887\"],[0.1111111111111111,\"#46039f\"],[0.2222222222222222,\"#7201a8\"],[0.3333333333333333,\"#9c179e\"],[0.4444444444444444,\"#bd3786\"],[0.5555555555555556,\"#d8576b\"],[0.6666666666666666,\"#ed7953\"],[0.7777777777777778,\"#fb9f3a\"],[0.8888888888888888,\"#fdca26\"],[1.0,\"#f0f921\"]],\"type\":\"heatmap\"}],\"histogram2dcontour\":[{\"colorbar\":{\"outlinewidth\":0,\"ticks\":\"\"},\"colorscale\":[[0.0,\"#0d0887\"],[0.1111111111111111,\"#46039f\"],[0.2222222222222222,\"#7201a8\"],[0.3333333333333333,\"#9c179e\"],[0.4444444444444444,\"#bd3786\"],[0.5555555555555556,\"#d8576b\"],[0.6666666666666666,\"#ed7953\"],[0.7777777777777778,\"#fb9f3a\"],[0.8888888888888888,\"#fdca26\"],[1.0,\"#f0f921\"]],\"type\":\"histogram2dcontour\"}],\"histogram2d\":[{\"colorbar\":{\"outlinewidth\":0,\"ticks\":\"\"},\"colorscale\":[[0.0,\"#0d0887\"],[0.1111111111111111,\"#46039f\"],[0.2222222222222222,\"#7201a8\"],[0.3333333333333333,\"#9c179e\"],[0.4444444444444444,\"#bd3786\"],[0.5555555555555556,\"#d8576b\"],[0.6666666666666666,\"#ed7953\"],[0.7777777777777778,\"#fb9f3a\"],[0.8888888888888888,\"#fdca26\"],[1.0,\"#f0f921\"]],\"type\":\"histogram2d\"}],\"histogram\":[{\"marker\":{\"pattern\":{\"fillmode\":\"overlay\",\"size\":10,\"solidity\":0.2}},\"type\":\"histogram\"}],\"mesh3d\":[{\"colorbar\":{\"outlinewidth\":0,\"ticks\":\"\"},\"type\":\"mesh3d\"}],\"parcoords\":[{\"line\":{\"colorbar\":{\"outlinewidth\":0,\"ticks\":\"\"}},\"type\":\"parcoords\"}],\"pie\":[{\"automargin\":true,\"type\":\"pie\"}],\"scatter3d\":[{\"line\":{\"colorbar\":{\"outlinewidth\":0,\"ticks\":\"\"}},\"marker\":{\"colorbar\":{\"outlinewidth\":0,\"ticks\":\"\"}},\"type\":\"scatter3d\"}],\"scattercarpet\":[{\"marker\":{\"colorbar\":{\"outlinewidth\":0,\"ticks\":\"\"}},\"type\":\"scattercarpet\"}],\"scattergeo\":[{\"marker\":{\"colorbar\":{\"outlinewidth\":0,\"ticks\":\"\"}},\"type\":\"scattergeo\"}],\"scattergl\":[{\"marker\":{\"colorbar\":{\"outlinewidth\":0,\"ticks\":\"\"}},\"type\":\"scattergl\"}],\"scattermapbox\":[{\"marker\":{\"colorbar\":{\"outlinewidth\":0,\"ticks\":\"\"}},\"type\":\"scattermapbox\"}],\"scatterpolargl\":[{\"marker\":{\"colorbar\":{\"outlinewidth\":0,\"ticks\":\"\"}},\"type\":\"scatterpolargl\"}],\"scatterpolar\":[{\"marker\":{\"colorbar\":{\"outlinewidth\":0,\"ticks\":\"\"}},\"type\":\"scatterpolar\"}],\"scatter\":[{\"fillpattern\":{\"fillmode\":\"overlay\",\"size\":10,\"solidity\":0.2},\"type\":\"scatter\"}],\"scatterternary\":[{\"marker\":{\"colorbar\":{\"outlinewidth\":0,\"ticks\":\"\"}},\"type\":\"scatterternary\"}],\"surface\":[{\"colorbar\":{\"outlinewidth\":0,\"ticks\":\"\"},\"colorscale\":[[0.0,\"#0d0887\"],[0.1111111111111111,\"#46039f\"],[0.2222222222222222,\"#7201a8\"],[0.3333333333333333,\"#9c179e\"],[0.4444444444444444,\"#bd3786\"],[0.5555555555555556,\"#d8576b\"],[0.6666666666666666,\"#ed7953\"],[0.7777777777777778,\"#fb9f3a\"],[0.8888888888888888,\"#fdca26\"],[1.0,\"#f0f921\"]],\"type\":\"surface\"}],\"table\":[{\"cells\":{\"fill\":{\"color\":\"#EBF0F8\"},\"line\":{\"color\":\"white\"}},\"header\":{\"fill\":{\"color\":\"#C8D4E3\"},\"line\":{\"color\":\"white\"}},\"type\":\"table\"}]},\"layout\":{\"annotationdefaults\":{\"arrowcolor\":\"#2a3f5f\",\"arrowhead\":0,\"arrowwidth\":1},\"autotypenumbers\":\"strict\",\"coloraxis\":{\"colorbar\":{\"outlinewidth\":0,\"ticks\":\"\"}},\"colorscale\":{\"diverging\":[[0,\"#8e0152\"],[0.1,\"#c51b7d\"],[0.2,\"#de77ae\"],[0.3,\"#f1b6da\"],[0.4,\"#fde0ef\"],[0.5,\"#f7f7f7\"],[0.6,\"#e6f5d0\"],[0.7,\"#b8e186\"],[0.8,\"#7fbc41\"],[0.9,\"#4d9221\"],[1,\"#276419\"]],\"sequential\":[[0.0,\"#0d0887\"],[0.1111111111111111,\"#46039f\"],[0.2222222222222222,\"#7201a8\"],[0.3333333333333333,\"#9c179e\"],[0.4444444444444444,\"#bd3786\"],[0.5555555555555556,\"#d8576b\"],[0.6666666666666666,\"#ed7953\"],[0.7777777777777778,\"#fb9f3a\"],[0.8888888888888888,\"#fdca26\"],[1.0,\"#f0f921\"]],\"sequentialminus\":[[0.0,\"#0d0887\"],[0.1111111111111111,\"#46039f\"],[0.2222222222222222,\"#7201a8\"],[0.3333333333333333,\"#9c179e\"],[0.4444444444444444,\"#bd3786\"],[0.5555555555555556,\"#d8576b\"],[0.6666666666666666,\"#ed7953\"],[0.7777777777777778,\"#fb9f3a\"],[0.8888888888888888,\"#fdca26\"],[1.0,\"#f0f921\"]]},\"colorway\":[\"#636efa\",\"#EF553B\",\"#00cc96\",\"#ab63fa\",\"#FFA15A\",\"#19d3f3\",\"#FF6692\",\"#B6E880\",\"#FF97FF\",\"#FECB52\"],\"font\":{\"color\":\"#2a3f5f\"},\"geo\":{\"bgcolor\":\"white\",\"lakecolor\":\"white\",\"landcolor\":\"#E5ECF6\",\"showlakes\":true,\"showland\":true,\"subunitcolor\":\"white\"},\"hoverlabel\":{\"align\":\"left\"},\"hovermode\":\"closest\",\"mapbox\":{\"style\":\"light\"},\"paper_bgcolor\":\"white\",\"plot_bgcolor\":\"#E5ECF6\",\"polar\":{\"angularaxis\":{\"gridcolor\":\"white\",\"linecolor\":\"white\",\"ticks\":\"\"},\"bgcolor\":\"#E5ECF6\",\"radialaxis\":{\"gridcolor\":\"white\",\"linecolor\":\"white\",\"ticks\":\"\"}},\"scene\":{\"xaxis\":{\"backgroundcolor\":\"#E5ECF6\",\"gridcolor\":\"white\",\"gridwidth\":2,\"linecolor\":\"white\",\"showbackground\":true,\"ticks\":\"\",\"zerolinecolor\":\"white\"},\"yaxis\":{\"backgroundcolor\":\"#E5ECF6\",\"gridcolor\":\"white\",\"gridwidth\":2,\"linecolor\":\"white\",\"showbackground\":true,\"ticks\":\"\",\"zerolinecolor\":\"white\"},\"zaxis\":{\"backgroundcolor\":\"#E5ECF6\",\"gridcolor\":\"white\",\"gridwidth\":2,\"linecolor\":\"white\",\"showbackground\":true,\"ticks\":\"\",\"zerolinecolor\":\"white\"}},\"shapedefaults\":{\"line\":{\"color\":\"#2a3f5f\"}},\"ternary\":{\"aaxis\":{\"gridcolor\":\"white\",\"linecolor\":\"white\",\"ticks\":\"\"},\"baxis\":{\"gridcolor\":\"white\",\"linecolor\":\"white\",\"ticks\":\"\"},\"bgcolor\":\"#E5ECF6\",\"caxis\":{\"gridcolor\":\"white\",\"linecolor\":\"white\",\"ticks\":\"\"}},\"title\":{\"x\":0.05},\"xaxis\":{\"automargin\":true,\"gridcolor\":\"white\",\"linecolor\":\"white\",\"ticks\":\"\",\"title\":{\"standoff\":15},\"zerolinecolor\":\"white\",\"zerolinewidth\":2},\"yaxis\":{\"automargin\":true,\"gridcolor\":\"white\",\"linecolor\":\"white\",\"ticks\":\"\",\"title\":{\"standoff\":15},\"zerolinecolor\":\"white\",\"zerolinewidth\":2}}},\"title\":{\"font\":{\"color\":\"#4D5663\"}},\"xaxis\":{\"gridcolor\":\"#E1E5ED\",\"showgrid\":true,\"tickfont\":{\"color\":\"#4D5663\"},\"title\":{\"font\":{\"color\":\"#4D5663\"},\"text\":\"\"},\"zerolinecolor\":\"#E1E5ED\"},\"yaxis\":{\"gridcolor\":\"#E1E5ED\",\"showgrid\":true,\"tickfont\":{\"color\":\"#4D5663\"},\"title\":{\"font\":{\"color\":\"#4D5663\"},\"text\":\"\"},\"zerolinecolor\":\"#E1E5ED\"}},                        {\"showLink\": true, \"linkText\": \"Export to plot.ly\", \"plotlyServerURL\": \"https://plot.ly\", \"responsive\": true}                    ).then(function(){\n",
       "                            \n",
       "var gd = document.getElementById('6019821c-67d3-46ed-95b4-fe5dd5b6b029');\n",
       "var x = new MutationObserver(function (mutations, observer) {{\n",
       "        var display = window.getComputedStyle(gd).display;\n",
       "        if (!display || display === 'none') {{\n",
       "            console.log([gd, 'removed!']);\n",
       "            Plotly.purge(gd);\n",
       "            observer.disconnect();\n",
       "        }}\n",
       "}});\n",
       "\n",
       "// Listen for the removal of the full notebook cells\n",
       "var notebookContainer = gd.closest('#notebook-container');\n",
       "if (notebookContainer) {{\n",
       "    x.observe(notebookContainer, {childList: true});\n",
       "}}\n",
       "\n",
       "// Listen for the clearing of the current output cell\n",
       "var outputEl = gd.closest('.output');\n",
       "if (outputEl) {{\n",
       "    x.observe(outputEl, {childList: true});\n",
       "}}\n",
       "\n",
       "                        })                };                });            </script>        </div>"
      ]
     },
     "metadata": {},
     "output_type": "display_data"
    }
   ],
   "source": [
    "df.iplot(kind='hist')"
   ]
  },
  {
   "cell_type": "markdown",
   "metadata": {},
   "source": [
    "## scatter_matrix()\n",
    "\n",
    "Similar to sns.pairplot()"
   ]
  },
  {
   "cell_type": "code",
   "execution_count": 18,
   "metadata": {},
   "outputs": [
    {
     "data": {
      "application/vnd.plotly.v1+json": {
       "config": {
        "linkText": "Export to plot.ly",
        "plotlyServerURL": "https://plot.ly",
        "showLink": true
       },
       "data": [
        {
         "histfunc": "count",
         "histnorm": "",
         "marker": {
          "color": "rgba(255, 153, 51, 1.0)",
          "line": {
           "color": "#4D5663",
           "width": 1.3
          }
         },
         "name": "A",
         "nbinsx": 10,
         "opacity": 0.8,
         "orientation": "v",
         "type": "histogram",
         "x": [
          0.5270350517910259,
          0.8072417761741204,
          1.1392313016357698,
          -0.26096404113916827,
          0.6926958204203916,
          0.9920051309969496,
          -0.11703426105936891,
          0.1772112230298288,
          -1.546858677607195,
          -2.12578011605067,
          -0.6668762349299929,
          -0.6859473345004385,
          -0.06517967932935818,
          1.509878948316418,
          -1.8327579596743897,
          0.006271054192142402,
          0.3414994082440188,
          0.9963915461590376,
          -0.6921272019494343,
          1.5772536578772964,
          -0.5557862878321287,
          -2.017935639740841,
          -1.1628872083088297,
          0.7367687289628784,
          0.9861800715940734,
          0.6246167005591827,
          -1.9474893936892852,
          1.514648850869348,
          -1.0370802434215016,
          0.9528204965997727,
          1.3086341505647139,
          -0.8999610192720289,
          -0.8274926084715756,
          0.23144826433866572,
          -0.8844009286812917,
          -1.0089518557682686,
          0.6932773742180772,
          1.0061969073018957,
          1.092431285788773,
          1.1045108225684144,
          -1.2769047407707261,
          1.054723907960595,
          -1.424470905566255,
          0.8213992840984147,
          0.6508352767197153,
          0.7329958919606228,
          -1.103247067925494,
          0.601973655750255,
          0.2411701647259433,
          0.7332646418151118,
          -0.4867885879627209,
          -1.2441969273967537,
          1.6754209142406766,
          -0.32039696502661236,
          1.1215309278302448,
          -1.3886324130968108,
          1.0143521438152425,
          -0.5068577869406047,
          -0.18319072282702112,
          0.012500231010309247,
          0.40854877825819697,
          1.8258137915196166,
          1.6461587266463735,
          -1.8705116276819005,
          1.5285251703518656,
          -0.6037446546192259,
          -0.5813250501397086,
          -1.4794730914628256,
          -1.0238816124476313,
          -2.739929363797368,
          1.0552377958437529,
          -1.5351435511108646,
          -1.7843905685681465,
          -0.28256426488536146,
          -0.3577831692789127,
          -0.3368682486926556,
          -0.6688560865867158,
          0.07685974077155044,
          -1.1543438385075415,
          -0.21220970437488415,
          -1.1771975886707862,
          0.4219558757493188,
          -0.4448033818296801,
          0.3241897943873185,
          0.46323398510899855,
          -2.5752791645582294,
          -1.3442022736781003,
          1.706852734553487,
          -0.2889523856225487,
          0.6976631999888713,
          -1.0146863195520115,
          -0.7524830335894936,
          -0.342321697117499,
          -0.414428719259938,
          1.26844070572974,
          -0.1096357311371834,
          0.47694159897509,
          -0.1877913031971587,
          -0.22201392254173058,
          1.4363529412819034
         ],
         "xaxis": "x",
         "yaxis": "y"
        },
        {
         "line": {
          "color": "rgba(128, 128, 128, 1.0)",
          "dash": "solid",
          "shape": "linear",
          "width": 1.3
         },
         "marker": {
          "size": 2,
          "symbol": "circle"
         },
         "mode": "markers",
         "name": "A",
         "text": "",
         "type": "scatter",
         "x": [
          -0.3573371322445269,
          -0.7954803660541344,
          -0.23383688048364987,
          -1.4689616392588782,
          0.537737290574604,
          -0.05179186032217305,
          1.1542428711277914,
          1.2733915245654719,
          0.6223971458964284,
          1.7660185634710133,
          -0.4248669150760995,
          0.6103571241821237,
          -0.4060266583344734,
          -0.34083406057226867,
          1.0457488946748692,
          0.16181416390983103,
          1.9322396713416716,
          1.8553521700780675,
          0.07955584163522861,
          -0.1574334729496121,
          -0.6833826482122404,
          -1.1980781090912365,
          -0.9053129632827271,
          -0.2145284338421415,
          -0.050637435429454376,
          -0.5458995868568157,
          -0.5726021831051272,
          0.03824973522765993,
          -0.617215839868082,
          -0.4570865099864727,
          1.4409852198056514,
          -1.9590013257555352,
          -0.5205643338706631,
          0.5938850164555284,
          0.46474974157386184,
          0.7882569264403052,
          0.024094991915381028,
          -1.4577162082850728,
          0.07561423667063542,
          -1.2001222092639914,
          0.7541788380651747,
          -0.24595719786258077,
          0.21254927464469472,
          -0.49310287074353265,
          -0.6707348435998824,
          -0.8367506132618868,
          0.44657092371361706,
          0.16521007038945787,
          0.3801082461965531,
          -0.7055556233504856,
          0.9365054887186388,
          0.3927142752274356,
          0.2990646831914984,
          0.5882157939174921,
          -0.6027841469280251,
          0.5109916821229135,
          -0.7059286693013546,
          -1.1250070453809728,
          0.3114178659387146,
          0.16637813506466545,
          -0.5573233254530179,
          -0.6326873498471812,
          -1.0807829905528308,
          -0.3976740103682822,
          -0.19283456701847768,
          -0.36007121436303724,
          -0.3470273779456088,
          -0.9597181464851905,
          1.066691240020702,
          0.9136225090209719,
          1.3101158716194419,
          -0.9085927744857276,
          -1.5561141030386398,
          0.688253431236142,
          -0.04912350342079393,
          0.0877282049928525,
          -1.1558341775294163,
          0.8469784835212012,
          -0.9074209290923171,
          -0.13420252879010483,
          -0.913883998790638,
          0.6794092228773175,
          -0.20344922901598547,
          1.0574595072611443,
          -1.4223714743297229,
          -1.9454108161259374,
          1.1376563393228913,
          -0.8629420319001743,
          -0.8272461902066471,
          -0.38017293677999786,
          0.8729160577567565,
          0.918135871563344,
          -0.22959205957453752,
          -1.0789951244840297,
          -2.2451156390336293,
          -0.46859350017118706,
          -1.5626645877329906,
          -0.6218078841153108,
          0.08863756424389115,
          -1.377863557567499
         ],
         "xaxis": "x2",
         "y": [
          0.5270350517910259,
          0.8072417761741204,
          1.1392313016357698,
          -0.26096404113916827,
          0.6926958204203916,
          0.9920051309969496,
          -0.11703426105936891,
          0.1772112230298288,
          -1.546858677607195,
          -2.12578011605067,
          -0.6668762349299929,
          -0.6859473345004385,
          -0.06517967932935818,
          1.509878948316418,
          -1.8327579596743897,
          0.006271054192142402,
          0.3414994082440188,
          0.9963915461590376,
          -0.6921272019494343,
          1.5772536578772964,
          -0.5557862878321287,
          -2.017935639740841,
          -1.1628872083088297,
          0.7367687289628784,
          0.9861800715940734,
          0.6246167005591827,
          -1.9474893936892852,
          1.514648850869348,
          -1.0370802434215016,
          0.9528204965997727,
          1.3086341505647139,
          -0.8999610192720289,
          -0.8274926084715756,
          0.23144826433866572,
          -0.8844009286812917,
          -1.0089518557682686,
          0.6932773742180772,
          1.0061969073018957,
          1.092431285788773,
          1.1045108225684144,
          -1.2769047407707261,
          1.054723907960595,
          -1.424470905566255,
          0.8213992840984147,
          0.6508352767197153,
          0.7329958919606228,
          -1.103247067925494,
          0.601973655750255,
          0.2411701647259433,
          0.7332646418151118,
          -0.4867885879627209,
          -1.2441969273967537,
          1.6754209142406766,
          -0.32039696502661236,
          1.1215309278302448,
          -1.3886324130968108,
          1.0143521438152425,
          -0.5068577869406047,
          -0.18319072282702112,
          0.012500231010309247,
          0.40854877825819697,
          1.8258137915196166,
          1.6461587266463735,
          -1.8705116276819005,
          1.5285251703518656,
          -0.6037446546192259,
          -0.5813250501397086,
          -1.4794730914628256,
          -1.0238816124476313,
          -2.739929363797368,
          1.0552377958437529,
          -1.5351435511108646,
          -1.7843905685681465,
          -0.28256426488536146,
          -0.3577831692789127,
          -0.3368682486926556,
          -0.6688560865867158,
          0.07685974077155044,
          -1.1543438385075415,
          -0.21220970437488415,
          -1.1771975886707862,
          0.4219558757493188,
          -0.4448033818296801,
          0.3241897943873185,
          0.46323398510899855,
          -2.5752791645582294,
          -1.3442022736781003,
          1.706852734553487,
          -0.2889523856225487,
          0.6976631999888713,
          -1.0146863195520115,
          -0.7524830335894936,
          -0.342321697117499,
          -0.414428719259938,
          1.26844070572974,
          -0.1096357311371834,
          0.47694159897509,
          -0.1877913031971587,
          -0.22201392254173058,
          1.4363529412819034
         ],
         "yaxis": "y2"
        },
        {
         "line": {
          "color": "rgba(128, 128, 128, 1.0)",
          "dash": "solid",
          "shape": "linear",
          "width": 1.3
         },
         "marker": {
          "size": 2,
          "symbol": "circle"
         },
         "mode": "markers",
         "name": "A",
         "text": "",
         "type": "scatter",
         "x": [
          0.4584505556547366,
          -1.355759907492626,
          -0.9509242523689222,
          -0.0131735240869676,
          -1.2668782856775764,
          -1.2243906645476763,
          -0.6381192197263483,
          -0.5436333333743834,
          -0.19306737155361317,
          -1.5050038180863239,
          -0.09217541167291504,
          -0.2870761574109859,
          -0.027109426002290424,
          -0.4821753666043871,
          0.5197895844807667,
          -1.5435011910360992,
          -0.1532171962843395,
          0.19221442299809516,
          1.6829004589500716,
          1.7827277657527965,
          -0.5759683053021424,
          -0.2056844152798431,
          1.1837528023679855,
          0.4550449590753043,
          -1.340467259415179,
          1.1220501307061408,
          1.527045816107696,
          0.7352930438752754,
          -0.33278393449051086,
          0.96464746058435,
          0.3809277939425206,
          -0.13829687429463314,
          0.7736968972661555,
          -1.5681141892234975,
          -0.09055566289186763,
          0.8425683793972419,
          -0.04371116808137712,
          -0.1568752750128221,
          0.0969846556376833,
          1.1154110497870993,
          0.0326989265064,
          -1.375691497499252,
          0.11323883862831831,
          -0.1265521103778363,
          0.8593750505395408,
          0.08754139347705762,
          0.3042926798516024,
          0.33416306528344336,
          1.023778135599816,
          0.9830038717298408,
          0.24858331667601347,
          -0.40864882613789666,
          1.991676086032405,
          -0.23733140978395745,
          -1.5753553993293385,
          0.3006659689825678,
          0.8960856184689652,
          0.6859968375442339,
          2.6283658707522237,
          -0.8285506771225467,
          -0.663341972805794,
          0.7318994775648154,
          0.3286997591793689,
          -0.6414273278308326,
          -1.3313039283715737,
          -1.7932200414655362,
          -0.5935692770246527,
          -0.496620849174363,
          2.0675012677514526,
          0.31904792947433325,
          2.853655976993376,
          1.5164837831641964,
          0.08676150084539137,
          0.7800111445973753,
          1.03692530402091,
          0.7557529745512395,
          -0.3399967573791637,
          -0.5597080738873084,
          0.3986459378093854,
          1.853578424951002,
          0.09042379354775373,
          -2.0519673794202595,
          0.1310270556830349,
          1.3709195760323136,
          0.3922390921516855,
          -0.5940809548472152,
          0.013693855794778383,
          -0.3612241395295903,
          2.122065766506009,
          0.30983463016779744,
          0.5884851198214166,
          -0.9671532453141337,
          0.8241324017362862,
          0.862316253761791,
          0.0431544660219074,
          -0.06485888359874721,
          -0.5339701700509776,
          0.5727835618955416,
          0.0015586865735916788,
          -1.3479478739832138
         ],
         "xaxis": "x3",
         "y": [
          0.5270350517910259,
          0.8072417761741204,
          1.1392313016357698,
          -0.26096404113916827,
          0.6926958204203916,
          0.9920051309969496,
          -0.11703426105936891,
          0.1772112230298288,
          -1.546858677607195,
          -2.12578011605067,
          -0.6668762349299929,
          -0.6859473345004385,
          -0.06517967932935818,
          1.509878948316418,
          -1.8327579596743897,
          0.006271054192142402,
          0.3414994082440188,
          0.9963915461590376,
          -0.6921272019494343,
          1.5772536578772964,
          -0.5557862878321287,
          -2.017935639740841,
          -1.1628872083088297,
          0.7367687289628784,
          0.9861800715940734,
          0.6246167005591827,
          -1.9474893936892852,
          1.514648850869348,
          -1.0370802434215016,
          0.9528204965997727,
          1.3086341505647139,
          -0.8999610192720289,
          -0.8274926084715756,
          0.23144826433866572,
          -0.8844009286812917,
          -1.0089518557682686,
          0.6932773742180772,
          1.0061969073018957,
          1.092431285788773,
          1.1045108225684144,
          -1.2769047407707261,
          1.054723907960595,
          -1.424470905566255,
          0.8213992840984147,
          0.6508352767197153,
          0.7329958919606228,
          -1.103247067925494,
          0.601973655750255,
          0.2411701647259433,
          0.7332646418151118,
          -0.4867885879627209,
          -1.2441969273967537,
          1.6754209142406766,
          -0.32039696502661236,
          1.1215309278302448,
          -1.3886324130968108,
          1.0143521438152425,
          -0.5068577869406047,
          -0.18319072282702112,
          0.012500231010309247,
          0.40854877825819697,
          1.8258137915196166,
          1.6461587266463735,
          -1.8705116276819005,
          1.5285251703518656,
          -0.6037446546192259,
          -0.5813250501397086,
          -1.4794730914628256,
          -1.0238816124476313,
          -2.739929363797368,
          1.0552377958437529,
          -1.5351435511108646,
          -1.7843905685681465,
          -0.28256426488536146,
          -0.3577831692789127,
          -0.3368682486926556,
          -0.6688560865867158,
          0.07685974077155044,
          -1.1543438385075415,
          -0.21220970437488415,
          -1.1771975886707862,
          0.4219558757493188,
          -0.4448033818296801,
          0.3241897943873185,
          0.46323398510899855,
          -2.5752791645582294,
          -1.3442022736781003,
          1.706852734553487,
          -0.2889523856225487,
          0.6976631999888713,
          -1.0146863195520115,
          -0.7524830335894936,
          -0.342321697117499,
          -0.414428719259938,
          1.26844070572974,
          -0.1096357311371834,
          0.47694159897509,
          -0.1877913031971587,
          -0.22201392254173058,
          1.4363529412819034
         ],
         "yaxis": "y3"
        },
        {
         "line": {
          "color": "rgba(128, 128, 128, 1.0)",
          "dash": "solid",
          "shape": "linear",
          "width": 1.3
         },
         "marker": {
          "size": 2,
          "symbol": "circle"
         },
         "mode": "markers",
         "name": "A",
         "text": "",
         "type": "scatter",
         "x": [
          0.02387095975750891,
          -0.11606270474382845,
          -1.1415131954077733,
          0.8403513535467135,
          0.5276599881343238,
          -0.11891503715225887,
          -1.4407425924068988,
          -0.020793684915744876,
          -1.1676150844952335,
          -1.234060260686417,
          -2.0770740329242328,
          1.6166710351726927,
          0.9708306919647921,
          0.2792704987633396,
          -1.9202604526861047,
          -0.2988362843367368,
          -0.3558536797190755,
          -0.09365770273032371,
          -1.580969468829377,
          0.8552826440084819,
          1.5421142045913974,
          -0.43704121716842387,
          0.01482115890763024,
          0.5643524040633793,
          0.050801646826494795,
          0.11508489546061638,
          -1.271769562960929,
          0.8225851675031259,
          -0.5122222951533912,
          -0.2208509296561825,
          1.0947510016357487,
          0.4116333504033674,
          2.119990580852485,
          -1.1670301730088755,
          -1.4248710165443172,
          0.0089414042080053,
          1.8465500334894767,
          -0.08443143483715851,
          -0.8014749052591004,
          1.3180195354119786,
          -0.6977304459470564,
          1.006816218542904,
          0.045441574866400276,
          -1.2538553339757075,
          -0.905292883358867,
          -1.174293868102388,
          -0.17586256772486136,
          -1.4508632246798647,
          -0.34720705670834073,
          0.7015056159804889,
          -0.06633764356444732,
          -0.35762857517150526,
          -0.13303566286275423,
          -0.2917068052578637,
          1.3309447828567855,
          0.529638075869884,
          -0.9961521943956223,
          0.8271829335908373,
          -1.573459137066797,
          -0.1754008772182543,
          0.7079553812048236,
          1.08194221950866,
          -1.4556892820956553,
          0.5966501657415297,
          -1.7036913081553566,
          1.1424442870205669,
          0.1225499132212124,
          0.42230163510717733,
          1.2578518066587125,
          1.3137164136996544,
          0.11755659747457874,
          -0.9443611100112794,
          0.07287492232967667,
          1.1626138659501972,
          0.7615470426582388,
          1.1893807011883775,
          -0.5726342786559914,
          0.24536605864017702,
          0.6800676679860762,
          -0.2397332660647786,
          2.503249296390802,
          0.5932820955428155,
          -0.030340688713944065,
          -0.993600587275602,
          0.8898367016735991,
          -0.9819923012333851,
          1.1192079468190357,
          0.09786057126706922,
          0.11320762328465832,
          1.1961353751277923,
          -0.2851771780454916,
          0.009790042253053683,
          1.6776118927226216,
          0.6537812961358346,
          -0.5085543086461852,
          2.261792750089865,
          0.3320149307082757,
          -0.3909195340128025,
          1.2472924965267755,
          1.311846235635573
         ],
         "xaxis": "x4",
         "y": [
          0.5270350517910259,
          0.8072417761741204,
          1.1392313016357698,
          -0.26096404113916827,
          0.6926958204203916,
          0.9920051309969496,
          -0.11703426105936891,
          0.1772112230298288,
          -1.546858677607195,
          -2.12578011605067,
          -0.6668762349299929,
          -0.6859473345004385,
          -0.06517967932935818,
          1.509878948316418,
          -1.8327579596743897,
          0.006271054192142402,
          0.3414994082440188,
          0.9963915461590376,
          -0.6921272019494343,
          1.5772536578772964,
          -0.5557862878321287,
          -2.017935639740841,
          -1.1628872083088297,
          0.7367687289628784,
          0.9861800715940734,
          0.6246167005591827,
          -1.9474893936892852,
          1.514648850869348,
          -1.0370802434215016,
          0.9528204965997727,
          1.3086341505647139,
          -0.8999610192720289,
          -0.8274926084715756,
          0.23144826433866572,
          -0.8844009286812917,
          -1.0089518557682686,
          0.6932773742180772,
          1.0061969073018957,
          1.092431285788773,
          1.1045108225684144,
          -1.2769047407707261,
          1.054723907960595,
          -1.424470905566255,
          0.8213992840984147,
          0.6508352767197153,
          0.7329958919606228,
          -1.103247067925494,
          0.601973655750255,
          0.2411701647259433,
          0.7332646418151118,
          -0.4867885879627209,
          -1.2441969273967537,
          1.6754209142406766,
          -0.32039696502661236,
          1.1215309278302448,
          -1.3886324130968108,
          1.0143521438152425,
          -0.5068577869406047,
          -0.18319072282702112,
          0.012500231010309247,
          0.40854877825819697,
          1.8258137915196166,
          1.6461587266463735,
          -1.8705116276819005,
          1.5285251703518656,
          -0.6037446546192259,
          -0.5813250501397086,
          -1.4794730914628256,
          -1.0238816124476313,
          -2.739929363797368,
          1.0552377958437529,
          -1.5351435511108646,
          -1.7843905685681465,
          -0.28256426488536146,
          -0.3577831692789127,
          -0.3368682486926556,
          -0.6688560865867158,
          0.07685974077155044,
          -1.1543438385075415,
          -0.21220970437488415,
          -1.1771975886707862,
          0.4219558757493188,
          -0.4448033818296801,
          0.3241897943873185,
          0.46323398510899855,
          -2.5752791645582294,
          -1.3442022736781003,
          1.706852734553487,
          -0.2889523856225487,
          0.6976631999888713,
          -1.0146863195520115,
          -0.7524830335894936,
          -0.342321697117499,
          -0.414428719259938,
          1.26844070572974,
          -0.1096357311371834,
          0.47694159897509,
          -0.1877913031971587,
          -0.22201392254173058,
          1.4363529412819034
         ],
         "yaxis": "y4"
        },
        {
         "line": {
          "color": "rgba(128, 128, 128, 1.0)",
          "dash": "solid",
          "shape": "linear",
          "width": 1.3
         },
         "marker": {
          "size": 2,
          "symbol": "circle"
         },
         "mode": "markers",
         "name": "B",
         "text": "",
         "type": "scatter",
         "x": [
          0.5270350517910259,
          0.8072417761741204,
          1.1392313016357698,
          -0.26096404113916827,
          0.6926958204203916,
          0.9920051309969496,
          -0.11703426105936891,
          0.1772112230298288,
          -1.546858677607195,
          -2.12578011605067,
          -0.6668762349299929,
          -0.6859473345004385,
          -0.06517967932935818,
          1.509878948316418,
          -1.8327579596743897,
          0.006271054192142402,
          0.3414994082440188,
          0.9963915461590376,
          -0.6921272019494343,
          1.5772536578772964,
          -0.5557862878321287,
          -2.017935639740841,
          -1.1628872083088297,
          0.7367687289628784,
          0.9861800715940734,
          0.6246167005591827,
          -1.9474893936892852,
          1.514648850869348,
          -1.0370802434215016,
          0.9528204965997727,
          1.3086341505647139,
          -0.8999610192720289,
          -0.8274926084715756,
          0.23144826433866572,
          -0.8844009286812917,
          -1.0089518557682686,
          0.6932773742180772,
          1.0061969073018957,
          1.092431285788773,
          1.1045108225684144,
          -1.2769047407707261,
          1.054723907960595,
          -1.424470905566255,
          0.8213992840984147,
          0.6508352767197153,
          0.7329958919606228,
          -1.103247067925494,
          0.601973655750255,
          0.2411701647259433,
          0.7332646418151118,
          -0.4867885879627209,
          -1.2441969273967537,
          1.6754209142406766,
          -0.32039696502661236,
          1.1215309278302448,
          -1.3886324130968108,
          1.0143521438152425,
          -0.5068577869406047,
          -0.18319072282702112,
          0.012500231010309247,
          0.40854877825819697,
          1.8258137915196166,
          1.6461587266463735,
          -1.8705116276819005,
          1.5285251703518656,
          -0.6037446546192259,
          -0.5813250501397086,
          -1.4794730914628256,
          -1.0238816124476313,
          -2.739929363797368,
          1.0552377958437529,
          -1.5351435511108646,
          -1.7843905685681465,
          -0.28256426488536146,
          -0.3577831692789127,
          -0.3368682486926556,
          -0.6688560865867158,
          0.07685974077155044,
          -1.1543438385075415,
          -0.21220970437488415,
          -1.1771975886707862,
          0.4219558757493188,
          -0.4448033818296801,
          0.3241897943873185,
          0.46323398510899855,
          -2.5752791645582294,
          -1.3442022736781003,
          1.706852734553487,
          -0.2889523856225487,
          0.6976631999888713,
          -1.0146863195520115,
          -0.7524830335894936,
          -0.342321697117499,
          -0.414428719259938,
          1.26844070572974,
          -0.1096357311371834,
          0.47694159897509,
          -0.1877913031971587,
          -0.22201392254173058,
          1.4363529412819034
         ],
         "xaxis": "x5",
         "y": [
          -0.3573371322445269,
          -0.7954803660541344,
          -0.23383688048364987,
          -1.4689616392588782,
          0.537737290574604,
          -0.05179186032217305,
          1.1542428711277914,
          1.2733915245654719,
          0.6223971458964284,
          1.7660185634710133,
          -0.4248669150760995,
          0.6103571241821237,
          -0.4060266583344734,
          -0.34083406057226867,
          1.0457488946748692,
          0.16181416390983103,
          1.9322396713416716,
          1.8553521700780675,
          0.07955584163522861,
          -0.1574334729496121,
          -0.6833826482122404,
          -1.1980781090912365,
          -0.9053129632827271,
          -0.2145284338421415,
          -0.050637435429454376,
          -0.5458995868568157,
          -0.5726021831051272,
          0.03824973522765993,
          -0.617215839868082,
          -0.4570865099864727,
          1.4409852198056514,
          -1.9590013257555352,
          -0.5205643338706631,
          0.5938850164555284,
          0.46474974157386184,
          0.7882569264403052,
          0.024094991915381028,
          -1.4577162082850728,
          0.07561423667063542,
          -1.2001222092639914,
          0.7541788380651747,
          -0.24595719786258077,
          0.21254927464469472,
          -0.49310287074353265,
          -0.6707348435998824,
          -0.8367506132618868,
          0.44657092371361706,
          0.16521007038945787,
          0.3801082461965531,
          -0.7055556233504856,
          0.9365054887186388,
          0.3927142752274356,
          0.2990646831914984,
          0.5882157939174921,
          -0.6027841469280251,
          0.5109916821229135,
          -0.7059286693013546,
          -1.1250070453809728,
          0.3114178659387146,
          0.16637813506466545,
          -0.5573233254530179,
          -0.6326873498471812,
          -1.0807829905528308,
          -0.3976740103682822,
          -0.19283456701847768,
          -0.36007121436303724,
          -0.3470273779456088,
          -0.9597181464851905,
          1.066691240020702,
          0.9136225090209719,
          1.3101158716194419,
          -0.9085927744857276,
          -1.5561141030386398,
          0.688253431236142,
          -0.04912350342079393,
          0.0877282049928525,
          -1.1558341775294163,
          0.8469784835212012,
          -0.9074209290923171,
          -0.13420252879010483,
          -0.913883998790638,
          0.6794092228773175,
          -0.20344922901598547,
          1.0574595072611443,
          -1.4223714743297229,
          -1.9454108161259374,
          1.1376563393228913,
          -0.8629420319001743,
          -0.8272461902066471,
          -0.38017293677999786,
          0.8729160577567565,
          0.918135871563344,
          -0.22959205957453752,
          -1.0789951244840297,
          -2.2451156390336293,
          -0.46859350017118706,
          -1.5626645877329906,
          -0.6218078841153108,
          0.08863756424389115,
          -1.377863557567499
         ],
         "yaxis": "y5"
        },
        {
         "histfunc": "count",
         "histnorm": "",
         "marker": {
          "color": "rgba(55, 128, 191, 1.0)",
          "line": {
           "color": "#4D5663",
           "width": 1.3
          }
         },
         "name": "B",
         "nbinsx": 10,
         "opacity": 0.8,
         "orientation": "v",
         "type": "histogram",
         "x": [
          -0.3573371322445269,
          -0.7954803660541344,
          -0.23383688048364987,
          -1.4689616392588782,
          0.537737290574604,
          -0.05179186032217305,
          1.1542428711277914,
          1.2733915245654719,
          0.6223971458964284,
          1.7660185634710133,
          -0.4248669150760995,
          0.6103571241821237,
          -0.4060266583344734,
          -0.34083406057226867,
          1.0457488946748692,
          0.16181416390983103,
          1.9322396713416716,
          1.8553521700780675,
          0.07955584163522861,
          -0.1574334729496121,
          -0.6833826482122404,
          -1.1980781090912365,
          -0.9053129632827271,
          -0.2145284338421415,
          -0.050637435429454376,
          -0.5458995868568157,
          -0.5726021831051272,
          0.03824973522765993,
          -0.617215839868082,
          -0.4570865099864727,
          1.4409852198056514,
          -1.9590013257555352,
          -0.5205643338706631,
          0.5938850164555284,
          0.46474974157386184,
          0.7882569264403052,
          0.024094991915381028,
          -1.4577162082850728,
          0.07561423667063542,
          -1.2001222092639914,
          0.7541788380651747,
          -0.24595719786258077,
          0.21254927464469472,
          -0.49310287074353265,
          -0.6707348435998824,
          -0.8367506132618868,
          0.44657092371361706,
          0.16521007038945787,
          0.3801082461965531,
          -0.7055556233504856,
          0.9365054887186388,
          0.3927142752274356,
          0.2990646831914984,
          0.5882157939174921,
          -0.6027841469280251,
          0.5109916821229135,
          -0.7059286693013546,
          -1.1250070453809728,
          0.3114178659387146,
          0.16637813506466545,
          -0.5573233254530179,
          -0.6326873498471812,
          -1.0807829905528308,
          -0.3976740103682822,
          -0.19283456701847768,
          -0.36007121436303724,
          -0.3470273779456088,
          -0.9597181464851905,
          1.066691240020702,
          0.9136225090209719,
          1.3101158716194419,
          -0.9085927744857276,
          -1.5561141030386398,
          0.688253431236142,
          -0.04912350342079393,
          0.0877282049928525,
          -1.1558341775294163,
          0.8469784835212012,
          -0.9074209290923171,
          -0.13420252879010483,
          -0.913883998790638,
          0.6794092228773175,
          -0.20344922901598547,
          1.0574595072611443,
          -1.4223714743297229,
          -1.9454108161259374,
          1.1376563393228913,
          -0.8629420319001743,
          -0.8272461902066471,
          -0.38017293677999786,
          0.8729160577567565,
          0.918135871563344,
          -0.22959205957453752,
          -1.0789951244840297,
          -2.2451156390336293,
          -0.46859350017118706,
          -1.5626645877329906,
          -0.6218078841153108,
          0.08863756424389115,
          -1.377863557567499
         ],
         "xaxis": "x6",
         "yaxis": "y6"
        },
        {
         "line": {
          "color": "rgba(128, 128, 128, 1.0)",
          "dash": "solid",
          "shape": "linear",
          "width": 1.3
         },
         "marker": {
          "size": 2,
          "symbol": "circle"
         },
         "mode": "markers",
         "name": "B",
         "text": "",
         "type": "scatter",
         "x": [
          0.4584505556547366,
          -1.355759907492626,
          -0.9509242523689222,
          -0.0131735240869676,
          -1.2668782856775764,
          -1.2243906645476763,
          -0.6381192197263483,
          -0.5436333333743834,
          -0.19306737155361317,
          -1.5050038180863239,
          -0.09217541167291504,
          -0.2870761574109859,
          -0.027109426002290424,
          -0.4821753666043871,
          0.5197895844807667,
          -1.5435011910360992,
          -0.1532171962843395,
          0.19221442299809516,
          1.6829004589500716,
          1.7827277657527965,
          -0.5759683053021424,
          -0.2056844152798431,
          1.1837528023679855,
          0.4550449590753043,
          -1.340467259415179,
          1.1220501307061408,
          1.527045816107696,
          0.7352930438752754,
          -0.33278393449051086,
          0.96464746058435,
          0.3809277939425206,
          -0.13829687429463314,
          0.7736968972661555,
          -1.5681141892234975,
          -0.09055566289186763,
          0.8425683793972419,
          -0.04371116808137712,
          -0.1568752750128221,
          0.0969846556376833,
          1.1154110497870993,
          0.0326989265064,
          -1.375691497499252,
          0.11323883862831831,
          -0.1265521103778363,
          0.8593750505395408,
          0.08754139347705762,
          0.3042926798516024,
          0.33416306528344336,
          1.023778135599816,
          0.9830038717298408,
          0.24858331667601347,
          -0.40864882613789666,
          1.991676086032405,
          -0.23733140978395745,
          -1.5753553993293385,
          0.3006659689825678,
          0.8960856184689652,
          0.6859968375442339,
          2.6283658707522237,
          -0.8285506771225467,
          -0.663341972805794,
          0.7318994775648154,
          0.3286997591793689,
          -0.6414273278308326,
          -1.3313039283715737,
          -1.7932200414655362,
          -0.5935692770246527,
          -0.496620849174363,
          2.0675012677514526,
          0.31904792947433325,
          2.853655976993376,
          1.5164837831641964,
          0.08676150084539137,
          0.7800111445973753,
          1.03692530402091,
          0.7557529745512395,
          -0.3399967573791637,
          -0.5597080738873084,
          0.3986459378093854,
          1.853578424951002,
          0.09042379354775373,
          -2.0519673794202595,
          0.1310270556830349,
          1.3709195760323136,
          0.3922390921516855,
          -0.5940809548472152,
          0.013693855794778383,
          -0.3612241395295903,
          2.122065766506009,
          0.30983463016779744,
          0.5884851198214166,
          -0.9671532453141337,
          0.8241324017362862,
          0.862316253761791,
          0.0431544660219074,
          -0.06485888359874721,
          -0.5339701700509776,
          0.5727835618955416,
          0.0015586865735916788,
          -1.3479478739832138
         ],
         "xaxis": "x7",
         "y": [
          -0.3573371322445269,
          -0.7954803660541344,
          -0.23383688048364987,
          -1.4689616392588782,
          0.537737290574604,
          -0.05179186032217305,
          1.1542428711277914,
          1.2733915245654719,
          0.6223971458964284,
          1.7660185634710133,
          -0.4248669150760995,
          0.6103571241821237,
          -0.4060266583344734,
          -0.34083406057226867,
          1.0457488946748692,
          0.16181416390983103,
          1.9322396713416716,
          1.8553521700780675,
          0.07955584163522861,
          -0.1574334729496121,
          -0.6833826482122404,
          -1.1980781090912365,
          -0.9053129632827271,
          -0.2145284338421415,
          -0.050637435429454376,
          -0.5458995868568157,
          -0.5726021831051272,
          0.03824973522765993,
          -0.617215839868082,
          -0.4570865099864727,
          1.4409852198056514,
          -1.9590013257555352,
          -0.5205643338706631,
          0.5938850164555284,
          0.46474974157386184,
          0.7882569264403052,
          0.024094991915381028,
          -1.4577162082850728,
          0.07561423667063542,
          -1.2001222092639914,
          0.7541788380651747,
          -0.24595719786258077,
          0.21254927464469472,
          -0.49310287074353265,
          -0.6707348435998824,
          -0.8367506132618868,
          0.44657092371361706,
          0.16521007038945787,
          0.3801082461965531,
          -0.7055556233504856,
          0.9365054887186388,
          0.3927142752274356,
          0.2990646831914984,
          0.5882157939174921,
          -0.6027841469280251,
          0.5109916821229135,
          -0.7059286693013546,
          -1.1250070453809728,
          0.3114178659387146,
          0.16637813506466545,
          -0.5573233254530179,
          -0.6326873498471812,
          -1.0807829905528308,
          -0.3976740103682822,
          -0.19283456701847768,
          -0.36007121436303724,
          -0.3470273779456088,
          -0.9597181464851905,
          1.066691240020702,
          0.9136225090209719,
          1.3101158716194419,
          -0.9085927744857276,
          -1.5561141030386398,
          0.688253431236142,
          -0.04912350342079393,
          0.0877282049928525,
          -1.1558341775294163,
          0.8469784835212012,
          -0.9074209290923171,
          -0.13420252879010483,
          -0.913883998790638,
          0.6794092228773175,
          -0.20344922901598547,
          1.0574595072611443,
          -1.4223714743297229,
          -1.9454108161259374,
          1.1376563393228913,
          -0.8629420319001743,
          -0.8272461902066471,
          -0.38017293677999786,
          0.8729160577567565,
          0.918135871563344,
          -0.22959205957453752,
          -1.0789951244840297,
          -2.2451156390336293,
          -0.46859350017118706,
          -1.5626645877329906,
          -0.6218078841153108,
          0.08863756424389115,
          -1.377863557567499
         ],
         "yaxis": "y7"
        },
        {
         "line": {
          "color": "rgba(128, 128, 128, 1.0)",
          "dash": "solid",
          "shape": "linear",
          "width": 1.3
         },
         "marker": {
          "size": 2,
          "symbol": "circle"
         },
         "mode": "markers",
         "name": "B",
         "text": "",
         "type": "scatter",
         "x": [
          0.02387095975750891,
          -0.11606270474382845,
          -1.1415131954077733,
          0.8403513535467135,
          0.5276599881343238,
          -0.11891503715225887,
          -1.4407425924068988,
          -0.020793684915744876,
          -1.1676150844952335,
          -1.234060260686417,
          -2.0770740329242328,
          1.6166710351726927,
          0.9708306919647921,
          0.2792704987633396,
          -1.9202604526861047,
          -0.2988362843367368,
          -0.3558536797190755,
          -0.09365770273032371,
          -1.580969468829377,
          0.8552826440084819,
          1.5421142045913974,
          -0.43704121716842387,
          0.01482115890763024,
          0.5643524040633793,
          0.050801646826494795,
          0.11508489546061638,
          -1.271769562960929,
          0.8225851675031259,
          -0.5122222951533912,
          -0.2208509296561825,
          1.0947510016357487,
          0.4116333504033674,
          2.119990580852485,
          -1.1670301730088755,
          -1.4248710165443172,
          0.0089414042080053,
          1.8465500334894767,
          -0.08443143483715851,
          -0.8014749052591004,
          1.3180195354119786,
          -0.6977304459470564,
          1.006816218542904,
          0.045441574866400276,
          -1.2538553339757075,
          -0.905292883358867,
          -1.174293868102388,
          -0.17586256772486136,
          -1.4508632246798647,
          -0.34720705670834073,
          0.7015056159804889,
          -0.06633764356444732,
          -0.35762857517150526,
          -0.13303566286275423,
          -0.2917068052578637,
          1.3309447828567855,
          0.529638075869884,
          -0.9961521943956223,
          0.8271829335908373,
          -1.573459137066797,
          -0.1754008772182543,
          0.7079553812048236,
          1.08194221950866,
          -1.4556892820956553,
          0.5966501657415297,
          -1.7036913081553566,
          1.1424442870205669,
          0.1225499132212124,
          0.42230163510717733,
          1.2578518066587125,
          1.3137164136996544,
          0.11755659747457874,
          -0.9443611100112794,
          0.07287492232967667,
          1.1626138659501972,
          0.7615470426582388,
          1.1893807011883775,
          -0.5726342786559914,
          0.24536605864017702,
          0.6800676679860762,
          -0.2397332660647786,
          2.503249296390802,
          0.5932820955428155,
          -0.030340688713944065,
          -0.993600587275602,
          0.8898367016735991,
          -0.9819923012333851,
          1.1192079468190357,
          0.09786057126706922,
          0.11320762328465832,
          1.1961353751277923,
          -0.2851771780454916,
          0.009790042253053683,
          1.6776118927226216,
          0.6537812961358346,
          -0.5085543086461852,
          2.261792750089865,
          0.3320149307082757,
          -0.3909195340128025,
          1.2472924965267755,
          1.311846235635573
         ],
         "xaxis": "x8",
         "y": [
          -0.3573371322445269,
          -0.7954803660541344,
          -0.23383688048364987,
          -1.4689616392588782,
          0.537737290574604,
          -0.05179186032217305,
          1.1542428711277914,
          1.2733915245654719,
          0.6223971458964284,
          1.7660185634710133,
          -0.4248669150760995,
          0.6103571241821237,
          -0.4060266583344734,
          -0.34083406057226867,
          1.0457488946748692,
          0.16181416390983103,
          1.9322396713416716,
          1.8553521700780675,
          0.07955584163522861,
          -0.1574334729496121,
          -0.6833826482122404,
          -1.1980781090912365,
          -0.9053129632827271,
          -0.2145284338421415,
          -0.050637435429454376,
          -0.5458995868568157,
          -0.5726021831051272,
          0.03824973522765993,
          -0.617215839868082,
          -0.4570865099864727,
          1.4409852198056514,
          -1.9590013257555352,
          -0.5205643338706631,
          0.5938850164555284,
          0.46474974157386184,
          0.7882569264403052,
          0.024094991915381028,
          -1.4577162082850728,
          0.07561423667063542,
          -1.2001222092639914,
          0.7541788380651747,
          -0.24595719786258077,
          0.21254927464469472,
          -0.49310287074353265,
          -0.6707348435998824,
          -0.8367506132618868,
          0.44657092371361706,
          0.16521007038945787,
          0.3801082461965531,
          -0.7055556233504856,
          0.9365054887186388,
          0.3927142752274356,
          0.2990646831914984,
          0.5882157939174921,
          -0.6027841469280251,
          0.5109916821229135,
          -0.7059286693013546,
          -1.1250070453809728,
          0.3114178659387146,
          0.16637813506466545,
          -0.5573233254530179,
          -0.6326873498471812,
          -1.0807829905528308,
          -0.3976740103682822,
          -0.19283456701847768,
          -0.36007121436303724,
          -0.3470273779456088,
          -0.9597181464851905,
          1.066691240020702,
          0.9136225090209719,
          1.3101158716194419,
          -0.9085927744857276,
          -1.5561141030386398,
          0.688253431236142,
          -0.04912350342079393,
          0.0877282049928525,
          -1.1558341775294163,
          0.8469784835212012,
          -0.9074209290923171,
          -0.13420252879010483,
          -0.913883998790638,
          0.6794092228773175,
          -0.20344922901598547,
          1.0574595072611443,
          -1.4223714743297229,
          -1.9454108161259374,
          1.1376563393228913,
          -0.8629420319001743,
          -0.8272461902066471,
          -0.38017293677999786,
          0.8729160577567565,
          0.918135871563344,
          -0.22959205957453752,
          -1.0789951244840297,
          -2.2451156390336293,
          -0.46859350017118706,
          -1.5626645877329906,
          -0.6218078841153108,
          0.08863756424389115,
          -1.377863557567499
         ],
         "yaxis": "y8"
        },
        {
         "line": {
          "color": "rgba(128, 128, 128, 1.0)",
          "dash": "solid",
          "shape": "linear",
          "width": 1.3
         },
         "marker": {
          "size": 2,
          "symbol": "circle"
         },
         "mode": "markers",
         "name": "C",
         "text": "",
         "type": "scatter",
         "x": [
          0.5270350517910259,
          0.8072417761741204,
          1.1392313016357698,
          -0.26096404113916827,
          0.6926958204203916,
          0.9920051309969496,
          -0.11703426105936891,
          0.1772112230298288,
          -1.546858677607195,
          -2.12578011605067,
          -0.6668762349299929,
          -0.6859473345004385,
          -0.06517967932935818,
          1.509878948316418,
          -1.8327579596743897,
          0.006271054192142402,
          0.3414994082440188,
          0.9963915461590376,
          -0.6921272019494343,
          1.5772536578772964,
          -0.5557862878321287,
          -2.017935639740841,
          -1.1628872083088297,
          0.7367687289628784,
          0.9861800715940734,
          0.6246167005591827,
          -1.9474893936892852,
          1.514648850869348,
          -1.0370802434215016,
          0.9528204965997727,
          1.3086341505647139,
          -0.8999610192720289,
          -0.8274926084715756,
          0.23144826433866572,
          -0.8844009286812917,
          -1.0089518557682686,
          0.6932773742180772,
          1.0061969073018957,
          1.092431285788773,
          1.1045108225684144,
          -1.2769047407707261,
          1.054723907960595,
          -1.424470905566255,
          0.8213992840984147,
          0.6508352767197153,
          0.7329958919606228,
          -1.103247067925494,
          0.601973655750255,
          0.2411701647259433,
          0.7332646418151118,
          -0.4867885879627209,
          -1.2441969273967537,
          1.6754209142406766,
          -0.32039696502661236,
          1.1215309278302448,
          -1.3886324130968108,
          1.0143521438152425,
          -0.5068577869406047,
          -0.18319072282702112,
          0.012500231010309247,
          0.40854877825819697,
          1.8258137915196166,
          1.6461587266463735,
          -1.8705116276819005,
          1.5285251703518656,
          -0.6037446546192259,
          -0.5813250501397086,
          -1.4794730914628256,
          -1.0238816124476313,
          -2.739929363797368,
          1.0552377958437529,
          -1.5351435511108646,
          -1.7843905685681465,
          -0.28256426488536146,
          -0.3577831692789127,
          -0.3368682486926556,
          -0.6688560865867158,
          0.07685974077155044,
          -1.1543438385075415,
          -0.21220970437488415,
          -1.1771975886707862,
          0.4219558757493188,
          -0.4448033818296801,
          0.3241897943873185,
          0.46323398510899855,
          -2.5752791645582294,
          -1.3442022736781003,
          1.706852734553487,
          -0.2889523856225487,
          0.6976631999888713,
          -1.0146863195520115,
          -0.7524830335894936,
          -0.342321697117499,
          -0.414428719259938,
          1.26844070572974,
          -0.1096357311371834,
          0.47694159897509,
          -0.1877913031971587,
          -0.22201392254173058,
          1.4363529412819034
         ],
         "xaxis": "x9",
         "y": [
          0.4584505556547366,
          -1.355759907492626,
          -0.9509242523689222,
          -0.0131735240869676,
          -1.2668782856775764,
          -1.2243906645476763,
          -0.6381192197263483,
          -0.5436333333743834,
          -0.19306737155361317,
          -1.5050038180863239,
          -0.09217541167291504,
          -0.2870761574109859,
          -0.027109426002290424,
          -0.4821753666043871,
          0.5197895844807667,
          -1.5435011910360992,
          -0.1532171962843395,
          0.19221442299809516,
          1.6829004589500716,
          1.7827277657527965,
          -0.5759683053021424,
          -0.2056844152798431,
          1.1837528023679855,
          0.4550449590753043,
          -1.340467259415179,
          1.1220501307061408,
          1.527045816107696,
          0.7352930438752754,
          -0.33278393449051086,
          0.96464746058435,
          0.3809277939425206,
          -0.13829687429463314,
          0.7736968972661555,
          -1.5681141892234975,
          -0.09055566289186763,
          0.8425683793972419,
          -0.04371116808137712,
          -0.1568752750128221,
          0.0969846556376833,
          1.1154110497870993,
          0.0326989265064,
          -1.375691497499252,
          0.11323883862831831,
          -0.1265521103778363,
          0.8593750505395408,
          0.08754139347705762,
          0.3042926798516024,
          0.33416306528344336,
          1.023778135599816,
          0.9830038717298408,
          0.24858331667601347,
          -0.40864882613789666,
          1.991676086032405,
          -0.23733140978395745,
          -1.5753553993293385,
          0.3006659689825678,
          0.8960856184689652,
          0.6859968375442339,
          2.6283658707522237,
          -0.8285506771225467,
          -0.663341972805794,
          0.7318994775648154,
          0.3286997591793689,
          -0.6414273278308326,
          -1.3313039283715737,
          -1.7932200414655362,
          -0.5935692770246527,
          -0.496620849174363,
          2.0675012677514526,
          0.31904792947433325,
          2.853655976993376,
          1.5164837831641964,
          0.08676150084539137,
          0.7800111445973753,
          1.03692530402091,
          0.7557529745512395,
          -0.3399967573791637,
          -0.5597080738873084,
          0.3986459378093854,
          1.853578424951002,
          0.09042379354775373,
          -2.0519673794202595,
          0.1310270556830349,
          1.3709195760323136,
          0.3922390921516855,
          -0.5940809548472152,
          0.013693855794778383,
          -0.3612241395295903,
          2.122065766506009,
          0.30983463016779744,
          0.5884851198214166,
          -0.9671532453141337,
          0.8241324017362862,
          0.862316253761791,
          0.0431544660219074,
          -0.06485888359874721,
          -0.5339701700509776,
          0.5727835618955416,
          0.0015586865735916788,
          -1.3479478739832138
         ],
         "yaxis": "y9"
        },
        {
         "line": {
          "color": "rgba(128, 128, 128, 1.0)",
          "dash": "solid",
          "shape": "linear",
          "width": 1.3
         },
         "marker": {
          "size": 2,
          "symbol": "circle"
         },
         "mode": "markers",
         "name": "C",
         "text": "",
         "type": "scatter",
         "x": [
          -0.3573371322445269,
          -0.7954803660541344,
          -0.23383688048364987,
          -1.4689616392588782,
          0.537737290574604,
          -0.05179186032217305,
          1.1542428711277914,
          1.2733915245654719,
          0.6223971458964284,
          1.7660185634710133,
          -0.4248669150760995,
          0.6103571241821237,
          -0.4060266583344734,
          -0.34083406057226867,
          1.0457488946748692,
          0.16181416390983103,
          1.9322396713416716,
          1.8553521700780675,
          0.07955584163522861,
          -0.1574334729496121,
          -0.6833826482122404,
          -1.1980781090912365,
          -0.9053129632827271,
          -0.2145284338421415,
          -0.050637435429454376,
          -0.5458995868568157,
          -0.5726021831051272,
          0.03824973522765993,
          -0.617215839868082,
          -0.4570865099864727,
          1.4409852198056514,
          -1.9590013257555352,
          -0.5205643338706631,
          0.5938850164555284,
          0.46474974157386184,
          0.7882569264403052,
          0.024094991915381028,
          -1.4577162082850728,
          0.07561423667063542,
          -1.2001222092639914,
          0.7541788380651747,
          -0.24595719786258077,
          0.21254927464469472,
          -0.49310287074353265,
          -0.6707348435998824,
          -0.8367506132618868,
          0.44657092371361706,
          0.16521007038945787,
          0.3801082461965531,
          -0.7055556233504856,
          0.9365054887186388,
          0.3927142752274356,
          0.2990646831914984,
          0.5882157939174921,
          -0.6027841469280251,
          0.5109916821229135,
          -0.7059286693013546,
          -1.1250070453809728,
          0.3114178659387146,
          0.16637813506466545,
          -0.5573233254530179,
          -0.6326873498471812,
          -1.0807829905528308,
          -0.3976740103682822,
          -0.19283456701847768,
          -0.36007121436303724,
          -0.3470273779456088,
          -0.9597181464851905,
          1.066691240020702,
          0.9136225090209719,
          1.3101158716194419,
          -0.9085927744857276,
          -1.5561141030386398,
          0.688253431236142,
          -0.04912350342079393,
          0.0877282049928525,
          -1.1558341775294163,
          0.8469784835212012,
          -0.9074209290923171,
          -0.13420252879010483,
          -0.913883998790638,
          0.6794092228773175,
          -0.20344922901598547,
          1.0574595072611443,
          -1.4223714743297229,
          -1.9454108161259374,
          1.1376563393228913,
          -0.8629420319001743,
          -0.8272461902066471,
          -0.38017293677999786,
          0.8729160577567565,
          0.918135871563344,
          -0.22959205957453752,
          -1.0789951244840297,
          -2.2451156390336293,
          -0.46859350017118706,
          -1.5626645877329906,
          -0.6218078841153108,
          0.08863756424389115,
          -1.377863557567499
         ],
         "xaxis": "x10",
         "y": [
          0.4584505556547366,
          -1.355759907492626,
          -0.9509242523689222,
          -0.0131735240869676,
          -1.2668782856775764,
          -1.2243906645476763,
          -0.6381192197263483,
          -0.5436333333743834,
          -0.19306737155361317,
          -1.5050038180863239,
          -0.09217541167291504,
          -0.2870761574109859,
          -0.027109426002290424,
          -0.4821753666043871,
          0.5197895844807667,
          -1.5435011910360992,
          -0.1532171962843395,
          0.19221442299809516,
          1.6829004589500716,
          1.7827277657527965,
          -0.5759683053021424,
          -0.2056844152798431,
          1.1837528023679855,
          0.4550449590753043,
          -1.340467259415179,
          1.1220501307061408,
          1.527045816107696,
          0.7352930438752754,
          -0.33278393449051086,
          0.96464746058435,
          0.3809277939425206,
          -0.13829687429463314,
          0.7736968972661555,
          -1.5681141892234975,
          -0.09055566289186763,
          0.8425683793972419,
          -0.04371116808137712,
          -0.1568752750128221,
          0.0969846556376833,
          1.1154110497870993,
          0.0326989265064,
          -1.375691497499252,
          0.11323883862831831,
          -0.1265521103778363,
          0.8593750505395408,
          0.08754139347705762,
          0.3042926798516024,
          0.33416306528344336,
          1.023778135599816,
          0.9830038717298408,
          0.24858331667601347,
          -0.40864882613789666,
          1.991676086032405,
          -0.23733140978395745,
          -1.5753553993293385,
          0.3006659689825678,
          0.8960856184689652,
          0.6859968375442339,
          2.6283658707522237,
          -0.8285506771225467,
          -0.663341972805794,
          0.7318994775648154,
          0.3286997591793689,
          -0.6414273278308326,
          -1.3313039283715737,
          -1.7932200414655362,
          -0.5935692770246527,
          -0.496620849174363,
          2.0675012677514526,
          0.31904792947433325,
          2.853655976993376,
          1.5164837831641964,
          0.08676150084539137,
          0.7800111445973753,
          1.03692530402091,
          0.7557529745512395,
          -0.3399967573791637,
          -0.5597080738873084,
          0.3986459378093854,
          1.853578424951002,
          0.09042379354775373,
          -2.0519673794202595,
          0.1310270556830349,
          1.3709195760323136,
          0.3922390921516855,
          -0.5940809548472152,
          0.013693855794778383,
          -0.3612241395295903,
          2.122065766506009,
          0.30983463016779744,
          0.5884851198214166,
          -0.9671532453141337,
          0.8241324017362862,
          0.862316253761791,
          0.0431544660219074,
          -0.06485888359874721,
          -0.5339701700509776,
          0.5727835618955416,
          0.0015586865735916788,
          -1.3479478739832138
         ],
         "yaxis": "y10"
        },
        {
         "histfunc": "count",
         "histnorm": "",
         "marker": {
          "color": "rgba(50, 171, 96, 1.0)",
          "line": {
           "color": "#4D5663",
           "width": 1.3
          }
         },
         "name": "C",
         "nbinsx": 10,
         "opacity": 0.8,
         "orientation": "v",
         "type": "histogram",
         "x": [
          0.4584505556547366,
          -1.355759907492626,
          -0.9509242523689222,
          -0.0131735240869676,
          -1.2668782856775764,
          -1.2243906645476763,
          -0.6381192197263483,
          -0.5436333333743834,
          -0.19306737155361317,
          -1.5050038180863239,
          -0.09217541167291504,
          -0.2870761574109859,
          -0.027109426002290424,
          -0.4821753666043871,
          0.5197895844807667,
          -1.5435011910360992,
          -0.1532171962843395,
          0.19221442299809516,
          1.6829004589500716,
          1.7827277657527965,
          -0.5759683053021424,
          -0.2056844152798431,
          1.1837528023679855,
          0.4550449590753043,
          -1.340467259415179,
          1.1220501307061408,
          1.527045816107696,
          0.7352930438752754,
          -0.33278393449051086,
          0.96464746058435,
          0.3809277939425206,
          -0.13829687429463314,
          0.7736968972661555,
          -1.5681141892234975,
          -0.09055566289186763,
          0.8425683793972419,
          -0.04371116808137712,
          -0.1568752750128221,
          0.0969846556376833,
          1.1154110497870993,
          0.0326989265064,
          -1.375691497499252,
          0.11323883862831831,
          -0.1265521103778363,
          0.8593750505395408,
          0.08754139347705762,
          0.3042926798516024,
          0.33416306528344336,
          1.023778135599816,
          0.9830038717298408,
          0.24858331667601347,
          -0.40864882613789666,
          1.991676086032405,
          -0.23733140978395745,
          -1.5753553993293385,
          0.3006659689825678,
          0.8960856184689652,
          0.6859968375442339,
          2.6283658707522237,
          -0.8285506771225467,
          -0.663341972805794,
          0.7318994775648154,
          0.3286997591793689,
          -0.6414273278308326,
          -1.3313039283715737,
          -1.7932200414655362,
          -0.5935692770246527,
          -0.496620849174363,
          2.0675012677514526,
          0.31904792947433325,
          2.853655976993376,
          1.5164837831641964,
          0.08676150084539137,
          0.7800111445973753,
          1.03692530402091,
          0.7557529745512395,
          -0.3399967573791637,
          -0.5597080738873084,
          0.3986459378093854,
          1.853578424951002,
          0.09042379354775373,
          -2.0519673794202595,
          0.1310270556830349,
          1.3709195760323136,
          0.3922390921516855,
          -0.5940809548472152,
          0.013693855794778383,
          -0.3612241395295903,
          2.122065766506009,
          0.30983463016779744,
          0.5884851198214166,
          -0.9671532453141337,
          0.8241324017362862,
          0.862316253761791,
          0.0431544660219074,
          -0.06485888359874721,
          -0.5339701700509776,
          0.5727835618955416,
          0.0015586865735916788,
          -1.3479478739832138
         ],
         "xaxis": "x11",
         "yaxis": "y11"
        },
        {
         "line": {
          "color": "rgba(128, 128, 128, 1.0)",
          "dash": "solid",
          "shape": "linear",
          "width": 1.3
         },
         "marker": {
          "size": 2,
          "symbol": "circle"
         },
         "mode": "markers",
         "name": "C",
         "text": "",
         "type": "scatter",
         "x": [
          0.02387095975750891,
          -0.11606270474382845,
          -1.1415131954077733,
          0.8403513535467135,
          0.5276599881343238,
          -0.11891503715225887,
          -1.4407425924068988,
          -0.020793684915744876,
          -1.1676150844952335,
          -1.234060260686417,
          -2.0770740329242328,
          1.6166710351726927,
          0.9708306919647921,
          0.2792704987633396,
          -1.9202604526861047,
          -0.2988362843367368,
          -0.3558536797190755,
          -0.09365770273032371,
          -1.580969468829377,
          0.8552826440084819,
          1.5421142045913974,
          -0.43704121716842387,
          0.01482115890763024,
          0.5643524040633793,
          0.050801646826494795,
          0.11508489546061638,
          -1.271769562960929,
          0.8225851675031259,
          -0.5122222951533912,
          -0.2208509296561825,
          1.0947510016357487,
          0.4116333504033674,
          2.119990580852485,
          -1.1670301730088755,
          -1.4248710165443172,
          0.0089414042080053,
          1.8465500334894767,
          -0.08443143483715851,
          -0.8014749052591004,
          1.3180195354119786,
          -0.6977304459470564,
          1.006816218542904,
          0.045441574866400276,
          -1.2538553339757075,
          -0.905292883358867,
          -1.174293868102388,
          -0.17586256772486136,
          -1.4508632246798647,
          -0.34720705670834073,
          0.7015056159804889,
          -0.06633764356444732,
          -0.35762857517150526,
          -0.13303566286275423,
          -0.2917068052578637,
          1.3309447828567855,
          0.529638075869884,
          -0.9961521943956223,
          0.8271829335908373,
          -1.573459137066797,
          -0.1754008772182543,
          0.7079553812048236,
          1.08194221950866,
          -1.4556892820956553,
          0.5966501657415297,
          -1.7036913081553566,
          1.1424442870205669,
          0.1225499132212124,
          0.42230163510717733,
          1.2578518066587125,
          1.3137164136996544,
          0.11755659747457874,
          -0.9443611100112794,
          0.07287492232967667,
          1.1626138659501972,
          0.7615470426582388,
          1.1893807011883775,
          -0.5726342786559914,
          0.24536605864017702,
          0.6800676679860762,
          -0.2397332660647786,
          2.503249296390802,
          0.5932820955428155,
          -0.030340688713944065,
          -0.993600587275602,
          0.8898367016735991,
          -0.9819923012333851,
          1.1192079468190357,
          0.09786057126706922,
          0.11320762328465832,
          1.1961353751277923,
          -0.2851771780454916,
          0.009790042253053683,
          1.6776118927226216,
          0.6537812961358346,
          -0.5085543086461852,
          2.261792750089865,
          0.3320149307082757,
          -0.3909195340128025,
          1.2472924965267755,
          1.311846235635573
         ],
         "xaxis": "x12",
         "y": [
          0.4584505556547366,
          -1.355759907492626,
          -0.9509242523689222,
          -0.0131735240869676,
          -1.2668782856775764,
          -1.2243906645476763,
          -0.6381192197263483,
          -0.5436333333743834,
          -0.19306737155361317,
          -1.5050038180863239,
          -0.09217541167291504,
          -0.2870761574109859,
          -0.027109426002290424,
          -0.4821753666043871,
          0.5197895844807667,
          -1.5435011910360992,
          -0.1532171962843395,
          0.19221442299809516,
          1.6829004589500716,
          1.7827277657527965,
          -0.5759683053021424,
          -0.2056844152798431,
          1.1837528023679855,
          0.4550449590753043,
          -1.340467259415179,
          1.1220501307061408,
          1.527045816107696,
          0.7352930438752754,
          -0.33278393449051086,
          0.96464746058435,
          0.3809277939425206,
          -0.13829687429463314,
          0.7736968972661555,
          -1.5681141892234975,
          -0.09055566289186763,
          0.8425683793972419,
          -0.04371116808137712,
          -0.1568752750128221,
          0.0969846556376833,
          1.1154110497870993,
          0.0326989265064,
          -1.375691497499252,
          0.11323883862831831,
          -0.1265521103778363,
          0.8593750505395408,
          0.08754139347705762,
          0.3042926798516024,
          0.33416306528344336,
          1.023778135599816,
          0.9830038717298408,
          0.24858331667601347,
          -0.40864882613789666,
          1.991676086032405,
          -0.23733140978395745,
          -1.5753553993293385,
          0.3006659689825678,
          0.8960856184689652,
          0.6859968375442339,
          2.6283658707522237,
          -0.8285506771225467,
          -0.663341972805794,
          0.7318994775648154,
          0.3286997591793689,
          -0.6414273278308326,
          -1.3313039283715737,
          -1.7932200414655362,
          -0.5935692770246527,
          -0.496620849174363,
          2.0675012677514526,
          0.31904792947433325,
          2.853655976993376,
          1.5164837831641964,
          0.08676150084539137,
          0.7800111445973753,
          1.03692530402091,
          0.7557529745512395,
          -0.3399967573791637,
          -0.5597080738873084,
          0.3986459378093854,
          1.853578424951002,
          0.09042379354775373,
          -2.0519673794202595,
          0.1310270556830349,
          1.3709195760323136,
          0.3922390921516855,
          -0.5940809548472152,
          0.013693855794778383,
          -0.3612241395295903,
          2.122065766506009,
          0.30983463016779744,
          0.5884851198214166,
          -0.9671532453141337,
          0.8241324017362862,
          0.862316253761791,
          0.0431544660219074,
          -0.06485888359874721,
          -0.5339701700509776,
          0.5727835618955416,
          0.0015586865735916788,
          -1.3479478739832138
         ],
         "yaxis": "y12"
        },
        {
         "line": {
          "color": "rgba(128, 128, 128, 1.0)",
          "dash": "solid",
          "shape": "linear",
          "width": 1.3
         },
         "marker": {
          "size": 2,
          "symbol": "circle"
         },
         "mode": "markers",
         "name": "D",
         "text": "",
         "type": "scatter",
         "x": [
          0.5270350517910259,
          0.8072417761741204,
          1.1392313016357698,
          -0.26096404113916827,
          0.6926958204203916,
          0.9920051309969496,
          -0.11703426105936891,
          0.1772112230298288,
          -1.546858677607195,
          -2.12578011605067,
          -0.6668762349299929,
          -0.6859473345004385,
          -0.06517967932935818,
          1.509878948316418,
          -1.8327579596743897,
          0.006271054192142402,
          0.3414994082440188,
          0.9963915461590376,
          -0.6921272019494343,
          1.5772536578772964,
          -0.5557862878321287,
          -2.017935639740841,
          -1.1628872083088297,
          0.7367687289628784,
          0.9861800715940734,
          0.6246167005591827,
          -1.9474893936892852,
          1.514648850869348,
          -1.0370802434215016,
          0.9528204965997727,
          1.3086341505647139,
          -0.8999610192720289,
          -0.8274926084715756,
          0.23144826433866572,
          -0.8844009286812917,
          -1.0089518557682686,
          0.6932773742180772,
          1.0061969073018957,
          1.092431285788773,
          1.1045108225684144,
          -1.2769047407707261,
          1.054723907960595,
          -1.424470905566255,
          0.8213992840984147,
          0.6508352767197153,
          0.7329958919606228,
          -1.103247067925494,
          0.601973655750255,
          0.2411701647259433,
          0.7332646418151118,
          -0.4867885879627209,
          -1.2441969273967537,
          1.6754209142406766,
          -0.32039696502661236,
          1.1215309278302448,
          -1.3886324130968108,
          1.0143521438152425,
          -0.5068577869406047,
          -0.18319072282702112,
          0.012500231010309247,
          0.40854877825819697,
          1.8258137915196166,
          1.6461587266463735,
          -1.8705116276819005,
          1.5285251703518656,
          -0.6037446546192259,
          -0.5813250501397086,
          -1.4794730914628256,
          -1.0238816124476313,
          -2.739929363797368,
          1.0552377958437529,
          -1.5351435511108646,
          -1.7843905685681465,
          -0.28256426488536146,
          -0.3577831692789127,
          -0.3368682486926556,
          -0.6688560865867158,
          0.07685974077155044,
          -1.1543438385075415,
          -0.21220970437488415,
          -1.1771975886707862,
          0.4219558757493188,
          -0.4448033818296801,
          0.3241897943873185,
          0.46323398510899855,
          -2.5752791645582294,
          -1.3442022736781003,
          1.706852734553487,
          -0.2889523856225487,
          0.6976631999888713,
          -1.0146863195520115,
          -0.7524830335894936,
          -0.342321697117499,
          -0.414428719259938,
          1.26844070572974,
          -0.1096357311371834,
          0.47694159897509,
          -0.1877913031971587,
          -0.22201392254173058,
          1.4363529412819034
         ],
         "xaxis": "x13",
         "y": [
          0.02387095975750891,
          -0.11606270474382845,
          -1.1415131954077733,
          0.8403513535467135,
          0.5276599881343238,
          -0.11891503715225887,
          -1.4407425924068988,
          -0.020793684915744876,
          -1.1676150844952335,
          -1.234060260686417,
          -2.0770740329242328,
          1.6166710351726927,
          0.9708306919647921,
          0.2792704987633396,
          -1.9202604526861047,
          -0.2988362843367368,
          -0.3558536797190755,
          -0.09365770273032371,
          -1.580969468829377,
          0.8552826440084819,
          1.5421142045913974,
          -0.43704121716842387,
          0.01482115890763024,
          0.5643524040633793,
          0.050801646826494795,
          0.11508489546061638,
          -1.271769562960929,
          0.8225851675031259,
          -0.5122222951533912,
          -0.2208509296561825,
          1.0947510016357487,
          0.4116333504033674,
          2.119990580852485,
          -1.1670301730088755,
          -1.4248710165443172,
          0.0089414042080053,
          1.8465500334894767,
          -0.08443143483715851,
          -0.8014749052591004,
          1.3180195354119786,
          -0.6977304459470564,
          1.006816218542904,
          0.045441574866400276,
          -1.2538553339757075,
          -0.905292883358867,
          -1.174293868102388,
          -0.17586256772486136,
          -1.4508632246798647,
          -0.34720705670834073,
          0.7015056159804889,
          -0.06633764356444732,
          -0.35762857517150526,
          -0.13303566286275423,
          -0.2917068052578637,
          1.3309447828567855,
          0.529638075869884,
          -0.9961521943956223,
          0.8271829335908373,
          -1.573459137066797,
          -0.1754008772182543,
          0.7079553812048236,
          1.08194221950866,
          -1.4556892820956553,
          0.5966501657415297,
          -1.7036913081553566,
          1.1424442870205669,
          0.1225499132212124,
          0.42230163510717733,
          1.2578518066587125,
          1.3137164136996544,
          0.11755659747457874,
          -0.9443611100112794,
          0.07287492232967667,
          1.1626138659501972,
          0.7615470426582388,
          1.1893807011883775,
          -0.5726342786559914,
          0.24536605864017702,
          0.6800676679860762,
          -0.2397332660647786,
          2.503249296390802,
          0.5932820955428155,
          -0.030340688713944065,
          -0.993600587275602,
          0.8898367016735991,
          -0.9819923012333851,
          1.1192079468190357,
          0.09786057126706922,
          0.11320762328465832,
          1.1961353751277923,
          -0.2851771780454916,
          0.009790042253053683,
          1.6776118927226216,
          0.6537812961358346,
          -0.5085543086461852,
          2.261792750089865,
          0.3320149307082757,
          -0.3909195340128025,
          1.2472924965267755,
          1.311846235635573
         ],
         "yaxis": "y13"
        },
        {
         "line": {
          "color": "rgba(128, 128, 128, 1.0)",
          "dash": "solid",
          "shape": "linear",
          "width": 1.3
         },
         "marker": {
          "size": 2,
          "symbol": "circle"
         },
         "mode": "markers",
         "name": "D",
         "text": "",
         "type": "scatter",
         "x": [
          -0.3573371322445269,
          -0.7954803660541344,
          -0.23383688048364987,
          -1.4689616392588782,
          0.537737290574604,
          -0.05179186032217305,
          1.1542428711277914,
          1.2733915245654719,
          0.6223971458964284,
          1.7660185634710133,
          -0.4248669150760995,
          0.6103571241821237,
          -0.4060266583344734,
          -0.34083406057226867,
          1.0457488946748692,
          0.16181416390983103,
          1.9322396713416716,
          1.8553521700780675,
          0.07955584163522861,
          -0.1574334729496121,
          -0.6833826482122404,
          -1.1980781090912365,
          -0.9053129632827271,
          -0.2145284338421415,
          -0.050637435429454376,
          -0.5458995868568157,
          -0.5726021831051272,
          0.03824973522765993,
          -0.617215839868082,
          -0.4570865099864727,
          1.4409852198056514,
          -1.9590013257555352,
          -0.5205643338706631,
          0.5938850164555284,
          0.46474974157386184,
          0.7882569264403052,
          0.024094991915381028,
          -1.4577162082850728,
          0.07561423667063542,
          -1.2001222092639914,
          0.7541788380651747,
          -0.24595719786258077,
          0.21254927464469472,
          -0.49310287074353265,
          -0.6707348435998824,
          -0.8367506132618868,
          0.44657092371361706,
          0.16521007038945787,
          0.3801082461965531,
          -0.7055556233504856,
          0.9365054887186388,
          0.3927142752274356,
          0.2990646831914984,
          0.5882157939174921,
          -0.6027841469280251,
          0.5109916821229135,
          -0.7059286693013546,
          -1.1250070453809728,
          0.3114178659387146,
          0.16637813506466545,
          -0.5573233254530179,
          -0.6326873498471812,
          -1.0807829905528308,
          -0.3976740103682822,
          -0.19283456701847768,
          -0.36007121436303724,
          -0.3470273779456088,
          -0.9597181464851905,
          1.066691240020702,
          0.9136225090209719,
          1.3101158716194419,
          -0.9085927744857276,
          -1.5561141030386398,
          0.688253431236142,
          -0.04912350342079393,
          0.0877282049928525,
          -1.1558341775294163,
          0.8469784835212012,
          -0.9074209290923171,
          -0.13420252879010483,
          -0.913883998790638,
          0.6794092228773175,
          -0.20344922901598547,
          1.0574595072611443,
          -1.4223714743297229,
          -1.9454108161259374,
          1.1376563393228913,
          -0.8629420319001743,
          -0.8272461902066471,
          -0.38017293677999786,
          0.8729160577567565,
          0.918135871563344,
          -0.22959205957453752,
          -1.0789951244840297,
          -2.2451156390336293,
          -0.46859350017118706,
          -1.5626645877329906,
          -0.6218078841153108,
          0.08863756424389115,
          -1.377863557567499
         ],
         "xaxis": "x14",
         "y": [
          0.02387095975750891,
          -0.11606270474382845,
          -1.1415131954077733,
          0.8403513535467135,
          0.5276599881343238,
          -0.11891503715225887,
          -1.4407425924068988,
          -0.020793684915744876,
          -1.1676150844952335,
          -1.234060260686417,
          -2.0770740329242328,
          1.6166710351726927,
          0.9708306919647921,
          0.2792704987633396,
          -1.9202604526861047,
          -0.2988362843367368,
          -0.3558536797190755,
          -0.09365770273032371,
          -1.580969468829377,
          0.8552826440084819,
          1.5421142045913974,
          -0.43704121716842387,
          0.01482115890763024,
          0.5643524040633793,
          0.050801646826494795,
          0.11508489546061638,
          -1.271769562960929,
          0.8225851675031259,
          -0.5122222951533912,
          -0.2208509296561825,
          1.0947510016357487,
          0.4116333504033674,
          2.119990580852485,
          -1.1670301730088755,
          -1.4248710165443172,
          0.0089414042080053,
          1.8465500334894767,
          -0.08443143483715851,
          -0.8014749052591004,
          1.3180195354119786,
          -0.6977304459470564,
          1.006816218542904,
          0.045441574866400276,
          -1.2538553339757075,
          -0.905292883358867,
          -1.174293868102388,
          -0.17586256772486136,
          -1.4508632246798647,
          -0.34720705670834073,
          0.7015056159804889,
          -0.06633764356444732,
          -0.35762857517150526,
          -0.13303566286275423,
          -0.2917068052578637,
          1.3309447828567855,
          0.529638075869884,
          -0.9961521943956223,
          0.8271829335908373,
          -1.573459137066797,
          -0.1754008772182543,
          0.7079553812048236,
          1.08194221950866,
          -1.4556892820956553,
          0.5966501657415297,
          -1.7036913081553566,
          1.1424442870205669,
          0.1225499132212124,
          0.42230163510717733,
          1.2578518066587125,
          1.3137164136996544,
          0.11755659747457874,
          -0.9443611100112794,
          0.07287492232967667,
          1.1626138659501972,
          0.7615470426582388,
          1.1893807011883775,
          -0.5726342786559914,
          0.24536605864017702,
          0.6800676679860762,
          -0.2397332660647786,
          2.503249296390802,
          0.5932820955428155,
          -0.030340688713944065,
          -0.993600587275602,
          0.8898367016735991,
          -0.9819923012333851,
          1.1192079468190357,
          0.09786057126706922,
          0.11320762328465832,
          1.1961353751277923,
          -0.2851771780454916,
          0.009790042253053683,
          1.6776118927226216,
          0.6537812961358346,
          -0.5085543086461852,
          2.261792750089865,
          0.3320149307082757,
          -0.3909195340128025,
          1.2472924965267755,
          1.311846235635573
         ],
         "yaxis": "y14"
        },
        {
         "line": {
          "color": "rgba(128, 128, 128, 1.0)",
          "dash": "solid",
          "shape": "linear",
          "width": 1.3
         },
         "marker": {
          "size": 2,
          "symbol": "circle"
         },
         "mode": "markers",
         "name": "D",
         "text": "",
         "type": "scatter",
         "x": [
          0.4584505556547366,
          -1.355759907492626,
          -0.9509242523689222,
          -0.0131735240869676,
          -1.2668782856775764,
          -1.2243906645476763,
          -0.6381192197263483,
          -0.5436333333743834,
          -0.19306737155361317,
          -1.5050038180863239,
          -0.09217541167291504,
          -0.2870761574109859,
          -0.027109426002290424,
          -0.4821753666043871,
          0.5197895844807667,
          -1.5435011910360992,
          -0.1532171962843395,
          0.19221442299809516,
          1.6829004589500716,
          1.7827277657527965,
          -0.5759683053021424,
          -0.2056844152798431,
          1.1837528023679855,
          0.4550449590753043,
          -1.340467259415179,
          1.1220501307061408,
          1.527045816107696,
          0.7352930438752754,
          -0.33278393449051086,
          0.96464746058435,
          0.3809277939425206,
          -0.13829687429463314,
          0.7736968972661555,
          -1.5681141892234975,
          -0.09055566289186763,
          0.8425683793972419,
          -0.04371116808137712,
          -0.1568752750128221,
          0.0969846556376833,
          1.1154110497870993,
          0.0326989265064,
          -1.375691497499252,
          0.11323883862831831,
          -0.1265521103778363,
          0.8593750505395408,
          0.08754139347705762,
          0.3042926798516024,
          0.33416306528344336,
          1.023778135599816,
          0.9830038717298408,
          0.24858331667601347,
          -0.40864882613789666,
          1.991676086032405,
          -0.23733140978395745,
          -1.5753553993293385,
          0.3006659689825678,
          0.8960856184689652,
          0.6859968375442339,
          2.6283658707522237,
          -0.8285506771225467,
          -0.663341972805794,
          0.7318994775648154,
          0.3286997591793689,
          -0.6414273278308326,
          -1.3313039283715737,
          -1.7932200414655362,
          -0.5935692770246527,
          -0.496620849174363,
          2.0675012677514526,
          0.31904792947433325,
          2.853655976993376,
          1.5164837831641964,
          0.08676150084539137,
          0.7800111445973753,
          1.03692530402091,
          0.7557529745512395,
          -0.3399967573791637,
          -0.5597080738873084,
          0.3986459378093854,
          1.853578424951002,
          0.09042379354775373,
          -2.0519673794202595,
          0.1310270556830349,
          1.3709195760323136,
          0.3922390921516855,
          -0.5940809548472152,
          0.013693855794778383,
          -0.3612241395295903,
          2.122065766506009,
          0.30983463016779744,
          0.5884851198214166,
          -0.9671532453141337,
          0.8241324017362862,
          0.862316253761791,
          0.0431544660219074,
          -0.06485888359874721,
          -0.5339701700509776,
          0.5727835618955416,
          0.0015586865735916788,
          -1.3479478739832138
         ],
         "xaxis": "x15",
         "y": [
          0.02387095975750891,
          -0.11606270474382845,
          -1.1415131954077733,
          0.8403513535467135,
          0.5276599881343238,
          -0.11891503715225887,
          -1.4407425924068988,
          -0.020793684915744876,
          -1.1676150844952335,
          -1.234060260686417,
          -2.0770740329242328,
          1.6166710351726927,
          0.9708306919647921,
          0.2792704987633396,
          -1.9202604526861047,
          -0.2988362843367368,
          -0.3558536797190755,
          -0.09365770273032371,
          -1.580969468829377,
          0.8552826440084819,
          1.5421142045913974,
          -0.43704121716842387,
          0.01482115890763024,
          0.5643524040633793,
          0.050801646826494795,
          0.11508489546061638,
          -1.271769562960929,
          0.8225851675031259,
          -0.5122222951533912,
          -0.2208509296561825,
          1.0947510016357487,
          0.4116333504033674,
          2.119990580852485,
          -1.1670301730088755,
          -1.4248710165443172,
          0.0089414042080053,
          1.8465500334894767,
          -0.08443143483715851,
          -0.8014749052591004,
          1.3180195354119786,
          -0.6977304459470564,
          1.006816218542904,
          0.045441574866400276,
          -1.2538553339757075,
          -0.905292883358867,
          -1.174293868102388,
          -0.17586256772486136,
          -1.4508632246798647,
          -0.34720705670834073,
          0.7015056159804889,
          -0.06633764356444732,
          -0.35762857517150526,
          -0.13303566286275423,
          -0.2917068052578637,
          1.3309447828567855,
          0.529638075869884,
          -0.9961521943956223,
          0.8271829335908373,
          -1.573459137066797,
          -0.1754008772182543,
          0.7079553812048236,
          1.08194221950866,
          -1.4556892820956553,
          0.5966501657415297,
          -1.7036913081553566,
          1.1424442870205669,
          0.1225499132212124,
          0.42230163510717733,
          1.2578518066587125,
          1.3137164136996544,
          0.11755659747457874,
          -0.9443611100112794,
          0.07287492232967667,
          1.1626138659501972,
          0.7615470426582388,
          1.1893807011883775,
          -0.5726342786559914,
          0.24536605864017702,
          0.6800676679860762,
          -0.2397332660647786,
          2.503249296390802,
          0.5932820955428155,
          -0.030340688713944065,
          -0.993600587275602,
          0.8898367016735991,
          -0.9819923012333851,
          1.1192079468190357,
          0.09786057126706922,
          0.11320762328465832,
          1.1961353751277923,
          -0.2851771780454916,
          0.009790042253053683,
          1.6776118927226216,
          0.6537812961358346,
          -0.5085543086461852,
          2.261792750089865,
          0.3320149307082757,
          -0.3909195340128025,
          1.2472924965267755,
          1.311846235635573
         ],
         "yaxis": "y15"
        },
        {
         "histfunc": "count",
         "histnorm": "",
         "marker": {
          "color": "rgba(128, 0, 128, 1.0)",
          "line": {
           "color": "#4D5663",
           "width": 1.3
          }
         },
         "name": "D",
         "nbinsx": 10,
         "opacity": 0.8,
         "orientation": "v",
         "type": "histogram",
         "x": [
          0.02387095975750891,
          -0.11606270474382845,
          -1.1415131954077733,
          0.8403513535467135,
          0.5276599881343238,
          -0.11891503715225887,
          -1.4407425924068988,
          -0.020793684915744876,
          -1.1676150844952335,
          -1.234060260686417,
          -2.0770740329242328,
          1.6166710351726927,
          0.9708306919647921,
          0.2792704987633396,
          -1.9202604526861047,
          -0.2988362843367368,
          -0.3558536797190755,
          -0.09365770273032371,
          -1.580969468829377,
          0.8552826440084819,
          1.5421142045913974,
          -0.43704121716842387,
          0.01482115890763024,
          0.5643524040633793,
          0.050801646826494795,
          0.11508489546061638,
          -1.271769562960929,
          0.8225851675031259,
          -0.5122222951533912,
          -0.2208509296561825,
          1.0947510016357487,
          0.4116333504033674,
          2.119990580852485,
          -1.1670301730088755,
          -1.4248710165443172,
          0.0089414042080053,
          1.8465500334894767,
          -0.08443143483715851,
          -0.8014749052591004,
          1.3180195354119786,
          -0.6977304459470564,
          1.006816218542904,
          0.045441574866400276,
          -1.2538553339757075,
          -0.905292883358867,
          -1.174293868102388,
          -0.17586256772486136,
          -1.4508632246798647,
          -0.34720705670834073,
          0.7015056159804889,
          -0.06633764356444732,
          -0.35762857517150526,
          -0.13303566286275423,
          -0.2917068052578637,
          1.3309447828567855,
          0.529638075869884,
          -0.9961521943956223,
          0.8271829335908373,
          -1.573459137066797,
          -0.1754008772182543,
          0.7079553812048236,
          1.08194221950866,
          -1.4556892820956553,
          0.5966501657415297,
          -1.7036913081553566,
          1.1424442870205669,
          0.1225499132212124,
          0.42230163510717733,
          1.2578518066587125,
          1.3137164136996544,
          0.11755659747457874,
          -0.9443611100112794,
          0.07287492232967667,
          1.1626138659501972,
          0.7615470426582388,
          1.1893807011883775,
          -0.5726342786559914,
          0.24536605864017702,
          0.6800676679860762,
          -0.2397332660647786,
          2.503249296390802,
          0.5932820955428155,
          -0.030340688713944065,
          -0.993600587275602,
          0.8898367016735991,
          -0.9819923012333851,
          1.1192079468190357,
          0.09786057126706922,
          0.11320762328465832,
          1.1961353751277923,
          -0.2851771780454916,
          0.009790042253053683,
          1.6776118927226216,
          0.6537812961358346,
          -0.5085543086461852,
          2.261792750089865,
          0.3320149307082757,
          -0.3909195340128025,
          1.2472924965267755,
          1.311846235635573
         ],
         "xaxis": "x16",
         "yaxis": "y16"
        }
       ],
       "layout": {
        "bargap": 0.02,
        "legend": {
         "bgcolor": "#F5F6F9",
         "font": {
          "color": "#4D5663"
         }
        },
        "paper_bgcolor": "#F5F6F9",
        "plot_bgcolor": "#F5F6F9",
        "showlegend": false,
        "template": {
         "data": {
          "bar": [
           {
            "error_x": {
             "color": "#2a3f5f"
            },
            "error_y": {
             "color": "#2a3f5f"
            },
            "marker": {
             "line": {
              "color": "#E5ECF6",
              "width": 0.5
             },
             "pattern": {
              "fillmode": "overlay",
              "size": 10,
              "solidity": 0.2
             }
            },
            "type": "bar"
           }
          ],
          "barpolar": [
           {
            "marker": {
             "line": {
              "color": "#E5ECF6",
              "width": 0.5
             },
             "pattern": {
              "fillmode": "overlay",
              "size": 10,
              "solidity": 0.2
             }
            },
            "type": "barpolar"
           }
          ],
          "carpet": [
           {
            "aaxis": {
             "endlinecolor": "#2a3f5f",
             "gridcolor": "white",
             "linecolor": "white",
             "minorgridcolor": "white",
             "startlinecolor": "#2a3f5f"
            },
            "baxis": {
             "endlinecolor": "#2a3f5f",
             "gridcolor": "white",
             "linecolor": "white",
             "minorgridcolor": "white",
             "startlinecolor": "#2a3f5f"
            },
            "type": "carpet"
           }
          ],
          "choropleth": [
           {
            "colorbar": {
             "outlinewidth": 0,
             "ticks": ""
            },
            "type": "choropleth"
           }
          ],
          "contour": [
           {
            "colorbar": {
             "outlinewidth": 0,
             "ticks": ""
            },
            "colorscale": [
             [
              0,
              "#0d0887"
             ],
             [
              0.1111111111111111,
              "#46039f"
             ],
             [
              0.2222222222222222,
              "#7201a8"
             ],
             [
              0.3333333333333333,
              "#9c179e"
             ],
             [
              0.4444444444444444,
              "#bd3786"
             ],
             [
              0.5555555555555556,
              "#d8576b"
             ],
             [
              0.6666666666666666,
              "#ed7953"
             ],
             [
              0.7777777777777778,
              "#fb9f3a"
             ],
             [
              0.8888888888888888,
              "#fdca26"
             ],
             [
              1,
              "#f0f921"
             ]
            ],
            "type": "contour"
           }
          ],
          "contourcarpet": [
           {
            "colorbar": {
             "outlinewidth": 0,
             "ticks": ""
            },
            "type": "contourcarpet"
           }
          ],
          "heatmap": [
           {
            "colorbar": {
             "outlinewidth": 0,
             "ticks": ""
            },
            "colorscale": [
             [
              0,
              "#0d0887"
             ],
             [
              0.1111111111111111,
              "#46039f"
             ],
             [
              0.2222222222222222,
              "#7201a8"
             ],
             [
              0.3333333333333333,
              "#9c179e"
             ],
             [
              0.4444444444444444,
              "#bd3786"
             ],
             [
              0.5555555555555556,
              "#d8576b"
             ],
             [
              0.6666666666666666,
              "#ed7953"
             ],
             [
              0.7777777777777778,
              "#fb9f3a"
             ],
             [
              0.8888888888888888,
              "#fdca26"
             ],
             [
              1,
              "#f0f921"
             ]
            ],
            "type": "heatmap"
           }
          ],
          "heatmapgl": [
           {
            "colorbar": {
             "outlinewidth": 0,
             "ticks": ""
            },
            "colorscale": [
             [
              0,
              "#0d0887"
             ],
             [
              0.1111111111111111,
              "#46039f"
             ],
             [
              0.2222222222222222,
              "#7201a8"
             ],
             [
              0.3333333333333333,
              "#9c179e"
             ],
             [
              0.4444444444444444,
              "#bd3786"
             ],
             [
              0.5555555555555556,
              "#d8576b"
             ],
             [
              0.6666666666666666,
              "#ed7953"
             ],
             [
              0.7777777777777778,
              "#fb9f3a"
             ],
             [
              0.8888888888888888,
              "#fdca26"
             ],
             [
              1,
              "#f0f921"
             ]
            ],
            "type": "heatmapgl"
           }
          ],
          "histogram": [
           {
            "marker": {
             "pattern": {
              "fillmode": "overlay",
              "size": 10,
              "solidity": 0.2
             }
            },
            "type": "histogram"
           }
          ],
          "histogram2d": [
           {
            "colorbar": {
             "outlinewidth": 0,
             "ticks": ""
            },
            "colorscale": [
             [
              0,
              "#0d0887"
             ],
             [
              0.1111111111111111,
              "#46039f"
             ],
             [
              0.2222222222222222,
              "#7201a8"
             ],
             [
              0.3333333333333333,
              "#9c179e"
             ],
             [
              0.4444444444444444,
              "#bd3786"
             ],
             [
              0.5555555555555556,
              "#d8576b"
             ],
             [
              0.6666666666666666,
              "#ed7953"
             ],
             [
              0.7777777777777778,
              "#fb9f3a"
             ],
             [
              0.8888888888888888,
              "#fdca26"
             ],
             [
              1,
              "#f0f921"
             ]
            ],
            "type": "histogram2d"
           }
          ],
          "histogram2dcontour": [
           {
            "colorbar": {
             "outlinewidth": 0,
             "ticks": ""
            },
            "colorscale": [
             [
              0,
              "#0d0887"
             ],
             [
              0.1111111111111111,
              "#46039f"
             ],
             [
              0.2222222222222222,
              "#7201a8"
             ],
             [
              0.3333333333333333,
              "#9c179e"
             ],
             [
              0.4444444444444444,
              "#bd3786"
             ],
             [
              0.5555555555555556,
              "#d8576b"
             ],
             [
              0.6666666666666666,
              "#ed7953"
             ],
             [
              0.7777777777777778,
              "#fb9f3a"
             ],
             [
              0.8888888888888888,
              "#fdca26"
             ],
             [
              1,
              "#f0f921"
             ]
            ],
            "type": "histogram2dcontour"
           }
          ],
          "mesh3d": [
           {
            "colorbar": {
             "outlinewidth": 0,
             "ticks": ""
            },
            "type": "mesh3d"
           }
          ],
          "parcoords": [
           {
            "line": {
             "colorbar": {
              "outlinewidth": 0,
              "ticks": ""
             }
            },
            "type": "parcoords"
           }
          ],
          "pie": [
           {
            "automargin": true,
            "type": "pie"
           }
          ],
          "scatter": [
           {
            "fillpattern": {
             "fillmode": "overlay",
             "size": 10,
             "solidity": 0.2
            },
            "type": "scatter"
           }
          ],
          "scatter3d": [
           {
            "line": {
             "colorbar": {
              "outlinewidth": 0,
              "ticks": ""
             }
            },
            "marker": {
             "colorbar": {
              "outlinewidth": 0,
              "ticks": ""
             }
            },
            "type": "scatter3d"
           }
          ],
          "scattercarpet": [
           {
            "marker": {
             "colorbar": {
              "outlinewidth": 0,
              "ticks": ""
             }
            },
            "type": "scattercarpet"
           }
          ],
          "scattergeo": [
           {
            "marker": {
             "colorbar": {
              "outlinewidth": 0,
              "ticks": ""
             }
            },
            "type": "scattergeo"
           }
          ],
          "scattergl": [
           {
            "marker": {
             "colorbar": {
              "outlinewidth": 0,
              "ticks": ""
             }
            },
            "type": "scattergl"
           }
          ],
          "scattermapbox": [
           {
            "marker": {
             "colorbar": {
              "outlinewidth": 0,
              "ticks": ""
             }
            },
            "type": "scattermapbox"
           }
          ],
          "scatterpolar": [
           {
            "marker": {
             "colorbar": {
              "outlinewidth": 0,
              "ticks": ""
             }
            },
            "type": "scatterpolar"
           }
          ],
          "scatterpolargl": [
           {
            "marker": {
             "colorbar": {
              "outlinewidth": 0,
              "ticks": ""
             }
            },
            "type": "scatterpolargl"
           }
          ],
          "scatterternary": [
           {
            "marker": {
             "colorbar": {
              "outlinewidth": 0,
              "ticks": ""
             }
            },
            "type": "scatterternary"
           }
          ],
          "surface": [
           {
            "colorbar": {
             "outlinewidth": 0,
             "ticks": ""
            },
            "colorscale": [
             [
              0,
              "#0d0887"
             ],
             [
              0.1111111111111111,
              "#46039f"
             ],
             [
              0.2222222222222222,
              "#7201a8"
             ],
             [
              0.3333333333333333,
              "#9c179e"
             ],
             [
              0.4444444444444444,
              "#bd3786"
             ],
             [
              0.5555555555555556,
              "#d8576b"
             ],
             [
              0.6666666666666666,
              "#ed7953"
             ],
             [
              0.7777777777777778,
              "#fb9f3a"
             ],
             [
              0.8888888888888888,
              "#fdca26"
             ],
             [
              1,
              "#f0f921"
             ]
            ],
            "type": "surface"
           }
          ],
          "table": [
           {
            "cells": {
             "fill": {
              "color": "#EBF0F8"
             },
             "line": {
              "color": "white"
             }
            },
            "header": {
             "fill": {
              "color": "#C8D4E3"
             },
             "line": {
              "color": "white"
             }
            },
            "type": "table"
           }
          ]
         },
         "layout": {
          "annotationdefaults": {
           "arrowcolor": "#2a3f5f",
           "arrowhead": 0,
           "arrowwidth": 1
          },
          "autotypenumbers": "strict",
          "coloraxis": {
           "colorbar": {
            "outlinewidth": 0,
            "ticks": ""
           }
          },
          "colorscale": {
           "diverging": [
            [
             0,
             "#8e0152"
            ],
            [
             0.1,
             "#c51b7d"
            ],
            [
             0.2,
             "#de77ae"
            ],
            [
             0.3,
             "#f1b6da"
            ],
            [
             0.4,
             "#fde0ef"
            ],
            [
             0.5,
             "#f7f7f7"
            ],
            [
             0.6,
             "#e6f5d0"
            ],
            [
             0.7,
             "#b8e186"
            ],
            [
             0.8,
             "#7fbc41"
            ],
            [
             0.9,
             "#4d9221"
            ],
            [
             1,
             "#276419"
            ]
           ],
           "sequential": [
            [
             0,
             "#0d0887"
            ],
            [
             0.1111111111111111,
             "#46039f"
            ],
            [
             0.2222222222222222,
             "#7201a8"
            ],
            [
             0.3333333333333333,
             "#9c179e"
            ],
            [
             0.4444444444444444,
             "#bd3786"
            ],
            [
             0.5555555555555556,
             "#d8576b"
            ],
            [
             0.6666666666666666,
             "#ed7953"
            ],
            [
             0.7777777777777778,
             "#fb9f3a"
            ],
            [
             0.8888888888888888,
             "#fdca26"
            ],
            [
             1,
             "#f0f921"
            ]
           ],
           "sequentialminus": [
            [
             0,
             "#0d0887"
            ],
            [
             0.1111111111111111,
             "#46039f"
            ],
            [
             0.2222222222222222,
             "#7201a8"
            ],
            [
             0.3333333333333333,
             "#9c179e"
            ],
            [
             0.4444444444444444,
             "#bd3786"
            ],
            [
             0.5555555555555556,
             "#d8576b"
            ],
            [
             0.6666666666666666,
             "#ed7953"
            ],
            [
             0.7777777777777778,
             "#fb9f3a"
            ],
            [
             0.8888888888888888,
             "#fdca26"
            ],
            [
             1,
             "#f0f921"
            ]
           ]
          },
          "colorway": [
           "#636efa",
           "#EF553B",
           "#00cc96",
           "#ab63fa",
           "#FFA15A",
           "#19d3f3",
           "#FF6692",
           "#B6E880",
           "#FF97FF",
           "#FECB52"
          ],
          "font": {
           "color": "#2a3f5f"
          },
          "geo": {
           "bgcolor": "white",
           "lakecolor": "white",
           "landcolor": "#E5ECF6",
           "showlakes": true,
           "showland": true,
           "subunitcolor": "white"
          },
          "hoverlabel": {
           "align": "left"
          },
          "hovermode": "closest",
          "mapbox": {
           "style": "light"
          },
          "paper_bgcolor": "white",
          "plot_bgcolor": "#E5ECF6",
          "polar": {
           "angularaxis": {
            "gridcolor": "white",
            "linecolor": "white",
            "ticks": ""
           },
           "bgcolor": "#E5ECF6",
           "radialaxis": {
            "gridcolor": "white",
            "linecolor": "white",
            "ticks": ""
           }
          },
          "scene": {
           "xaxis": {
            "backgroundcolor": "#E5ECF6",
            "gridcolor": "white",
            "gridwidth": 2,
            "linecolor": "white",
            "showbackground": true,
            "ticks": "",
            "zerolinecolor": "white"
           },
           "yaxis": {
            "backgroundcolor": "#E5ECF6",
            "gridcolor": "white",
            "gridwidth": 2,
            "linecolor": "white",
            "showbackground": true,
            "ticks": "",
            "zerolinecolor": "white"
           },
           "zaxis": {
            "backgroundcolor": "#E5ECF6",
            "gridcolor": "white",
            "gridwidth": 2,
            "linecolor": "white",
            "showbackground": true,
            "ticks": "",
            "zerolinecolor": "white"
           }
          },
          "shapedefaults": {
           "line": {
            "color": "#2a3f5f"
           }
          },
          "ternary": {
           "aaxis": {
            "gridcolor": "white",
            "linecolor": "white",
            "ticks": ""
           },
           "baxis": {
            "gridcolor": "white",
            "linecolor": "white",
            "ticks": ""
           },
           "bgcolor": "#E5ECF6",
           "caxis": {
            "gridcolor": "white",
            "linecolor": "white",
            "ticks": ""
           }
          },
          "title": {
           "x": 0.05
          },
          "xaxis": {
           "automargin": true,
           "gridcolor": "white",
           "linecolor": "white",
           "ticks": "",
           "title": {
            "standoff": 15
           },
           "zerolinecolor": "white",
           "zerolinewidth": 2
          },
          "yaxis": {
           "automargin": true,
           "gridcolor": "white",
           "linecolor": "white",
           "ticks": "",
           "title": {
            "standoff": 15
           },
           "zerolinecolor": "white",
           "zerolinewidth": 2
          }
         }
        },
        "title": {
         "font": {
          "color": "#4D5663"
         }
        },
        "xaxis": {
         "anchor": "y",
         "domain": [
          0,
          0.2125
         ],
         "gridcolor": "#E1E5ED",
         "showgrid": false,
         "tickfont": {
          "color": "#4D5663"
         },
         "title": {
          "font": {
           "color": "#4D5663"
          },
          "text": ""
         },
         "zerolinecolor": "#E1E5ED"
        },
        "xaxis10": {
         "anchor": "y10",
         "domain": [
          0.2625,
          0.475
         ],
         "gridcolor": "#E1E5ED",
         "showgrid": false,
         "tickfont": {
          "color": "#4D5663"
         },
         "title": {
          "font": {
           "color": "#4D5663"
          },
          "text": ""
         },
         "zerolinecolor": "#E1E5ED"
        },
        "xaxis11": {
         "anchor": "y11",
         "domain": [
          0.525,
          0.7375
         ],
         "gridcolor": "#E1E5ED",
         "showgrid": false,
         "tickfont": {
          "color": "#4D5663"
         },
         "title": {
          "font": {
           "color": "#4D5663"
          },
          "text": ""
         },
         "zerolinecolor": "#E1E5ED"
        },
        "xaxis12": {
         "anchor": "y12",
         "domain": [
          0.7875,
          1
         ],
         "gridcolor": "#E1E5ED",
         "showgrid": false,
         "tickfont": {
          "color": "#4D5663"
         },
         "title": {
          "font": {
           "color": "#4D5663"
          },
          "text": ""
         },
         "zerolinecolor": "#E1E5ED"
        },
        "xaxis13": {
         "anchor": "y13",
         "domain": [
          0,
          0.2125
         ],
         "gridcolor": "#E1E5ED",
         "showgrid": false,
         "tickfont": {
          "color": "#4D5663"
         },
         "title": {
          "font": {
           "color": "#4D5663"
          },
          "text": ""
         },
         "zerolinecolor": "#E1E5ED"
        },
        "xaxis14": {
         "anchor": "y14",
         "domain": [
          0.2625,
          0.475
         ],
         "gridcolor": "#E1E5ED",
         "showgrid": false,
         "tickfont": {
          "color": "#4D5663"
         },
         "title": {
          "font": {
           "color": "#4D5663"
          },
          "text": ""
         },
         "zerolinecolor": "#E1E5ED"
        },
        "xaxis15": {
         "anchor": "y15",
         "domain": [
          0.525,
          0.7375
         ],
         "gridcolor": "#E1E5ED",
         "showgrid": false,
         "tickfont": {
          "color": "#4D5663"
         },
         "title": {
          "font": {
           "color": "#4D5663"
          },
          "text": ""
         },
         "zerolinecolor": "#E1E5ED"
        },
        "xaxis16": {
         "anchor": "y16",
         "domain": [
          0.7875,
          1
         ],
         "gridcolor": "#E1E5ED",
         "showgrid": false,
         "tickfont": {
          "color": "#4D5663"
         },
         "title": {
          "font": {
           "color": "#4D5663"
          },
          "text": ""
         },
         "zerolinecolor": "#E1E5ED"
        },
        "xaxis2": {
         "anchor": "y2",
         "domain": [
          0.2625,
          0.475
         ],
         "gridcolor": "#E1E5ED",
         "showgrid": false,
         "tickfont": {
          "color": "#4D5663"
         },
         "title": {
          "font": {
           "color": "#4D5663"
          },
          "text": ""
         },
         "zerolinecolor": "#E1E5ED"
        },
        "xaxis3": {
         "anchor": "y3",
         "domain": [
          0.525,
          0.7375
         ],
         "gridcolor": "#E1E5ED",
         "showgrid": false,
         "tickfont": {
          "color": "#4D5663"
         },
         "title": {
          "font": {
           "color": "#4D5663"
          },
          "text": ""
         },
         "zerolinecolor": "#E1E5ED"
        },
        "xaxis4": {
         "anchor": "y4",
         "domain": [
          0.7875,
          1
         ],
         "gridcolor": "#E1E5ED",
         "showgrid": false,
         "tickfont": {
          "color": "#4D5663"
         },
         "title": {
          "font": {
           "color": "#4D5663"
          },
          "text": ""
         },
         "zerolinecolor": "#E1E5ED"
        },
        "xaxis5": {
         "anchor": "y5",
         "domain": [
          0,
          0.2125
         ],
         "gridcolor": "#E1E5ED",
         "showgrid": false,
         "tickfont": {
          "color": "#4D5663"
         },
         "title": {
          "font": {
           "color": "#4D5663"
          },
          "text": ""
         },
         "zerolinecolor": "#E1E5ED"
        },
        "xaxis6": {
         "anchor": "y6",
         "domain": [
          0.2625,
          0.475
         ],
         "gridcolor": "#E1E5ED",
         "showgrid": false,
         "tickfont": {
          "color": "#4D5663"
         },
         "title": {
          "font": {
           "color": "#4D5663"
          },
          "text": ""
         },
         "zerolinecolor": "#E1E5ED"
        },
        "xaxis7": {
         "anchor": "y7",
         "domain": [
          0.525,
          0.7375
         ],
         "gridcolor": "#E1E5ED",
         "showgrid": false,
         "tickfont": {
          "color": "#4D5663"
         },
         "title": {
          "font": {
           "color": "#4D5663"
          },
          "text": ""
         },
         "zerolinecolor": "#E1E5ED"
        },
        "xaxis8": {
         "anchor": "y8",
         "domain": [
          0.7875,
          1
         ],
         "gridcolor": "#E1E5ED",
         "showgrid": false,
         "tickfont": {
          "color": "#4D5663"
         },
         "title": {
          "font": {
           "color": "#4D5663"
          },
          "text": ""
         },
         "zerolinecolor": "#E1E5ED"
        },
        "xaxis9": {
         "anchor": "y9",
         "domain": [
          0,
          0.2125
         ],
         "gridcolor": "#E1E5ED",
         "showgrid": false,
         "tickfont": {
          "color": "#4D5663"
         },
         "title": {
          "font": {
           "color": "#4D5663"
          },
          "text": ""
         },
         "zerolinecolor": "#E1E5ED"
        },
        "yaxis": {
         "anchor": "x",
         "domain": [
          0.8025,
          1
         ],
         "gridcolor": "#E1E5ED",
         "showgrid": false,
         "tickfont": {
          "color": "#4D5663"
         },
         "title": {
          "font": {
           "color": "#4D5663"
          },
          "text": ""
         },
         "zerolinecolor": "#E1E5ED"
        },
        "yaxis10": {
         "anchor": "x10",
         "domain": [
          0.2675,
          0.465
         ],
         "gridcolor": "#E1E5ED",
         "showgrid": false,
         "tickfont": {
          "color": "#4D5663"
         },
         "title": {
          "font": {
           "color": "#4D5663"
          },
          "text": ""
         },
         "zerolinecolor": "#E1E5ED"
        },
        "yaxis11": {
         "anchor": "x11",
         "domain": [
          0.2675,
          0.465
         ],
         "gridcolor": "#E1E5ED",
         "showgrid": false,
         "tickfont": {
          "color": "#4D5663"
         },
         "title": {
          "font": {
           "color": "#4D5663"
          },
          "text": ""
         },
         "zerolinecolor": "#E1E5ED"
        },
        "yaxis12": {
         "anchor": "x12",
         "domain": [
          0.2675,
          0.465
         ],
         "gridcolor": "#E1E5ED",
         "showgrid": false,
         "tickfont": {
          "color": "#4D5663"
         },
         "title": {
          "font": {
           "color": "#4D5663"
          },
          "text": ""
         },
         "zerolinecolor": "#E1E5ED"
        },
        "yaxis13": {
         "anchor": "x13",
         "domain": [
          0,
          0.1975
         ],
         "gridcolor": "#E1E5ED",
         "showgrid": false,
         "tickfont": {
          "color": "#4D5663"
         },
         "title": {
          "font": {
           "color": "#4D5663"
          },
          "text": ""
         },
         "zerolinecolor": "#E1E5ED"
        },
        "yaxis14": {
         "anchor": "x14",
         "domain": [
          0,
          0.1975
         ],
         "gridcolor": "#E1E5ED",
         "showgrid": false,
         "tickfont": {
          "color": "#4D5663"
         },
         "title": {
          "font": {
           "color": "#4D5663"
          },
          "text": ""
         },
         "zerolinecolor": "#E1E5ED"
        },
        "yaxis15": {
         "anchor": "x15",
         "domain": [
          0,
          0.1975
         ],
         "gridcolor": "#E1E5ED",
         "showgrid": false,
         "tickfont": {
          "color": "#4D5663"
         },
         "title": {
          "font": {
           "color": "#4D5663"
          },
          "text": ""
         },
         "zerolinecolor": "#E1E5ED"
        },
        "yaxis16": {
         "anchor": "x16",
         "domain": [
          0,
          0.1975
         ],
         "gridcolor": "#E1E5ED",
         "showgrid": false,
         "tickfont": {
          "color": "#4D5663"
         },
         "title": {
          "font": {
           "color": "#4D5663"
          },
          "text": ""
         },
         "zerolinecolor": "#E1E5ED"
        },
        "yaxis2": {
         "anchor": "x2",
         "domain": [
          0.8025,
          1
         ],
         "gridcolor": "#E1E5ED",
         "showgrid": false,
         "tickfont": {
          "color": "#4D5663"
         },
         "title": {
          "font": {
           "color": "#4D5663"
          },
          "text": ""
         },
         "zerolinecolor": "#E1E5ED"
        },
        "yaxis3": {
         "anchor": "x3",
         "domain": [
          0.8025,
          1
         ],
         "gridcolor": "#E1E5ED",
         "showgrid": false,
         "tickfont": {
          "color": "#4D5663"
         },
         "title": {
          "font": {
           "color": "#4D5663"
          },
          "text": ""
         },
         "zerolinecolor": "#E1E5ED"
        },
        "yaxis4": {
         "anchor": "x4",
         "domain": [
          0.8025,
          1
         ],
         "gridcolor": "#E1E5ED",
         "showgrid": false,
         "tickfont": {
          "color": "#4D5663"
         },
         "title": {
          "font": {
           "color": "#4D5663"
          },
          "text": ""
         },
         "zerolinecolor": "#E1E5ED"
        },
        "yaxis5": {
         "anchor": "x5",
         "domain": [
          0.535,
          0.7325
         ],
         "gridcolor": "#E1E5ED",
         "showgrid": false,
         "tickfont": {
          "color": "#4D5663"
         },
         "title": {
          "font": {
           "color": "#4D5663"
          },
          "text": ""
         },
         "zerolinecolor": "#E1E5ED"
        },
        "yaxis6": {
         "anchor": "x6",
         "domain": [
          0.535,
          0.7325
         ],
         "gridcolor": "#E1E5ED",
         "showgrid": false,
         "tickfont": {
          "color": "#4D5663"
         },
         "title": {
          "font": {
           "color": "#4D5663"
          },
          "text": ""
         },
         "zerolinecolor": "#E1E5ED"
        },
        "yaxis7": {
         "anchor": "x7",
         "domain": [
          0.535,
          0.7325
         ],
         "gridcolor": "#E1E5ED",
         "showgrid": false,
         "tickfont": {
          "color": "#4D5663"
         },
         "title": {
          "font": {
           "color": "#4D5663"
          },
          "text": ""
         },
         "zerolinecolor": "#E1E5ED"
        },
        "yaxis8": {
         "anchor": "x8",
         "domain": [
          0.535,
          0.7325
         ],
         "gridcolor": "#E1E5ED",
         "showgrid": false,
         "tickfont": {
          "color": "#4D5663"
         },
         "title": {
          "font": {
           "color": "#4D5663"
          },
          "text": ""
         },
         "zerolinecolor": "#E1E5ED"
        },
        "yaxis9": {
         "anchor": "x9",
         "domain": [
          0.2675,
          0.465
         ],
         "gridcolor": "#E1E5ED",
         "showgrid": false,
         "tickfont": {
          "color": "#4D5663"
         },
         "title": {
          "font": {
           "color": "#4D5663"
          },
          "text": ""
         },
         "zerolinecolor": "#E1E5ED"
        }
       }
      },
      "text/html": [
       "<div>                            <div id=\"3d6f6e7a-3d19-496e-9891-c8da3f263daa\" class=\"plotly-graph-div\" style=\"height:525px; width:100%;\"></div>            <script type=\"text/javascript\">                require([\"plotly\"], function(Plotly) {                    window.PLOTLYENV=window.PLOTLYENV || {};\n",
       "                    window.PLOTLYENV.BASE_URL='https://plot.ly';                                    if (document.getElementById(\"3d6f6e7a-3d19-496e-9891-c8da3f263daa\")) {                    Plotly.newPlot(                        \"3d6f6e7a-3d19-496e-9891-c8da3f263daa\",                        [{\"histfunc\":\"count\",\"histnorm\":\"\",\"marker\":{\"color\":\"rgba(255, 153, 51, 1.0)\",\"line\":{\"color\":\"#4D5663\",\"width\":1.3}},\"name\":\"A\",\"nbinsx\":10,\"opacity\":0.8,\"orientation\":\"v\",\"x\":[0.5270350517910259,0.8072417761741204,1.1392313016357698,-0.26096404113916827,0.6926958204203916,0.9920051309969496,-0.11703426105936891,0.1772112230298288,-1.546858677607195,-2.12578011605067,-0.6668762349299929,-0.6859473345004385,-0.06517967932935818,1.509878948316418,-1.8327579596743897,0.006271054192142402,0.3414994082440188,0.9963915461590376,-0.6921272019494343,1.5772536578772964,-0.5557862878321287,-2.017935639740841,-1.1628872083088297,0.7367687289628784,0.9861800715940734,0.6246167005591827,-1.9474893936892852,1.514648850869348,-1.0370802434215016,0.9528204965997727,1.3086341505647139,-0.8999610192720289,-0.8274926084715756,0.23144826433866572,-0.8844009286812917,-1.0089518557682686,0.6932773742180772,1.0061969073018957,1.092431285788773,1.1045108225684144,-1.2769047407707261,1.054723907960595,-1.424470905566255,0.8213992840984147,0.6508352767197153,0.7329958919606228,-1.103247067925494,0.601973655750255,0.2411701647259433,0.7332646418151118,-0.4867885879627209,-1.2441969273967537,1.6754209142406766,-0.32039696502661236,1.1215309278302448,-1.3886324130968108,1.0143521438152425,-0.5068577869406047,-0.18319072282702112,0.012500231010309247,0.40854877825819697,1.8258137915196166,1.6461587266463735,-1.8705116276819005,1.5285251703518656,-0.6037446546192259,-0.5813250501397086,-1.4794730914628256,-1.0238816124476313,-2.739929363797368,1.0552377958437529,-1.5351435511108646,-1.7843905685681465,-0.28256426488536146,-0.3577831692789127,-0.3368682486926556,-0.6688560865867158,0.07685974077155044,-1.1543438385075415,-0.21220970437488415,-1.1771975886707862,0.4219558757493188,-0.4448033818296801,0.3241897943873185,0.46323398510899855,-2.5752791645582294,-1.3442022736781003,1.706852734553487,-0.2889523856225487,0.6976631999888713,-1.0146863195520115,-0.7524830335894936,-0.342321697117499,-0.414428719259938,1.26844070572974,-0.1096357311371834,0.47694159897509,-0.1877913031971587,-0.22201392254173058,1.4363529412819034],\"xaxis\":\"x\",\"yaxis\":\"y\",\"type\":\"histogram\"},{\"line\":{\"color\":\"rgba(128, 128, 128, 1.0)\",\"dash\":\"solid\",\"shape\":\"linear\",\"width\":1.3},\"marker\":{\"size\":2,\"symbol\":\"circle\"},\"mode\":\"markers\",\"name\":\"A\",\"text\":\"\",\"x\":[-0.3573371322445269,-0.7954803660541344,-0.23383688048364987,-1.4689616392588782,0.537737290574604,-0.05179186032217305,1.1542428711277914,1.2733915245654719,0.6223971458964284,1.7660185634710133,-0.4248669150760995,0.6103571241821237,-0.4060266583344734,-0.34083406057226867,1.0457488946748692,0.16181416390983103,1.9322396713416716,1.8553521700780675,0.07955584163522861,-0.1574334729496121,-0.6833826482122404,-1.1980781090912365,-0.9053129632827271,-0.2145284338421415,-0.050637435429454376,-0.5458995868568157,-0.5726021831051272,0.03824973522765993,-0.617215839868082,-0.4570865099864727,1.4409852198056514,-1.9590013257555352,-0.5205643338706631,0.5938850164555284,0.46474974157386184,0.7882569264403052,0.024094991915381028,-1.4577162082850728,0.07561423667063542,-1.2001222092639914,0.7541788380651747,-0.24595719786258077,0.21254927464469472,-0.49310287074353265,-0.6707348435998824,-0.8367506132618868,0.44657092371361706,0.16521007038945787,0.3801082461965531,-0.7055556233504856,0.9365054887186388,0.3927142752274356,0.2990646831914984,0.5882157939174921,-0.6027841469280251,0.5109916821229135,-0.7059286693013546,-1.1250070453809728,0.3114178659387146,0.16637813506466545,-0.5573233254530179,-0.6326873498471812,-1.0807829905528308,-0.3976740103682822,-0.19283456701847768,-0.36007121436303724,-0.3470273779456088,-0.9597181464851905,1.066691240020702,0.9136225090209719,1.3101158716194419,-0.9085927744857276,-1.5561141030386398,0.688253431236142,-0.04912350342079393,0.0877282049928525,-1.1558341775294163,0.8469784835212012,-0.9074209290923171,-0.13420252879010483,-0.913883998790638,0.6794092228773175,-0.20344922901598547,1.0574595072611443,-1.4223714743297229,-1.9454108161259374,1.1376563393228913,-0.8629420319001743,-0.8272461902066471,-0.38017293677999786,0.8729160577567565,0.918135871563344,-0.22959205957453752,-1.0789951244840297,-2.2451156390336293,-0.46859350017118706,-1.5626645877329906,-0.6218078841153108,0.08863756424389115,-1.377863557567499],\"xaxis\":\"x2\",\"y\":[0.5270350517910259,0.8072417761741204,1.1392313016357698,-0.26096404113916827,0.6926958204203916,0.9920051309969496,-0.11703426105936891,0.1772112230298288,-1.546858677607195,-2.12578011605067,-0.6668762349299929,-0.6859473345004385,-0.06517967932935818,1.509878948316418,-1.8327579596743897,0.006271054192142402,0.3414994082440188,0.9963915461590376,-0.6921272019494343,1.5772536578772964,-0.5557862878321287,-2.017935639740841,-1.1628872083088297,0.7367687289628784,0.9861800715940734,0.6246167005591827,-1.9474893936892852,1.514648850869348,-1.0370802434215016,0.9528204965997727,1.3086341505647139,-0.8999610192720289,-0.8274926084715756,0.23144826433866572,-0.8844009286812917,-1.0089518557682686,0.6932773742180772,1.0061969073018957,1.092431285788773,1.1045108225684144,-1.2769047407707261,1.054723907960595,-1.424470905566255,0.8213992840984147,0.6508352767197153,0.7329958919606228,-1.103247067925494,0.601973655750255,0.2411701647259433,0.7332646418151118,-0.4867885879627209,-1.2441969273967537,1.6754209142406766,-0.32039696502661236,1.1215309278302448,-1.3886324130968108,1.0143521438152425,-0.5068577869406047,-0.18319072282702112,0.012500231010309247,0.40854877825819697,1.8258137915196166,1.6461587266463735,-1.8705116276819005,1.5285251703518656,-0.6037446546192259,-0.5813250501397086,-1.4794730914628256,-1.0238816124476313,-2.739929363797368,1.0552377958437529,-1.5351435511108646,-1.7843905685681465,-0.28256426488536146,-0.3577831692789127,-0.3368682486926556,-0.6688560865867158,0.07685974077155044,-1.1543438385075415,-0.21220970437488415,-1.1771975886707862,0.4219558757493188,-0.4448033818296801,0.3241897943873185,0.46323398510899855,-2.5752791645582294,-1.3442022736781003,1.706852734553487,-0.2889523856225487,0.6976631999888713,-1.0146863195520115,-0.7524830335894936,-0.342321697117499,-0.414428719259938,1.26844070572974,-0.1096357311371834,0.47694159897509,-0.1877913031971587,-0.22201392254173058,1.4363529412819034],\"yaxis\":\"y2\",\"type\":\"scatter\"},{\"line\":{\"color\":\"rgba(128, 128, 128, 1.0)\",\"dash\":\"solid\",\"shape\":\"linear\",\"width\":1.3},\"marker\":{\"size\":2,\"symbol\":\"circle\"},\"mode\":\"markers\",\"name\":\"A\",\"text\":\"\",\"x\":[0.4584505556547366,-1.355759907492626,-0.9509242523689222,-0.0131735240869676,-1.2668782856775764,-1.2243906645476763,-0.6381192197263483,-0.5436333333743834,-0.19306737155361317,-1.5050038180863239,-0.09217541167291504,-0.2870761574109859,-0.027109426002290424,-0.4821753666043871,0.5197895844807667,-1.5435011910360992,-0.1532171962843395,0.19221442299809516,1.6829004589500716,1.7827277657527965,-0.5759683053021424,-0.2056844152798431,1.1837528023679855,0.4550449590753043,-1.340467259415179,1.1220501307061408,1.527045816107696,0.7352930438752754,-0.33278393449051086,0.96464746058435,0.3809277939425206,-0.13829687429463314,0.7736968972661555,-1.5681141892234975,-0.09055566289186763,0.8425683793972419,-0.04371116808137712,-0.1568752750128221,0.0969846556376833,1.1154110497870993,0.0326989265064,-1.375691497499252,0.11323883862831831,-0.1265521103778363,0.8593750505395408,0.08754139347705762,0.3042926798516024,0.33416306528344336,1.023778135599816,0.9830038717298408,0.24858331667601347,-0.40864882613789666,1.991676086032405,-0.23733140978395745,-1.5753553993293385,0.3006659689825678,0.8960856184689652,0.6859968375442339,2.6283658707522237,-0.8285506771225467,-0.663341972805794,0.7318994775648154,0.3286997591793689,-0.6414273278308326,-1.3313039283715737,-1.7932200414655362,-0.5935692770246527,-0.496620849174363,2.0675012677514526,0.31904792947433325,2.853655976993376,1.5164837831641964,0.08676150084539137,0.7800111445973753,1.03692530402091,0.7557529745512395,-0.3399967573791637,-0.5597080738873084,0.3986459378093854,1.853578424951002,0.09042379354775373,-2.0519673794202595,0.1310270556830349,1.3709195760323136,0.3922390921516855,-0.5940809548472152,0.013693855794778383,-0.3612241395295903,2.122065766506009,0.30983463016779744,0.5884851198214166,-0.9671532453141337,0.8241324017362862,0.862316253761791,0.0431544660219074,-0.06485888359874721,-0.5339701700509776,0.5727835618955416,0.0015586865735916788,-1.3479478739832138],\"xaxis\":\"x3\",\"y\":[0.5270350517910259,0.8072417761741204,1.1392313016357698,-0.26096404113916827,0.6926958204203916,0.9920051309969496,-0.11703426105936891,0.1772112230298288,-1.546858677607195,-2.12578011605067,-0.6668762349299929,-0.6859473345004385,-0.06517967932935818,1.509878948316418,-1.8327579596743897,0.006271054192142402,0.3414994082440188,0.9963915461590376,-0.6921272019494343,1.5772536578772964,-0.5557862878321287,-2.017935639740841,-1.1628872083088297,0.7367687289628784,0.9861800715940734,0.6246167005591827,-1.9474893936892852,1.514648850869348,-1.0370802434215016,0.9528204965997727,1.3086341505647139,-0.8999610192720289,-0.8274926084715756,0.23144826433866572,-0.8844009286812917,-1.0089518557682686,0.6932773742180772,1.0061969073018957,1.092431285788773,1.1045108225684144,-1.2769047407707261,1.054723907960595,-1.424470905566255,0.8213992840984147,0.6508352767197153,0.7329958919606228,-1.103247067925494,0.601973655750255,0.2411701647259433,0.7332646418151118,-0.4867885879627209,-1.2441969273967537,1.6754209142406766,-0.32039696502661236,1.1215309278302448,-1.3886324130968108,1.0143521438152425,-0.5068577869406047,-0.18319072282702112,0.012500231010309247,0.40854877825819697,1.8258137915196166,1.6461587266463735,-1.8705116276819005,1.5285251703518656,-0.6037446546192259,-0.5813250501397086,-1.4794730914628256,-1.0238816124476313,-2.739929363797368,1.0552377958437529,-1.5351435511108646,-1.7843905685681465,-0.28256426488536146,-0.3577831692789127,-0.3368682486926556,-0.6688560865867158,0.07685974077155044,-1.1543438385075415,-0.21220970437488415,-1.1771975886707862,0.4219558757493188,-0.4448033818296801,0.3241897943873185,0.46323398510899855,-2.5752791645582294,-1.3442022736781003,1.706852734553487,-0.2889523856225487,0.6976631999888713,-1.0146863195520115,-0.7524830335894936,-0.342321697117499,-0.414428719259938,1.26844070572974,-0.1096357311371834,0.47694159897509,-0.1877913031971587,-0.22201392254173058,1.4363529412819034],\"yaxis\":\"y3\",\"type\":\"scatter\"},{\"line\":{\"color\":\"rgba(128, 128, 128, 1.0)\",\"dash\":\"solid\",\"shape\":\"linear\",\"width\":1.3},\"marker\":{\"size\":2,\"symbol\":\"circle\"},\"mode\":\"markers\",\"name\":\"A\",\"text\":\"\",\"x\":[0.02387095975750891,-0.11606270474382845,-1.1415131954077733,0.8403513535467135,0.5276599881343238,-0.11891503715225887,-1.4407425924068988,-0.020793684915744876,-1.1676150844952335,-1.234060260686417,-2.0770740329242328,1.6166710351726927,0.9708306919647921,0.2792704987633396,-1.9202604526861047,-0.2988362843367368,-0.3558536797190755,-0.09365770273032371,-1.580969468829377,0.8552826440084819,1.5421142045913974,-0.43704121716842387,0.01482115890763024,0.5643524040633793,0.050801646826494795,0.11508489546061638,-1.271769562960929,0.8225851675031259,-0.5122222951533912,-0.2208509296561825,1.0947510016357487,0.4116333504033674,2.119990580852485,-1.1670301730088755,-1.4248710165443172,0.0089414042080053,1.8465500334894767,-0.08443143483715851,-0.8014749052591004,1.3180195354119786,-0.6977304459470564,1.006816218542904,0.045441574866400276,-1.2538553339757075,-0.905292883358867,-1.174293868102388,-0.17586256772486136,-1.4508632246798647,-0.34720705670834073,0.7015056159804889,-0.06633764356444732,-0.35762857517150526,-0.13303566286275423,-0.2917068052578637,1.3309447828567855,0.529638075869884,-0.9961521943956223,0.8271829335908373,-1.573459137066797,-0.1754008772182543,0.7079553812048236,1.08194221950866,-1.4556892820956553,0.5966501657415297,-1.7036913081553566,1.1424442870205669,0.1225499132212124,0.42230163510717733,1.2578518066587125,1.3137164136996544,0.11755659747457874,-0.9443611100112794,0.07287492232967667,1.1626138659501972,0.7615470426582388,1.1893807011883775,-0.5726342786559914,0.24536605864017702,0.6800676679860762,-0.2397332660647786,2.503249296390802,0.5932820955428155,-0.030340688713944065,-0.993600587275602,0.8898367016735991,-0.9819923012333851,1.1192079468190357,0.09786057126706922,0.11320762328465832,1.1961353751277923,-0.2851771780454916,0.009790042253053683,1.6776118927226216,0.6537812961358346,-0.5085543086461852,2.261792750089865,0.3320149307082757,-0.3909195340128025,1.2472924965267755,1.311846235635573],\"xaxis\":\"x4\",\"y\":[0.5270350517910259,0.8072417761741204,1.1392313016357698,-0.26096404113916827,0.6926958204203916,0.9920051309969496,-0.11703426105936891,0.1772112230298288,-1.546858677607195,-2.12578011605067,-0.6668762349299929,-0.6859473345004385,-0.06517967932935818,1.509878948316418,-1.8327579596743897,0.006271054192142402,0.3414994082440188,0.9963915461590376,-0.6921272019494343,1.5772536578772964,-0.5557862878321287,-2.017935639740841,-1.1628872083088297,0.7367687289628784,0.9861800715940734,0.6246167005591827,-1.9474893936892852,1.514648850869348,-1.0370802434215016,0.9528204965997727,1.3086341505647139,-0.8999610192720289,-0.8274926084715756,0.23144826433866572,-0.8844009286812917,-1.0089518557682686,0.6932773742180772,1.0061969073018957,1.092431285788773,1.1045108225684144,-1.2769047407707261,1.054723907960595,-1.424470905566255,0.8213992840984147,0.6508352767197153,0.7329958919606228,-1.103247067925494,0.601973655750255,0.2411701647259433,0.7332646418151118,-0.4867885879627209,-1.2441969273967537,1.6754209142406766,-0.32039696502661236,1.1215309278302448,-1.3886324130968108,1.0143521438152425,-0.5068577869406047,-0.18319072282702112,0.012500231010309247,0.40854877825819697,1.8258137915196166,1.6461587266463735,-1.8705116276819005,1.5285251703518656,-0.6037446546192259,-0.5813250501397086,-1.4794730914628256,-1.0238816124476313,-2.739929363797368,1.0552377958437529,-1.5351435511108646,-1.7843905685681465,-0.28256426488536146,-0.3577831692789127,-0.3368682486926556,-0.6688560865867158,0.07685974077155044,-1.1543438385075415,-0.21220970437488415,-1.1771975886707862,0.4219558757493188,-0.4448033818296801,0.3241897943873185,0.46323398510899855,-2.5752791645582294,-1.3442022736781003,1.706852734553487,-0.2889523856225487,0.6976631999888713,-1.0146863195520115,-0.7524830335894936,-0.342321697117499,-0.414428719259938,1.26844070572974,-0.1096357311371834,0.47694159897509,-0.1877913031971587,-0.22201392254173058,1.4363529412819034],\"yaxis\":\"y4\",\"type\":\"scatter\"},{\"line\":{\"color\":\"rgba(128, 128, 128, 1.0)\",\"dash\":\"solid\",\"shape\":\"linear\",\"width\":1.3},\"marker\":{\"size\":2,\"symbol\":\"circle\"},\"mode\":\"markers\",\"name\":\"B\",\"text\":\"\",\"x\":[0.5270350517910259,0.8072417761741204,1.1392313016357698,-0.26096404113916827,0.6926958204203916,0.9920051309969496,-0.11703426105936891,0.1772112230298288,-1.546858677607195,-2.12578011605067,-0.6668762349299929,-0.6859473345004385,-0.06517967932935818,1.509878948316418,-1.8327579596743897,0.006271054192142402,0.3414994082440188,0.9963915461590376,-0.6921272019494343,1.5772536578772964,-0.5557862878321287,-2.017935639740841,-1.1628872083088297,0.7367687289628784,0.9861800715940734,0.6246167005591827,-1.9474893936892852,1.514648850869348,-1.0370802434215016,0.9528204965997727,1.3086341505647139,-0.8999610192720289,-0.8274926084715756,0.23144826433866572,-0.8844009286812917,-1.0089518557682686,0.6932773742180772,1.0061969073018957,1.092431285788773,1.1045108225684144,-1.2769047407707261,1.054723907960595,-1.424470905566255,0.8213992840984147,0.6508352767197153,0.7329958919606228,-1.103247067925494,0.601973655750255,0.2411701647259433,0.7332646418151118,-0.4867885879627209,-1.2441969273967537,1.6754209142406766,-0.32039696502661236,1.1215309278302448,-1.3886324130968108,1.0143521438152425,-0.5068577869406047,-0.18319072282702112,0.012500231010309247,0.40854877825819697,1.8258137915196166,1.6461587266463735,-1.8705116276819005,1.5285251703518656,-0.6037446546192259,-0.5813250501397086,-1.4794730914628256,-1.0238816124476313,-2.739929363797368,1.0552377958437529,-1.5351435511108646,-1.7843905685681465,-0.28256426488536146,-0.3577831692789127,-0.3368682486926556,-0.6688560865867158,0.07685974077155044,-1.1543438385075415,-0.21220970437488415,-1.1771975886707862,0.4219558757493188,-0.4448033818296801,0.3241897943873185,0.46323398510899855,-2.5752791645582294,-1.3442022736781003,1.706852734553487,-0.2889523856225487,0.6976631999888713,-1.0146863195520115,-0.7524830335894936,-0.342321697117499,-0.414428719259938,1.26844070572974,-0.1096357311371834,0.47694159897509,-0.1877913031971587,-0.22201392254173058,1.4363529412819034],\"xaxis\":\"x5\",\"y\":[-0.3573371322445269,-0.7954803660541344,-0.23383688048364987,-1.4689616392588782,0.537737290574604,-0.05179186032217305,1.1542428711277914,1.2733915245654719,0.6223971458964284,1.7660185634710133,-0.4248669150760995,0.6103571241821237,-0.4060266583344734,-0.34083406057226867,1.0457488946748692,0.16181416390983103,1.9322396713416716,1.8553521700780675,0.07955584163522861,-0.1574334729496121,-0.6833826482122404,-1.1980781090912365,-0.9053129632827271,-0.2145284338421415,-0.050637435429454376,-0.5458995868568157,-0.5726021831051272,0.03824973522765993,-0.617215839868082,-0.4570865099864727,1.4409852198056514,-1.9590013257555352,-0.5205643338706631,0.5938850164555284,0.46474974157386184,0.7882569264403052,0.024094991915381028,-1.4577162082850728,0.07561423667063542,-1.2001222092639914,0.7541788380651747,-0.24595719786258077,0.21254927464469472,-0.49310287074353265,-0.6707348435998824,-0.8367506132618868,0.44657092371361706,0.16521007038945787,0.3801082461965531,-0.7055556233504856,0.9365054887186388,0.3927142752274356,0.2990646831914984,0.5882157939174921,-0.6027841469280251,0.5109916821229135,-0.7059286693013546,-1.1250070453809728,0.3114178659387146,0.16637813506466545,-0.5573233254530179,-0.6326873498471812,-1.0807829905528308,-0.3976740103682822,-0.19283456701847768,-0.36007121436303724,-0.3470273779456088,-0.9597181464851905,1.066691240020702,0.9136225090209719,1.3101158716194419,-0.9085927744857276,-1.5561141030386398,0.688253431236142,-0.04912350342079393,0.0877282049928525,-1.1558341775294163,0.8469784835212012,-0.9074209290923171,-0.13420252879010483,-0.913883998790638,0.6794092228773175,-0.20344922901598547,1.0574595072611443,-1.4223714743297229,-1.9454108161259374,1.1376563393228913,-0.8629420319001743,-0.8272461902066471,-0.38017293677999786,0.8729160577567565,0.918135871563344,-0.22959205957453752,-1.0789951244840297,-2.2451156390336293,-0.46859350017118706,-1.5626645877329906,-0.6218078841153108,0.08863756424389115,-1.377863557567499],\"yaxis\":\"y5\",\"type\":\"scatter\"},{\"histfunc\":\"count\",\"histnorm\":\"\",\"marker\":{\"color\":\"rgba(55, 128, 191, 1.0)\",\"line\":{\"color\":\"#4D5663\",\"width\":1.3}},\"name\":\"B\",\"nbinsx\":10,\"opacity\":0.8,\"orientation\":\"v\",\"x\":[-0.3573371322445269,-0.7954803660541344,-0.23383688048364987,-1.4689616392588782,0.537737290574604,-0.05179186032217305,1.1542428711277914,1.2733915245654719,0.6223971458964284,1.7660185634710133,-0.4248669150760995,0.6103571241821237,-0.4060266583344734,-0.34083406057226867,1.0457488946748692,0.16181416390983103,1.9322396713416716,1.8553521700780675,0.07955584163522861,-0.1574334729496121,-0.6833826482122404,-1.1980781090912365,-0.9053129632827271,-0.2145284338421415,-0.050637435429454376,-0.5458995868568157,-0.5726021831051272,0.03824973522765993,-0.617215839868082,-0.4570865099864727,1.4409852198056514,-1.9590013257555352,-0.5205643338706631,0.5938850164555284,0.46474974157386184,0.7882569264403052,0.024094991915381028,-1.4577162082850728,0.07561423667063542,-1.2001222092639914,0.7541788380651747,-0.24595719786258077,0.21254927464469472,-0.49310287074353265,-0.6707348435998824,-0.8367506132618868,0.44657092371361706,0.16521007038945787,0.3801082461965531,-0.7055556233504856,0.9365054887186388,0.3927142752274356,0.2990646831914984,0.5882157939174921,-0.6027841469280251,0.5109916821229135,-0.7059286693013546,-1.1250070453809728,0.3114178659387146,0.16637813506466545,-0.5573233254530179,-0.6326873498471812,-1.0807829905528308,-0.3976740103682822,-0.19283456701847768,-0.36007121436303724,-0.3470273779456088,-0.9597181464851905,1.066691240020702,0.9136225090209719,1.3101158716194419,-0.9085927744857276,-1.5561141030386398,0.688253431236142,-0.04912350342079393,0.0877282049928525,-1.1558341775294163,0.8469784835212012,-0.9074209290923171,-0.13420252879010483,-0.913883998790638,0.6794092228773175,-0.20344922901598547,1.0574595072611443,-1.4223714743297229,-1.9454108161259374,1.1376563393228913,-0.8629420319001743,-0.8272461902066471,-0.38017293677999786,0.8729160577567565,0.918135871563344,-0.22959205957453752,-1.0789951244840297,-2.2451156390336293,-0.46859350017118706,-1.5626645877329906,-0.6218078841153108,0.08863756424389115,-1.377863557567499],\"xaxis\":\"x6\",\"yaxis\":\"y6\",\"type\":\"histogram\"},{\"line\":{\"color\":\"rgba(128, 128, 128, 1.0)\",\"dash\":\"solid\",\"shape\":\"linear\",\"width\":1.3},\"marker\":{\"size\":2,\"symbol\":\"circle\"},\"mode\":\"markers\",\"name\":\"B\",\"text\":\"\",\"x\":[0.4584505556547366,-1.355759907492626,-0.9509242523689222,-0.0131735240869676,-1.2668782856775764,-1.2243906645476763,-0.6381192197263483,-0.5436333333743834,-0.19306737155361317,-1.5050038180863239,-0.09217541167291504,-0.2870761574109859,-0.027109426002290424,-0.4821753666043871,0.5197895844807667,-1.5435011910360992,-0.1532171962843395,0.19221442299809516,1.6829004589500716,1.7827277657527965,-0.5759683053021424,-0.2056844152798431,1.1837528023679855,0.4550449590753043,-1.340467259415179,1.1220501307061408,1.527045816107696,0.7352930438752754,-0.33278393449051086,0.96464746058435,0.3809277939425206,-0.13829687429463314,0.7736968972661555,-1.5681141892234975,-0.09055566289186763,0.8425683793972419,-0.04371116808137712,-0.1568752750128221,0.0969846556376833,1.1154110497870993,0.0326989265064,-1.375691497499252,0.11323883862831831,-0.1265521103778363,0.8593750505395408,0.08754139347705762,0.3042926798516024,0.33416306528344336,1.023778135599816,0.9830038717298408,0.24858331667601347,-0.40864882613789666,1.991676086032405,-0.23733140978395745,-1.5753553993293385,0.3006659689825678,0.8960856184689652,0.6859968375442339,2.6283658707522237,-0.8285506771225467,-0.663341972805794,0.7318994775648154,0.3286997591793689,-0.6414273278308326,-1.3313039283715737,-1.7932200414655362,-0.5935692770246527,-0.496620849174363,2.0675012677514526,0.31904792947433325,2.853655976993376,1.5164837831641964,0.08676150084539137,0.7800111445973753,1.03692530402091,0.7557529745512395,-0.3399967573791637,-0.5597080738873084,0.3986459378093854,1.853578424951002,0.09042379354775373,-2.0519673794202595,0.1310270556830349,1.3709195760323136,0.3922390921516855,-0.5940809548472152,0.013693855794778383,-0.3612241395295903,2.122065766506009,0.30983463016779744,0.5884851198214166,-0.9671532453141337,0.8241324017362862,0.862316253761791,0.0431544660219074,-0.06485888359874721,-0.5339701700509776,0.5727835618955416,0.0015586865735916788,-1.3479478739832138],\"xaxis\":\"x7\",\"y\":[-0.3573371322445269,-0.7954803660541344,-0.23383688048364987,-1.4689616392588782,0.537737290574604,-0.05179186032217305,1.1542428711277914,1.2733915245654719,0.6223971458964284,1.7660185634710133,-0.4248669150760995,0.6103571241821237,-0.4060266583344734,-0.34083406057226867,1.0457488946748692,0.16181416390983103,1.9322396713416716,1.8553521700780675,0.07955584163522861,-0.1574334729496121,-0.6833826482122404,-1.1980781090912365,-0.9053129632827271,-0.2145284338421415,-0.050637435429454376,-0.5458995868568157,-0.5726021831051272,0.03824973522765993,-0.617215839868082,-0.4570865099864727,1.4409852198056514,-1.9590013257555352,-0.5205643338706631,0.5938850164555284,0.46474974157386184,0.7882569264403052,0.024094991915381028,-1.4577162082850728,0.07561423667063542,-1.2001222092639914,0.7541788380651747,-0.24595719786258077,0.21254927464469472,-0.49310287074353265,-0.6707348435998824,-0.8367506132618868,0.44657092371361706,0.16521007038945787,0.3801082461965531,-0.7055556233504856,0.9365054887186388,0.3927142752274356,0.2990646831914984,0.5882157939174921,-0.6027841469280251,0.5109916821229135,-0.7059286693013546,-1.1250070453809728,0.3114178659387146,0.16637813506466545,-0.5573233254530179,-0.6326873498471812,-1.0807829905528308,-0.3976740103682822,-0.19283456701847768,-0.36007121436303724,-0.3470273779456088,-0.9597181464851905,1.066691240020702,0.9136225090209719,1.3101158716194419,-0.9085927744857276,-1.5561141030386398,0.688253431236142,-0.04912350342079393,0.0877282049928525,-1.1558341775294163,0.8469784835212012,-0.9074209290923171,-0.13420252879010483,-0.913883998790638,0.6794092228773175,-0.20344922901598547,1.0574595072611443,-1.4223714743297229,-1.9454108161259374,1.1376563393228913,-0.8629420319001743,-0.8272461902066471,-0.38017293677999786,0.8729160577567565,0.918135871563344,-0.22959205957453752,-1.0789951244840297,-2.2451156390336293,-0.46859350017118706,-1.5626645877329906,-0.6218078841153108,0.08863756424389115,-1.377863557567499],\"yaxis\":\"y7\",\"type\":\"scatter\"},{\"line\":{\"color\":\"rgba(128, 128, 128, 1.0)\",\"dash\":\"solid\",\"shape\":\"linear\",\"width\":1.3},\"marker\":{\"size\":2,\"symbol\":\"circle\"},\"mode\":\"markers\",\"name\":\"B\",\"text\":\"\",\"x\":[0.02387095975750891,-0.11606270474382845,-1.1415131954077733,0.8403513535467135,0.5276599881343238,-0.11891503715225887,-1.4407425924068988,-0.020793684915744876,-1.1676150844952335,-1.234060260686417,-2.0770740329242328,1.6166710351726927,0.9708306919647921,0.2792704987633396,-1.9202604526861047,-0.2988362843367368,-0.3558536797190755,-0.09365770273032371,-1.580969468829377,0.8552826440084819,1.5421142045913974,-0.43704121716842387,0.01482115890763024,0.5643524040633793,0.050801646826494795,0.11508489546061638,-1.271769562960929,0.8225851675031259,-0.5122222951533912,-0.2208509296561825,1.0947510016357487,0.4116333504033674,2.119990580852485,-1.1670301730088755,-1.4248710165443172,0.0089414042080053,1.8465500334894767,-0.08443143483715851,-0.8014749052591004,1.3180195354119786,-0.6977304459470564,1.006816218542904,0.045441574866400276,-1.2538553339757075,-0.905292883358867,-1.174293868102388,-0.17586256772486136,-1.4508632246798647,-0.34720705670834073,0.7015056159804889,-0.06633764356444732,-0.35762857517150526,-0.13303566286275423,-0.2917068052578637,1.3309447828567855,0.529638075869884,-0.9961521943956223,0.8271829335908373,-1.573459137066797,-0.1754008772182543,0.7079553812048236,1.08194221950866,-1.4556892820956553,0.5966501657415297,-1.7036913081553566,1.1424442870205669,0.1225499132212124,0.42230163510717733,1.2578518066587125,1.3137164136996544,0.11755659747457874,-0.9443611100112794,0.07287492232967667,1.1626138659501972,0.7615470426582388,1.1893807011883775,-0.5726342786559914,0.24536605864017702,0.6800676679860762,-0.2397332660647786,2.503249296390802,0.5932820955428155,-0.030340688713944065,-0.993600587275602,0.8898367016735991,-0.9819923012333851,1.1192079468190357,0.09786057126706922,0.11320762328465832,1.1961353751277923,-0.2851771780454916,0.009790042253053683,1.6776118927226216,0.6537812961358346,-0.5085543086461852,2.261792750089865,0.3320149307082757,-0.3909195340128025,1.2472924965267755,1.311846235635573],\"xaxis\":\"x8\",\"y\":[-0.3573371322445269,-0.7954803660541344,-0.23383688048364987,-1.4689616392588782,0.537737290574604,-0.05179186032217305,1.1542428711277914,1.2733915245654719,0.6223971458964284,1.7660185634710133,-0.4248669150760995,0.6103571241821237,-0.4060266583344734,-0.34083406057226867,1.0457488946748692,0.16181416390983103,1.9322396713416716,1.8553521700780675,0.07955584163522861,-0.1574334729496121,-0.6833826482122404,-1.1980781090912365,-0.9053129632827271,-0.2145284338421415,-0.050637435429454376,-0.5458995868568157,-0.5726021831051272,0.03824973522765993,-0.617215839868082,-0.4570865099864727,1.4409852198056514,-1.9590013257555352,-0.5205643338706631,0.5938850164555284,0.46474974157386184,0.7882569264403052,0.024094991915381028,-1.4577162082850728,0.07561423667063542,-1.2001222092639914,0.7541788380651747,-0.24595719786258077,0.21254927464469472,-0.49310287074353265,-0.6707348435998824,-0.8367506132618868,0.44657092371361706,0.16521007038945787,0.3801082461965531,-0.7055556233504856,0.9365054887186388,0.3927142752274356,0.2990646831914984,0.5882157939174921,-0.6027841469280251,0.5109916821229135,-0.7059286693013546,-1.1250070453809728,0.3114178659387146,0.16637813506466545,-0.5573233254530179,-0.6326873498471812,-1.0807829905528308,-0.3976740103682822,-0.19283456701847768,-0.36007121436303724,-0.3470273779456088,-0.9597181464851905,1.066691240020702,0.9136225090209719,1.3101158716194419,-0.9085927744857276,-1.5561141030386398,0.688253431236142,-0.04912350342079393,0.0877282049928525,-1.1558341775294163,0.8469784835212012,-0.9074209290923171,-0.13420252879010483,-0.913883998790638,0.6794092228773175,-0.20344922901598547,1.0574595072611443,-1.4223714743297229,-1.9454108161259374,1.1376563393228913,-0.8629420319001743,-0.8272461902066471,-0.38017293677999786,0.8729160577567565,0.918135871563344,-0.22959205957453752,-1.0789951244840297,-2.2451156390336293,-0.46859350017118706,-1.5626645877329906,-0.6218078841153108,0.08863756424389115,-1.377863557567499],\"yaxis\":\"y8\",\"type\":\"scatter\"},{\"line\":{\"color\":\"rgba(128, 128, 128, 1.0)\",\"dash\":\"solid\",\"shape\":\"linear\",\"width\":1.3},\"marker\":{\"size\":2,\"symbol\":\"circle\"},\"mode\":\"markers\",\"name\":\"C\",\"text\":\"\",\"x\":[0.5270350517910259,0.8072417761741204,1.1392313016357698,-0.26096404113916827,0.6926958204203916,0.9920051309969496,-0.11703426105936891,0.1772112230298288,-1.546858677607195,-2.12578011605067,-0.6668762349299929,-0.6859473345004385,-0.06517967932935818,1.509878948316418,-1.8327579596743897,0.006271054192142402,0.3414994082440188,0.9963915461590376,-0.6921272019494343,1.5772536578772964,-0.5557862878321287,-2.017935639740841,-1.1628872083088297,0.7367687289628784,0.9861800715940734,0.6246167005591827,-1.9474893936892852,1.514648850869348,-1.0370802434215016,0.9528204965997727,1.3086341505647139,-0.8999610192720289,-0.8274926084715756,0.23144826433866572,-0.8844009286812917,-1.0089518557682686,0.6932773742180772,1.0061969073018957,1.092431285788773,1.1045108225684144,-1.2769047407707261,1.054723907960595,-1.424470905566255,0.8213992840984147,0.6508352767197153,0.7329958919606228,-1.103247067925494,0.601973655750255,0.2411701647259433,0.7332646418151118,-0.4867885879627209,-1.2441969273967537,1.6754209142406766,-0.32039696502661236,1.1215309278302448,-1.3886324130968108,1.0143521438152425,-0.5068577869406047,-0.18319072282702112,0.012500231010309247,0.40854877825819697,1.8258137915196166,1.6461587266463735,-1.8705116276819005,1.5285251703518656,-0.6037446546192259,-0.5813250501397086,-1.4794730914628256,-1.0238816124476313,-2.739929363797368,1.0552377958437529,-1.5351435511108646,-1.7843905685681465,-0.28256426488536146,-0.3577831692789127,-0.3368682486926556,-0.6688560865867158,0.07685974077155044,-1.1543438385075415,-0.21220970437488415,-1.1771975886707862,0.4219558757493188,-0.4448033818296801,0.3241897943873185,0.46323398510899855,-2.5752791645582294,-1.3442022736781003,1.706852734553487,-0.2889523856225487,0.6976631999888713,-1.0146863195520115,-0.7524830335894936,-0.342321697117499,-0.414428719259938,1.26844070572974,-0.1096357311371834,0.47694159897509,-0.1877913031971587,-0.22201392254173058,1.4363529412819034],\"xaxis\":\"x9\",\"y\":[0.4584505556547366,-1.355759907492626,-0.9509242523689222,-0.0131735240869676,-1.2668782856775764,-1.2243906645476763,-0.6381192197263483,-0.5436333333743834,-0.19306737155361317,-1.5050038180863239,-0.09217541167291504,-0.2870761574109859,-0.027109426002290424,-0.4821753666043871,0.5197895844807667,-1.5435011910360992,-0.1532171962843395,0.19221442299809516,1.6829004589500716,1.7827277657527965,-0.5759683053021424,-0.2056844152798431,1.1837528023679855,0.4550449590753043,-1.340467259415179,1.1220501307061408,1.527045816107696,0.7352930438752754,-0.33278393449051086,0.96464746058435,0.3809277939425206,-0.13829687429463314,0.7736968972661555,-1.5681141892234975,-0.09055566289186763,0.8425683793972419,-0.04371116808137712,-0.1568752750128221,0.0969846556376833,1.1154110497870993,0.0326989265064,-1.375691497499252,0.11323883862831831,-0.1265521103778363,0.8593750505395408,0.08754139347705762,0.3042926798516024,0.33416306528344336,1.023778135599816,0.9830038717298408,0.24858331667601347,-0.40864882613789666,1.991676086032405,-0.23733140978395745,-1.5753553993293385,0.3006659689825678,0.8960856184689652,0.6859968375442339,2.6283658707522237,-0.8285506771225467,-0.663341972805794,0.7318994775648154,0.3286997591793689,-0.6414273278308326,-1.3313039283715737,-1.7932200414655362,-0.5935692770246527,-0.496620849174363,2.0675012677514526,0.31904792947433325,2.853655976993376,1.5164837831641964,0.08676150084539137,0.7800111445973753,1.03692530402091,0.7557529745512395,-0.3399967573791637,-0.5597080738873084,0.3986459378093854,1.853578424951002,0.09042379354775373,-2.0519673794202595,0.1310270556830349,1.3709195760323136,0.3922390921516855,-0.5940809548472152,0.013693855794778383,-0.3612241395295903,2.122065766506009,0.30983463016779744,0.5884851198214166,-0.9671532453141337,0.8241324017362862,0.862316253761791,0.0431544660219074,-0.06485888359874721,-0.5339701700509776,0.5727835618955416,0.0015586865735916788,-1.3479478739832138],\"yaxis\":\"y9\",\"type\":\"scatter\"},{\"line\":{\"color\":\"rgba(128, 128, 128, 1.0)\",\"dash\":\"solid\",\"shape\":\"linear\",\"width\":1.3},\"marker\":{\"size\":2,\"symbol\":\"circle\"},\"mode\":\"markers\",\"name\":\"C\",\"text\":\"\",\"x\":[-0.3573371322445269,-0.7954803660541344,-0.23383688048364987,-1.4689616392588782,0.537737290574604,-0.05179186032217305,1.1542428711277914,1.2733915245654719,0.6223971458964284,1.7660185634710133,-0.4248669150760995,0.6103571241821237,-0.4060266583344734,-0.34083406057226867,1.0457488946748692,0.16181416390983103,1.9322396713416716,1.8553521700780675,0.07955584163522861,-0.1574334729496121,-0.6833826482122404,-1.1980781090912365,-0.9053129632827271,-0.2145284338421415,-0.050637435429454376,-0.5458995868568157,-0.5726021831051272,0.03824973522765993,-0.617215839868082,-0.4570865099864727,1.4409852198056514,-1.9590013257555352,-0.5205643338706631,0.5938850164555284,0.46474974157386184,0.7882569264403052,0.024094991915381028,-1.4577162082850728,0.07561423667063542,-1.2001222092639914,0.7541788380651747,-0.24595719786258077,0.21254927464469472,-0.49310287074353265,-0.6707348435998824,-0.8367506132618868,0.44657092371361706,0.16521007038945787,0.3801082461965531,-0.7055556233504856,0.9365054887186388,0.3927142752274356,0.2990646831914984,0.5882157939174921,-0.6027841469280251,0.5109916821229135,-0.7059286693013546,-1.1250070453809728,0.3114178659387146,0.16637813506466545,-0.5573233254530179,-0.6326873498471812,-1.0807829905528308,-0.3976740103682822,-0.19283456701847768,-0.36007121436303724,-0.3470273779456088,-0.9597181464851905,1.066691240020702,0.9136225090209719,1.3101158716194419,-0.9085927744857276,-1.5561141030386398,0.688253431236142,-0.04912350342079393,0.0877282049928525,-1.1558341775294163,0.8469784835212012,-0.9074209290923171,-0.13420252879010483,-0.913883998790638,0.6794092228773175,-0.20344922901598547,1.0574595072611443,-1.4223714743297229,-1.9454108161259374,1.1376563393228913,-0.8629420319001743,-0.8272461902066471,-0.38017293677999786,0.8729160577567565,0.918135871563344,-0.22959205957453752,-1.0789951244840297,-2.2451156390336293,-0.46859350017118706,-1.5626645877329906,-0.6218078841153108,0.08863756424389115,-1.377863557567499],\"xaxis\":\"x10\",\"y\":[0.4584505556547366,-1.355759907492626,-0.9509242523689222,-0.0131735240869676,-1.2668782856775764,-1.2243906645476763,-0.6381192197263483,-0.5436333333743834,-0.19306737155361317,-1.5050038180863239,-0.09217541167291504,-0.2870761574109859,-0.027109426002290424,-0.4821753666043871,0.5197895844807667,-1.5435011910360992,-0.1532171962843395,0.19221442299809516,1.6829004589500716,1.7827277657527965,-0.5759683053021424,-0.2056844152798431,1.1837528023679855,0.4550449590753043,-1.340467259415179,1.1220501307061408,1.527045816107696,0.7352930438752754,-0.33278393449051086,0.96464746058435,0.3809277939425206,-0.13829687429463314,0.7736968972661555,-1.5681141892234975,-0.09055566289186763,0.8425683793972419,-0.04371116808137712,-0.1568752750128221,0.0969846556376833,1.1154110497870993,0.0326989265064,-1.375691497499252,0.11323883862831831,-0.1265521103778363,0.8593750505395408,0.08754139347705762,0.3042926798516024,0.33416306528344336,1.023778135599816,0.9830038717298408,0.24858331667601347,-0.40864882613789666,1.991676086032405,-0.23733140978395745,-1.5753553993293385,0.3006659689825678,0.8960856184689652,0.6859968375442339,2.6283658707522237,-0.8285506771225467,-0.663341972805794,0.7318994775648154,0.3286997591793689,-0.6414273278308326,-1.3313039283715737,-1.7932200414655362,-0.5935692770246527,-0.496620849174363,2.0675012677514526,0.31904792947433325,2.853655976993376,1.5164837831641964,0.08676150084539137,0.7800111445973753,1.03692530402091,0.7557529745512395,-0.3399967573791637,-0.5597080738873084,0.3986459378093854,1.853578424951002,0.09042379354775373,-2.0519673794202595,0.1310270556830349,1.3709195760323136,0.3922390921516855,-0.5940809548472152,0.013693855794778383,-0.3612241395295903,2.122065766506009,0.30983463016779744,0.5884851198214166,-0.9671532453141337,0.8241324017362862,0.862316253761791,0.0431544660219074,-0.06485888359874721,-0.5339701700509776,0.5727835618955416,0.0015586865735916788,-1.3479478739832138],\"yaxis\":\"y10\",\"type\":\"scatter\"},{\"histfunc\":\"count\",\"histnorm\":\"\",\"marker\":{\"color\":\"rgba(50, 171, 96, 1.0)\",\"line\":{\"color\":\"#4D5663\",\"width\":1.3}},\"name\":\"C\",\"nbinsx\":10,\"opacity\":0.8,\"orientation\":\"v\",\"x\":[0.4584505556547366,-1.355759907492626,-0.9509242523689222,-0.0131735240869676,-1.2668782856775764,-1.2243906645476763,-0.6381192197263483,-0.5436333333743834,-0.19306737155361317,-1.5050038180863239,-0.09217541167291504,-0.2870761574109859,-0.027109426002290424,-0.4821753666043871,0.5197895844807667,-1.5435011910360992,-0.1532171962843395,0.19221442299809516,1.6829004589500716,1.7827277657527965,-0.5759683053021424,-0.2056844152798431,1.1837528023679855,0.4550449590753043,-1.340467259415179,1.1220501307061408,1.527045816107696,0.7352930438752754,-0.33278393449051086,0.96464746058435,0.3809277939425206,-0.13829687429463314,0.7736968972661555,-1.5681141892234975,-0.09055566289186763,0.8425683793972419,-0.04371116808137712,-0.1568752750128221,0.0969846556376833,1.1154110497870993,0.0326989265064,-1.375691497499252,0.11323883862831831,-0.1265521103778363,0.8593750505395408,0.08754139347705762,0.3042926798516024,0.33416306528344336,1.023778135599816,0.9830038717298408,0.24858331667601347,-0.40864882613789666,1.991676086032405,-0.23733140978395745,-1.5753553993293385,0.3006659689825678,0.8960856184689652,0.6859968375442339,2.6283658707522237,-0.8285506771225467,-0.663341972805794,0.7318994775648154,0.3286997591793689,-0.6414273278308326,-1.3313039283715737,-1.7932200414655362,-0.5935692770246527,-0.496620849174363,2.0675012677514526,0.31904792947433325,2.853655976993376,1.5164837831641964,0.08676150084539137,0.7800111445973753,1.03692530402091,0.7557529745512395,-0.3399967573791637,-0.5597080738873084,0.3986459378093854,1.853578424951002,0.09042379354775373,-2.0519673794202595,0.1310270556830349,1.3709195760323136,0.3922390921516855,-0.5940809548472152,0.013693855794778383,-0.3612241395295903,2.122065766506009,0.30983463016779744,0.5884851198214166,-0.9671532453141337,0.8241324017362862,0.862316253761791,0.0431544660219074,-0.06485888359874721,-0.5339701700509776,0.5727835618955416,0.0015586865735916788,-1.3479478739832138],\"xaxis\":\"x11\",\"yaxis\":\"y11\",\"type\":\"histogram\"},{\"line\":{\"color\":\"rgba(128, 128, 128, 1.0)\",\"dash\":\"solid\",\"shape\":\"linear\",\"width\":1.3},\"marker\":{\"size\":2,\"symbol\":\"circle\"},\"mode\":\"markers\",\"name\":\"C\",\"text\":\"\",\"x\":[0.02387095975750891,-0.11606270474382845,-1.1415131954077733,0.8403513535467135,0.5276599881343238,-0.11891503715225887,-1.4407425924068988,-0.020793684915744876,-1.1676150844952335,-1.234060260686417,-2.0770740329242328,1.6166710351726927,0.9708306919647921,0.2792704987633396,-1.9202604526861047,-0.2988362843367368,-0.3558536797190755,-0.09365770273032371,-1.580969468829377,0.8552826440084819,1.5421142045913974,-0.43704121716842387,0.01482115890763024,0.5643524040633793,0.050801646826494795,0.11508489546061638,-1.271769562960929,0.8225851675031259,-0.5122222951533912,-0.2208509296561825,1.0947510016357487,0.4116333504033674,2.119990580852485,-1.1670301730088755,-1.4248710165443172,0.0089414042080053,1.8465500334894767,-0.08443143483715851,-0.8014749052591004,1.3180195354119786,-0.6977304459470564,1.006816218542904,0.045441574866400276,-1.2538553339757075,-0.905292883358867,-1.174293868102388,-0.17586256772486136,-1.4508632246798647,-0.34720705670834073,0.7015056159804889,-0.06633764356444732,-0.35762857517150526,-0.13303566286275423,-0.2917068052578637,1.3309447828567855,0.529638075869884,-0.9961521943956223,0.8271829335908373,-1.573459137066797,-0.1754008772182543,0.7079553812048236,1.08194221950866,-1.4556892820956553,0.5966501657415297,-1.7036913081553566,1.1424442870205669,0.1225499132212124,0.42230163510717733,1.2578518066587125,1.3137164136996544,0.11755659747457874,-0.9443611100112794,0.07287492232967667,1.1626138659501972,0.7615470426582388,1.1893807011883775,-0.5726342786559914,0.24536605864017702,0.6800676679860762,-0.2397332660647786,2.503249296390802,0.5932820955428155,-0.030340688713944065,-0.993600587275602,0.8898367016735991,-0.9819923012333851,1.1192079468190357,0.09786057126706922,0.11320762328465832,1.1961353751277923,-0.2851771780454916,0.009790042253053683,1.6776118927226216,0.6537812961358346,-0.5085543086461852,2.261792750089865,0.3320149307082757,-0.3909195340128025,1.2472924965267755,1.311846235635573],\"xaxis\":\"x12\",\"y\":[0.4584505556547366,-1.355759907492626,-0.9509242523689222,-0.0131735240869676,-1.2668782856775764,-1.2243906645476763,-0.6381192197263483,-0.5436333333743834,-0.19306737155361317,-1.5050038180863239,-0.09217541167291504,-0.2870761574109859,-0.027109426002290424,-0.4821753666043871,0.5197895844807667,-1.5435011910360992,-0.1532171962843395,0.19221442299809516,1.6829004589500716,1.7827277657527965,-0.5759683053021424,-0.2056844152798431,1.1837528023679855,0.4550449590753043,-1.340467259415179,1.1220501307061408,1.527045816107696,0.7352930438752754,-0.33278393449051086,0.96464746058435,0.3809277939425206,-0.13829687429463314,0.7736968972661555,-1.5681141892234975,-0.09055566289186763,0.8425683793972419,-0.04371116808137712,-0.1568752750128221,0.0969846556376833,1.1154110497870993,0.0326989265064,-1.375691497499252,0.11323883862831831,-0.1265521103778363,0.8593750505395408,0.08754139347705762,0.3042926798516024,0.33416306528344336,1.023778135599816,0.9830038717298408,0.24858331667601347,-0.40864882613789666,1.991676086032405,-0.23733140978395745,-1.5753553993293385,0.3006659689825678,0.8960856184689652,0.6859968375442339,2.6283658707522237,-0.8285506771225467,-0.663341972805794,0.7318994775648154,0.3286997591793689,-0.6414273278308326,-1.3313039283715737,-1.7932200414655362,-0.5935692770246527,-0.496620849174363,2.0675012677514526,0.31904792947433325,2.853655976993376,1.5164837831641964,0.08676150084539137,0.7800111445973753,1.03692530402091,0.7557529745512395,-0.3399967573791637,-0.5597080738873084,0.3986459378093854,1.853578424951002,0.09042379354775373,-2.0519673794202595,0.1310270556830349,1.3709195760323136,0.3922390921516855,-0.5940809548472152,0.013693855794778383,-0.3612241395295903,2.122065766506009,0.30983463016779744,0.5884851198214166,-0.9671532453141337,0.8241324017362862,0.862316253761791,0.0431544660219074,-0.06485888359874721,-0.5339701700509776,0.5727835618955416,0.0015586865735916788,-1.3479478739832138],\"yaxis\":\"y12\",\"type\":\"scatter\"},{\"line\":{\"color\":\"rgba(128, 128, 128, 1.0)\",\"dash\":\"solid\",\"shape\":\"linear\",\"width\":1.3},\"marker\":{\"size\":2,\"symbol\":\"circle\"},\"mode\":\"markers\",\"name\":\"D\",\"text\":\"\",\"x\":[0.5270350517910259,0.8072417761741204,1.1392313016357698,-0.26096404113916827,0.6926958204203916,0.9920051309969496,-0.11703426105936891,0.1772112230298288,-1.546858677607195,-2.12578011605067,-0.6668762349299929,-0.6859473345004385,-0.06517967932935818,1.509878948316418,-1.8327579596743897,0.006271054192142402,0.3414994082440188,0.9963915461590376,-0.6921272019494343,1.5772536578772964,-0.5557862878321287,-2.017935639740841,-1.1628872083088297,0.7367687289628784,0.9861800715940734,0.6246167005591827,-1.9474893936892852,1.514648850869348,-1.0370802434215016,0.9528204965997727,1.3086341505647139,-0.8999610192720289,-0.8274926084715756,0.23144826433866572,-0.8844009286812917,-1.0089518557682686,0.6932773742180772,1.0061969073018957,1.092431285788773,1.1045108225684144,-1.2769047407707261,1.054723907960595,-1.424470905566255,0.8213992840984147,0.6508352767197153,0.7329958919606228,-1.103247067925494,0.601973655750255,0.2411701647259433,0.7332646418151118,-0.4867885879627209,-1.2441969273967537,1.6754209142406766,-0.32039696502661236,1.1215309278302448,-1.3886324130968108,1.0143521438152425,-0.5068577869406047,-0.18319072282702112,0.012500231010309247,0.40854877825819697,1.8258137915196166,1.6461587266463735,-1.8705116276819005,1.5285251703518656,-0.6037446546192259,-0.5813250501397086,-1.4794730914628256,-1.0238816124476313,-2.739929363797368,1.0552377958437529,-1.5351435511108646,-1.7843905685681465,-0.28256426488536146,-0.3577831692789127,-0.3368682486926556,-0.6688560865867158,0.07685974077155044,-1.1543438385075415,-0.21220970437488415,-1.1771975886707862,0.4219558757493188,-0.4448033818296801,0.3241897943873185,0.46323398510899855,-2.5752791645582294,-1.3442022736781003,1.706852734553487,-0.2889523856225487,0.6976631999888713,-1.0146863195520115,-0.7524830335894936,-0.342321697117499,-0.414428719259938,1.26844070572974,-0.1096357311371834,0.47694159897509,-0.1877913031971587,-0.22201392254173058,1.4363529412819034],\"xaxis\":\"x13\",\"y\":[0.02387095975750891,-0.11606270474382845,-1.1415131954077733,0.8403513535467135,0.5276599881343238,-0.11891503715225887,-1.4407425924068988,-0.020793684915744876,-1.1676150844952335,-1.234060260686417,-2.0770740329242328,1.6166710351726927,0.9708306919647921,0.2792704987633396,-1.9202604526861047,-0.2988362843367368,-0.3558536797190755,-0.09365770273032371,-1.580969468829377,0.8552826440084819,1.5421142045913974,-0.43704121716842387,0.01482115890763024,0.5643524040633793,0.050801646826494795,0.11508489546061638,-1.271769562960929,0.8225851675031259,-0.5122222951533912,-0.2208509296561825,1.0947510016357487,0.4116333504033674,2.119990580852485,-1.1670301730088755,-1.4248710165443172,0.0089414042080053,1.8465500334894767,-0.08443143483715851,-0.8014749052591004,1.3180195354119786,-0.6977304459470564,1.006816218542904,0.045441574866400276,-1.2538553339757075,-0.905292883358867,-1.174293868102388,-0.17586256772486136,-1.4508632246798647,-0.34720705670834073,0.7015056159804889,-0.06633764356444732,-0.35762857517150526,-0.13303566286275423,-0.2917068052578637,1.3309447828567855,0.529638075869884,-0.9961521943956223,0.8271829335908373,-1.573459137066797,-0.1754008772182543,0.7079553812048236,1.08194221950866,-1.4556892820956553,0.5966501657415297,-1.7036913081553566,1.1424442870205669,0.1225499132212124,0.42230163510717733,1.2578518066587125,1.3137164136996544,0.11755659747457874,-0.9443611100112794,0.07287492232967667,1.1626138659501972,0.7615470426582388,1.1893807011883775,-0.5726342786559914,0.24536605864017702,0.6800676679860762,-0.2397332660647786,2.503249296390802,0.5932820955428155,-0.030340688713944065,-0.993600587275602,0.8898367016735991,-0.9819923012333851,1.1192079468190357,0.09786057126706922,0.11320762328465832,1.1961353751277923,-0.2851771780454916,0.009790042253053683,1.6776118927226216,0.6537812961358346,-0.5085543086461852,2.261792750089865,0.3320149307082757,-0.3909195340128025,1.2472924965267755,1.311846235635573],\"yaxis\":\"y13\",\"type\":\"scatter\"},{\"line\":{\"color\":\"rgba(128, 128, 128, 1.0)\",\"dash\":\"solid\",\"shape\":\"linear\",\"width\":1.3},\"marker\":{\"size\":2,\"symbol\":\"circle\"},\"mode\":\"markers\",\"name\":\"D\",\"text\":\"\",\"x\":[-0.3573371322445269,-0.7954803660541344,-0.23383688048364987,-1.4689616392588782,0.537737290574604,-0.05179186032217305,1.1542428711277914,1.2733915245654719,0.6223971458964284,1.7660185634710133,-0.4248669150760995,0.6103571241821237,-0.4060266583344734,-0.34083406057226867,1.0457488946748692,0.16181416390983103,1.9322396713416716,1.8553521700780675,0.07955584163522861,-0.1574334729496121,-0.6833826482122404,-1.1980781090912365,-0.9053129632827271,-0.2145284338421415,-0.050637435429454376,-0.5458995868568157,-0.5726021831051272,0.03824973522765993,-0.617215839868082,-0.4570865099864727,1.4409852198056514,-1.9590013257555352,-0.5205643338706631,0.5938850164555284,0.46474974157386184,0.7882569264403052,0.024094991915381028,-1.4577162082850728,0.07561423667063542,-1.2001222092639914,0.7541788380651747,-0.24595719786258077,0.21254927464469472,-0.49310287074353265,-0.6707348435998824,-0.8367506132618868,0.44657092371361706,0.16521007038945787,0.3801082461965531,-0.7055556233504856,0.9365054887186388,0.3927142752274356,0.2990646831914984,0.5882157939174921,-0.6027841469280251,0.5109916821229135,-0.7059286693013546,-1.1250070453809728,0.3114178659387146,0.16637813506466545,-0.5573233254530179,-0.6326873498471812,-1.0807829905528308,-0.3976740103682822,-0.19283456701847768,-0.36007121436303724,-0.3470273779456088,-0.9597181464851905,1.066691240020702,0.9136225090209719,1.3101158716194419,-0.9085927744857276,-1.5561141030386398,0.688253431236142,-0.04912350342079393,0.0877282049928525,-1.1558341775294163,0.8469784835212012,-0.9074209290923171,-0.13420252879010483,-0.913883998790638,0.6794092228773175,-0.20344922901598547,1.0574595072611443,-1.4223714743297229,-1.9454108161259374,1.1376563393228913,-0.8629420319001743,-0.8272461902066471,-0.38017293677999786,0.8729160577567565,0.918135871563344,-0.22959205957453752,-1.0789951244840297,-2.2451156390336293,-0.46859350017118706,-1.5626645877329906,-0.6218078841153108,0.08863756424389115,-1.377863557567499],\"xaxis\":\"x14\",\"y\":[0.02387095975750891,-0.11606270474382845,-1.1415131954077733,0.8403513535467135,0.5276599881343238,-0.11891503715225887,-1.4407425924068988,-0.020793684915744876,-1.1676150844952335,-1.234060260686417,-2.0770740329242328,1.6166710351726927,0.9708306919647921,0.2792704987633396,-1.9202604526861047,-0.2988362843367368,-0.3558536797190755,-0.09365770273032371,-1.580969468829377,0.8552826440084819,1.5421142045913974,-0.43704121716842387,0.01482115890763024,0.5643524040633793,0.050801646826494795,0.11508489546061638,-1.271769562960929,0.8225851675031259,-0.5122222951533912,-0.2208509296561825,1.0947510016357487,0.4116333504033674,2.119990580852485,-1.1670301730088755,-1.4248710165443172,0.0089414042080053,1.8465500334894767,-0.08443143483715851,-0.8014749052591004,1.3180195354119786,-0.6977304459470564,1.006816218542904,0.045441574866400276,-1.2538553339757075,-0.905292883358867,-1.174293868102388,-0.17586256772486136,-1.4508632246798647,-0.34720705670834073,0.7015056159804889,-0.06633764356444732,-0.35762857517150526,-0.13303566286275423,-0.2917068052578637,1.3309447828567855,0.529638075869884,-0.9961521943956223,0.8271829335908373,-1.573459137066797,-0.1754008772182543,0.7079553812048236,1.08194221950866,-1.4556892820956553,0.5966501657415297,-1.7036913081553566,1.1424442870205669,0.1225499132212124,0.42230163510717733,1.2578518066587125,1.3137164136996544,0.11755659747457874,-0.9443611100112794,0.07287492232967667,1.1626138659501972,0.7615470426582388,1.1893807011883775,-0.5726342786559914,0.24536605864017702,0.6800676679860762,-0.2397332660647786,2.503249296390802,0.5932820955428155,-0.030340688713944065,-0.993600587275602,0.8898367016735991,-0.9819923012333851,1.1192079468190357,0.09786057126706922,0.11320762328465832,1.1961353751277923,-0.2851771780454916,0.009790042253053683,1.6776118927226216,0.6537812961358346,-0.5085543086461852,2.261792750089865,0.3320149307082757,-0.3909195340128025,1.2472924965267755,1.311846235635573],\"yaxis\":\"y14\",\"type\":\"scatter\"},{\"line\":{\"color\":\"rgba(128, 128, 128, 1.0)\",\"dash\":\"solid\",\"shape\":\"linear\",\"width\":1.3},\"marker\":{\"size\":2,\"symbol\":\"circle\"},\"mode\":\"markers\",\"name\":\"D\",\"text\":\"\",\"x\":[0.4584505556547366,-1.355759907492626,-0.9509242523689222,-0.0131735240869676,-1.2668782856775764,-1.2243906645476763,-0.6381192197263483,-0.5436333333743834,-0.19306737155361317,-1.5050038180863239,-0.09217541167291504,-0.2870761574109859,-0.027109426002290424,-0.4821753666043871,0.5197895844807667,-1.5435011910360992,-0.1532171962843395,0.19221442299809516,1.6829004589500716,1.7827277657527965,-0.5759683053021424,-0.2056844152798431,1.1837528023679855,0.4550449590753043,-1.340467259415179,1.1220501307061408,1.527045816107696,0.7352930438752754,-0.33278393449051086,0.96464746058435,0.3809277939425206,-0.13829687429463314,0.7736968972661555,-1.5681141892234975,-0.09055566289186763,0.8425683793972419,-0.04371116808137712,-0.1568752750128221,0.0969846556376833,1.1154110497870993,0.0326989265064,-1.375691497499252,0.11323883862831831,-0.1265521103778363,0.8593750505395408,0.08754139347705762,0.3042926798516024,0.33416306528344336,1.023778135599816,0.9830038717298408,0.24858331667601347,-0.40864882613789666,1.991676086032405,-0.23733140978395745,-1.5753553993293385,0.3006659689825678,0.8960856184689652,0.6859968375442339,2.6283658707522237,-0.8285506771225467,-0.663341972805794,0.7318994775648154,0.3286997591793689,-0.6414273278308326,-1.3313039283715737,-1.7932200414655362,-0.5935692770246527,-0.496620849174363,2.0675012677514526,0.31904792947433325,2.853655976993376,1.5164837831641964,0.08676150084539137,0.7800111445973753,1.03692530402091,0.7557529745512395,-0.3399967573791637,-0.5597080738873084,0.3986459378093854,1.853578424951002,0.09042379354775373,-2.0519673794202595,0.1310270556830349,1.3709195760323136,0.3922390921516855,-0.5940809548472152,0.013693855794778383,-0.3612241395295903,2.122065766506009,0.30983463016779744,0.5884851198214166,-0.9671532453141337,0.8241324017362862,0.862316253761791,0.0431544660219074,-0.06485888359874721,-0.5339701700509776,0.5727835618955416,0.0015586865735916788,-1.3479478739832138],\"xaxis\":\"x15\",\"y\":[0.02387095975750891,-0.11606270474382845,-1.1415131954077733,0.8403513535467135,0.5276599881343238,-0.11891503715225887,-1.4407425924068988,-0.020793684915744876,-1.1676150844952335,-1.234060260686417,-2.0770740329242328,1.6166710351726927,0.9708306919647921,0.2792704987633396,-1.9202604526861047,-0.2988362843367368,-0.3558536797190755,-0.09365770273032371,-1.580969468829377,0.8552826440084819,1.5421142045913974,-0.43704121716842387,0.01482115890763024,0.5643524040633793,0.050801646826494795,0.11508489546061638,-1.271769562960929,0.8225851675031259,-0.5122222951533912,-0.2208509296561825,1.0947510016357487,0.4116333504033674,2.119990580852485,-1.1670301730088755,-1.4248710165443172,0.0089414042080053,1.8465500334894767,-0.08443143483715851,-0.8014749052591004,1.3180195354119786,-0.6977304459470564,1.006816218542904,0.045441574866400276,-1.2538553339757075,-0.905292883358867,-1.174293868102388,-0.17586256772486136,-1.4508632246798647,-0.34720705670834073,0.7015056159804889,-0.06633764356444732,-0.35762857517150526,-0.13303566286275423,-0.2917068052578637,1.3309447828567855,0.529638075869884,-0.9961521943956223,0.8271829335908373,-1.573459137066797,-0.1754008772182543,0.7079553812048236,1.08194221950866,-1.4556892820956553,0.5966501657415297,-1.7036913081553566,1.1424442870205669,0.1225499132212124,0.42230163510717733,1.2578518066587125,1.3137164136996544,0.11755659747457874,-0.9443611100112794,0.07287492232967667,1.1626138659501972,0.7615470426582388,1.1893807011883775,-0.5726342786559914,0.24536605864017702,0.6800676679860762,-0.2397332660647786,2.503249296390802,0.5932820955428155,-0.030340688713944065,-0.993600587275602,0.8898367016735991,-0.9819923012333851,1.1192079468190357,0.09786057126706922,0.11320762328465832,1.1961353751277923,-0.2851771780454916,0.009790042253053683,1.6776118927226216,0.6537812961358346,-0.5085543086461852,2.261792750089865,0.3320149307082757,-0.3909195340128025,1.2472924965267755,1.311846235635573],\"yaxis\":\"y15\",\"type\":\"scatter\"},{\"histfunc\":\"count\",\"histnorm\":\"\",\"marker\":{\"color\":\"rgba(128, 0, 128, 1.0)\",\"line\":{\"color\":\"#4D5663\",\"width\":1.3}},\"name\":\"D\",\"nbinsx\":10,\"opacity\":0.8,\"orientation\":\"v\",\"x\":[0.02387095975750891,-0.11606270474382845,-1.1415131954077733,0.8403513535467135,0.5276599881343238,-0.11891503715225887,-1.4407425924068988,-0.020793684915744876,-1.1676150844952335,-1.234060260686417,-2.0770740329242328,1.6166710351726927,0.9708306919647921,0.2792704987633396,-1.9202604526861047,-0.2988362843367368,-0.3558536797190755,-0.09365770273032371,-1.580969468829377,0.8552826440084819,1.5421142045913974,-0.43704121716842387,0.01482115890763024,0.5643524040633793,0.050801646826494795,0.11508489546061638,-1.271769562960929,0.8225851675031259,-0.5122222951533912,-0.2208509296561825,1.0947510016357487,0.4116333504033674,2.119990580852485,-1.1670301730088755,-1.4248710165443172,0.0089414042080053,1.8465500334894767,-0.08443143483715851,-0.8014749052591004,1.3180195354119786,-0.6977304459470564,1.006816218542904,0.045441574866400276,-1.2538553339757075,-0.905292883358867,-1.174293868102388,-0.17586256772486136,-1.4508632246798647,-0.34720705670834073,0.7015056159804889,-0.06633764356444732,-0.35762857517150526,-0.13303566286275423,-0.2917068052578637,1.3309447828567855,0.529638075869884,-0.9961521943956223,0.8271829335908373,-1.573459137066797,-0.1754008772182543,0.7079553812048236,1.08194221950866,-1.4556892820956553,0.5966501657415297,-1.7036913081553566,1.1424442870205669,0.1225499132212124,0.42230163510717733,1.2578518066587125,1.3137164136996544,0.11755659747457874,-0.9443611100112794,0.07287492232967667,1.1626138659501972,0.7615470426582388,1.1893807011883775,-0.5726342786559914,0.24536605864017702,0.6800676679860762,-0.2397332660647786,2.503249296390802,0.5932820955428155,-0.030340688713944065,-0.993600587275602,0.8898367016735991,-0.9819923012333851,1.1192079468190357,0.09786057126706922,0.11320762328465832,1.1961353751277923,-0.2851771780454916,0.009790042253053683,1.6776118927226216,0.6537812961358346,-0.5085543086461852,2.261792750089865,0.3320149307082757,-0.3909195340128025,1.2472924965267755,1.311846235635573],\"xaxis\":\"x16\",\"yaxis\":\"y16\",\"type\":\"histogram\"}],                        {\"bargap\":0.02,\"legend\":{\"bgcolor\":\"#F5F6F9\",\"font\":{\"color\":\"#4D5663\"}},\"paper_bgcolor\":\"#F5F6F9\",\"plot_bgcolor\":\"#F5F6F9\",\"showlegend\":false,\"template\":{\"data\":{\"barpolar\":[{\"marker\":{\"line\":{\"color\":\"#E5ECF6\",\"width\":0.5},\"pattern\":{\"fillmode\":\"overlay\",\"size\":10,\"solidity\":0.2}},\"type\":\"barpolar\"}],\"bar\":[{\"error_x\":{\"color\":\"#2a3f5f\"},\"error_y\":{\"color\":\"#2a3f5f\"},\"marker\":{\"line\":{\"color\":\"#E5ECF6\",\"width\":0.5},\"pattern\":{\"fillmode\":\"overlay\",\"size\":10,\"solidity\":0.2}},\"type\":\"bar\"}],\"carpet\":[{\"aaxis\":{\"endlinecolor\":\"#2a3f5f\",\"gridcolor\":\"white\",\"linecolor\":\"white\",\"minorgridcolor\":\"white\",\"startlinecolor\":\"#2a3f5f\"},\"baxis\":{\"endlinecolor\":\"#2a3f5f\",\"gridcolor\":\"white\",\"linecolor\":\"white\",\"minorgridcolor\":\"white\",\"startlinecolor\":\"#2a3f5f\"},\"type\":\"carpet\"}],\"choropleth\":[{\"colorbar\":{\"outlinewidth\":0,\"ticks\":\"\"},\"type\":\"choropleth\"}],\"contourcarpet\":[{\"colorbar\":{\"outlinewidth\":0,\"ticks\":\"\"},\"type\":\"contourcarpet\"}],\"contour\":[{\"colorbar\":{\"outlinewidth\":0,\"ticks\":\"\"},\"colorscale\":[[0.0,\"#0d0887\"],[0.1111111111111111,\"#46039f\"],[0.2222222222222222,\"#7201a8\"],[0.3333333333333333,\"#9c179e\"],[0.4444444444444444,\"#bd3786\"],[0.5555555555555556,\"#d8576b\"],[0.6666666666666666,\"#ed7953\"],[0.7777777777777778,\"#fb9f3a\"],[0.8888888888888888,\"#fdca26\"],[1.0,\"#f0f921\"]],\"type\":\"contour\"}],\"heatmapgl\":[{\"colorbar\":{\"outlinewidth\":0,\"ticks\":\"\"},\"colorscale\":[[0.0,\"#0d0887\"],[0.1111111111111111,\"#46039f\"],[0.2222222222222222,\"#7201a8\"],[0.3333333333333333,\"#9c179e\"],[0.4444444444444444,\"#bd3786\"],[0.5555555555555556,\"#d8576b\"],[0.6666666666666666,\"#ed7953\"],[0.7777777777777778,\"#fb9f3a\"],[0.8888888888888888,\"#fdca26\"],[1.0,\"#f0f921\"]],\"type\":\"heatmapgl\"}],\"heatmap\":[{\"colorbar\":{\"outlinewidth\":0,\"ticks\":\"\"},\"colorscale\":[[0.0,\"#0d0887\"],[0.1111111111111111,\"#46039f\"],[0.2222222222222222,\"#7201a8\"],[0.3333333333333333,\"#9c179e\"],[0.4444444444444444,\"#bd3786\"],[0.5555555555555556,\"#d8576b\"],[0.6666666666666666,\"#ed7953\"],[0.7777777777777778,\"#fb9f3a\"],[0.8888888888888888,\"#fdca26\"],[1.0,\"#f0f921\"]],\"type\":\"heatmap\"}],\"histogram2dcontour\":[{\"colorbar\":{\"outlinewidth\":0,\"ticks\":\"\"},\"colorscale\":[[0.0,\"#0d0887\"],[0.1111111111111111,\"#46039f\"],[0.2222222222222222,\"#7201a8\"],[0.3333333333333333,\"#9c179e\"],[0.4444444444444444,\"#bd3786\"],[0.5555555555555556,\"#d8576b\"],[0.6666666666666666,\"#ed7953\"],[0.7777777777777778,\"#fb9f3a\"],[0.8888888888888888,\"#fdca26\"],[1.0,\"#f0f921\"]],\"type\":\"histogram2dcontour\"}],\"histogram2d\":[{\"colorbar\":{\"outlinewidth\":0,\"ticks\":\"\"},\"colorscale\":[[0.0,\"#0d0887\"],[0.1111111111111111,\"#46039f\"],[0.2222222222222222,\"#7201a8\"],[0.3333333333333333,\"#9c179e\"],[0.4444444444444444,\"#bd3786\"],[0.5555555555555556,\"#d8576b\"],[0.6666666666666666,\"#ed7953\"],[0.7777777777777778,\"#fb9f3a\"],[0.8888888888888888,\"#fdca26\"],[1.0,\"#f0f921\"]],\"type\":\"histogram2d\"}],\"histogram\":[{\"marker\":{\"pattern\":{\"fillmode\":\"overlay\",\"size\":10,\"solidity\":0.2}},\"type\":\"histogram\"}],\"mesh3d\":[{\"colorbar\":{\"outlinewidth\":0,\"ticks\":\"\"},\"type\":\"mesh3d\"}],\"parcoords\":[{\"line\":{\"colorbar\":{\"outlinewidth\":0,\"ticks\":\"\"}},\"type\":\"parcoords\"}],\"pie\":[{\"automargin\":true,\"type\":\"pie\"}],\"scatter3d\":[{\"line\":{\"colorbar\":{\"outlinewidth\":0,\"ticks\":\"\"}},\"marker\":{\"colorbar\":{\"outlinewidth\":0,\"ticks\":\"\"}},\"type\":\"scatter3d\"}],\"scattercarpet\":[{\"marker\":{\"colorbar\":{\"outlinewidth\":0,\"ticks\":\"\"}},\"type\":\"scattercarpet\"}],\"scattergeo\":[{\"marker\":{\"colorbar\":{\"outlinewidth\":0,\"ticks\":\"\"}},\"type\":\"scattergeo\"}],\"scattergl\":[{\"marker\":{\"colorbar\":{\"outlinewidth\":0,\"ticks\":\"\"}},\"type\":\"scattergl\"}],\"scattermapbox\":[{\"marker\":{\"colorbar\":{\"outlinewidth\":0,\"ticks\":\"\"}},\"type\":\"scattermapbox\"}],\"scatterpolargl\":[{\"marker\":{\"colorbar\":{\"outlinewidth\":0,\"ticks\":\"\"}},\"type\":\"scatterpolargl\"}],\"scatterpolar\":[{\"marker\":{\"colorbar\":{\"outlinewidth\":0,\"ticks\":\"\"}},\"type\":\"scatterpolar\"}],\"scatter\":[{\"fillpattern\":{\"fillmode\":\"overlay\",\"size\":10,\"solidity\":0.2},\"type\":\"scatter\"}],\"scatterternary\":[{\"marker\":{\"colorbar\":{\"outlinewidth\":0,\"ticks\":\"\"}},\"type\":\"scatterternary\"}],\"surface\":[{\"colorbar\":{\"outlinewidth\":0,\"ticks\":\"\"},\"colorscale\":[[0.0,\"#0d0887\"],[0.1111111111111111,\"#46039f\"],[0.2222222222222222,\"#7201a8\"],[0.3333333333333333,\"#9c179e\"],[0.4444444444444444,\"#bd3786\"],[0.5555555555555556,\"#d8576b\"],[0.6666666666666666,\"#ed7953\"],[0.7777777777777778,\"#fb9f3a\"],[0.8888888888888888,\"#fdca26\"],[1.0,\"#f0f921\"]],\"type\":\"surface\"}],\"table\":[{\"cells\":{\"fill\":{\"color\":\"#EBF0F8\"},\"line\":{\"color\":\"white\"}},\"header\":{\"fill\":{\"color\":\"#C8D4E3\"},\"line\":{\"color\":\"white\"}},\"type\":\"table\"}]},\"layout\":{\"annotationdefaults\":{\"arrowcolor\":\"#2a3f5f\",\"arrowhead\":0,\"arrowwidth\":1},\"autotypenumbers\":\"strict\",\"coloraxis\":{\"colorbar\":{\"outlinewidth\":0,\"ticks\":\"\"}},\"colorscale\":{\"diverging\":[[0,\"#8e0152\"],[0.1,\"#c51b7d\"],[0.2,\"#de77ae\"],[0.3,\"#f1b6da\"],[0.4,\"#fde0ef\"],[0.5,\"#f7f7f7\"],[0.6,\"#e6f5d0\"],[0.7,\"#b8e186\"],[0.8,\"#7fbc41\"],[0.9,\"#4d9221\"],[1,\"#276419\"]],\"sequential\":[[0.0,\"#0d0887\"],[0.1111111111111111,\"#46039f\"],[0.2222222222222222,\"#7201a8\"],[0.3333333333333333,\"#9c179e\"],[0.4444444444444444,\"#bd3786\"],[0.5555555555555556,\"#d8576b\"],[0.6666666666666666,\"#ed7953\"],[0.7777777777777778,\"#fb9f3a\"],[0.8888888888888888,\"#fdca26\"],[1.0,\"#f0f921\"]],\"sequentialminus\":[[0.0,\"#0d0887\"],[0.1111111111111111,\"#46039f\"],[0.2222222222222222,\"#7201a8\"],[0.3333333333333333,\"#9c179e\"],[0.4444444444444444,\"#bd3786\"],[0.5555555555555556,\"#d8576b\"],[0.6666666666666666,\"#ed7953\"],[0.7777777777777778,\"#fb9f3a\"],[0.8888888888888888,\"#fdca26\"],[1.0,\"#f0f921\"]]},\"colorway\":[\"#636efa\",\"#EF553B\",\"#00cc96\",\"#ab63fa\",\"#FFA15A\",\"#19d3f3\",\"#FF6692\",\"#B6E880\",\"#FF97FF\",\"#FECB52\"],\"font\":{\"color\":\"#2a3f5f\"},\"geo\":{\"bgcolor\":\"white\",\"lakecolor\":\"white\",\"landcolor\":\"#E5ECF6\",\"showlakes\":true,\"showland\":true,\"subunitcolor\":\"white\"},\"hoverlabel\":{\"align\":\"left\"},\"hovermode\":\"closest\",\"mapbox\":{\"style\":\"light\"},\"paper_bgcolor\":\"white\",\"plot_bgcolor\":\"#E5ECF6\",\"polar\":{\"angularaxis\":{\"gridcolor\":\"white\",\"linecolor\":\"white\",\"ticks\":\"\"},\"bgcolor\":\"#E5ECF6\",\"radialaxis\":{\"gridcolor\":\"white\",\"linecolor\":\"white\",\"ticks\":\"\"}},\"scene\":{\"xaxis\":{\"backgroundcolor\":\"#E5ECF6\",\"gridcolor\":\"white\",\"gridwidth\":2,\"linecolor\":\"white\",\"showbackground\":true,\"ticks\":\"\",\"zerolinecolor\":\"white\"},\"yaxis\":{\"backgroundcolor\":\"#E5ECF6\",\"gridcolor\":\"white\",\"gridwidth\":2,\"linecolor\":\"white\",\"showbackground\":true,\"ticks\":\"\",\"zerolinecolor\":\"white\"},\"zaxis\":{\"backgroundcolor\":\"#E5ECF6\",\"gridcolor\":\"white\",\"gridwidth\":2,\"linecolor\":\"white\",\"showbackground\":true,\"ticks\":\"\",\"zerolinecolor\":\"white\"}},\"shapedefaults\":{\"line\":{\"color\":\"#2a3f5f\"}},\"ternary\":{\"aaxis\":{\"gridcolor\":\"white\",\"linecolor\":\"white\",\"ticks\":\"\"},\"baxis\":{\"gridcolor\":\"white\",\"linecolor\":\"white\",\"ticks\":\"\"},\"bgcolor\":\"#E5ECF6\",\"caxis\":{\"gridcolor\":\"white\",\"linecolor\":\"white\",\"ticks\":\"\"}},\"title\":{\"x\":0.05},\"xaxis\":{\"automargin\":true,\"gridcolor\":\"white\",\"linecolor\":\"white\",\"ticks\":\"\",\"title\":{\"standoff\":15},\"zerolinecolor\":\"white\",\"zerolinewidth\":2},\"yaxis\":{\"automargin\":true,\"gridcolor\":\"white\",\"linecolor\":\"white\",\"ticks\":\"\",\"title\":{\"standoff\":15},\"zerolinecolor\":\"white\",\"zerolinewidth\":2}}},\"title\":{\"font\":{\"color\":\"#4D5663\"}},\"xaxis\":{\"anchor\":\"y\",\"domain\":[0.0,0.2125],\"gridcolor\":\"#E1E5ED\",\"showgrid\":false,\"tickfont\":{\"color\":\"#4D5663\"},\"title\":{\"font\":{\"color\":\"#4D5663\"},\"text\":\"\"},\"zerolinecolor\":\"#E1E5ED\"},\"yaxis\":{\"anchor\":\"x\",\"domain\":[0.8025,1.0],\"gridcolor\":\"#E1E5ED\",\"showgrid\":false,\"tickfont\":{\"color\":\"#4D5663\"},\"title\":{\"font\":{\"color\":\"#4D5663\"},\"text\":\"\"},\"zerolinecolor\":\"#E1E5ED\"},\"xaxis2\":{\"anchor\":\"y2\",\"domain\":[0.2625,0.475],\"gridcolor\":\"#E1E5ED\",\"showgrid\":false,\"tickfont\":{\"color\":\"#4D5663\"},\"title\":{\"font\":{\"color\":\"#4D5663\"},\"text\":\"\"},\"zerolinecolor\":\"#E1E5ED\"},\"yaxis2\":{\"anchor\":\"x2\",\"domain\":[0.8025,1.0],\"gridcolor\":\"#E1E5ED\",\"showgrid\":false,\"tickfont\":{\"color\":\"#4D5663\"},\"title\":{\"font\":{\"color\":\"#4D5663\"},\"text\":\"\"},\"zerolinecolor\":\"#E1E5ED\"},\"xaxis3\":{\"anchor\":\"y3\",\"domain\":[0.525,0.7375],\"gridcolor\":\"#E1E5ED\",\"showgrid\":false,\"tickfont\":{\"color\":\"#4D5663\"},\"title\":{\"font\":{\"color\":\"#4D5663\"},\"text\":\"\"},\"zerolinecolor\":\"#E1E5ED\"},\"yaxis3\":{\"anchor\":\"x3\",\"domain\":[0.8025,1.0],\"gridcolor\":\"#E1E5ED\",\"showgrid\":false,\"tickfont\":{\"color\":\"#4D5663\"},\"title\":{\"font\":{\"color\":\"#4D5663\"},\"text\":\"\"},\"zerolinecolor\":\"#E1E5ED\"},\"xaxis4\":{\"anchor\":\"y4\",\"domain\":[0.7875,1.0],\"gridcolor\":\"#E1E5ED\",\"showgrid\":false,\"tickfont\":{\"color\":\"#4D5663\"},\"title\":{\"font\":{\"color\":\"#4D5663\"},\"text\":\"\"},\"zerolinecolor\":\"#E1E5ED\"},\"yaxis4\":{\"anchor\":\"x4\",\"domain\":[0.8025,1.0],\"gridcolor\":\"#E1E5ED\",\"showgrid\":false,\"tickfont\":{\"color\":\"#4D5663\"},\"title\":{\"font\":{\"color\":\"#4D5663\"},\"text\":\"\"},\"zerolinecolor\":\"#E1E5ED\"},\"xaxis5\":{\"anchor\":\"y5\",\"domain\":[0.0,0.2125],\"gridcolor\":\"#E1E5ED\",\"showgrid\":false,\"tickfont\":{\"color\":\"#4D5663\"},\"title\":{\"font\":{\"color\":\"#4D5663\"},\"text\":\"\"},\"zerolinecolor\":\"#E1E5ED\"},\"yaxis5\":{\"anchor\":\"x5\",\"domain\":[0.535,0.7325],\"gridcolor\":\"#E1E5ED\",\"showgrid\":false,\"tickfont\":{\"color\":\"#4D5663\"},\"title\":{\"font\":{\"color\":\"#4D5663\"},\"text\":\"\"},\"zerolinecolor\":\"#E1E5ED\"},\"xaxis6\":{\"anchor\":\"y6\",\"domain\":[0.2625,0.475],\"gridcolor\":\"#E1E5ED\",\"showgrid\":false,\"tickfont\":{\"color\":\"#4D5663\"},\"title\":{\"font\":{\"color\":\"#4D5663\"},\"text\":\"\"},\"zerolinecolor\":\"#E1E5ED\"},\"yaxis6\":{\"anchor\":\"x6\",\"domain\":[0.535,0.7325],\"gridcolor\":\"#E1E5ED\",\"showgrid\":false,\"tickfont\":{\"color\":\"#4D5663\"},\"title\":{\"font\":{\"color\":\"#4D5663\"},\"text\":\"\"},\"zerolinecolor\":\"#E1E5ED\"},\"xaxis7\":{\"anchor\":\"y7\",\"domain\":[0.525,0.7375],\"gridcolor\":\"#E1E5ED\",\"showgrid\":false,\"tickfont\":{\"color\":\"#4D5663\"},\"title\":{\"font\":{\"color\":\"#4D5663\"},\"text\":\"\"},\"zerolinecolor\":\"#E1E5ED\"},\"yaxis7\":{\"anchor\":\"x7\",\"domain\":[0.535,0.7325],\"gridcolor\":\"#E1E5ED\",\"showgrid\":false,\"tickfont\":{\"color\":\"#4D5663\"},\"title\":{\"font\":{\"color\":\"#4D5663\"},\"text\":\"\"},\"zerolinecolor\":\"#E1E5ED\"},\"xaxis8\":{\"anchor\":\"y8\",\"domain\":[0.7875,1.0],\"gridcolor\":\"#E1E5ED\",\"showgrid\":false,\"tickfont\":{\"color\":\"#4D5663\"},\"title\":{\"font\":{\"color\":\"#4D5663\"},\"text\":\"\"},\"zerolinecolor\":\"#E1E5ED\"},\"yaxis8\":{\"anchor\":\"x8\",\"domain\":[0.535,0.7325],\"gridcolor\":\"#E1E5ED\",\"showgrid\":false,\"tickfont\":{\"color\":\"#4D5663\"},\"title\":{\"font\":{\"color\":\"#4D5663\"},\"text\":\"\"},\"zerolinecolor\":\"#E1E5ED\"},\"xaxis9\":{\"anchor\":\"y9\",\"domain\":[0.0,0.2125],\"gridcolor\":\"#E1E5ED\",\"showgrid\":false,\"tickfont\":{\"color\":\"#4D5663\"},\"title\":{\"font\":{\"color\":\"#4D5663\"},\"text\":\"\"},\"zerolinecolor\":\"#E1E5ED\"},\"yaxis9\":{\"anchor\":\"x9\",\"domain\":[0.2675,0.465],\"gridcolor\":\"#E1E5ED\",\"showgrid\":false,\"tickfont\":{\"color\":\"#4D5663\"},\"title\":{\"font\":{\"color\":\"#4D5663\"},\"text\":\"\"},\"zerolinecolor\":\"#E1E5ED\"},\"xaxis10\":{\"anchor\":\"y10\",\"domain\":[0.2625,0.475],\"gridcolor\":\"#E1E5ED\",\"showgrid\":false,\"tickfont\":{\"color\":\"#4D5663\"},\"title\":{\"font\":{\"color\":\"#4D5663\"},\"text\":\"\"},\"zerolinecolor\":\"#E1E5ED\"},\"yaxis10\":{\"anchor\":\"x10\",\"domain\":[0.2675,0.465],\"gridcolor\":\"#E1E5ED\",\"showgrid\":false,\"tickfont\":{\"color\":\"#4D5663\"},\"title\":{\"font\":{\"color\":\"#4D5663\"},\"text\":\"\"},\"zerolinecolor\":\"#E1E5ED\"},\"xaxis11\":{\"anchor\":\"y11\",\"domain\":[0.525,0.7375],\"gridcolor\":\"#E1E5ED\",\"showgrid\":false,\"tickfont\":{\"color\":\"#4D5663\"},\"title\":{\"font\":{\"color\":\"#4D5663\"},\"text\":\"\"},\"zerolinecolor\":\"#E1E5ED\"},\"yaxis11\":{\"anchor\":\"x11\",\"domain\":[0.2675,0.465],\"gridcolor\":\"#E1E5ED\",\"showgrid\":false,\"tickfont\":{\"color\":\"#4D5663\"},\"title\":{\"font\":{\"color\":\"#4D5663\"},\"text\":\"\"},\"zerolinecolor\":\"#E1E5ED\"},\"xaxis12\":{\"anchor\":\"y12\",\"domain\":[0.7875,1.0],\"gridcolor\":\"#E1E5ED\",\"showgrid\":false,\"tickfont\":{\"color\":\"#4D5663\"},\"title\":{\"font\":{\"color\":\"#4D5663\"},\"text\":\"\"},\"zerolinecolor\":\"#E1E5ED\"},\"yaxis12\":{\"anchor\":\"x12\",\"domain\":[0.2675,0.465],\"gridcolor\":\"#E1E5ED\",\"showgrid\":false,\"tickfont\":{\"color\":\"#4D5663\"},\"title\":{\"font\":{\"color\":\"#4D5663\"},\"text\":\"\"},\"zerolinecolor\":\"#E1E5ED\"},\"xaxis13\":{\"anchor\":\"y13\",\"domain\":[0.0,0.2125],\"gridcolor\":\"#E1E5ED\",\"showgrid\":false,\"tickfont\":{\"color\":\"#4D5663\"},\"title\":{\"font\":{\"color\":\"#4D5663\"},\"text\":\"\"},\"zerolinecolor\":\"#E1E5ED\"},\"yaxis13\":{\"anchor\":\"x13\",\"domain\":[0.0,0.1975],\"gridcolor\":\"#E1E5ED\",\"showgrid\":false,\"tickfont\":{\"color\":\"#4D5663\"},\"title\":{\"font\":{\"color\":\"#4D5663\"},\"text\":\"\"},\"zerolinecolor\":\"#E1E5ED\"},\"xaxis14\":{\"anchor\":\"y14\",\"domain\":[0.2625,0.475],\"gridcolor\":\"#E1E5ED\",\"showgrid\":false,\"tickfont\":{\"color\":\"#4D5663\"},\"title\":{\"font\":{\"color\":\"#4D5663\"},\"text\":\"\"},\"zerolinecolor\":\"#E1E5ED\"},\"yaxis14\":{\"anchor\":\"x14\",\"domain\":[0.0,0.1975],\"gridcolor\":\"#E1E5ED\",\"showgrid\":false,\"tickfont\":{\"color\":\"#4D5663\"},\"title\":{\"font\":{\"color\":\"#4D5663\"},\"text\":\"\"},\"zerolinecolor\":\"#E1E5ED\"},\"xaxis15\":{\"anchor\":\"y15\",\"domain\":[0.525,0.7375],\"gridcolor\":\"#E1E5ED\",\"showgrid\":false,\"tickfont\":{\"color\":\"#4D5663\"},\"title\":{\"font\":{\"color\":\"#4D5663\"},\"text\":\"\"},\"zerolinecolor\":\"#E1E5ED\"},\"yaxis15\":{\"anchor\":\"x15\",\"domain\":[0.0,0.1975],\"gridcolor\":\"#E1E5ED\",\"showgrid\":false,\"tickfont\":{\"color\":\"#4D5663\"},\"title\":{\"font\":{\"color\":\"#4D5663\"},\"text\":\"\"},\"zerolinecolor\":\"#E1E5ED\"},\"xaxis16\":{\"anchor\":\"y16\",\"domain\":[0.7875,1.0],\"gridcolor\":\"#E1E5ED\",\"showgrid\":false,\"tickfont\":{\"color\":\"#4D5663\"},\"title\":{\"font\":{\"color\":\"#4D5663\"},\"text\":\"\"},\"zerolinecolor\":\"#E1E5ED\"},\"yaxis16\":{\"anchor\":\"x16\",\"domain\":[0.0,0.1975],\"gridcolor\":\"#E1E5ED\",\"showgrid\":false,\"tickfont\":{\"color\":\"#4D5663\"},\"title\":{\"font\":{\"color\":\"#4D5663\"},\"text\":\"\"},\"zerolinecolor\":\"#E1E5ED\"}},                        {\"showLink\": true, \"linkText\": \"Export to plot.ly\", \"plotlyServerURL\": \"https://plot.ly\", \"responsive\": true}                    ).then(function(){\n",
       "                            \n",
       "var gd = document.getElementById('3d6f6e7a-3d19-496e-9891-c8da3f263daa');\n",
       "var x = new MutationObserver(function (mutations, observer) {{\n",
       "        var display = window.getComputedStyle(gd).display;\n",
       "        if (!display || display === 'none') {{\n",
       "            console.log([gd, 'removed!']);\n",
       "            Plotly.purge(gd);\n",
       "            observer.disconnect();\n",
       "        }}\n",
       "}});\n",
       "\n",
       "// Listen for the removal of the full notebook cells\n",
       "var notebookContainer = gd.closest('#notebook-container');\n",
       "if (notebookContainer) {{\n",
       "    x.observe(notebookContainer, {childList: true});\n",
       "}}\n",
       "\n",
       "// Listen for the clearing of the current output cell\n",
       "var outputEl = gd.closest('.output');\n",
       "if (outputEl) {{\n",
       "    x.observe(outputEl, {childList: true});\n",
       "}}\n",
       "\n",
       "                        })                };                });            </script>        </div>"
      ]
     },
     "metadata": {},
     "output_type": "display_data"
    }
   ],
   "source": [
    "df.scatter_matrix()"
   ]
  },
  {
   "cell_type": "markdown",
   "metadata": {
    "collapsed": true
   },
   "source": [
    "# Great Job!"
   ]
  }
 ],
 "metadata": {
  "kernelspec": {
   "display_name": "pandas-playground",
   "language": "python",
   "name": "python3"
  },
  "language_info": {
   "codemirror_mode": {
    "name": "ipython",
    "version": 3
   },
   "file_extension": ".py",
   "mimetype": "text/x-python",
   "name": "python",
   "nbconvert_exporter": "python",
   "pygments_lexer": "ipython3",
   "version": "3.12.4"
  }
 },
 "nbformat": 4,
 "nbformat_minor": 0
}
