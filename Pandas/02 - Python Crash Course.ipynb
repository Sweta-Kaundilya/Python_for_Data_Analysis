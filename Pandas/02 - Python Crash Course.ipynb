{
 "cells": [
  {
   "cell_type": "markdown",
   "id": "165afe4b-04af-43f0-93f9-b0ee79b7e7e9",
   "metadata": {
    "editable": true,
    "slideshow": {
     "slide_type": ""
    },
    "tags": []
   },
   "source": [
    "# Python Crash Course"
   ]
  },
  {
   "cell_type": "markdown",
   "id": "b0d79961",
   "metadata": {},
   "source": [
    "## Comments\n",
    "- A **comment** is a line of text ignored by Python.\n",
    "- Use a hashtag/octothorpe (#) to create a comment."
   ]
  },
  {
   "cell_type": "code",
   "execution_count": 3,
   "id": "5f7086e1-1eb1-482c-a4a0-5fd1869fbc5c",
   "metadata": {
    "tags": []
   },
   "outputs": [
    {
     "data": {
      "text/plain": [
       "20"
      ]
     },
     "execution_count": 3,
     "metadata": {},
     "output_type": "execute_result"
    }
   ],
   "source": [
    "#Author: Sweta\n",
    "#Solve really complex mathematical expression using python\n",
    "3 + 3\n",
    "5 + 5 \n",
    "10 + 10"
   ]
  },
  {
   "cell_type": "code",
   "execution_count": 2,
   "id": "57f64f77-2cd2-4920-943e-36551695a518",
   "metadata": {
    "tags": []
   },
   "outputs": [],
   "source": [
    "# 3 + 3"
   ]
  },
  {
   "cell_type": "markdown",
   "id": "92e4dcbd-ae5d-4fe8-b2c0-c494fb605ca8",
   "metadata": {},
   "source": [
    "## Basic Data Types\n",
    "- An **integer** is a whole number.\n",
    "- A **floating-point** number is one with a fractional or decimal component.\n",
    "- A **string** is a piece of text. It's a collection of characters.\n",
    "- An **empty string** has a length of 0 characters.\n",
    "- A **Boolean** is a type whose value can only be True or False.\n",
    "- **None** is a special Python type that represents nothingness, blankness, or the absence of a value.\n",
    "- The operations that can be performed on a value depend on its type. There are functionalities that we can do with strings but not numbers, and vice versa."
   ]
  },
  {
   "cell_type": "code",
   "execution_count": 4,
   "id": "882a9c10-afba-42b1-9ec6-bece3fab0992",
   "metadata": {},
   "outputs": [
    {
     "data": {
      "text/plain": [
       "0"
      ]
     },
     "execution_count": 4,
     "metadata": {},
     "output_type": "execute_result"
    }
   ],
   "source": [
    "#Integers - whole number \n",
    "5\n",
    "10\n",
    "-23\n",
    "0"
   ]
  },
  {
   "cell_type": "code",
   "execution_count": 5,
   "id": "939bdf3f-d6c5-4ab6-8fd6-b513722c815b",
   "metadata": {},
   "outputs": [
    {
     "data": {
      "text/plain": [
       "-113.23819"
      ]
     },
     "execution_count": 5,
     "metadata": {},
     "output_type": "execute_result"
    }
   ],
   "source": [
    "#Floating-point - number with a decimal/fractional component\n",
    "3.14\n",
    "3.14159\n",
    "9.99\n",
    "-113.23819"
   ]
  },
  {
   "cell_type": "code",
   "execution_count": 8,
   "id": "2ff30f59-19d1-4f7f-b4a6-2be3712faf2a",
   "metadata": {},
   "outputs": [
    {
     "data": {
      "text/plain": [
       "'123 dollars.!@#$^'"
      ]
     },
     "execution_count": 8,
     "metadata": {},
     "output_type": "execute_result"
    }
   ],
   "source": [
    "#String - a piece of text, collection of characters\n",
    "\"Sweta\"\n",
    "\"123 dollars.!@#$^\""
   ]
  },
  {
   "cell_type": "code",
   "execution_count": 11,
   "id": "90477e17-fccc-43a9-82a5-3add2717bda1",
   "metadata": {},
   "outputs": [
    {
     "data": {
      "text/plain": [
       "144.14000000000001"
      ]
     },
     "execution_count": 11,
     "metadata": {},
     "output_type": "execute_result"
    }
   ],
   "source": [
    "139.99 + 4.15\n",
    "#\"139.99\" + 4.15"
   ]
  },
  {
   "cell_type": "code",
   "execution_count": 12,
   "id": "77ea4c37-1e15-4bfb-9d76-1302e9618eee",
   "metadata": {
    "editable": true,
    "slideshow": {
     "slide_type": ""
    },
    "tags": []
   },
   "outputs": [
    {
     "data": {
      "text/plain": [
       "''"
      ]
     },
     "execution_count": 12,
     "metadata": {},
     "output_type": "execute_result"
    }
   ],
   "source": [
    "#Empty string - a string without characters\n",
    "\"\""
   ]
  },
  {
   "cell_type": "code",
   "execution_count": null,
   "id": "658eef37-0cbc-4c9d-a97a-399ec47fd531",
   "metadata": {},
   "outputs": [],
   "source": [
    "#Boolean - George Boole\n",
    "True\n",
    "False"
   ]
  },
  {
   "cell_type": "code",
   "execution_count": 13,
   "id": "bfcaf78f-88d9-43ac-bc33-aa9e4b16f621",
   "metadata": {},
   "outputs": [
    {
     "data": {
      "text/plain": [
       "True"
      ]
     },
     "execution_count": 13,
     "metadata": {},
     "output_type": "execute_result"
    }
   ],
   "source": [
    "5 < 7"
   ]
  },
  {
   "cell_type": "code",
   "execution_count": 14,
   "id": "ae9ec7f3-cb23-4c3e-a4a8-728de656fd5e",
   "metadata": {},
   "outputs": [
    {
     "data": {
      "text/plain": [
       "False"
      ]
     },
     "execution_count": 14,
     "metadata": {},
     "output_type": "execute_result"
    }
   ],
   "source": [
    "10 > 12"
   ]
  },
  {
   "cell_type": "code",
   "execution_count": 15,
   "id": "5cf14301-0874-4121-843a-a4db89573591",
   "metadata": {},
   "outputs": [],
   "source": [
    "#None - a type that represents absence/nullness/a value missing\n",
    "None"
   ]
  },
  {
   "cell_type": "markdown",
   "id": "3271e1b9",
   "metadata": {},
   "source": [
    "## Operators\n",
    "- An **operator** is a symbol that performs an operation (mathematical, logical, etc).\n",
    "- Python supports all traditional mathematical operation - `+` for addition, `-` for subtraction, `*` for multiplication, and `/` for division.\n",
    "- The floor division operator (`//`) leaves off the floating point portion of a division result.\n",
    "- The `+` operator performs concatenation when used with strings.\n",
    "- The equality operator (`==`) returns True if two values are equal to each other.\n",
    "- The inequality operator (`!=`) returns True if two values are unequal to each other."
   ]
  },
  {
   "cell_type": "code",
   "execution_count": 18,
   "id": "18c1be1f",
   "metadata": {},
   "outputs": [
    {
     "data": {
      "text/plain": [
       "15.23"
      ]
     },
     "execution_count": 18,
     "metadata": {},
     "output_type": "execute_result"
    }
   ],
   "source": [
    "5 + 3\n",
    "3.14 + 7.96\n",
    "5 + 10.23"
   ]
  },
  {
   "cell_type": "code",
   "execution_count": 19,
   "id": "976f03ae-e196-4726-8762-079aa0db7e43",
   "metadata": {
    "tags": []
   },
   "outputs": [
    {
     "data": {
      "text/plain": [
       "'racecar'"
      ]
     },
     "execution_count": 19,
     "metadata": {},
     "output_type": "execute_result"
    }
   ],
   "source": [
    "#Concatenation - combining two strings together\n",
    "\"race\" + \"car\""
   ]
  },
  {
   "cell_type": "code",
   "execution_count": 21,
   "id": "66a67875-de12-4f73-a235-8d93472e8599",
   "metadata": {
    "tags": []
   },
   "outputs": [],
   "source": [
    "#\"race\" + 5\n",
    "#5 + \"race\""
   ]
  },
  {
   "cell_type": "code",
   "execution_count": 22,
   "id": "58b969aa-77b8-4bb9-a108-d345e7fb760c",
   "metadata": {
    "tags": []
   },
   "outputs": [
    {
     "data": {
      "text/plain": [
       "5"
      ]
     },
     "execution_count": 22,
     "metadata": {},
     "output_type": "execute_result"
    }
   ],
   "source": [
    "10 - 5"
   ]
  },
  {
   "cell_type": "code",
   "execution_count": 23,
   "id": "5054b8ca-f00d-45b6-b283-2836b2771ef8",
   "metadata": {
    "tags": []
   },
   "outputs": [
    {
     "data": {
      "text/plain": [
       "12"
      ]
     },
     "execution_count": 23,
     "metadata": {},
     "output_type": "execute_result"
    }
   ],
   "source": [
    "4 * 3"
   ]
  },
  {
   "cell_type": "code",
   "execution_count": 25,
   "id": "0ba77ba9-43b6-46d6-8118-509a1d3eda48",
   "metadata": {
    "tags": []
   },
   "outputs": [
    {
     "data": {
      "text/plain": [
       "'MahiMahiMahiMahiMahiMahiMahiMahiMahiMahi'"
      ]
     },
     "execution_count": 25,
     "metadata": {},
     "output_type": "execute_result"
    }
   ],
   "source": [
    "\"Mahi\" * 10"
   ]
  },
  {
   "cell_type": "code",
   "execution_count": 27,
   "id": "e4bc6e3b-3393-4dc0-b02b-cf040fb88c32",
   "metadata": {
    "editable": true,
    "slideshow": {
     "slide_type": ""
    },
    "tags": []
   },
   "outputs": [
    {
     "data": {
      "text/plain": [
       "35"
      ]
     },
     "execution_count": 27,
     "metadata": {},
     "output_type": "execute_result"
    }
   ],
   "source": [
    "#PEMDAS - Parentheses, Exponent, Multiplication/Division, Addition/Subtration\n",
    "3 + 4 * 5\n",
    "(3 + 4) * 5"
   ]
  },
  {
   "cell_type": "code",
   "execution_count": 29,
   "id": "235b7338-b7e2-4e1a-84f9-53a15eb7e7a5",
   "metadata": {
    "tags": []
   },
   "outputs": [
    {
     "data": {
      "text/plain": [
       "3.0"
      ]
     },
     "execution_count": 29,
     "metadata": {},
     "output_type": "execute_result"
    }
   ],
   "source": [
    "15 / 4\n",
    "12 / 4"
   ]
  },
  {
   "cell_type": "code",
   "execution_count": 32,
   "id": "59b1b107-89c3-48f2-a29a-2a078ea73aa6",
   "metadata": {
    "tags": []
   },
   "outputs": [
    {
     "data": {
      "text/plain": [
       "3"
      ]
     },
     "execution_count": 32,
     "metadata": {},
     "output_type": "execute_result"
    }
   ],
   "source": [
    "#Floor division - leaves out the floating-point\n",
    "10 // 3\n",
    "11 // 3\n",
    "12 // 4"
   ]
  },
  {
   "cell_type": "code",
   "execution_count": 35,
   "id": "b3897e59-3505-43e5-b86f-2f30c8346d35",
   "metadata": {
    "tags": []
   },
   "outputs": [
    {
     "data": {
      "text/plain": [
       "0"
      ]
     },
     "execution_count": 35,
     "metadata": {},
     "output_type": "execute_result"
    }
   ],
   "source": [
    "#Modulo operator - returns the remainder of a division\n",
    "14 % 3\n",
    "13 % 3\n",
    "15 % 3"
   ]
  },
  {
   "cell_type": "code",
   "execution_count": 39,
   "id": "7b602230",
   "metadata": {},
   "outputs": [
    {
     "data": {
      "text/plain": [
       "False"
      ]
     },
     "execution_count": 39,
     "metadata": {},
     "output_type": "execute_result"
    }
   ],
   "source": [
    "# Equality operator - check if the two values are equal\n",
    "1 == 1\n",
    "1 == 2\n",
    "5 == 5.0\n",
    "5 == 5.1"
   ]
  },
  {
   "cell_type": "code",
   "execution_count": 43,
   "id": "ce22922e",
   "metadata": {},
   "outputs": [
    {
     "data": {
      "text/plain": [
       "False"
      ]
     },
     "execution_count": 43,
     "metadata": {},
     "output_type": "execute_result"
    }
   ],
   "source": [
    "\"Hello\" == \"Hello\"\n",
    "\"Hello\" == \"Goodbye\"\n",
    "\"Hello\" == \"hello\"\n",
    "\"Hello\" == \"Hello \""
   ]
  },
  {
   "cell_type": "code",
   "execution_count": 47,
   "id": "1e79878a",
   "metadata": {},
   "outputs": [
    {
     "data": {
      "text/plain": [
       "False"
      ]
     },
     "execution_count": 47,
     "metadata": {},
     "output_type": "execute_result"
    }
   ],
   "source": [
    "True == True\n",
    "True == False\n",
    "False == False\n",
    "False == True"
   ]
  },
  {
   "cell_type": "code",
   "execution_count": 52,
   "id": "9312e980",
   "metadata": {},
   "outputs": [
    {
     "data": {
      "text/plain": [
       "True"
      ]
     },
     "execution_count": 52,
     "metadata": {},
     "output_type": "execute_result"
    }
   ],
   "source": [
    "#Inequality operator - checks if two values are not equal\n",
    "# !=\n",
    "5 != 10\n",
    "5 != 5\n",
    "\"Hello\" != \"Hello\"\n",
    "\"Hello\" != \"hello\"\n",
    "\"Hello\" != \"Hello \""
   ]
  },
  {
   "cell_type": "code",
   "execution_count": 53,
   "id": "193b739a",
   "metadata": {},
   "outputs": [
    {
     "data": {
      "text/plain": [
       "True"
      ]
     },
     "execution_count": 53,
     "metadata": {},
     "output_type": "execute_result"
    }
   ],
   "source": [
    "5 < 8"
   ]
  },
  {
   "cell_type": "code",
   "execution_count": 56,
   "id": "a1419d28",
   "metadata": {},
   "outputs": [
    {
     "data": {
      "text/plain": [
       "False"
      ]
     },
     "execution_count": 56,
     "metadata": {},
     "output_type": "execute_result"
    }
   ],
   "source": [
    "5 <= 8\n",
    "8 <= 8\n",
    "10 <=8"
   ]
  },
  {
   "cell_type": "code",
   "execution_count": 60,
   "id": "3292f809",
   "metadata": {},
   "outputs": [
    {
     "data": {
      "text/plain": [
       "False"
      ]
     },
     "execution_count": 60,
     "metadata": {},
     "output_type": "execute_result"
    }
   ],
   "source": [
    "14 > 9\n",
    "14 >= 9\n",
    "14 >= 14\n",
    "14 >= 17"
   ]
  },
  {
   "cell_type": "markdown",
   "id": "a7bc67a9",
   "metadata": {},
   "source": [
    "## Variables\n",
    "- A **variable** is a name for a value in your program. It is a placeholder for the value.\n",
    "- The value that a variable represents can *vary* over a program.\n",
    "- Multi-word variable names should follow a `snake_case` naming convention.\n",
    "- Python evaluates the right-hand side of an equal sign first.\n",
    "- The `len` function returns the length of its argument."
   ]
  },
  {
   "cell_type": "code",
   "execution_count": 61,
   "id": "06765506-d200-4b47-a2e4-0e189cd00f89",
   "metadata": {
    "tags": []
   },
   "outputs": [],
   "source": [
    "age = 32"
   ]
  },
  {
   "cell_type": "code",
   "execution_count": 62,
   "id": "14046d65-15b2-4f5a-a33d-1cf4519a527b",
   "metadata": {
    "tags": []
   },
   "outputs": [
    {
     "data": {
      "text/plain": [
       "37"
      ]
     },
     "execution_count": 62,
     "metadata": {},
     "output_type": "execute_result"
    }
   ],
   "source": [
    "age + 5"
   ]
  },
  {
   "cell_type": "code",
   "execution_count": 65,
   "id": "71137fe3-fb6a-405a-a14a-1bb9fd1fb4a1",
   "metadata": {
    "tags": []
   },
   "outputs": [],
   "source": [
    "price = 19.99\n",
    "profession = \"Data Analyst\"\n",
    "\n",
    "#snake_case_formatting\n",
    "first_name = \"Sweta\"\n",
    "is_awesome = True"
   ]
  },
  {
   "cell_type": "code",
   "execution_count": 68,
   "id": "2067023e-a2dd-4266-94f1-742808895ead",
   "metadata": {
    "tags": []
   },
   "outputs": [
    {
     "data": {
      "text/plain": [
       "'Sweta is strongest'"
      ]
     },
     "execution_count": 68,
     "metadata": {},
     "output_type": "execute_result"
    }
   ],
   "source": [
    "price\n",
    "profession\n",
    "first_name + \" is strongest\""
   ]
  },
  {
   "cell_type": "code",
   "execution_count": 69,
   "id": "cf90303d-a5f2-49bd-ac19-75c43c79ccfa",
   "metadata": {
    "tags": []
   },
   "outputs": [],
   "source": [
    "profession = \"Data Scientist\""
   ]
  },
  {
   "cell_type": "code",
   "execution_count": 70,
   "id": "5eab8e98-00bb-4727-ac52-0e1951657274",
   "metadata": {
    "tags": []
   },
   "outputs": [
    {
     "data": {
      "text/plain": [
       "'Data Scientist'"
      ]
     },
     "execution_count": 70,
     "metadata": {},
     "output_type": "execute_result"
    }
   ],
   "source": [
    "profession"
   ]
  },
  {
   "cell_type": "code",
   "execution_count": 71,
   "id": "005dcb9a-0757-477a-ab55-70bb13a1d557",
   "metadata": {
    "tags": []
   },
   "outputs": [
    {
     "data": {
      "text/plain": [
       "32"
      ]
     },
     "execution_count": 71,
     "metadata": {},
     "output_type": "execute_result"
    }
   ],
   "source": [
    "age"
   ]
  },
  {
   "cell_type": "code",
   "execution_count": 74,
   "id": "33abb053-dd3d-4f22-905d-3d54d4e4d8c3",
   "metadata": {
    "tags": []
   },
   "outputs": [],
   "source": [
    "age = age + 5"
   ]
  },
  {
   "cell_type": "code",
   "execution_count": 75,
   "id": "045c3eff-d119-42b0-a23c-c9a81d808b42",
   "metadata": {
    "tags": []
   },
   "outputs": [
    {
     "data": {
      "text/plain": [
       "42"
      ]
     },
     "execution_count": 75,
     "metadata": {},
     "output_type": "execute_result"
    }
   ],
   "source": [
    "age"
   ]
  },
  {
   "cell_type": "markdown",
   "id": "42d67a50",
   "metadata": {},
   "source": [
    "## Built-in Functions\n",
    "- A **function** is a repeatable procedure.\n",
    "- A **function** can accept inputs (which are called **arguments**).\n",
    "- A **function** produces a **return value**, which is the \"output\" of the function.\n",
    "- The technical term for running/executing a function is \"invoking\" or \"calling\".\n",
    "- Invoke a function with a pair of parentheses.\n",
    "- The `len` function returns the length of its argument.\n",
    "- The `str` function converts its argument to a string.\n",
    "- The `int` function converts its argument to an integer.\n",
    "- The `float` function converts its argument to a floating-point.\n",
    "- The `type` function returns the type of its argument (the kind of value it is)."
   ]
  },
  {
   "cell_type": "code",
   "execution_count": 76,
   "id": "c876360e-9043-458c-a10e-97815c43eb2f",
   "metadata": {
    "tags": []
   },
   "outputs": [
    {
     "data": {
      "text/plain": [
       "13"
      ]
     },
     "execution_count": 76,
     "metadata": {},
     "output_type": "execute_result"
    }
   ],
   "source": [
    "len(\"Python is fun\")"
   ]
  },
  {
   "cell_type": "code",
   "execution_count": 77,
   "id": "54c11642-a975-43c5-938c-83b173c1ef16",
   "metadata": {
    "tags": []
   },
   "outputs": [
    {
     "data": {
      "text/plain": [
       "'3.14'"
      ]
     },
     "execution_count": 77,
     "metadata": {},
     "output_type": "execute_result"
    }
   ],
   "source": [
    "str(3.14)"
   ]
  },
  {
   "cell_type": "code",
   "execution_count": 78,
   "id": "686e22fa-67a7-481b-8689-23f73f812ead",
   "metadata": {
    "tags": []
   },
   "outputs": [
    {
     "data": {
      "text/plain": [
       "10"
      ]
     },
     "execution_count": 78,
     "metadata": {},
     "output_type": "execute_result"
    }
   ],
   "source": [
    "int(\"10\")"
   ]
  },
  {
   "cell_type": "code",
   "execution_count": 79,
   "id": "f8cd75b3-0ee2-490b-9c80-6af66456811d",
   "metadata": {
    "tags": []
   },
   "outputs": [
    {
     "data": {
      "text/plain": [
       "9.384"
      ]
     },
     "execution_count": 79,
     "metadata": {},
     "output_type": "execute_result"
    }
   ],
   "source": [
    "float(\"9.384\")"
   ]
  },
  {
   "cell_type": "code",
   "execution_count": 81,
   "id": "270c8bf5-4523-4b25-a73b-15769307fad4",
   "metadata": {
    "tags": []
   },
   "outputs": [
    {
     "data": {
      "text/plain": [
       "int"
      ]
     },
     "execution_count": 81,
     "metadata": {},
     "output_type": "execute_result"
    }
   ],
   "source": [
    "type(5)\n",
    "type(-23)"
   ]
  },
  {
   "cell_type": "code",
   "execution_count": 82,
   "id": "5b7ffcbb-4720-42cc-b9a3-8cfefe013366",
   "metadata": {
    "tags": []
   },
   "outputs": [
    {
     "data": {
      "text/plain": [
       "float"
      ]
     },
     "execution_count": 82,
     "metadata": {},
     "output_type": "execute_result"
    }
   ],
   "source": [
    "type(3.14)"
   ]
  },
  {
   "cell_type": "code",
   "execution_count": 83,
   "id": "4405f39f-ea86-4561-83b2-a1b6b8efdc56",
   "metadata": {
    "tags": []
   },
   "outputs": [
    {
     "data": {
      "text/plain": [
       "str"
      ]
     },
     "execution_count": 83,
     "metadata": {},
     "output_type": "execute_result"
    }
   ],
   "source": [
    "type(\"PlayStation\")"
   ]
  },
  {
   "cell_type": "code",
   "execution_count": 85,
   "id": "44b114d1-01f0-4ab3-803f-7ba017914589",
   "metadata": {
    "tags": []
   },
   "outputs": [
    {
     "data": {
      "text/plain": [
       "bool"
      ]
     },
     "execution_count": 85,
     "metadata": {},
     "output_type": "execute_result"
    }
   ],
   "source": [
    "type(True)\n",
    "type(False)"
   ]
  },
  {
   "cell_type": "markdown",
   "id": "cf976284",
   "metadata": {},
   "source": [
    "## Custom Functions\n",
    "- Define a function with the `def` keyword, a name, a parameter list, and a colon.\n",
    "- Functions names should follow a `snake_case` naming convention.\n",
    "- A **parameter** is a name for an expected input.\n",
    "- Write the function's logic inside a nested block. The end of the block marks the end of the function logic.\n",
    "- Variables declared inside a function body will only last as long as the function runs.\n",
    "- Use the **return** keyword to specify the function's return value (output).\n",
    "- When invoking a function, we can pass in argument sequentially or with explicit parameter names.\n",
    "- A **default argument** is a fallback value that Python will provide if an argument is not passed for a parameter during invocation."
   ]
  },
  {
   "cell_type": "code",
   "execution_count": 86,
   "id": "8c04756d-a833-4bf8-abec-c83108d3b6c9",
   "metadata": {},
   "outputs": [],
   "source": [
    "#Declare a function that accepts a temperature in Celsius and returns it in Fahrenheit\n",
    "#Parameter - a name for an expected argument\n",
    "def convert_to_fahrenheit(celsius_temp):\n",
    "    calculation = celsius_temp * 1.8\n",
    "    return calculation + 32    "
   ]
  },
  {
   "cell_type": "code",
   "execution_count": 87,
   "id": "222e8875-bbfe-4146-b693-4022da8ab8f9",
   "metadata": {},
   "outputs": [
    {
     "data": {
      "text/plain": [
       "5"
      ]
     },
     "execution_count": 87,
     "metadata": {},
     "output_type": "execute_result"
    }
   ],
   "source": [
    "len(\"Hello\")"
   ]
  },
  {
   "cell_type": "code",
   "execution_count": 88,
   "id": "c363e00a-fc61-4d93-9f9d-02c8bf1e3aff",
   "metadata": {},
   "outputs": [
    {
     "data": {
      "text/plain": [
       "77.0"
      ]
     },
     "execution_count": 88,
     "metadata": {},
     "output_type": "execute_result"
    }
   ],
   "source": [
    "convert_to_fahrenheit(25)"
   ]
  },
  {
   "cell_type": "code",
   "execution_count": 89,
   "id": "f9d758e1-56b7-44e1-b72a-73c512c5a9f1",
   "metadata": {},
   "outputs": [
    {
     "data": {
      "text/plain": [
       "32.0"
      ]
     },
     "execution_count": 89,
     "metadata": {},
     "output_type": "execute_result"
    }
   ],
   "source": [
    "convert_to_fahrenheit(0)"
   ]
  },
  {
   "cell_type": "code",
   "execution_count": 90,
   "id": "22175ec5-e45a-495d-a4ce-d4d3913b7ceb",
   "metadata": {},
   "outputs": [
    {
     "data": {
      "text/plain": [
       "86.0"
      ]
     },
     "execution_count": 90,
     "metadata": {},
     "output_type": "execute_result"
    }
   ],
   "source": [
    "convert_to_fahrenheit(celsius_temp = 30)"
   ]
  },
  {
   "cell_type": "code",
   "execution_count": 91,
   "id": "55389978-ba32-43ad-816a-56433a6f6588",
   "metadata": {},
   "outputs": [
    {
     "ename": "TypeError",
     "evalue": "convert_to_fahrenheit() missing 1 required positional argument: 'celsius_temp'",
     "output_type": "error",
     "traceback": [
      "\u001b[1;31m---------------------------------------------------------------------------\u001b[0m",
      "\u001b[1;31mTypeError\u001b[0m                                 Traceback (most recent call last)",
      "Cell \u001b[1;32mIn[91], line 1\u001b[0m\n\u001b[1;32m----> 1\u001b[0m convert_to_fahrenheit()\n",
      "\u001b[1;31mTypeError\u001b[0m: convert_to_fahrenheit() missing 1 required positional argument: 'celsius_temp'"
     ]
    }
   ],
   "source": [
    "convert_to_fahrenheit() #When no argument is provided"
   ]
  },
  {
   "cell_type": "code",
   "execution_count": 92,
   "id": "42b44c9f-6455-430e-b5d5-6721e4f814cf",
   "metadata": {},
   "outputs": [],
   "source": [
    "def convert_to_fahrenheit(celsius_temp = 0): #assigned a default value to the parameter\n",
    "    calculation = celsius_temp * 1.8\n",
    "    return calculation + 32"
   ]
  },
  {
   "cell_type": "code",
   "execution_count": 93,
   "id": "949e1c4e-2613-40c7-81d8-3d7aef5ca14e",
   "metadata": {},
   "outputs": [
    {
     "data": {
      "text/plain": [
       "32.0"
      ]
     },
     "execution_count": 93,
     "metadata": {},
     "output_type": "execute_result"
    }
   ],
   "source": [
    "convert_to_fahrenheit()"
   ]
  },
  {
   "cell_type": "code",
   "execution_count": 94,
   "id": "b09d7e78-ab58-4597-bff7-b2f498129d94",
   "metadata": {},
   "outputs": [
    {
     "data": {
      "text/plain": [
       "77.0"
      ]
     },
     "execution_count": 94,
     "metadata": {},
     "output_type": "execute_result"
    }
   ],
   "source": [
    "convert_to_fahrenheit(25)"
   ]
  },
  {
   "cell_type": "markdown",
   "id": "7875f148",
   "metadata": {},
   "source": [
    "## String Methods\n",
    "- An **object** is the technical term for a type. A string is an example of an object.\n",
    "- A **method** is like a function that belongs to an object.\n",
    "- To invoke a method, provide a period after the object, then the method name and a pair of parentheses.\n",
    "- We use similar terminology and syntax for functions and methods. We can invoke methods. We can pass arguments to methods. Methods can return values.\n",
    "- Objects can be **mutable** (capable of change) or **immutable** (incapable of change). A string is immutable.\n",
    "- Common string methods include `upper`, `lower`, `swapcase`, `title`, `capitalize`, and `strip`.\n",
    "- **Method chaining** refers to invoking methods on objects returned by previous method invocations. We create a link or \"chain\" of methods.\n",
    "- The **in** and **not in** keywords check for the presence and absence of a substring within a string."
   ]
  },
  {
   "cell_type": "code",
   "execution_count": 95,
   "id": "e23c6a1e-3a4e-4266-a715-645c18649c39",
   "metadata": {},
   "outputs": [
    {
     "data": {
      "text/plain": [
       "'DATA ANALYST'"
      ]
     },
     "execution_count": 95,
     "metadata": {},
     "output_type": "execute_result"
    }
   ],
   "source": [
    "\"data analyst\".upper()"
   ]
  },
  {
   "cell_type": "code",
   "execution_count": 98,
   "id": "37d60bb5-b049-4da7-8e2a-a3ed451d55ea",
   "metadata": {},
   "outputs": [],
   "source": [
    "profession = \"data analyst\""
   ]
  },
  {
   "cell_type": "code",
   "execution_count": 99,
   "id": "1941a058-1eca-4c11-b7fc-96f6a3b14a92",
   "metadata": {},
   "outputs": [
    {
     "data": {
      "text/plain": [
       "'DATA ANALYST'"
      ]
     },
     "execution_count": 99,
     "metadata": {},
     "output_type": "execute_result"
    }
   ],
   "source": [
    "profession.upper()"
   ]
  },
  {
   "cell_type": "code",
   "execution_count": 101,
   "id": "7a28d5e4-28e2-4d42-8281-d28e91cc574e",
   "metadata": {},
   "outputs": [
    {
     "data": {
      "text/plain": [
       "'data analyst'"
      ]
     },
     "execution_count": 101,
     "metadata": {},
     "output_type": "execute_result"
    }
   ],
   "source": [
    "profession.lower()"
   ]
  },
  {
   "cell_type": "code",
   "execution_count": 102,
   "id": "8c3d9cdb-10e4-4188-982e-a4eb705cb433",
   "metadata": {},
   "outputs": [
    {
     "data": {
      "text/plain": [
       "'DATA ANALYST'"
      ]
     },
     "execution_count": 102,
     "metadata": {},
     "output_type": "execute_result"
    }
   ],
   "source": [
    "profession.swapcase()"
   ]
  },
  {
   "cell_type": "code",
   "execution_count": 104,
   "id": "a6b59253-3361-486b-a0f0-d2e770048d02",
   "metadata": {},
   "outputs": [
    {
     "data": {
      "text/plain": [
       "'Data Analyst'"
      ]
     },
     "execution_count": 104,
     "metadata": {},
     "output_type": "execute_result"
    }
   ],
   "source": [
    "profession.title()"
   ]
  },
  {
   "cell_type": "code",
   "execution_count": 105,
   "id": "9742d7b5-dafa-4723-aca9-36193302e2db",
   "metadata": {},
   "outputs": [
    {
     "data": {
      "text/plain": [
       "'Data analyst'"
      ]
     },
     "execution_count": 105,
     "metadata": {},
     "output_type": "execute_result"
    }
   ],
   "source": [
    "profession.capitalize()"
   ]
  },
  {
   "cell_type": "code",
   "execution_count": 106,
   "id": "7634eb19-868a-4565-8b7b-6d1d9930277b",
   "metadata": {},
   "outputs": [],
   "source": [
    "profession = \"         data analyst        \""
   ]
  },
  {
   "cell_type": "code",
   "execution_count": 107,
   "id": "d94140ef-d656-441f-9bc9-a624084a9b87",
   "metadata": {},
   "outputs": [
    {
     "data": {
      "text/plain": [
       "'data analyst        '"
      ]
     },
     "execution_count": 107,
     "metadata": {},
     "output_type": "execute_result"
    }
   ],
   "source": [
    "profession.lstrip()"
   ]
  },
  {
   "cell_type": "code",
   "execution_count": 108,
   "id": "99634080-4846-4ffc-a333-a8fe2a9b4431",
   "metadata": {},
   "outputs": [
    {
     "data": {
      "text/plain": [
       "'         data analyst'"
      ]
     },
     "execution_count": 108,
     "metadata": {},
     "output_type": "execute_result"
    }
   ],
   "source": [
    " profession.rstrip()"
   ]
  },
  {
   "cell_type": "code",
   "execution_count": 109,
   "id": "558a52aa-8c80-4ade-a755-cb7d9aede902",
   "metadata": {},
   "outputs": [
    {
     "data": {
      "text/plain": [
       "'data analyst'"
      ]
     },
     "execution_count": 109,
     "metadata": {},
     "output_type": "execute_result"
    }
   ],
   "source": [
    "profession.lstrip().rstrip()"
   ]
  },
  {
   "cell_type": "code",
   "execution_count": 110,
   "id": "81abe3b4-7750-43db-a424-9120d64b9042",
   "metadata": {},
   "outputs": [
    {
     "data": {
      "text/plain": [
       "'data analyst'"
      ]
     },
     "execution_count": 110,
     "metadata": {},
     "output_type": "execute_result"
    }
   ],
   "source": [
    "profession.strip()"
   ]
  },
  {
   "cell_type": "code",
   "execution_count": 111,
   "id": "957a03dc-0846-4fad-b75a-a2c5e2b1fcac",
   "metadata": {
    "editable": true,
    "slideshow": {
     "slide_type": ""
    },
    "tags": []
   },
   "outputs": [
    {
     "data": {
      "text/plain": [
       "'DATA ANALYST'"
      ]
     },
     "execution_count": 111,
     "metadata": {},
     "output_type": "execute_result"
    }
   ],
   "source": [
    "profession.lstrip().rstrip().upper()"
   ]
  },
  {
   "cell_type": "code",
   "execution_count": 113,
   "id": "2b12e60c-9992-4f34-96a1-1b357ed9c799",
   "metadata": {},
   "outputs": [
    {
     "data": {
      "text/plain": [
       "'         d*t* *n*lyst        '"
      ]
     },
     "execution_count": 113,
     "metadata": {},
     "output_type": "execute_result"
    }
   ],
   "source": [
    "profession.replace(\"a\",\"*\")"
   ]
  },
  {
   "cell_type": "code",
   "execution_count": 114,
   "id": "f36ca38c-b4d9-4ff4-bf7a-f8887dc93d5b",
   "metadata": {},
   "outputs": [
    {
     "data": {
      "text/plain": [
       "'d*t* *n*lyst'"
      ]
     },
     "execution_count": 114,
     "metadata": {},
     "output_type": "execute_result"
    }
   ],
   "source": [
    "profession.strip().replace(\"a\",\"*\")"
   ]
  },
  {
   "cell_type": "code",
   "execution_count": 115,
   "id": "529a2b02-d50f-4df4-acad-4ac3d5266e5a",
   "metadata": {
    "editable": true,
    "slideshow": {
     "slide_type": ""
    },
    "tags": []
   },
   "outputs": [
    {
     "data": {
      "text/plain": [
       "True"
      ]
     },
     "execution_count": 115,
     "metadata": {},
     "output_type": "execute_result"
    }
   ],
   "source": [
    "profession.strip().startswith(\"dat\")"
   ]
  },
  {
   "cell_type": "code",
   "execution_count": 116,
   "id": "d5b4310b-7584-4b76-abe2-bed814f78fa9",
   "metadata": {},
   "outputs": [
    {
     "data": {
      "text/plain": [
       "True"
      ]
     },
     "execution_count": 116,
     "metadata": {},
     "output_type": "execute_result"
    }
   ],
   "source": [
    "profession.strip().endswith(\"lyst\")"
   ]
  },
  {
   "cell_type": "code",
   "execution_count": 117,
   "id": "030b052c-a675-4ce4-87ff-300c3e0573ae",
   "metadata": {},
   "outputs": [
    {
     "data": {
      "text/plain": [
       "False"
      ]
     },
     "execution_count": 117,
     "metadata": {},
     "output_type": "execute_result"
    }
   ],
   "source": [
    "profession.strip().endswith(\"lyst \")"
   ]
  },
  {
   "cell_type": "code",
   "execution_count": 118,
   "id": "658eeb8f-9413-478c-8779-474218982d6e",
   "metadata": {},
   "outputs": [
    {
     "data": {
      "text/plain": [
       "'data analyst'"
      ]
     },
     "execution_count": 118,
     "metadata": {},
     "output_type": "execute_result"
    }
   ],
   "source": [
    "#in - checks for inclusion\n",
    "profession.strip()"
   ]
  },
  {
   "cell_type": "code",
   "execution_count": 119,
   "id": "48fa29b5-e285-41c5-ae10-5dabe5635f68",
   "metadata": {},
   "outputs": [
    {
     "data": {
      "text/plain": [
       "True"
      ]
     },
     "execution_count": 119,
     "metadata": {},
     "output_type": "execute_result"
    }
   ],
   "source": [
    "\"data\" in profession.strip()"
   ]
  },
  {
   "cell_type": "code",
   "execution_count": 120,
   "id": "2dbb5c2b-af76-4847-9111-9d6219e29581",
   "metadata": {},
   "outputs": [
    {
     "data": {
      "text/plain": [
       "True"
      ]
     },
     "execution_count": 120,
     "metadata": {},
     "output_type": "execute_result"
    }
   ],
   "source": [
    "\"Data\" not in profession.strip()"
   ]
  },
  {
   "cell_type": "markdown",
   "id": "56ea194e",
   "metadata": {},
   "source": [
    "## Lists\n",
    "- A **list** is a mutable data structure that holds an ordered collection of values.\n",
    "- We often use the term **element** to describe an item in the list.\n",
    "- The length of a list is its number of elements.\n",
    "- The **append** method adds an element to the end of the list.\n",
    "- The **pop** methods remove the last element from the list.\n",
    "- The **in** and **not in** keywords check whether or not an element exists within a list."
   ]
  },
  {
   "cell_type": "code",
   "execution_count": 123,
   "id": "28c1590b-b5a9-43a2-b765-f8f8a175cb60",
   "metadata": {},
   "outputs": [
    {
     "data": {
      "text/plain": [
       "[4, 8, 15, 16, 23, 42]"
      ]
     },
     "execution_count": 123,
     "metadata": {},
     "output_type": "execute_result"
    }
   ],
   "source": [
    "[4, 8, 15, 16, 23, 42]"
   ]
  },
  {
   "cell_type": "code",
   "execution_count": 124,
   "id": "b49546a0-7a6a-4c2b-bd10-c654f4fcacdd",
   "metadata": {},
   "outputs": [
    {
     "data": {
      "text/plain": [
       "[True, False, True, True, False]"
      ]
     },
     "execution_count": 124,
     "metadata": {},
     "output_type": "execute_result"
    }
   ],
   "source": [
    "[True, False, True, True, False]"
   ]
  },
  {
   "cell_type": "code",
   "execution_count": 126,
   "id": "a5e4821d-0c01-4167-a385-8ff4cc141ac3",
   "metadata": {},
   "outputs": [],
   "source": [
    "party_attendees = [\"Michael\", \"Freddy\", \"Jason\"]"
   ]
  },
  {
   "cell_type": "code",
   "execution_count": 127,
   "id": "3f109fdb-acee-4824-82f9-dc730c22353c",
   "metadata": {},
   "outputs": [
    {
     "data": {
      "text/plain": [
       "['Michael', 'Freddy', 'Jason']"
      ]
     },
     "execution_count": 127,
     "metadata": {},
     "output_type": "execute_result"
    }
   ],
   "source": [
    "party_attendees"
   ]
  },
  {
   "cell_type": "code",
   "execution_count": 128,
   "id": "00c296f1-f2ca-45c9-b34d-734dabddc0f8",
   "metadata": {},
   "outputs": [
    {
     "data": {
      "text/plain": [
       "6"
      ]
     },
     "execution_count": 128,
     "metadata": {},
     "output_type": "execute_result"
    }
   ],
   "source": [
    "len(\"Python\")"
   ]
  },
  {
   "cell_type": "code",
   "execution_count": 129,
   "id": "1e9fc9d7-053e-4ac2-a8e2-624daf9e0f21",
   "metadata": {},
   "outputs": [
    {
     "data": {
      "text/plain": [
       "3"
      ]
     },
     "execution_count": 129,
     "metadata": {},
     "output_type": "execute_result"
    }
   ],
   "source": [
    "len(party_attendees)"
   ]
  },
  {
   "cell_type": "code",
   "execution_count": 130,
   "id": "b7d7dee5-7466-4ab7-aba8-49348b65382a",
   "metadata": {},
   "outputs": [
    {
     "data": {
      "text/plain": [
       "list"
      ]
     },
     "execution_count": 130,
     "metadata": {},
     "output_type": "execute_result"
    }
   ],
   "source": [
    "type(party_attendees)"
   ]
  },
  {
   "cell_type": "code",
   "execution_count": 131,
   "id": "68f54206-af2a-45da-9c32-dc279fb8e459",
   "metadata": {},
   "outputs": [
    {
     "data": {
      "text/plain": [
       "['Washington', 'Jefferson']"
      ]
     },
     "execution_count": 131,
     "metadata": {},
     "output_type": "execute_result"
    }
   ],
   "source": [
    "presidents = [\"Washington\",\"Jefferson\"]\n",
    "presidents"
   ]
  },
  {
   "cell_type": "code",
   "execution_count": 132,
   "id": "b82545ea-a708-4c7d-9222-6e9ef4dd4541",
   "metadata": {},
   "outputs": [],
   "source": [
    "presidents.append(\"Madison\")"
   ]
  },
  {
   "cell_type": "code",
   "execution_count": 133,
   "id": "cc77c293-16e3-473d-92e9-203e0d18c1e6",
   "metadata": {},
   "outputs": [
    {
     "data": {
      "text/plain": [
       "['Washington', 'Jefferson', 'Madison']"
      ]
     },
     "execution_count": 133,
     "metadata": {},
     "output_type": "execute_result"
    }
   ],
   "source": [
    "presidents"
   ]
  },
  {
   "cell_type": "code",
   "execution_count": 134,
   "id": "d8bfabff-2fed-420f-8f43-5522127d07fc",
   "metadata": {},
   "outputs": [
    {
     "data": {
      "text/plain": [
       "['Salted', 'Unsalted', 'Caramel']"
      ]
     },
     "execution_count": 134,
     "metadata": {},
     "output_type": "execute_result"
    }
   ],
   "source": [
    "popcorn_flavors = [\"Salted\",\"Unsalted\",\"Caramel\"]\n",
    "popcorn_flavors"
   ]
  },
  {
   "cell_type": "code",
   "execution_count": 135,
   "id": "e418df3f-7559-4680-bbde-4f0b111b79fc",
   "metadata": {},
   "outputs": [
    {
     "data": {
      "text/plain": [
       "'Caramel'"
      ]
     },
     "execution_count": 135,
     "metadata": {},
     "output_type": "execute_result"
    }
   ],
   "source": [
    "popcorn_flavors.pop()"
   ]
  },
  {
   "cell_type": "code",
   "execution_count": 136,
   "id": "1c1eb6fc-612a-4108-b14a-526f5e3c2832",
   "metadata": {},
   "outputs": [
    {
     "data": {
      "text/plain": [
       "['Salted', 'Unsalted']"
      ]
     },
     "execution_count": 136,
     "metadata": {},
     "output_type": "execute_result"
    }
   ],
   "source": [
    "popcorn_flavors"
   ]
  },
  {
   "cell_type": "code",
   "execution_count": 138,
   "id": "ef6e3b09-5a5b-4bac-9933-cebf263318ae",
   "metadata": {},
   "outputs": [
    {
     "data": {
      "text/plain": [
       "['Mercury', 'Venus', 'Earth', 'Mars']"
      ]
     },
     "execution_count": 138,
     "metadata": {},
     "output_type": "execute_result"
    }
   ],
   "source": [
    "planets = [\"Mercury\",\"Venus\",\"Earth\",\"Mars\"]\n",
    "planets"
   ]
  },
  {
   "cell_type": "code",
   "execution_count": 139,
   "id": "ac3cdb4a-8592-42f8-b4d6-1b8e59bc5d1b",
   "metadata": {},
   "outputs": [
    {
     "data": {
      "text/plain": [
       "True"
      ]
     },
     "execution_count": 139,
     "metadata": {},
     "output_type": "execute_result"
    }
   ],
   "source": [
    "\"Earth\" in planets"
   ]
  },
  {
   "cell_type": "code",
   "execution_count": 140,
   "id": "b7d95a89-7f94-46aa-9d5d-656efcd008ba",
   "metadata": {},
   "outputs": [
    {
     "data": {
      "text/plain": [
       "False"
      ]
     },
     "execution_count": 140,
     "metadata": {},
     "output_type": "execute_result"
    }
   ],
   "source": [
    "\"earth\" in planets"
   ]
  },
  {
   "cell_type": "code",
   "execution_count": 141,
   "id": "e5901e8e-819d-4d23-a5fd-90c0c94f2ff6",
   "metadata": {},
   "outputs": [
    {
     "data": {
      "text/plain": [
       "True"
      ]
     },
     "execution_count": 141,
     "metadata": {},
     "output_type": "execute_result"
    }
   ],
   "source": [
    "\"pluto\" not in planets"
   ]
  },
  {
   "cell_type": "code",
   "execution_count": 142,
   "id": "d783e8ef-3b33-4bc2-a56d-d866a61398fa",
   "metadata": {},
   "outputs": [
    {
     "data": {
      "text/plain": [
       "False"
      ]
     },
     "execution_count": 142,
     "metadata": {},
     "output_type": "execute_result"
    }
   ],
   "source": [
    "\"Mars\" not in planets"
   ]
  },
  {
   "cell_type": "markdown",
   "id": "39e4d0be",
   "metadata": {},
   "source": [
    "## Index Positions and Slicing\n",
    "- Python assigns every string character an **index position** (an order in line).\n",
    "- Python assigns every list element an **index position** (an order in line).\n",
    "- The index starts counting at 0.\n",
    "- Use square brackets to extract a character/element by index position.\n",
    "- Use negative values to extract a character/element relative to the end of the object.\n",
    "- Use slicing to extract multiple character/elements.\n",
    "- The first index in a slice is inclusive. The second index in a slice is exclusive (Python will go up to that index but *not* include its value)."
   ]
  },
  {
   "cell_type": "code",
   "execution_count": 2,
   "id": "1a76f466-43cd-428f-9ae9-891933ac899f",
   "metadata": {},
   "outputs": [
    {
     "data": {
      "text/plain": [
       "'Spiderman'"
      ]
     },
     "execution_count": 2,
     "metadata": {},
     "output_type": "execute_result"
    }
   ],
   "source": [
    "hero = \"Spiderman\"\n",
    "hero"
   ]
  },
  {
   "cell_type": "code",
   "execution_count": 3,
   "id": "a445517e-a893-4cd5-ae46-52763343d3a8",
   "metadata": {},
   "outputs": [
    {
     "data": {
      "text/plain": [
       "9"
      ]
     },
     "execution_count": 3,
     "metadata": {},
     "output_type": "execute_result"
    }
   ],
   "source": [
    "len(hero)"
   ]
  },
  {
   "cell_type": "code",
   "execution_count": null,
   "id": "638b5d78-25c6-4b31-ac92-fd67e27450a3",
   "metadata": {},
   "outputs": [],
   "source": [
    "# 0 1 2 3 4 5 6 7 8\n",
    "# S p i d e r m a n"
   ]
  },
  {
   "cell_type": "code",
   "execution_count": 11,
   "id": "b4da6b0c-ce26-42cb-9a4b-cdb2bb9e5e52",
   "metadata": {},
   "outputs": [
    {
     "data": {
      "text/plain": [
       "'n'"
      ]
     },
     "execution_count": 11,
     "metadata": {},
     "output_type": "execute_result"
    }
   ],
   "source": [
    "hero[0]\n",
    "hero[1]\n",
    "hero[5]\n",
    "hero[8]\n",
    "\n",
    "# hero[100]"
   ]
  },
  {
   "cell_type": "code",
   "execution_count": 17,
   "id": "5631796b-856a-4930-8466-4a30ddce6992",
   "metadata": {},
   "outputs": [
    {
     "data": {
      "text/plain": [
       "'S'"
      ]
     },
     "execution_count": 17,
     "metadata": {},
     "output_type": "execute_result"
    }
   ],
   "source": [
    "hero[-1]\n",
    "hero[-2]\n",
    "hero[-8]\n",
    "hero[-9]\n",
    "\n",
    "#hero[-50]"
   ]
  },
  {
   "cell_type": "code",
   "execution_count": 21,
   "id": "20910cc6-720c-45fc-a31d-99f2757fc4a5",
   "metadata": {},
   "outputs": [
    {
     "data": {
      "text/plain": [
       "'ider'"
      ]
     },
     "execution_count": 21,
     "metadata": {},
     "output_type": "execute_result"
    }
   ],
   "source": [
    "hero[1:3]\n",
    "hero[2:6]"
   ]
  },
  {
   "cell_type": "code",
   "execution_count": 23,
   "id": "63207eb3-22d6-43fe-a51e-70b345ca72d9",
   "metadata": {},
   "outputs": [
    {
     "data": {
      "text/plain": [
       "'Spider'"
      ]
     },
     "execution_count": 23,
     "metadata": {},
     "output_type": "execute_result"
    }
   ],
   "source": [
    "hero[0:6]\n",
    "hero[:6]"
   ]
  },
  {
   "cell_type": "code",
   "execution_count": 27,
   "id": "040a227e-2019-4c8d-9138-a32fc0c2504b",
   "metadata": {},
   "outputs": [
    {
     "data": {
      "text/plain": [
       "'derman'"
      ]
     },
     "execution_count": 27,
     "metadata": {},
     "output_type": "execute_result"
    }
   ],
   "source": [
    "hero[3:100]\n",
    "hero[3:]"
   ]
  },
  {
   "cell_type": "code",
   "execution_count": 28,
   "id": "020ba81c-bd21-4867-a27f-0a047c5b38c7",
   "metadata": {},
   "outputs": [
    {
     "data": {
      "text/plain": [
       "'derm'"
      ]
     },
     "execution_count": 28,
     "metadata": {},
     "output_type": "execute_result"
    }
   ],
   "source": [
    "hero[3:-2]"
   ]
  },
  {
   "cell_type": "code",
   "execution_count": 30,
   "id": "b2396f3c-e5c1-4f0f-8c1f-d0c1339cce0a",
   "metadata": {},
   "outputs": [
    {
     "data": {
      "text/plain": [
       "['Batman', 'Superman', 'Wolverine', 'Ironman', 'Arnold Schwarzenegger']"
      ]
     },
     "execution_count": 30,
     "metadata": {},
     "output_type": "execute_result"
    }
   ],
   "source": [
    "superheroes = [\"Batman\", \"Superman\", \"Wolverine\", \"Ironman\", \"Arnold Schwarzenegger\"]\n",
    "superheroes"
   ]
  },
  {
   "cell_type": "code",
   "execution_count": 33,
   "id": "ba9fcd43-90af-477c-b157-d6769ee8e555",
   "metadata": {},
   "outputs": [
    {
     "data": {
      "text/plain": [
       "'Arnold Schwarzenegger'"
      ]
     },
     "execution_count": 33,
     "metadata": {},
     "output_type": "execute_result"
    }
   ],
   "source": [
    "superheroes[0]\n",
    "superheroes[1]\n",
    "superheroes[4]"
   ]
  },
  {
   "cell_type": "code",
   "execution_count": 34,
   "id": "ac0c793b-5f11-4329-b784-2fdf355c899d",
   "metadata": {},
   "outputs": [
    {
     "data": {
      "text/plain": [
       "5"
      ]
     },
     "execution_count": 34,
     "metadata": {},
     "output_type": "execute_result"
    }
   ],
   "source": [
    "len(superheroes)"
   ]
  },
  {
   "cell_type": "code",
   "execution_count": 36,
   "id": "eb320e70-ef86-4d64-8602-41acfedeae02",
   "metadata": {},
   "outputs": [
    {
     "data": {
      "text/plain": [
       "'Wolverine'"
      ]
     },
     "execution_count": 36,
     "metadata": {},
     "output_type": "execute_result"
    }
   ],
   "source": [
    "superheroes[-1]\n",
    "superheroes[-3]"
   ]
  },
  {
   "cell_type": "code",
   "execution_count": 37,
   "id": "5f03b5c9-40bb-49ea-bbf7-c04ad8bba640",
   "metadata": {},
   "outputs": [
    {
     "data": {
      "text/plain": [
       "['Superman', 'Wolverine']"
      ]
     },
     "execution_count": 37,
     "metadata": {},
     "output_type": "execute_result"
    }
   ],
   "source": [
    "superheroes[1:3]"
   ]
  },
  {
   "cell_type": "code",
   "execution_count": 39,
   "id": "c0da720d-1e67-45d5-8b2f-684aa56da7cd",
   "metadata": {},
   "outputs": [
    {
     "data": {
      "text/plain": [
       "['Batman', 'Superman', 'Wolverine', 'Ironman']"
      ]
     },
     "execution_count": 39,
     "metadata": {},
     "output_type": "execute_result"
    }
   ],
   "source": [
    "superheroes[0:4]\n",
    "superheroes[:4]"
   ]
  },
  {
   "cell_type": "code",
   "execution_count": 41,
   "id": "ffae0b9a-bdba-436d-a4c7-38742c82e933",
   "metadata": {},
   "outputs": [
    {
     "data": {
      "text/plain": [
       "['Ironman', 'Arnold Schwarzenegger']"
      ]
     },
     "execution_count": 41,
     "metadata": {},
     "output_type": "execute_result"
    }
   ],
   "source": [
    "superheroes[3:150]\n",
    "superheroes[3:]"
   ]
  },
  {
   "cell_type": "markdown",
   "id": "209b8921",
   "metadata": {},
   "source": [
    "## Dictionaries\n",
    "- A **dictionary** is a mutable, unordered collection of key-value pairs.\n",
    "- A **key** is a unique identifier for a value.\n",
    "- A **value** corresponds to the key. The values can contain duplicates.\n",
    "- Use a dictionary for **association** (i.e., to connect/map two values together). Use a list for **order**.\n",
    "- Declare a dictionary with a pair of curly braces.\n",
    "- Write a colon between every key and value.\n",
    "- Separate each key-value pair with a comma and a space.\n",
    "- The length of a dictionary is a count of its key-value pairs."
   ]
  },
  {
   "cell_type": "code",
   "execution_count": 11,
   "id": "bf7e9f7b-482c-4f88-8b27-0921e5edd51e",
   "metadata": {},
   "outputs": [],
   "source": [
    "menu = { \"Filet Mignon\": 29.99, \n",
    "        \"Big Mac\": 3.99, \n",
    "        \"Pizza\": 3.99, \n",
    "        \"Salmon\":29.99 \n",
    "       }"
   ]
  },
  {
   "cell_type": "code",
   "execution_count": 3,
   "id": "6ac46d0b-db4f-46ca-b90b-6e4afa2f8692",
   "metadata": {},
   "outputs": [
    {
     "data": {
      "text/plain": [
       "{'Filet Mignon': 29.99, 'Big Mac': 3.99, 'Pizza': 3.99, 'Salmon': 29.99}"
      ]
     },
     "execution_count": 3,
     "metadata": {},
     "output_type": "execute_result"
    }
   ],
   "source": [
    "menu"
   ]
  },
  {
   "cell_type": "code",
   "execution_count": 4,
   "id": "33cf5e0c-2806-4016-83a4-871496c59504",
   "metadata": {},
   "outputs": [
    {
     "data": {
      "text/plain": [
       "4"
      ]
     },
     "execution_count": 4,
     "metadata": {},
     "output_type": "execute_result"
    }
   ],
   "source": [
    "len(menu)"
   ]
  },
  {
   "cell_type": "code",
   "execution_count": 8,
   "id": "514f4b39-1501-4014-a37d-b8bae9c44e8f",
   "metadata": {},
   "outputs": [
    {
     "data": {
      "text/plain": [
       "29.99"
      ]
     },
     "execution_count": 8,
     "metadata": {},
     "output_type": "execute_result"
    }
   ],
   "source": [
    "menu[\"Big Mac\"]\n",
    "menu[\"Salmon\"]\n",
    "#menu[\"salmon\"] #Case sensitivity "
   ]
  },
  {
   "cell_type": "code",
   "execution_count": 13,
   "id": "111a1d67-3072-4ca6-8a88-3b0f5463de1f",
   "metadata": {},
   "outputs": [],
   "source": [
    "menu[\"Burrito\"] = 13.99"
   ]
  },
  {
   "cell_type": "code",
   "execution_count": 14,
   "id": "344ed537-7476-43c9-b039-9ad3fd490dc0",
   "metadata": {},
   "outputs": [
    {
     "data": {
      "text/plain": [
       "{'Filet Mignon': 29.99,\n",
       " 'Big Mac': 3.99,\n",
       " 'Pizza': 3.99,\n",
       " 'Salmon': 29.99,\n",
       " 'Burrito': 13.99}"
      ]
     },
     "execution_count": 14,
     "metadata": {},
     "output_type": "execute_result"
    }
   ],
   "source": [
    "menu"
   ]
  },
  {
   "cell_type": "code",
   "execution_count": 16,
   "id": "3bbc28c1-ee96-410f-8750-4271005ee00d",
   "metadata": {},
   "outputs": [],
   "source": [
    "menu[\"Big Mac\"] = 5.99"
   ]
  },
  {
   "cell_type": "code",
   "execution_count": 17,
   "id": "12ec3ef8-3201-41e7-ac65-17aa58a14c93",
   "metadata": {},
   "outputs": [
    {
     "data": {
      "text/plain": [
       "{'Filet Mignon': 29.99,\n",
       " 'Big Mac': 5.99,\n",
       " 'Pizza': 3.99,\n",
       " 'Salmon': 29.99,\n",
       " 'Burrito': 13.99}"
      ]
     },
     "execution_count": 17,
     "metadata": {},
     "output_type": "execute_result"
    }
   ],
   "source": [
    "menu"
   ]
  },
  {
   "cell_type": "code",
   "execution_count": 18,
   "id": "a18bb24e-cf04-44f0-9dcd-f9c9f2a336b8",
   "metadata": {},
   "outputs": [
    {
     "data": {
      "text/plain": [
       "29.99"
      ]
     },
     "execution_count": 18,
     "metadata": {},
     "output_type": "execute_result"
    }
   ],
   "source": [
    "menu.pop(\"Filet Mignon\")"
   ]
  },
  {
   "cell_type": "code",
   "execution_count": 19,
   "id": "2b4a718e-5196-497a-b60e-dcffa0e0f165",
   "metadata": {},
   "outputs": [
    {
     "data": {
      "text/plain": [
       "{'Big Mac': 5.99, 'Pizza': 3.99, 'Salmon': 29.99, 'Burrito': 13.99}"
      ]
     },
     "execution_count": 19,
     "metadata": {},
     "output_type": "execute_result"
    }
   ],
   "source": [
    "menu"
   ]
  },
  {
   "cell_type": "code",
   "execution_count": 20,
   "id": "d08cbb8d-e161-4ff2-937e-b60360c0fe9a",
   "metadata": {},
   "outputs": [
    {
     "data": {
      "text/plain": [
       "True"
      ]
     },
     "execution_count": 20,
     "metadata": {},
     "output_type": "execute_result"
    }
   ],
   "source": [
    "\"Pizza\" in menu"
   ]
  },
  {
   "cell_type": "code",
   "execution_count": 21,
   "id": "1756b888-74fa-4a08-99fc-3e9c9b6226d8",
   "metadata": {},
   "outputs": [
    {
     "data": {
      "text/plain": [
       "False"
      ]
     },
     "execution_count": 21,
     "metadata": {},
     "output_type": "execute_result"
    }
   ],
   "source": [
    "\"Hot Pockets\" in menu"
   ]
  },
  {
   "cell_type": "code",
   "execution_count": 22,
   "id": "864ba7c4-d021-407e-bc57-ef1f87ddf1dd",
   "metadata": {},
   "outputs": [
    {
     "data": {
      "text/plain": [
       "False"
      ]
     },
     "execution_count": 22,
     "metadata": {},
     "output_type": "execute_result"
    }
   ],
   "source": [
    "5.99 in menu"
   ]
  },
  {
   "cell_type": "code",
   "execution_count": 23,
   "id": "f9de0820-7ab6-4d87-858d-2bd535c44932",
   "metadata": {},
   "outputs": [
    {
     "data": {
      "text/plain": [
       "dict_values([5.99, 3.99, 29.99, 13.99])"
      ]
     },
     "execution_count": 23,
     "metadata": {},
     "output_type": "execute_result"
    }
   ],
   "source": [
    "menu.values()"
   ]
  },
  {
   "cell_type": "code",
   "execution_count": 24,
   "id": "34eefda4-bc68-4661-8f3b-281f16006127",
   "metadata": {},
   "outputs": [
    {
     "data": {
      "text/plain": [
       "True"
      ]
     },
     "execution_count": 24,
     "metadata": {},
     "output_type": "execute_result"
    }
   ],
   "source": [
    "5.99 in menu.values()"
   ]
  },
  {
   "cell_type": "code",
   "execution_count": 25,
   "id": "17beb56b-3818-4bfc-99a2-02baf939b8ef",
   "metadata": {},
   "outputs": [
    {
     "data": {
      "text/plain": [
       "True"
      ]
     },
     "execution_count": 25,
     "metadata": {},
     "output_type": "execute_result"
    }
   ],
   "source": [
    "\"Lasagna\" not in menu"
   ]
  },
  {
   "cell_type": "code",
   "execution_count": 26,
   "id": "00f1a3b4-8149-45ef-bee3-0c3be944ad75",
   "metadata": {},
   "outputs": [
    {
     "data": {
      "text/plain": [
       "False"
      ]
     },
     "execution_count": 26,
     "metadata": {},
     "output_type": "execute_result"
    }
   ],
   "source": [
    "\"Salmon\" not in menu"
   ]
  },
  {
   "cell_type": "code",
   "execution_count": 27,
   "id": "b6b57520-daed-4346-9d15-374b91a56e65",
   "metadata": {},
   "outputs": [
    {
     "data": {
      "text/plain": [
       "True"
      ]
     },
     "execution_count": 27,
     "metadata": {},
     "output_type": "execute_result"
    }
   ],
   "source": [
    "49.99 not in menu.values()"
   ]
  },
  {
   "cell_type": "markdown",
   "id": "f266aada-0759-4373-8874-7a6080a6a1a2",
   "metadata": {},
   "source": [
    "## Classes\n",
    "- A **class** is a blueprint/template for creating objects.\n",
    "- A **class** defines the methods/functionalities that objects made from it will have.\n",
    "- An object is called an **instance** of the class it is made from.\n",
    "- The act of creating an object from a class is called **instantiation**.\n",
    "- Every time we've worked with a Python object, it's been \"instantiated\" from a class.\n",
    "- In real world terms, a class is the blueprint and the house we build is the instance/object.\n",
    "- Syntax options like `\"\"` or `[]` or `{}` are shortcuts for instantiation.\n",
    "- For other classes, we'll need to use `class()` syntax to instantiate an object.\n",
    "- Much like functions and methods, some class instantiations will require arguments."
   ]
  },
  {
   "cell_type": "markdown",
   "id": "a62a901f-1f47-4682-925b-1564312e1fc2",
   "metadata": {
    "tags": []
   },
   "source": [
    "<img src=\"Blueprint.png\" width=\"600\" height=\"410\">"
   ]
  },
  {
   "cell_type": "markdown",
   "id": "40053702-9cb6-4f86-a03e-84fa97fb8b4e",
   "metadata": {},
   "source": [
    "## Navigating Libraries using Jupyter Lab"
   ]
  },
  {
   "cell_type": "code",
   "execution_count": 28,
   "id": "4d7ed499-dac8-4cfd-888f-e1c0491e8c2d",
   "metadata": {},
   "outputs": [],
   "source": [
    "import pandas as pd"
   ]
  },
  {
   "cell_type": "code",
   "execution_count": null,
   "id": "10c45fb2-606a-48a3-a5b9-dd84c48fe090",
   "metadata": {},
   "outputs": [],
   "source": [
    "pd.Categorical"
   ]
  },
  {
   "cell_type": "code",
   "execution_count": null,
   "id": "81ead5c9-db76-445d-937e-fb4ab925eef6",
   "metadata": {},
   "outputs": [],
   "source": [
    "#some_library\n",
    "\n",
    "#import some_library as sl\n",
    "sl.Categorical # panda can differentiate between the Categorical class in pandas and some_library"
   ]
  }
 ],
 "metadata": {
  "kernelspec": {
   "display_name": "Python 3 (ipykernel)",
   "language": "python",
   "name": "python3"
  },
  "language_info": {
   "codemirror_mode": {
    "name": "ipython",
    "version": 3
   },
   "file_extension": ".py",
   "mimetype": "text/x-python",
   "name": "python",
   "nbconvert_exporter": "python",
   "pygments_lexer": "ipython3",
   "version": "3.12.4"
  }
 },
 "nbformat": 4,
 "nbformat_minor": 5
}
